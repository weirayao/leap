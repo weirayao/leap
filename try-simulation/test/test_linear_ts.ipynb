{
 "cells": [
  {
   "cell_type": "markdown",
   "metadata": {},
   "source": [
    "## Identifiability Test of Linear VAE on Synthetic Dataset"
   ]
  },
  {
   "cell_type": "code",
   "execution_count": 1,
   "metadata": {},
   "outputs": [],
   "source": [
    "%load_ext autoreload\n",
    "%autoreload 2"
   ]
  },
  {
   "cell_type": "code",
   "execution_count": 2,
   "metadata": {
    "scrolled": true
   },
   "outputs": [],
   "source": [
    "import ltcl\n",
    "import torch\n",
    "import random\n",
    "import numpy as np\n",
    "import seaborn as sns\n",
    "import matplotlib.pyplot as plt\n",
    "%matplotlib inline\n",
    "import torch.nn.functional as F\n",
    "from torch.utils.data import DataLoader, random_split\n",
    "\n",
    "from ltcl.datasets.utils import SimulationDataset_ts\n",
    "from ltcl.modules.trainer_linear_vae_ts import AfflineVAESynthetic"
   ]
  },
  {
   "cell_type": "code",
   "execution_count": 3,
   "metadata": {},
   "outputs": [],
   "source": [
    "use_cuda = True\n",
    "lag = 2\n",
    "length = 10\n",
    "latent_size = 8\n",
    "device = torch.device(\"cuda:0\" if use_cuda else \"cpu\")"
   ]
  },
  {
   "cell_type": "code",
   "execution_count": 5,
   "metadata": {},
   "outputs": [
    {
     "ename": "KeyError",
     "evalue": "'yt_ is not a file in the archive'",
     "output_type": "error",
     "traceback": [
      "\u001b[0;31m---------------------------------------------------------------------------\u001b[0m",
      "\u001b[0;31mKeyError\u001b[0m                                  Traceback (most recent call last)",
      "\u001b[0;32m<ipython-input-5-38f327d3c78a>\u001b[0m in \u001b[0;36m<module>\u001b[0;34m\u001b[0m\n\u001b[0;32m----> 1\u001b[0;31m data = SimulationDataset_ts(directory = '/home/yuewen/projects/data/', \n\u001b[0m\u001b[1;32m      2\u001b[0m                          transition='linear_nongaussian_ts')\n\u001b[1;32m      3\u001b[0m \u001b[0mnum_validation_samples\u001b[0m \u001b[0;34m=\u001b[0m \u001b[0;36m2500\u001b[0m\u001b[0;34m\u001b[0m\u001b[0;34m\u001b[0m\u001b[0m\n\u001b[1;32m      4\u001b[0m \u001b[0mtrain_data\u001b[0m\u001b[0;34m,\u001b[0m \u001b[0mval_data\u001b[0m \u001b[0;34m=\u001b[0m \u001b[0mrandom_split\u001b[0m\u001b[0;34m(\u001b[0m\u001b[0mdata\u001b[0m\u001b[0;34m,\u001b[0m \u001b[0;34m[\u001b[0m\u001b[0mlen\u001b[0m\u001b[0;34m(\u001b[0m\u001b[0mdata\u001b[0m\u001b[0;34m)\u001b[0m\u001b[0;34m-\u001b[0m\u001b[0mnum_validation_samples\u001b[0m\u001b[0;34m,\u001b[0m \u001b[0mnum_validation_samples\u001b[0m\u001b[0;34m]\u001b[0m\u001b[0;34m)\u001b[0m\u001b[0;34m\u001b[0m\u001b[0;34m\u001b[0m\u001b[0m\n\u001b[1;32m      5\u001b[0m \u001b[0mtrain_loader\u001b[0m \u001b[0;34m=\u001b[0m \u001b[0mDataLoader\u001b[0m\u001b[0;34m(\u001b[0m\u001b[0mtrain_data\u001b[0m\u001b[0;34m,\u001b[0m \u001b[0mbatch_size\u001b[0m\u001b[0;34m=\u001b[0m\u001b[0;36m12800\u001b[0m\u001b[0;34m,\u001b[0m \u001b[0mshuffle\u001b[0m\u001b[0;34m=\u001b[0m\u001b[0;32mTrue\u001b[0m\u001b[0;34m,\u001b[0m \u001b[0mpin_memory\u001b[0m\u001b[0;34m=\u001b[0m\u001b[0;32mTrue\u001b[0m\u001b[0;34m)\u001b[0m\u001b[0;34m\u001b[0m\u001b[0;34m\u001b[0m\u001b[0m\n",
      "\u001b[0;32m~/code/ltcl-main/ltcl/datasets/utils.py\u001b[0m in \u001b[0;36m__init__\u001b[0;34m(self, directory, transition)\u001b[0m\n\u001b[1;32m     44\u001b[0m                 \u001b[0;31m# pdb.set_trace()\u001b[0m\u001b[0;34m\u001b[0m\u001b[0;34m\u001b[0m\u001b[0;34m\u001b[0m\u001b[0m\n\u001b[1;32m     45\u001b[0m                 \u001b[0;32mfor\u001b[0m \u001b[0mkey\u001b[0m \u001b[0;32min\u001b[0m \u001b[0;34m[\u001b[0m\u001b[0;34m\"yt\"\u001b[0m\u001b[0;34m,\u001b[0m \u001b[0;34m\"xt\"\u001b[0m\u001b[0;34m,\u001b[0m \u001b[0;34m\"yt_\"\u001b[0m\u001b[0;34m,\u001b[0m \u001b[0;34m\"xt_\"\u001b[0m\u001b[0;34m]\u001b[0m\u001b[0;34m:\u001b[0m\u001b[0;34m\u001b[0m\u001b[0;34m\u001b[0m\u001b[0m\n\u001b[0;32m---> 46\u001b[0;31m                         \u001b[0mself\u001b[0m\u001b[0;34m.\u001b[0m\u001b[0mdata\u001b[0m\u001b[0;34m[\u001b[0m\u001b[0mkey\u001b[0m\u001b[0;34m]\u001b[0m \u001b[0;34m=\u001b[0m \u001b[0mself\u001b[0m\u001b[0;34m.\u001b[0m\u001b[0mnpz\u001b[0m\u001b[0;34m[\u001b[0m\u001b[0mkey\u001b[0m\u001b[0;34m]\u001b[0m\u001b[0;34m\u001b[0m\u001b[0;34m\u001b[0m\u001b[0m\n\u001b[0m\u001b[1;32m     47\u001b[0m \u001b[0;34m\u001b[0m\u001b[0m\n\u001b[1;32m     48\u001b[0m         \u001b[0;32mdef\u001b[0m \u001b[0m__len__\u001b[0m\u001b[0;34m(\u001b[0m\u001b[0mself\u001b[0m\u001b[0;34m)\u001b[0m\u001b[0;34m:\u001b[0m\u001b[0;34m\u001b[0m\u001b[0;34m\u001b[0m\u001b[0m\n",
      "\u001b[0;32m~/anaconda3/envs/yuewen/lib/python3.8/site-packages/numpy/lib/npyio.py\u001b[0m in \u001b[0;36m__getitem__\u001b[0;34m(self, key)\u001b[0m\n\u001b[1;32m    258\u001b[0m                 \u001b[0;32mreturn\u001b[0m \u001b[0mself\u001b[0m\u001b[0;34m.\u001b[0m\u001b[0mzip\u001b[0m\u001b[0;34m.\u001b[0m\u001b[0mread\u001b[0m\u001b[0;34m(\u001b[0m\u001b[0mkey\u001b[0m\u001b[0;34m)\u001b[0m\u001b[0;34m\u001b[0m\u001b[0;34m\u001b[0m\u001b[0m\n\u001b[1;32m    259\u001b[0m         \u001b[0;32melse\u001b[0m\u001b[0;34m:\u001b[0m\u001b[0;34m\u001b[0m\u001b[0;34m\u001b[0m\u001b[0m\n\u001b[0;32m--> 260\u001b[0;31m             \u001b[0;32mraise\u001b[0m \u001b[0mKeyError\u001b[0m\u001b[0;34m(\u001b[0m\u001b[0;34m\"%s is not a file in the archive\"\u001b[0m \u001b[0;34m%\u001b[0m \u001b[0mkey\u001b[0m\u001b[0;34m)\u001b[0m\u001b[0;34m\u001b[0m\u001b[0;34m\u001b[0m\u001b[0m\n\u001b[0m\u001b[1;32m    261\u001b[0m \u001b[0;34m\u001b[0m\u001b[0m\n\u001b[1;32m    262\u001b[0m \u001b[0;34m\u001b[0m\u001b[0m\n",
      "\u001b[0;31mKeyError\u001b[0m: 'yt_ is not a file in the archive'"
     ]
    }
   ],
   "source": [
    "data = SimulationDataset_ts(directory = '/home/yuewen/projects/data/', \n",
    "                         transition='linear_nongaussian_ts')\n",
    "num_validation_samples = 2500\n",
    "train_data, val_data = random_split(data, [len(data)-num_validation_samples, num_validation_samples])\n",
    "train_loader = DataLoader(train_data, batch_size=12800, shuffle=True, pin_memory=True)\n",
    "val_loader   = DataLoader(val_data, batch_size=16, shuffle=False, pin_memory=True)"
   ]
  },
  {
   "cell_type": "code",
   "execution_count": 5,
   "metadata": {
    "scrolled": true
   },
   "outputs": [],
   "source": [
    "model = AfflineVAESynthetic(latent_size,latent_size,2).to(device)"
   ]
  },
  {
   "cell_type": "markdown",
   "metadata": {},
   "source": [
    "### Warm start spline flow"
   ]
  },
  {
   "cell_type": "markdown",
   "metadata": {},
   "source": [
    "Do not run this block if already warm-started"
   ]
  },
  {
   "cell_type": "code",
   "execution_count": 6,
   "metadata": {},
   "outputs": [],
   "source": [
    "# batch_size = 64\n",
    "# spline_optimizer = torch.optim.Adam(filter(lambda p: p.requires_grad, model.spline.parameters()), \n",
    "#                                     lr=1e-3,\n",
    "#                                     weight_decay=0.0)\n",
    "# # Warm-start the prior to standard normal dist\n",
    "# for step in range(5000):\n",
    "#     latent_size = 8\n",
    "# #     y_t = torch.normal(0, 1, size=(batch_size, latent_size))\n",
    "#     y_t = torch.distributions.laplace.Laplace(0,1).rsample((batch_size, latent_size))\n",
    "#     dataset = y_t.to(device)\n",
    "#     spline_optimizer.zero_grad()\n",
    "#     z, logabsdet = model.spline(dataset)\n",
    "#     logp = model.spline.base_dist.log_prob(z) + logabsdet\n",
    "#     loss = -torch.mean(logp)\n",
    "#     loss.backward(retain_graph=True)\n",
    "#     spline_optimizer.step()\n",
    "# # This checkpoint will be loaded in lvae.py\n",
    "# torch.save(model.spline.state_dict(), \"/home/yuewen/spline.pth\")"
   ]
  },
  {
   "cell_type": "markdown",
   "metadata": {},
   "source": [
    "### Load model checkpoint"
   ]
  },
  {
   "cell_type": "code",
   "execution_count": 4,
   "metadata": {
    "scrolled": true
   },
   "outputs": [
    {
     "ename": "NameError",
     "evalue": "name 'model' is not defined",
     "output_type": "error",
     "traceback": [
      "\u001b[0;31m---------------------------------------------------------------------------\u001b[0m",
      "\u001b[0;31mNameError\u001b[0m                                 Traceback (most recent call last)",
      "\u001b[0;32m<ipython-input-4-52922799e09a>\u001b[0m in \u001b[0;36m<module>\u001b[0;34m\u001b[0m\n\u001b[0;32m----> 1\u001b[0;31m model = model.load_from_checkpoint(\"/home/yuewen/code/ltcl-main-v2/logs/yuewen/toy_linear_2lag_ts/lightning_logs/version_31/checkpoints/epoch=199-step=70199.ckpt\",\n\u001b[0m\u001b[1;32m      2\u001b[0m                                    input_dim=latent_size, z_dim=latent_size, lag=2)\n",
      "\u001b[0;31mNameError\u001b[0m: name 'model' is not defined"
     ]
    }
   ],
   "source": [
    "model = model.load_from_checkpoint(\"/home/yuewen/code/ltcl-main-v2/logs/yuewen/toy_linear_2lag_ts/lightning_logs/version_31/checkpoints/epoch=199-step=70199.ckpt\",\n",
    "                                   input_dim=latent_size, z_dim=latent_size, lag=2)"
   ]
  },
  {
   "cell_type": "code",
   "execution_count": 8,
   "metadata": {},
   "outputs": [
    {
     "data": {
      "text/plain": [
       "AfflineVAESynthetic(\n",
       "  (net): BetaVAE_MLP_ts(\n",
       "    (encoder): Sequential(\n",
       "      (0): Linear(in_features=8, out_features=128, bias=True)\n",
       "      (1): LeakyReLU(negative_slope=0.2)\n",
       "      (2): Linear(in_features=128, out_features=128, bias=True)\n",
       "      (3): LeakyReLU(negative_slope=0.2)\n",
       "      (4): Linear(in_features=128, out_features=8, bias=True)\n",
       "      (5): LeakyReLU(negative_slope=0.2)\n",
       "    )\n",
       "    (decoder): Sequential(\n",
       "      (0): LeakyReLU(negative_slope=0.2)\n",
       "      (1): Linear(in_features=8, out_features=128, bias=True)\n",
       "      (2): LeakyReLU(negative_slope=0.2)\n",
       "      (3): Linear(in_features=128, out_features=128, bias=True)\n",
       "      (4): LeakyReLU(negative_slope=0.2)\n",
       "      (5): Linear(in_features=128, out_features=8, bias=True)\n",
       "    )\n",
       "    (encode_rnn): LSTM(16, 8, batch_first=True)\n",
       "    (predict_rnn): LSTM(16, 8, batch_first=True)\n",
       "    (decode_rnn): LSTM(16, 8, batch_first=True)\n",
       "    (beta_mu_layer): Linear(in_features=8, out_features=8, bias=True)\n",
       "    (beta_sigma_layer): Linear(in_features=8, out_features=8, bias=True)\n",
       "    (initial_pose_rnn): LSTM(8, 8, num_layers=2, batch_first=True)\n",
       "    (initial_pose_mu): Linear(in_features=8, out_features=8, bias=True)\n",
       "    (initial_pose_sigma): Linear(in_features=8, out_features=8, bias=True)\n",
       "  )\n",
       "  (trans_func): GroupLinearLayer()\n",
       "  (spline): ComponentWiseSpline()\n",
       "  (prior_rnn): LSTM(16, 8, batch_first=True)\n",
       "  (mu_layer): Linear(in_features=8, out_features=8, bias=True)\n",
       "  (sigma_layer): Linear(in_features=8, out_features=8, bias=True)\n",
       ")"
      ]
     },
     "execution_count": 8,
     "metadata": {},
     "output_type": "execute_result"
    }
   ],
   "source": [
    "model.eval()"
   ]
  },
  {
   "cell_type": "code",
   "execution_count": 9,
   "metadata": {},
   "outputs": [],
   "source": [
    "# model.to('cpu')"
   ]
  },
  {
   "cell_type": "markdown",
   "metadata": {},
   "source": [
    "### Compute permutation and sign flip"
   ]
  },
  {
   "cell_type": "code",
   "execution_count": 10,
   "metadata": {},
   "outputs": [
    {
     "name": "stdout",
     "output_type": "stream",
     "text": [
      "12800\n",
      "cpu\n",
      "cuda:0\n"
     ]
    }
   ],
   "source": [
    "for batch in train_loader:\n",
    "    break\n",
    "batch_size = batch['xt'].shape[0]\n",
    "model.to(device)\n",
    "\n",
    "print(batch_size)\n",
    "print(batch['xt'].device)\n",
    "print(model.device)"
   ]
  },
  {
   "cell_type": "code",
   "execution_count": 11,
   "metadata": {},
   "outputs": [],
   "source": [
    "# _, mu, logvar, _, _, _ = model.forward(batch)\n",
    "# mu = mu.view(-1, length, lag, latent_size)\n",
    "# A = mu[:,0,0,:].detach().cpu().numpy()\n",
    "# B = batch['yt'][:,0,0,:].detach().cpu().numpy()\n",
    "# C = np.zeros((latent_size,latent_size))\n",
    "# print(mu.shape)\n",
    "# print(batch['yt'].shape)\n",
    "# print(A.shape)\n",
    "# print(B.shape)\n",
    "# print(C.shape)"
   ]
  },
  {
   "cell_type": "code",
   "execution_count": 62,
   "metadata": {},
   "outputs": [
    {
     "name": "stdout",
     "output_type": "stream",
     "text": [
      "Permutation: [5 2 6 3 4 1 7 0]\n",
      "Sign Flip: [-1. -1. -1. -1.  1. -1. -1. -1.]\n"
     ]
    }
   ],
   "source": [
    "_, mu, logvar, _, _, _ = model.forward(batch)\n",
    "mu = mu.view(-1, lag, latent_size)\n",
    "A = mu[:,0,:].detach().cpu().numpy()\n",
    "B = batch['yt'].view(-1, lag, latent_size)[:,0,:].detach().cpu().numpy()\n",
    "C = np.zeros((latent_size,latent_size))\n",
    "for i in range(latent_size):\n",
    "    C[i] = -np.abs(np.corrcoef(B, A, rowvar=False)[i,latent_size:])\n",
    "from scipy.optimize import linear_sum_assignment\n",
    "row_ind, col_ind = linear_sum_assignment(C)\n",
    "A = A[:, col_ind]\n",
    "mask = np.ones(latent_size)\n",
    "for i in range(latent_size):\n",
    "    if np.corrcoef(B, A, rowvar=False)[i,latent_size:][i] > 0:\n",
    "        mask[i] = -1\n",
    "print(\"Permutation:\",col_ind)\n",
    "print(\"Sign Flip:\", mask)"
   ]
  },
  {
   "cell_type": "code",
   "execution_count": 63,
   "metadata": {},
   "outputs": [
    {
     "data": {
      "text/plain": [
       "Text(0.5, 1.0, 'MCC=0.83')"
      ]
     },
     "execution_count": 63,
     "metadata": {},
     "output_type": "execute_result"
    },
    {
     "data": {
      "image/png": "[encoded data removed]",
      "text/plain": [
       "<Figure size 288x288 with 1 Axes>"
      ]
     },
     "metadata": {
      "needs_background": "light"
     },
     "output_type": "display_data"
    }
   ],
   "source": [
    "fig = plt.figure(figsize=(4,4))\n",
    "sns.heatmap(-C, vmin=0, vmax=1, annot=True, fmt=\".2f\", linewidths=.5, cbar=False, cmap='Greens')\n",
    "plt.xlabel(\"Estimated latents \") \n",
    "plt.ylabel(\"True latents \") \n",
    "plt.title(\"MCC=0.83\")"
   ]
  },
  {
   "cell_type": "code",
   "execution_count": 64,
   "metadata": {},
   "outputs": [],
   "source": [
    "# # Permute column here\n",
    "# mu_ = mu[:,:,:,col_ind]\n",
    "# # Flip sign here\n",
    "# mu_ = mu_ * torch.Tensor(mask).view(1, 1, 1, latent_size).to(mu.device)\n",
    "# mu_ = -mu_\n",
    "\n",
    "# mu.shape = torch.Size([128000, 2, 8])\n",
    "# Permute column here (take one episode)\n",
    "mu_ = mu[:,:,col_ind]\n",
    "# Flip sign here\n",
    "mu_ = mu_ * torch.Tensor(mask).view(1, 1, latent_size).to(mu.device)\n",
    "mu_ = -mu_"
   ]
  },
  {
   "cell_type": "code",
   "execution_count": 51,
   "metadata": {},
   "outputs": [
    {
     "name": "stdout",
     "output_type": "stream",
     "text": [
      "torch.Size([128000, 2, 8])\n"
     ]
    }
   ],
   "source": [
    "# # aa = torch.Tensor(mask, device=mu.device).view(1,1,1, latent_size)\n",
    "# print(col_ind)\n",
    "# print(mu.device)\n",
    "# print(mask.shape)\n",
    "# aa = torch.Tensor(mask).view(1,1,1, latent_size)\n",
    "# mu.device\n",
    "# print(A.shape)\n",
    "# print(mu.shape)"
   ]
  },
  {
   "cell_type": "code",
   "execution_count": 49,
   "metadata": {},
   "outputs": [
    {
     "data": {
      "text/plain": [
       "Text(0.5, 1.0, 'Current latent variable $z_t$')"
      ]
     },
     "execution_count": 49,
     "metadata": {},
     "output_type": "execute_result"
    },
    {
     "data": {
      "image/png": "[encoded data removed]",
      "text/plain": [
       "<Figure size 576x144 with 1 Axes>"
      ]
     },
     "metadata": {
      "needs_background": "light"
     },
     "output_type": "display_data"
    }
   ],
   "source": [
    "fig = plt.figure(figsize=(8,2))\n",
    "col = 0\n",
    "plt.plot(mu_[:250,-1,col].detach().cpu().numpy(), color='b', label='True', alpha=0.75)\n",
    "plt.plot(batch['yt_'].view(-1, latent_size).squeeze()[:250,col].detach().cpu().numpy(), color='r', label=\"Estimated\", alpha=0.75)\n",
    "plt.legend()\n",
    "plt.title(\"Current latent variable $z_t$\")"
   ]
  },
  {
   "cell_type": "code",
   "execution_count": 50,
   "metadata": {
    "scrolled": false
   },
   "outputs": [
    {
     "ename": "IndexError",
     "evalue": "index 1 is out of bounds for dimension 1 with size 1",
     "output_type": "error",
     "traceback": [
      "\u001b[0;31m---------------------------------------------------------------------------\u001b[0m",
      "\u001b[0;31mIndexError\u001b[0m                                Traceback (most recent call last)",
      "\u001b[0;32m<ipython-input-50-96955082d044>\u001b[0m in \u001b[0;36m<module>\u001b[0;34m\u001b[0m\n\u001b[1;32m      3\u001b[0m \u001b[0ml\u001b[0m \u001b[0;34m=\u001b[0m \u001b[0;36m1\u001b[0m\u001b[0;34m\u001b[0m\u001b[0;34m\u001b[0m\u001b[0m\n\u001b[1;32m      4\u001b[0m \u001b[0mplt\u001b[0m\u001b[0;34m.\u001b[0m\u001b[0mplot\u001b[0m\u001b[0;34m(\u001b[0m\u001b[0mbatch\u001b[0m\u001b[0;34m[\u001b[0m\u001b[0;34m'yt'\u001b[0m\u001b[0;34m]\u001b[0m\u001b[0;34m.\u001b[0m\u001b[0mview\u001b[0m\u001b[0;34m(\u001b[0m\u001b[0;34m-\u001b[0m\u001b[0;36m1\u001b[0m\u001b[0;34m,\u001b[0m \u001b[0mlag\u001b[0m\u001b[0;34m,\u001b[0m \u001b[0mlatent_size\u001b[0m\u001b[0;34m)\u001b[0m\u001b[0;34m.\u001b[0m\u001b[0msqueeze\u001b[0m\u001b[0;34m(\u001b[0m\u001b[0;34m)\u001b[0m\u001b[0;34m[\u001b[0m\u001b[0;34m:\u001b[0m\u001b[0;36m250\u001b[0m\u001b[0;34m,\u001b[0m\u001b[0ml\u001b[0m\u001b[0;34m,\u001b[0m\u001b[0mcol\u001b[0m\u001b[0;34m]\u001b[0m\u001b[0;34m.\u001b[0m\u001b[0mdetach\u001b[0m\u001b[0;34m(\u001b[0m\u001b[0;34m)\u001b[0m\u001b[0;34m.\u001b[0m\u001b[0mcpu\u001b[0m\u001b[0;34m(\u001b[0m\u001b[0;34m)\u001b[0m\u001b[0;34m.\u001b[0m\u001b[0mnumpy\u001b[0m\u001b[0;34m(\u001b[0m\u001b[0;34m)\u001b[0m\u001b[0;34m,\u001b[0m \u001b[0mcolor\u001b[0m\u001b[0;34m=\u001b[0m\u001b[0;34m'b'\u001b[0m\u001b[0;34m,\u001b[0m \u001b[0mlabel\u001b[0m\u001b[0;34m=\u001b[0m\u001b[0;34m'True'\u001b[0m\u001b[0;34m)\u001b[0m\u001b[0;34m\u001b[0m\u001b[0;34m\u001b[0m\u001b[0m\n\u001b[0;32m----> 5\u001b[0;31m \u001b[0mplt\u001b[0m\u001b[0;34m.\u001b[0m\u001b[0mplot\u001b[0m\u001b[0;34m(\u001b[0m\u001b[0mmu\u001b[0m\u001b[0;34m[\u001b[0m\u001b[0;34m:\u001b[0m\u001b[0;34m,\u001b[0m\u001b[0;34m:\u001b[0m\u001b[0;34m-\u001b[0m\u001b[0;36m1\u001b[0m\u001b[0;34m,\u001b[0m\u001b[0;34m:\u001b[0m\u001b[0;34m]\u001b[0m\u001b[0;34m[\u001b[0m\u001b[0;34m:\u001b[0m\u001b[0;36m250\u001b[0m\u001b[0;34m,\u001b[0m\u001b[0ml\u001b[0m\u001b[0;34m,\u001b[0m\u001b[0mcol\u001b[0m\u001b[0;34m]\u001b[0m\u001b[0;34m.\u001b[0m\u001b[0mdetach\u001b[0m\u001b[0;34m(\u001b[0m\u001b[0;34m)\u001b[0m\u001b[0;34m.\u001b[0m\u001b[0mcpu\u001b[0m\u001b[0;34m(\u001b[0m\u001b[0;34m)\u001b[0m\u001b[0;34m.\u001b[0m\u001b[0mnumpy\u001b[0m\u001b[0;34m(\u001b[0m\u001b[0;34m)\u001b[0m\u001b[0;34m,\u001b[0m \u001b[0mcolor\u001b[0m\u001b[0;34m=\u001b[0m\u001b[0;34m'r'\u001b[0m\u001b[0;34m,\u001b[0m \u001b[0mlabel\u001b[0m\u001b[0;34m=\u001b[0m\u001b[0;34m\"Estimated\"\u001b[0m\u001b[0;34m)\u001b[0m\u001b[0;34m\u001b[0m\u001b[0;34m\u001b[0m\u001b[0m\n\u001b[0m\u001b[1;32m      6\u001b[0m \u001b[0mplt\u001b[0m\u001b[0;34m.\u001b[0m\u001b[0mxlabel\u001b[0m\u001b[0;34m(\u001b[0m\u001b[0;34m\"Sample index\"\u001b[0m\u001b[0;34m)\u001b[0m\u001b[0;34m\u001b[0m\u001b[0;34m\u001b[0m\u001b[0m\n\u001b[1;32m      7\u001b[0m \u001b[0mplt\u001b[0m\u001b[0;34m.\u001b[0m\u001b[0mylabel\u001b[0m\u001b[0;34m(\u001b[0m\u001b[0;34m\"Latent variable value\"\u001b[0m\u001b[0;34m)\u001b[0m\u001b[0;34m\u001b[0m\u001b[0;34m\u001b[0m\u001b[0m\n",
      "\u001b[0;31mIndexError\u001b[0m: index 1 is out of bounds for dimension 1 with size 1"
     ]
    },
    {
     "data": {
      "image/png": "[encoded data removed]",
      "text/plain": [
       "<Figure size 576x144 with 1 Axes>"
      ]
     },
     "metadata": {
      "needs_background": "light"
     },
     "output_type": "display_data"
    }
   ],
   "source": [
    "fig = plt.figure(figsize=(8,2))\n",
    "col = 3\n",
    "l = 1\n",
    "plt.plot(batch['yt'].view(-1, lag, latent_size).squeeze()[:250,l,col].detach().cpu().numpy(), color='b', label='True')\n",
    "plt.plot(mu[:,:-1,:][:250,l,col].detach().cpu().numpy(), color='r', label=\"Estimated\")\n",
    "plt.xlabel(\"Sample index\")\n",
    "plt.ylabel(\"Latent variable value\")\n",
    "plt.legend()\n",
    "plt.title(\"Past latent variable $z_l$\")"
   ]
  },
  {
   "cell_type": "code",
   "execution_count": null,
   "metadata": {
    "scrolled": true
   },
   "outputs": [],
   "source": [
    "# fig = plt.figure(figsize=(2,2))\n",
    "# eps = model.sample(batch[\"xt\"].cpu())\n",
    "# eps = eps.detach().cpu().numpy()\n",
    "# component_idx = 4\n",
    "# sns.distplot(eps[:,component_idx], hist=False, kde=True,\n",
    "#              bins=None,\n",
    "#              hist_kws={'edgecolor':'black'},\n",
    "#              kde_kws={'linewidth': 2});\n",
    "# plt.title(\"Learned noise prior\")"
   ]
  },
  {
   "cell_type": "markdown",
   "metadata": {},
   "source": [
    "### System identification (causal discovery)"
   ]
  },
  {
   "cell_type": "code",
   "execution_count": 58,
   "metadata": {},
   "outputs": [],
   "source": [
    "# from ltcl.modules.components.base import GroupLinearLayer\n",
    "# trans_func = GroupLinearLayer(din = 8, \n",
    "#                               dout = 8,\n",
    "#                               num_blocks = 2,\n",
    "#                               diagonal = False)\n",
    "# b = torch.nn.Parameter(0.001 * torch.randn(1, 8))\n",
    "# opt = torch.optim.Adam(trans_func.parameters(),lr=0.01)\n",
    "# lossfunc = torch.nn.L1Loss()"
   ]
  },
  {
   "cell_type": "code",
   "execution_count": 59,
   "metadata": {
    "scrolled": true
   },
   "outputs": [
    {
     "ename": "ValueError",
     "evalue": "too many values to unpack (expected 4)",
     "output_type": "error",
     "traceback": [
      "\u001b[0;31m---------------------------------------------------------------------------\u001b[0m",
      "\u001b[0;31mValueError\u001b[0m                                Traceback (most recent call last)",
      "\u001b[0;32m<ipython-input-59-3816128b90ca>\u001b[0m in \u001b[0;36m<module>\u001b[0;34m\u001b[0m\n\u001b[1;32m      4\u001b[0m     \u001b[0;32mfor\u001b[0m \u001b[0mbatch\u001b[0m \u001b[0;32min\u001b[0m \u001b[0mtrain_loader\u001b[0m\u001b[0;34m:\u001b[0m\u001b[0;34m\u001b[0m\u001b[0;34m\u001b[0m\u001b[0m\n\u001b[1;32m      5\u001b[0m         \u001b[0mbatch_size\u001b[0m \u001b[0;34m=\u001b[0m \u001b[0mbatch\u001b[0m\u001b[0;34m[\u001b[0m\u001b[0;34m'yt'\u001b[0m\u001b[0;34m]\u001b[0m\u001b[0;34m.\u001b[0m\u001b[0mshape\u001b[0m\u001b[0;34m[\u001b[0m\u001b[0;36m0\u001b[0m\u001b[0;34m]\u001b[0m\u001b[0;34m\u001b[0m\u001b[0;34m\u001b[0m\u001b[0m\n\u001b[0;32m----> 6\u001b[0;31m         \u001b[0mx_recon\u001b[0m\u001b[0;34m,\u001b[0m \u001b[0mmu\u001b[0m\u001b[0;34m,\u001b[0m \u001b[0mlogvar\u001b[0m\u001b[0;34m,\u001b[0m \u001b[0mz\u001b[0m \u001b[0;34m=\u001b[0m \u001b[0mmodel\u001b[0m\u001b[0;34m.\u001b[0m\u001b[0mforward\u001b[0m\u001b[0;34m(\u001b[0m\u001b[0mbatch\u001b[0m\u001b[0;34m)\u001b[0m\u001b[0;34m\u001b[0m\u001b[0;34m\u001b[0m\u001b[0m\n\u001b[0m\u001b[1;32m      7\u001b[0m         \u001b[0mmu\u001b[0m \u001b[0;34m=\u001b[0m \u001b[0mmu\u001b[0m\u001b[0;34m.\u001b[0m\u001b[0mview\u001b[0m\u001b[0;34m(\u001b[0m\u001b[0mbatch_size\u001b[0m\u001b[0;34m,\u001b[0m \u001b[0;34m-\u001b[0m\u001b[0;36m1\u001b[0m\u001b[0;34m,\u001b[0m \u001b[0;36m8\u001b[0m\u001b[0;34m)\u001b[0m\u001b[0;34m\u001b[0m\u001b[0;34m\u001b[0m\u001b[0m\n\u001b[1;32m      8\u001b[0m         \u001b[0;31m# Fix permutation before training\u001b[0m\u001b[0;34m\u001b[0m\u001b[0;34m\u001b[0m\u001b[0;34m\u001b[0m\u001b[0m\n",
      "\u001b[0;31mValueError\u001b[0m: too many values to unpack (expected 4)"
     ]
    }
   ],
   "source": [
    "# max_iters = 2\n",
    "# counter = 0\n",
    "# for step in range(max_iters):\n",
    "#     for batch in train_loader:\n",
    "#         batch_size = batch['yt'].shape[0]\n",
    "#         x_recon, mu, logvar, z = model.forward(batch)\n",
    "#         mu = mu.view(batch_size, -1, 8)\n",
    "#         # Fix permutation before training\n",
    "#         mu = mu[:,:,col_ind]\n",
    "#         # Fix sign flip before training\n",
    "#         mu = mu * torch.Tensor(mask, device=mu.device).view(1,1,8)\n",
    "#         mu = -mu\n",
    "#         pred = trans_func(mu[:,:-1,:]).sum(dim=1) + b\n",
    "#         true = mu[:,-1,:]\n",
    "#         loss = lossfunc(pred, true) #+ torch.mean(adaptive.lossfun((pred - true)))\n",
    "\n",
    "#         opt.zero_grad()\n",
    "#         loss.backward()\n",
    "#         opt.step()\n",
    "#         if counter % 100 == 0:\n",
    "#             print(loss.item())\n",
    "#         counter += 1"
   ]
  },
  {
   "cell_type": "markdown",
   "metadata": {},
   "source": [
    "### Visualize causal matrix"
   ]
  },
  {
   "cell_type": "code",
   "execution_count": 65,
   "metadata": {},
   "outputs": [],
   "source": [
    "B2 = model.trans_func.w[0][col_ind][:, col_ind].detach().cpu().numpy()\n",
    "B1 = model.trans_func.w[1][col_ind][:, col_ind].detach().cpu().numpy()\n",
    "B1 = B1 * mask.reshape(1,-1) * (-1*mask).reshape(-1,1)\n",
    "B2 = B2 * mask.reshape(1,-1) * (-1*mask).reshape(-1,1)"
   ]
  },
  {
   "cell_type": "code",
   "execution_count": 53,
   "metadata": {},
   "outputs": [],
   "source": [
    "BB2 = np.load(\"/home/yuewen/projects/data/linear_nongaussian_ts/W2.npy\")\n",
    "BB1 = np.load(\"/home/yuewen/projects/data/linear_nongaussian_ts/W1.npy\")"
   ]
  },
  {
   "cell_type": "code",
   "execution_count": 66,
   "metadata": {},
   "outputs": [],
   "source": [
    "b = np.concatenate((B1,B2), axis=0)\n",
    "bb = np.concatenate((BB1,BB2), axis=0)\n",
    "b = b / np.linalg.norm(b, axis=0).reshape(1, -1)\n",
    "bb = bb / np.linalg.norm(bb, axis=0).reshape(1, -1)\n",
    "pred = (b / np.linalg.norm(b, axis=0).reshape(1, -1)).reshape(-1)\n",
    "true = (bb / np.linalg.norm(bb, axis=0).reshape(1, -1)).reshape(-1)"
   ]
  },
  {
   "cell_type": "code",
   "execution_count": 67,
   "metadata": {
    "scrolled": true
   },
   "outputs": [
    {
     "data": {
      "text/plain": [
       "Text(0.5, 1.0, 'Affline VAE + Spline flow')"
      ]
     },
     "execution_count": 67,
     "metadata": {},
     "output_type": "execute_result"
    },
    {
     "data": {
      "image/png": "[encoded data removed]",
      "text/plain": [
       "<Figure size 216x216 with 1 Axes>"
      ]
     },
     "metadata": {
      "needs_background": "light"
     },
     "output_type": "display_data"
    }
   ],
   "source": [
    "fig, ax = plt.subplots(figsize=(3,3))\n",
    "ax.scatter(pred, true, s=10, cmap=plt.cm.coolwarm, zorder=10, color='b')\n",
    "lims = [-1,1]\n",
    "\n",
    "# now plot both limits against eachother\n",
    "ax.plot(lims, lims, '-.', alpha=0.75, zorder=0)\n",
    "ax.set_aspect('equal')\n",
    "# ax.set_xlim(lims)\n",
    "# ax.set_ylim(lims)\n",
    "ax.set_xlabel(\"Estimated weight\")\n",
    "ax.set_ylabel(\"Ground truth weight\")\n",
    "ax.set_title(\"Affline VAE + Spline flow\")"
   ]
  },
  {
   "cell_type": "code",
   "execution_count": 56,
   "metadata": {},
   "outputs": [],
   "source": [
    "# import numpy as numx\n",
    "\n",
    "# def calculate_amari_distance(matrix_one,\n",
    "#                              matrix_two,\n",
    "#                              version=1):\n",
    "#     \"\"\" Calculate the Amari distance between two input matrices.\n",
    "#     :param matrix_one: the first matrix\n",
    "#     :type matrix_one: numpy array\n",
    "#     :param matrix_two: the second matrix\n",
    "#     :type matrix_two: numpy array\n",
    "#     :param version: Variant to use.\n",
    "#     :type version: int\n",
    "#     :return: The amari distance between two input matrices.\n",
    "#     :rtype: float\n",
    "#     \"\"\"\n",
    "#     if matrix_one.shape != matrix_two.shape:\n",
    "#         return \"Two matrices must have the same shape.\"\n",
    "#     product_matrix = numx.abs(numx.dot(matrix_one,\n",
    "#                                        numx.linalg.inv(matrix_two)))\n",
    "\n",
    "#     product_matrix_max_col = numx.array(product_matrix.max(0))\n",
    "#     product_matrix_max_row = numx.array(product_matrix.max(1))\n",
    "\n",
    "#     n = product_matrix.shape[0]\n",
    "\n",
    "#     \"\"\" Formula from ESLII\n",
    "#     Here they refered to as \"amari error\"\n",
    "#     The value is in [0, N-1].\n",
    "#     reference:\n",
    "#         Bach, F. R.; Jordan, M. I. Kernel Independent Component\n",
    "#         Analysis, J MACH LEARN RES, 2002, 3, 1--48\n",
    "#     \"\"\"\n",
    "#     amari_distance = product_matrix / numx.tile(product_matrix_max_col, (n, 1))\n",
    "#     amari_distance += product_matrix / numx.tile(product_matrix_max_row, (n, 1)).T\n",
    "#     amari_distance = amari_distance.sum() / (2 * n) - 1\n",
    "#     amari_distance = amari_distance / (n-1)\n",
    "#     return amari_distance"
   ]
  },
  {
   "cell_type": "code",
   "execution_count": 57,
   "metadata": {},
   "outputs": [
    {
     "name": "stdout",
     "output_type": "stream",
     "text": [
      "Amari distance for B1: 0.37615478342572345\n",
      "Amari distance for B2: 0.3789290035987543\n"
     ]
    }
   ],
   "source": [
    "# print(\"Amari distance for B1:\", calculate_amari_distance(B1, BB1))\n",
    "# print(\"Amari distance for B2:\", calculate_amari_distance(B2, BB2))"
   ]
  },
  {
   "cell_type": "code",
   "execution_count": null,
   "metadata": {},
   "outputs": [],
   "source": []
  }
 ],
 "metadata": {
  "kernelspec": {
   "display_name": "Python [conda env:yuewen] *",
   "language": "python",
   "name": "conda-env-yuewen-py"
  },
  "language_info": {
   "codemirror_mode": {
    "name": "ipython",
    "version": 3
   },
   "file_extension": ".py",
   "mimetype": "text/x-python",
   "name": "python",
   "nbconvert_exporter": "python",
   "pygments_lexer": "ipython3",
   "version": "3.8.10"
  }
 },
 "nbformat": 4,
 "nbformat_minor": 4
}
