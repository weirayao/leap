{
 "cells": [
  {
   "cell_type": "markdown",
   "metadata": {},
   "source": [
    "## Keypoint Detection Layer"
   ]
  },
  {
   "cell_type": "code",
   "execution_count": 2,
   "metadata": {},
   "outputs": [],
   "source": [
    "%load_ext autoreload\n",
    "%autoreload 2"
   ]
  },
  {
   "cell_type": "code",
   "execution_count": 3,
   "metadata": {},
   "outputs": [],
   "source": [
    "import leap\n",
    "from leap.datasets.physics_dataset import PhysicsDatasetTwoSample\n",
    "import torchvision.transforms as transforms\n",
    "from leap.modules.components.base import Namespace\n",
    "from leap.tools.utils import load_yaml\n",
    "import matplotlib.pyplot as plt\n",
    "%matplotlib inline"
   ]
  },
  {
   "cell_type": "code",
   "execution_count": 4,
   "metadata": {},
   "outputs": [],
   "source": [
    "from torch.utils.data import DataLoader, random_split\n",
    "from leap.modules.srnn_kp import SRNNKeypointNS\n",
    "from leap.modules.keypointer import Keypointer"
   ]
  },
  {
   "cell_type": "code",
   "execution_count": 5,
   "metadata": {},
   "outputs": [],
   "source": [
    "import torch\n",
    "import numpy as np\n",
    "import seaborn as sns"
   ]
  },
  {
   "cell_type": "code",
   "execution_count": 6,
   "metadata": {},
   "outputs": [],
   "source": [
    "import ipdb as pdb"
   ]
  },
  {
   "cell_type": "code",
   "execution_count": 7,
   "metadata": {},
   "outputs": [],
   "source": [
    "kp = Keypointer.load_from_checkpoint('/srv/data/ltcl/log/weiran/kp_5_ball/lightning_logs/version_3/checkpoints/epoch=9-step=366890.ckpt',\n",
    "                                      n_kps=5, lim=[-1., 1., -1., 1.])"
   ]
  },
  {
   "cell_type": "code",
   "execution_count": 8,
   "metadata": {
    "scrolled": true
   },
   "outputs": [],
   "source": [
    "torch.save(kp.kp.keypoint_predictor.model.state_dict(), '/srv/data/ltcl/ckpts/keypoint_predictor.pth')"
   ]
  },
  {
   "cell_type": "code",
   "execution_count": 9,
   "metadata": {},
   "outputs": [],
   "source": [
    "cfg = load_yaml('../ltcl/configs/ball_5_s1.yaml')\n",
    "hparams = Namespace()\n",
    "for k in cfg:\n",
    "    setattr(hparams, k, cfg[k])\n",
    "trans_to_tensor = transforms.Compose([\n",
    "    transforms.ToTensor(),\n",
    "    transforms.Normalize((0.5, 0.5, 0.5), (0.5, 0.5, 0.5))\n",
    "])"
   ]
  },
  {
   "cell_type": "code",
   "execution_count": 10,
   "metadata": {},
   "outputs": [],
   "source": [
    "dataset = PhysicsDatasetTwoSample(hparams, trans_to_tensor=trans_to_tensor)"
   ]
  },
  {
   "cell_type": "code",
   "execution_count": 11,
   "metadata": {},
   "outputs": [],
   "source": [
    "dataset.load_img = True"
   ]
  },
  {
   "cell_type": "code",
   "execution_count": 12,
   "metadata": {},
   "outputs": [],
   "source": [
    "dataset.dt = 0"
   ]
  },
  {
   "cell_type": "code",
   "execution_count": 16,
   "metadata": {},
   "outputs": [],
   "source": [
    "batch_size=128\n",
    "length=6"
   ]
  },
  {
   "cell_type": "code",
   "execution_count": 17,
   "metadata": {},
   "outputs": [],
   "source": [
    "data = DataLoader(dataset, batch_size=batch_size, shuffle=False)"
   ]
  },
  {
   "cell_type": "code",
   "execution_count": 18,
   "metadata": {
    "scrolled": true
   },
   "outputs": [],
   "source": [
    "batch = next(iter(data))"
   ]
  },
  {
   "cell_type": "code",
   "execution_count": 11,
   "metadata": {},
   "outputs": [],
   "source": [
    "x, y = batch['s1']['xt'], batch['s1']['yt']\n",
    "batch_size, length, nc, h, w = x.shape\n",
    "x_flat = x.view(-1, nc, h, w)\n",
    "x_mask = ((x_flat[:,0]!=0) + (x_flat[:,1]!=0) + (x_flat[:,2]!=0)).float().view(batch_size, length, 1, h, w)"
   ]
  },
  {
   "cell_type": "code",
   "execution_count": 20,
   "metadata": {},
   "outputs": [
    {
     "data": {
      "text/plain": [
       "(-0.5, 63.5, 63.5, -0.5)"
      ]
     },
     "execution_count": 20,
     "metadata": {},
     "output_type": "execute_result"
    },
    {
     "data": {
      "image/png": "[encoded data removed]",
      "text/plain": [
       "<Figure size 144x144 with 1 Axes>"
      ]
     },
     "metadata": {
      "needs_background": "light"
     },
     "output_type": "display_data"
    }
   ],
   "source": [
    "fig = plt.figure(figsize=(2,2))\n",
    "plt.imshow(x_mask[3,0,0])\n",
    "plt.axis('off')"
   ]
  },
  {
   "cell_type": "code",
   "execution_count": 13,
   "metadata": {},
   "outputs": [],
   "source": [
    "model = SRNNKeypointNS.load_from_checkpoint('/srv/data/ltcl/log/weiran/mbi_2lag/lightning_logs/version_2/checkpoints/epoch=0-step=10880.ckpt',\n",
    "                                                  nc=3, length=4, n_kps=5, z_dim=2, lag=2, nclass=50, hidden_dim=8, \n",
    "                                            kp_pth='/srv/data/ltcl/log/weiran/kp_5_ball/lightning_logs/version_3/checkpoints/epoch=9-step=366890.ckpt')"
   ]
  },
  {
   "cell_type": "code",
   "execution_count": 14,
   "metadata": {},
   "outputs": [],
   "source": [
    "feat, kpts, hmap = model.kp.forward(batch['s1']['xt'])\n",
    "# zs: [B, length, n_kps*2]\n",
    "zs, mus, logvars = model.inference(kpts)\n",
    "kpts = zs[...,:5*2].reshape(batch_size, length, 5, 2)\n",
    "x_recon = model.kp.reconstruct(kpts, feat)"
   ]
  },
  {
   "cell_type": "code",
   "execution_count": 147,
   "metadata": {},
   "outputs": [],
   "source": [
    "feat, kpts, hmap = kp.forward(batch['s1']['xt'])"
   ]
  },
  {
   "cell_type": "code",
   "execution_count": 150,
   "metadata": {},
   "outputs": [
    {
     "name": "stdout",
     "output_type": "stream",
     "text": [
      "Permutation: [2 3 8 9 0 1 4 5 6 7]\n",
      "Sign Flip: [-1. -1. -1. -1. -1. -1. -1. -1. -1. -1.]\n"
     ]
    }
   ],
   "source": [
    "latent_size = 10\n",
    "A = kpts[:,1,:,:].detach().reshape(-1,10)#mus.reshape(-1,10).detach().cpu().numpy()\n",
    "B = batch['s1']['yt'][:,1,:,:2].reshape(-1,10).detach().cpu().numpy()\n",
    "C = np.zeros((latent_size,latent_size))\n",
    "for i in range(latent_size):\n",
    "    C[i] = -np.abs(np.corrcoef(B, A, rowvar=False)[i,latent_size:])\n",
    "from scipy.optimize import linear_sum_assignment\n",
    "row_ind, col_ind = linear_sum_assignment(C)\n",
    "A = A[:, col_ind]\n",
    "mask = np.ones(latent_size)\n",
    "for i in range(latent_size):\n",
    "    if np.corrcoef(B, A, rowvar=False)[i,latent_size:][i] > 0:\n",
    "        mask[i] = -1\n",
    "print(\"Permutation:\",col_ind)\n",
    "print(\"Sign Flip:\", mask)"
   ]
  },
  {
   "cell_type": "code",
   "execution_count": 152,
   "metadata": {},
   "outputs": [
    {
     "data": {
      "image/png": "[encoded data removed]",
      "text/plain": [
       "<Figure size 360x360 with 1 Axes>"
      ]
     },
     "metadata": {
      "needs_background": "light"
     },
     "output_type": "display_data"
    }
   ],
   "source": [
    "with PdfPages(figure_path + '/ball_mcc.pdf') as pdf:\n",
    "\n",
    "    fig = plt.figure(figsize=(5,5))\n",
    "    sns.heatmap(-C, vmin=0, vmax=1, annot=True, fmt=\".2f\", linewidths=.5, cbar=False, cmap='Greens')\n",
    "    plt.xlabel(\"Estimated latents \") \n",
    "    plt.ylabel(\"True latents \") \n",
    "    plt.title(\"MCC=%.3f\"%np.abs(C[row_ind, col_ind]).mean());\n",
    "    pdf.savefig(fig, bbox_inches=\"tight\")"
   ]
  },
  {
   "cell_type": "code",
   "execution_count": 25,
   "metadata": {},
   "outputs": [],
   "source": [
    "X1 = batch['s1']['yt'][:,0,:,:2].numpy()\n",
    "X2 = batch['s1']['yt'][:,1,:,:2].numpy()\n",
    "X3 = batch['s1']['yt'][:,2,:,:2].numpy()\n",
    "A1 = batch['s1']['actions'][:,0,:,:2].numpy()\n",
    "A2 = batch['s1']['actions'][:,1,:,:2].numpy()\n",
    "A3 = batch['s1']['actions'][:,2,:,:2].numpy()"
   ]
  },
  {
   "cell_type": "code",
   "execution_count": 26,
   "metadata": {},
   "outputs": [
    {
     "data": {
      "text/plain": [
       "(array([1.0000e+01, 4.2000e+01, 4.2400e+02, 4.5520e+03, 1.0063e+04,\n",
       "        8.0690e+03, 2.2560e+03, 1.5100e+02, 2.8000e+01, 5.0000e+00]),\n",
       " array([-2.7043815 , -2.1405752 , -1.5767689 , -1.0129626 , -0.44915628,\n",
       "         0.11465001,  0.6784563 ,  1.2422626 ,  1.8060689 ,  2.3698752 ,\n",
       "         2.9336815 ], dtype=float32),\n",
       " <BarContainer object of 10 artists>)"
      ]
     },
     "execution_count": 26,
     "metadata": {},
     "output_type": "execute_result"
    },
    {
     "data": {
      "image/png": "[encoded data removed]",
      "text/plain": [
       "<Figure size 432x288 with 1 Axes>"
      ]
     },
     "metadata": {
      "needs_background": "light"
     },
     "output_type": "display_data"
    }
   ],
   "source": [
    "plt.hist(X2.reshape(batch_size, -1)[:,2])"
   ]
  },
  {
   "cell_type": "code",
   "execution_count": 382,
   "metadata": {},
   "outputs": [
    {
     "data": {
      "text/plain": [
       "-999.9999761581421"
      ]
     },
     "execution_count": 382,
     "metadata": {},
     "output_type": "execute_result"
    }
   ],
   "source": [
    "A1.min()*600"
   ]
  },
  {
   "cell_type": "code",
   "execution_count": 61,
   "metadata": {},
   "outputs": [],
   "source": [
    "X = np.concatenate((X2.reshape(batch_size,-1), X1.reshape(batch_size,-1)),axis=-1)\n"
   ]
  },
  {
   "cell_type": "code",
   "execution_count": 90,
   "metadata": {},
   "outputs": [],
   "source": [
    "out = [ ]\n",
    "for i in range(10):\n",
    "    y = X3.reshape(batch_size,-1)[:,i]\n",
    "    clf = Lasso(alpha=0.0001, normalize=True, max_iter=5000).fit(X, y)\n",
    "    coef = clf.coef_.reshape(2,5,2)\n",
    "    coef = np.concatenate((coef[0], coef[1]), axis=1)[:,[0,2,1,3]]\n",
    "    coef = coef.reshape(-1)\n",
    "    out.append(coef)"
   ]
  },
  {
   "cell_type": "code",
   "execution_count": 93,
   "metadata": {},
   "outputs": [],
   "source": [
    "out = np.stack(out)"
   ]
  },
  {
   "cell_type": "code",
   "execution_count": 62,
   "metadata": {},
   "outputs": [],
   "source": [
    "from sklearn.linear_model import Lasso, LassoCV\n"
   ]
  },
  {
   "cell_type": "code",
   "execution_count": 122,
   "metadata": {},
   "outputs": [],
   "source": [
    "figure_path = '/home/weiran/figs/'\n",
    "from matplotlib.backends.backend_pdf import PdfPages"
   ]
  },
  {
   "cell_type": "code",
   "execution_count": 123,
   "metadata": {},
   "outputs": [
    {
     "data": {
      "image/png": "[encoded data removed]",
      "text/plain": [
       "<Figure size 720x360 with 1 Axes>"
      ]
     },
     "metadata": {
      "needs_background": "light"
     },
     "output_type": "display_data"
    }
   ],
   "source": [
    "with PdfPages(figure_path + '/B1_ball.pdf') as pdf:\n",
    "    fig = plt.figure(figsize=(10,5))\n",
    "    sns.heatmap(out, cmap='vlag', vmin=-0.04, vmax=0.04, annot=True, fmt='.2f', cbar=False)\n",
    "    plt.axis('off')\n",
    "    pdf.savefig(fig, bbox_inches=\"tight\")"
   ]
  },
  {
   "cell_type": "code",
   "execution_count": 37,
   "metadata": {},
   "outputs": [
    {
     "data": {
      "text/plain": [
       "tensor([[[0.0000],\n",
       "         [0.7720],\n",
       "         [0.0000],\n",
       "         [0.0000],\n",
       "         [8.6539]],\n",
       "\n",
       "        [[0.7720],\n",
       "         [0.0000],\n",
       "         [0.0000],\n",
       "         [4.9685],\n",
       "         [0.0000]],\n",
       "\n",
       "        [[0.0000],\n",
       "         [0.0000],\n",
       "         [0.0000],\n",
       "         [1.1909],\n",
       "         [6.0713]],\n",
       "\n",
       "        [[0.0000],\n",
       "         [4.9685],\n",
       "         [1.1909],\n",
       "         [0.0000],\n",
       "         [5.9493]],\n",
       "\n",
       "        [[8.6539],\n",
       "         [0.0000],\n",
       "         [6.0713],\n",
       "         [5.9493],\n",
       "         [0.0000]]])"
      ]
     },
     "execution_count": 37,
     "metadata": {},
     "output_type": "execute_result"
    }
   ],
   "source": [
    "batch['s1']['graph_gt'][1][0]"
   ]
  },
  {
   "cell_type": "code",
   "execution_count": 30,
   "metadata": {},
   "outputs": [
    {
     "data": {
      "text/plain": [
       "0.9967969725302102"
      ]
     },
     "execution_count": 30,
     "metadata": {},
     "output_type": "execute_result"
    }
   ],
   "source": [
    "clf.score(X,y)"
   ]
  },
  {
   "cell_type": "code",
   "execution_count": 326,
   "metadata": {},
   "outputs": [
    {
     "data": {
      "text/plain": [
       "<matplotlib.image.AxesImage at 0x7fcfb5514130>"
      ]
     },
     "execution_count": 326,
     "metadata": {},
     "output_type": "execute_result"
    },
    {
     "data": {
      "image/png": "[encoded data removed]",
      "text/plain": [
       "<Figure size 432x288 with 1 Axes>"
      ]
     },
     "metadata": {
      "needs_background": "light"
     },
     "output_type": "display_data"
    }
   ],
   "source": [
    "plt.imshow(batch['s1']['xt'][0,0].permute(1,2,0))"
   ]
  },
  {
   "cell_type": "code",
   "execution_count": 322,
   "metadata": {},
   "outputs": [
    {
     "data": {
      "text/plain": [
       "<matplotlib.image.AxesImage at 0x7fcfb56435b0>"
      ]
     },
     "execution_count": 322,
     "metadata": {},
     "output_type": "execute_result"
    },
    {
     "data": {
      "image/png": "[encoded data removed]",
      "text/plain": [
       "<Figure size 432x288 with 1 Axes>"
      ]
     },
     "metadata": {
      "needs_background": "light"
     },
     "output_type": "display_data"
    }
   ],
   "source": [
    "plt.imshow(torchvision.transforms.Grayscale()(batch['s1']['xt'])[0,0].permute(1,2,0))"
   ]
  },
  {
   "cell_type": "code",
   "execution_count": 172,
   "metadata": {},
   "outputs": [
    {
     "data": {
      "text/plain": [
       "0.9866479001217311"
      ]
     },
     "execution_count": 172,
     "metadata": {},
     "output_type": "execute_result"
    }
   ],
   "source": [
    "clf.score(X,y)"
   ]
  },
  {
   "cell_type": "code",
   "execution_count": 218,
   "metadata": {},
   "outputs": [],
   "source": [
    "mask = batch['s1']['graph_gt'][1][0].squeeze() > 0\n",
    "mask = mask.fill_diagonal_(True)"
   ]
  },
  {
   "cell_type": "code",
   "execution_count": 234,
   "metadata": {},
   "outputs": [],
   "source": [
    "mask[1, 3] = False\n",
    "mask[4, 2] = False"
   ]
  },
  {
   "cell_type": "code",
   "execution_count": 235,
   "metadata": {},
   "outputs": [
    {
     "data": {
      "text/plain": [
       "<AxesSubplot:>"
      ]
     },
     "execution_count": 235,
     "metadata": {},
     "output_type": "execute_result"
    },
    {
     "data": {
      "image/png": "[encoded data removed]",
      "text/plain": [
       "<Figure size 144x144 with 1 Axes>"
      ]
     },
     "metadata": {
      "needs_background": "light"
     },
     "output_type": "display_data"
    }
   ],
   "source": [
    "fig = plt.figure(figsize=(2,2))\n",
    "sns.heatmap(mask, cmap=\"YlGnBu\", cbar=False)"
   ]
  },
  {
   "cell_type": "code",
   "execution_count": 219,
   "metadata": {},
   "outputs": [
    {
     "data": {
      "text/plain": [
       "<AxesSubplot:>"
      ]
     },
     "execution_count": 219,
     "metadata": {},
     "output_type": "execute_result"
    },
    {
     "data": {
      "image/png": "[encoded data removed]",
      "text/plain": [
       "<Figure size 144x144 with 1 Axes>"
      ]
     },
     "metadata": {
      "needs_background": "light"
     },
     "output_type": "display_data"
    }
   ],
   "source": [
    "fig = plt.figure(figsize=(2,2))\n",
    "sns.heatmap(mask, cmap=\"YlGnBu\", cbar=False)"
   ]
  },
  {
   "cell_type": "code",
   "execution_count": 209,
   "metadata": {},
   "outputs": [
    {
     "data": {
      "text/plain": [
       "tensor([[False, False, False,  True, False],\n",
       "        [False, False,  True,  True,  True],\n",
       "        [False,  True, False, False,  True],\n",
       "        [ True,  True, False, False,  True],\n",
       "        [False,  True,  True,  True, False]])"
      ]
     },
     "execution_count": 209,
     "metadata": {},
     "output_type": "execute_result"
    }
   ],
   "source": [
    "batch['s1']['graph_gt'][1][0].squeeze() > 0"
   ]
  },
  {
   "cell_type": "code",
   "execution_count": 56,
   "metadata": {},
   "outputs": [
    {
     "data": {
      "text/plain": [
       "0.9976415870578089"
      ]
     },
     "execution_count": 56,
     "metadata": {},
     "output_type": "execute_result"
    }
   ],
   "source": [
    "clf.score(X, y)"
   ]
  },
  {
   "cell_type": "code",
   "execution_count": 17,
   "metadata": {},
   "outputs": [
    {
     "data": {
      "text/plain": [
       "(2, 4, 5)"
      ]
     },
     "execution_count": 17,
     "metadata": {},
     "output_type": "execute_result"
    }
   ],
   "source": [
    "2, 4, 5"
   ]
  },
  {
   "cell_type": "code",
   "execution_count": 18,
   "metadata": {},
   "outputs": [],
   "source": [
    "zs_perm = torch.tensor(A.reshape(batch_size, length, -1))"
   ]
  },
  {
   "cell_type": "code",
   "execution_count": 19,
   "metadata": {},
   "outputs": [],
   "source": [
    "from torch.autograd.functional import jacobian"
   ]
  },
  {
   "cell_type": "code",
   "execution_count": 20,
   "metadata": {},
   "outputs": [
    {
     "data": {
      "text/plain": [
       "tensor([[  0.0000,   0.0000,   0.0000,  54.0833,   0.0000],\n",
       "        [  0.0000,   0.0000,  22.3903,  87.4525,  47.6481],\n",
       "        [  0.0000,  22.3903,   0.0000,   0.0000, 114.7666],\n",
       "        [ 54.0833,  87.4525,   0.0000,   0.0000,  34.9792],\n",
       "        [  0.0000,  47.6481, 114.7666,  34.9792,   0.0000]])"
      ]
     },
     "execution_count": 20,
     "metadata": {},
     "output_type": "execute_result"
    }
   ],
   "source": [
    "batch['s1']['graph_gt'][1][10].squeeze()"
   ]
  },
  {
   "cell_type": "code",
   "execution_count": 28,
   "metadata": {},
   "outputs": [],
   "source": [
    "def compute_masked_jacobian(x, masks, gs, L):\n",
    "    def masked_forward(mask, xxi, yy):\n",
    "        inputs = torch.cat((yy*mask, xxi),dim=-1)\n",
    "        return gs[i](inputs)\n",
    "    batch_size, length, input_dim = x.shape\n",
    "    x = x.unfold(dimension = 1, size = L+1, step = 1)\n",
    "    x = torch.swapaxes(x, 2, 3)\n",
    "    shape = x.shape\n",
    "    x = x.reshape(-1, L+1, input_dim)\n",
    "    xx, yy = x[:,-1:], x[:,:-1]\n",
    "    yy = yy.reshape(-1, L*input_dim)\n",
    "    pdds = [ ]\n",
    "    for i in range(input_dim):\n",
    "#         xxi = xx[:,:,i]\n",
    "        mask = masks[i]\n",
    "        # Redefine input function\n",
    "        inputs = torch.cat((yy*mask, xx[:,:,i]),dim=-1)\n",
    "        residual = gs[i](inputs)\n",
    "        with torch.enable_grad():\n",
    "            pdd = jacobian(gs[i], inputs, create_graph=True, vectorize=True)\n",
    "#             pdd = jacobian(masked_forward, (mask, xxi, yy), create_graph=True, vectorize=True)\n",
    "            pdb.set_trace()\n",
    "            pdds.append(pdd[2])\n",
    "    return torch.stack(pdds, 0).squeeze()"
   ]
  },
  {
   "cell_type": "code",
   "execution_count": 34,
   "metadata": {},
   "outputs": [
    {
     "name": "stdout",
     "output_type": "stream",
     "text": [
      "> \u001b[0;32m/tmp/ipykernel_30513/330634037.py\u001b[0m(23)\u001b[0;36mcompute_masked_jacobian\u001b[0;34m()\u001b[0m\n",
      "\u001b[0;32m     22 \u001b[0;31m            \u001b[0mpdb\u001b[0m\u001b[0;34m.\u001b[0m\u001b[0mset_trace\u001b[0m\u001b[0;34m(\u001b[0m\u001b[0;34m)\u001b[0m\u001b[0;34m\u001b[0m\u001b[0;34m\u001b[0m\u001b[0m\n",
      "\u001b[0m\u001b[0;32m---> 23 \u001b[0;31m            \u001b[0mpdds\u001b[0m\u001b[0;34m.\u001b[0m\u001b[0mappend\u001b[0m\u001b[0;34m(\u001b[0m\u001b[0mpdd\u001b[0m\u001b[0;34m[\u001b[0m\u001b[0;36m2\u001b[0m\u001b[0;34m]\u001b[0m\u001b[0;34m)\u001b[0m\u001b[0;34m\u001b[0m\u001b[0;34m\u001b[0m\u001b[0m\n",
      "\u001b[0m\u001b[0;32m     24 \u001b[0;31m    \u001b[0;32mreturn\u001b[0m \u001b[0mtorch\u001b[0m\u001b[0;34m.\u001b[0m\u001b[0mstack\u001b[0m\u001b[0;34m(\u001b[0m\u001b[0mpdds\u001b[0m\u001b[0;34m,\u001b[0m \u001b[0;36m0\u001b[0m\u001b[0;34m)\u001b[0m\u001b[0;34m.\u001b[0m\u001b[0msqueeze\u001b[0m\u001b[0;34m(\u001b[0m\u001b[0;34m)\u001b[0m\u001b[0;34m\u001b[0m\u001b[0;34m\u001b[0m\u001b[0m\n",
      "\u001b[0m\n",
      "ipdb> q\n"
     ]
    },
    {
     "ename": "BdbQuit",
     "evalue": "",
     "output_type": "error",
     "traceback": [
      "\u001b[0;31m---------------------------------------------------------------------------\u001b[0m",
      "\u001b[0;31mBdbQuit\u001b[0m                                   Traceback (most recent call last)",
      "\u001b[0;32m/tmp/ipykernel_30513/827946213.py\u001b[0m in \u001b[0;36m<module>\u001b[0;34m\u001b[0m\n\u001b[0;32m----> 1\u001b[0;31m \u001b[0mpdds\u001b[0m \u001b[0;34m=\u001b[0m \u001b[0mcompute_masked_jacobian\u001b[0m\u001b[0;34m(\u001b[0m\u001b[0mmus\u001b[0m\u001b[0;34m.\u001b[0m\u001b[0mdetach\u001b[0m\u001b[0;34m(\u001b[0m\u001b[0;34m)\u001b[0m\u001b[0;34m,\u001b[0m \u001b[0mtorch\u001b[0m\u001b[0;34m.\u001b[0m\u001b[0msigmoid\u001b[0m\u001b[0;34m(\u001b[0m\u001b[0mmodel\u001b[0m\u001b[0;34m.\u001b[0m\u001b[0mlogits\u001b[0m\u001b[0;34m)\u001b[0m\u001b[0;34m.\u001b[0m\u001b[0mdetach\u001b[0m\u001b[0;34m(\u001b[0m\u001b[0;34m)\u001b[0m\u001b[0;34m,\u001b[0m \u001b[0mmodel\u001b[0m\u001b[0;34m.\u001b[0m\u001b[0mtransition_prior\u001b[0m\u001b[0;34m.\u001b[0m\u001b[0mgs\u001b[0m\u001b[0;34m,\u001b[0m \u001b[0;36m2\u001b[0m\u001b[0;34m)\u001b[0m\u001b[0;34m\u001b[0m\u001b[0;34m\u001b[0m\u001b[0m\n\u001b[0m",
      "\u001b[0;32m/tmp/ipykernel_30513/330634037.py\u001b[0m in \u001b[0;36mcompute_masked_jacobian\u001b[0;34m(x, masks, gs, L)\u001b[0m\n\u001b[1;32m     21\u001b[0m \u001b[0;31m#             pdd = jacobian(masked_forward, (mask, xxi, yy), create_graph=True, vectorize=True)\u001b[0m\u001b[0;34m\u001b[0m\u001b[0;34m\u001b[0m\u001b[0;34m\u001b[0m\u001b[0m\n\u001b[1;32m     22\u001b[0m             \u001b[0mpdb\u001b[0m\u001b[0;34m.\u001b[0m\u001b[0mset_trace\u001b[0m\u001b[0;34m(\u001b[0m\u001b[0;34m)\u001b[0m\u001b[0;34m\u001b[0m\u001b[0;34m\u001b[0m\u001b[0m\n\u001b[0;32m---> 23\u001b[0;31m             \u001b[0mpdds\u001b[0m\u001b[0;34m.\u001b[0m\u001b[0mappend\u001b[0m\u001b[0;34m(\u001b[0m\u001b[0mpdd\u001b[0m\u001b[0;34m[\u001b[0m\u001b[0;36m2\u001b[0m\u001b[0;34m]\u001b[0m\u001b[0;34m)\u001b[0m\u001b[0;34m\u001b[0m\u001b[0;34m\u001b[0m\u001b[0m\n\u001b[0m\u001b[1;32m     24\u001b[0m     \u001b[0;32mreturn\u001b[0m \u001b[0mtorch\u001b[0m\u001b[0;34m.\u001b[0m\u001b[0mstack\u001b[0m\u001b[0;34m(\u001b[0m\u001b[0mpdds\u001b[0m\u001b[0;34m,\u001b[0m \u001b[0;36m0\u001b[0m\u001b[0;34m)\u001b[0m\u001b[0;34m.\u001b[0m\u001b[0msqueeze\u001b[0m\u001b[0;34m(\u001b[0m\u001b[0;34m)\u001b[0m\u001b[0;34m\u001b[0m\u001b[0;34m\u001b[0m\u001b[0m\n",
      "\u001b[0;32m/tmp/ipykernel_30513/330634037.py\u001b[0m in \u001b[0;36mcompute_masked_jacobian\u001b[0;34m(x, masks, gs, L)\u001b[0m\n\u001b[1;32m     21\u001b[0m \u001b[0;31m#             pdd = jacobian(masked_forward, (mask, xxi, yy), create_graph=True, vectorize=True)\u001b[0m\u001b[0;34m\u001b[0m\u001b[0;34m\u001b[0m\u001b[0;34m\u001b[0m\u001b[0m\n\u001b[1;32m     22\u001b[0m             \u001b[0mpdb\u001b[0m\u001b[0;34m.\u001b[0m\u001b[0mset_trace\u001b[0m\u001b[0;34m(\u001b[0m\u001b[0;34m)\u001b[0m\u001b[0;34m\u001b[0m\u001b[0;34m\u001b[0m\u001b[0m\n\u001b[0;32m---> 23\u001b[0;31m             \u001b[0mpdds\u001b[0m\u001b[0;34m.\u001b[0m\u001b[0mappend\u001b[0m\u001b[0;34m(\u001b[0m\u001b[0mpdd\u001b[0m\u001b[0;34m[\u001b[0m\u001b[0;36m2\u001b[0m\u001b[0;34m]\u001b[0m\u001b[0;34m)\u001b[0m\u001b[0;34m\u001b[0m\u001b[0;34m\u001b[0m\u001b[0m\n\u001b[0m\u001b[1;32m     24\u001b[0m     \u001b[0;32mreturn\u001b[0m \u001b[0mtorch\u001b[0m\u001b[0;34m.\u001b[0m\u001b[0mstack\u001b[0m\u001b[0;34m(\u001b[0m\u001b[0mpdds\u001b[0m\u001b[0;34m,\u001b[0m \u001b[0;36m0\u001b[0m\u001b[0;34m)\u001b[0m\u001b[0;34m.\u001b[0m\u001b[0msqueeze\u001b[0m\u001b[0;34m(\u001b[0m\u001b[0;34m)\u001b[0m\u001b[0;34m\u001b[0m\u001b[0;34m\u001b[0m\u001b[0m\n",
      "\u001b[0;32m~/anaconda3/envs/ltcl/lib/python3.8/bdb.py\u001b[0m in \u001b[0;36mtrace_dispatch\u001b[0;34m(self, frame, event, arg)\u001b[0m\n\u001b[1;32m     86\u001b[0m             \u001b[0;32mreturn\u001b[0m \u001b[0;31m# None\u001b[0m\u001b[0;34m\u001b[0m\u001b[0;34m\u001b[0m\u001b[0m\n\u001b[1;32m     87\u001b[0m         \u001b[0;32mif\u001b[0m \u001b[0mevent\u001b[0m \u001b[0;34m==\u001b[0m \u001b[0;34m'line'\u001b[0m\u001b[0;34m:\u001b[0m\u001b[0;34m\u001b[0m\u001b[0;34m\u001b[0m\u001b[0m\n\u001b[0;32m---> 88\u001b[0;31m             \u001b[0;32mreturn\u001b[0m \u001b[0mself\u001b[0m\u001b[0;34m.\u001b[0m\u001b[0mdispatch_line\u001b[0m\u001b[0;34m(\u001b[0m\u001b[0mframe\u001b[0m\u001b[0;34m)\u001b[0m\u001b[0;34m\u001b[0m\u001b[0;34m\u001b[0m\u001b[0m\n\u001b[0m\u001b[1;32m     89\u001b[0m         \u001b[0;32mif\u001b[0m \u001b[0mevent\u001b[0m \u001b[0;34m==\u001b[0m \u001b[0;34m'call'\u001b[0m\u001b[0;34m:\u001b[0m\u001b[0;34m\u001b[0m\u001b[0;34m\u001b[0m\u001b[0m\n\u001b[1;32m     90\u001b[0m             \u001b[0;32mreturn\u001b[0m \u001b[0mself\u001b[0m\u001b[0;34m.\u001b[0m\u001b[0mdispatch_call\u001b[0m\u001b[0;34m(\u001b[0m\u001b[0mframe\u001b[0m\u001b[0;34m,\u001b[0m \u001b[0marg\u001b[0m\u001b[0;34m)\u001b[0m\u001b[0;34m\u001b[0m\u001b[0;34m\u001b[0m\u001b[0m\n",
      "\u001b[0;32m~/anaconda3/envs/ltcl/lib/python3.8/bdb.py\u001b[0m in \u001b[0;36mdispatch_line\u001b[0;34m(self, frame)\u001b[0m\n\u001b[1;32m    111\u001b[0m         \u001b[0;32mif\u001b[0m \u001b[0mself\u001b[0m\u001b[0;34m.\u001b[0m\u001b[0mstop_here\u001b[0m\u001b[0;34m(\u001b[0m\u001b[0mframe\u001b[0m\u001b[0;34m)\u001b[0m \u001b[0;32mor\u001b[0m \u001b[0mself\u001b[0m\u001b[0;34m.\u001b[0m\u001b[0mbreak_here\u001b[0m\u001b[0;34m(\u001b[0m\u001b[0mframe\u001b[0m\u001b[0;34m)\u001b[0m\u001b[0;34m:\u001b[0m\u001b[0;34m\u001b[0m\u001b[0;34m\u001b[0m\u001b[0m\n\u001b[1;32m    112\u001b[0m             \u001b[0mself\u001b[0m\u001b[0;34m.\u001b[0m\u001b[0muser_line\u001b[0m\u001b[0;34m(\u001b[0m\u001b[0mframe\u001b[0m\u001b[0;34m)\u001b[0m\u001b[0;34m\u001b[0m\u001b[0;34m\u001b[0m\u001b[0m\n\u001b[0;32m--> 113\u001b[0;31m             \u001b[0;32mif\u001b[0m \u001b[0mself\u001b[0m\u001b[0;34m.\u001b[0m\u001b[0mquitting\u001b[0m\u001b[0;34m:\u001b[0m \u001b[0;32mraise\u001b[0m \u001b[0mBdbQuit\u001b[0m\u001b[0;34m\u001b[0m\u001b[0;34m\u001b[0m\u001b[0m\n\u001b[0m\u001b[1;32m    114\u001b[0m         \u001b[0;32mreturn\u001b[0m \u001b[0mself\u001b[0m\u001b[0;34m.\u001b[0m\u001b[0mtrace_dispatch\u001b[0m\u001b[0;34m\u001b[0m\u001b[0;34m\u001b[0m\u001b[0m\n\u001b[1;32m    115\u001b[0m \u001b[0;34m\u001b[0m\u001b[0m\n",
      "\u001b[0;31mBdbQuit\u001b[0m: "
     ]
    }
   ],
   "source": [
    "pdds = compute_masked_jacobian(mus.detach(), torch.sigmoid(model.logits).detach(), model.transition_prior.gs, 2)"
   ]
  },
  {
   "cell_type": "code",
   "execution_count": 345,
   "metadata": {},
   "outputs": [
    {
     "data": {
      "text/plain": [
       "tensor([[True, True, True, True, True, True, True, True, True, True],\n",
       "        [True, True, True, True, True, True, True, True, True, True]])"
      ]
     },
     "execution_count": 345,
     "metadata": {},
     "output_type": "execute_result"
    }
   ],
   "source": [
    "pdds[0,0,0,:].reshape(2,10) == pdds[0,2,2,:].reshape(2,10)"
   ]
  },
  {
   "cell_type": "code",
   "execution_count": 33,
   "metadata": {
    "scrolled": true
   },
   "outputs": [
    {
     "name": "stdout",
     "output_type": "stream",
     "text": [
      "> \u001b[0;32m/home/weiran/project/ltcl/ltcl/modules/components/transition.py\u001b[0m(151)\u001b[0;36mforward\u001b[0;34m()\u001b[0m\n",
      "\u001b[0;32m    150 \u001b[0;31m                \u001b[0mpdb\u001b[0m\u001b[0;34m.\u001b[0m\u001b[0mset_trace\u001b[0m\u001b[0;34m(\u001b[0m\u001b[0;34m)\u001b[0m\u001b[0;34m\u001b[0m\u001b[0;34m\u001b[0m\u001b[0m\n",
      "\u001b[0m\u001b[0;32m--> 151 \u001b[0;31m                \u001b[0minputs\u001b[0m \u001b[0;34m=\u001b[0m \u001b[0mtorch\u001b[0m\u001b[0;34m.\u001b[0m\u001b[0mcat\u001b[0m\u001b[0;34m(\u001b[0m\u001b[0;34m(\u001b[0m\u001b[0myy\u001b[0m\u001b[0;34m*\u001b[0m\u001b[0mmask\u001b[0m\u001b[0;34m,\u001b[0m \u001b[0mxx\u001b[0m\u001b[0;34m[\u001b[0m\u001b[0;34m:\u001b[0m\u001b[0;34m,\u001b[0m\u001b[0;34m:\u001b[0m\u001b[0;34m,\u001b[0m\u001b[0mi\u001b[0m\u001b[0;34m]\u001b[0m\u001b[0;34m)\u001b[0m\u001b[0;34m,\u001b[0m\u001b[0mdim\u001b[0m\u001b[0;34m=\u001b[0m\u001b[0;34m-\u001b[0m\u001b[0;36m1\u001b[0m\u001b[0;34m)\u001b[0m\u001b[0;34m\u001b[0m\u001b[0;34m\u001b[0m\u001b[0m\n",
      "\u001b[0m\u001b[0;32m    152 \u001b[0;31m            \u001b[0mresidual\u001b[0m \u001b[0;34m=\u001b[0m \u001b[0mself\u001b[0m\u001b[0;34m.\u001b[0m\u001b[0mgs\u001b[0m\u001b[0;34m[\u001b[0m\u001b[0mi\u001b[0m\u001b[0;34m]\u001b[0m\u001b[0;34m(\u001b[0m\u001b[0minputs\u001b[0m\u001b[0;34m)\u001b[0m\u001b[0;34m\u001b[0m\u001b[0;34m\u001b[0m\u001b[0m\n",
      "\u001b[0m\n",
      "ipdb> c\n",
      "> \u001b[0;32m/home/weiran/project/ltcl/ltcl/modules/components/transition.py\u001b[0m(157)\u001b[0;36mforward\u001b[0;34m()\u001b[0m\n",
      "\u001b[0;32m    156 \u001b[0;31m            \u001b[0mpdb\u001b[0m\u001b[0;34m.\u001b[0m\u001b[0mset_trace\u001b[0m\u001b[0;34m(\u001b[0m\u001b[0;34m)\u001b[0m\u001b[0;34m\u001b[0m\u001b[0;34m\u001b[0m\u001b[0m\n",
      "\u001b[0m\u001b[0;32m--> 157 \u001b[0;31m            \u001b[0mlogabsdet\u001b[0m \u001b[0;34m=\u001b[0m \u001b[0mtorch\u001b[0m\u001b[0;34m.\u001b[0m\u001b[0mlog\u001b[0m\u001b[0;34m(\u001b[0m\u001b[0mtorch\u001b[0m\u001b[0;34m.\u001b[0m\u001b[0mabs\u001b[0m\u001b[0;34m(\u001b[0m\u001b[0mtorch\u001b[0m\u001b[0;34m.\u001b[0m\u001b[0mdiag\u001b[0m\u001b[0;34m(\u001b[0m\u001b[0mpdd\u001b[0m\u001b[0;34m[\u001b[0m\u001b[0;34m:\u001b[0m\u001b[0;34m,\u001b[0m\u001b[0;36m0\u001b[0m\u001b[0;34m,\u001b[0m\u001b[0;34m:\u001b[0m\u001b[0;34m,\u001b[0m\u001b[0;34m-\u001b[0m\u001b[0;36m1\u001b[0m\u001b[0;34m]\u001b[0m\u001b[0;34m)\u001b[0m\u001b[0;34m)\u001b[0m\u001b[0;34m)\u001b[0m\u001b[0;34m\u001b[0m\u001b[0;34m\u001b[0m\u001b[0m\n",
      "\u001b[0m\u001b[0;32m    158 \u001b[0;31m            \u001b[0msum_log_abs_det_jacobian\u001b[0m \u001b[0;34m+=\u001b[0m \u001b[0mlogabsdet\u001b[0m\u001b[0;34m\u001b[0m\u001b[0;34m\u001b[0m\u001b[0m\n",
      "\u001b[0m\n",
      "ipdb> residuals\n",
      "[]\n",
      "ipdb> residual\n",
      "tensor([[ 1.6637e-01],\n",
      "        [ 6.6921e-01],\n",
      "        [ 2.8552e-02],\n",
      "        [ 6.3329e-01],\n",
      "        [ 1.1346e-02],\n",
      "        [-1.0987e-01],\n",
      "        [-3.7489e-01],\n",
      "        [-4.2310e-01],\n",
      "        [ 1.3645e-01],\n",
      "        [ 8.5296e-02],\n",
      "        [ 1.6670e-02],\n",
      "        [ 2.6937e-02],\n",
      "        [-2.4581e-01],\n",
      "        [-2.0924e-01],\n",
      "        [-5.1823e-01],\n",
      "        [-2.4189e-01],\n",
      "        [ 4.5802e-01],\n",
      "        [ 3.3404e-02],\n",
      "        [ 2.8210e-01],\n",
      "        [ 1.8099e-01],\n",
      "        [ 2.2843e-02],\n",
      "        [ 2.1440e-01],\n",
      "        [ 1.6496e-01],\n",
      "        [ 2.2199e-01],\n",
      "        [ 1.6073e-01],\n",
      "        [ 9.0544e-02],\n",
      "        [-2.3221e-02],\n",
      "        [-9.0789e-02],\n",
      "        [ 1.0076e-01],\n",
      "        [ 1.2615e-01],\n",
      "        [ 9.4969e-02],\n",
      "        [ 9.0687e-02],\n",
      "        [-3.1960e-01],\n",
      "        [-3.1628e-01],\n",
      "        [-9.2441e-02],\n",
      "        [-4.8577e-02],\n",
      "        [ 4.0184e-01],\n",
      "        [ 3.6738e-01],\n",
      "        [ 1.9638e-01],\n",
      "        [ 1.2447e-01],\n",
      "        [ 2.9080e-01],\n",
      "        [ 6.7167e-02],\n",
      "        [-2.3461e-02],\n",
      "        [ 1.0886e-01],\n",
      "        [-1.7405e-01],\n",
      "        [ 1.5093e-02],\n",
      "        [-1.5542e-02],\n",
      "        [ 9.6525e-03],\n",
      "        [-1.8373e-02],\n",
      "        [ 7.0309e-02],\n",
      "        [ 5.2095e-02],\n",
      "        [ 1.9682e-02],\n",
      "        [ 5.1755e-03],\n",
      "        [ 2.2943e-01],\n",
      "        [ 3.0263e-01],\n",
      "        [ 3.9001e-01],\n",
      "        [-3.2171e-01],\n",
      "        [-7.6611e-02],\n",
      "        [-2.5418e-01],\n",
      "        [-1.5506e-01],\n",
      "        [ 7.5849e-02],\n",
      "        [ 4.2482e-01],\n",
      "        [ 1.6500e-01],\n",
      "        [ 4.5711e-02],\n",
      "        [-1.8883e-01],\n",
      "        [-8.6842e-02],\n",
      "        [-8.6758e-02],\n",
      "        [-1.0991e-01],\n",
      "        [-2.1542e-02],\n",
      "        [-1.1157e-01],\n",
      "        [-1.8201e-01],\n",
      "        [-2.4574e-02],\n",
      "        [ 1.9755e-01],\n",
      "        [-1.4009e-01],\n",
      "        [ 3.0580e-01],\n",
      "        [ 3.1049e-01],\n",
      "        [-7.8429e-02],\n",
      "        [-2.0560e-03],\n",
      "        [-4.9321e-02],\n",
      "        [-4.4623e-02],\n",
      "        [ 3.5177e-01],\n",
      "        [ 2.3794e-01],\n",
      "        [-6.7817e-02],\n",
      "        [ 1.2629e-01],\n",
      "        [ 2.7983e-01],\n",
      "        [ 3.3977e-01],\n",
      "        [-1.0967e-01],\n",
      "        [ 1.9007e-01],\n",
      "        [ 1.8180e-01],\n",
      "        [ 6.9302e-03],\n",
      "        [ 2.3282e-02],\n",
      "        [ 2.7873e-02],\n",
      "        [-4.4626e-01],\n",
      "        [-2.0921e-01],\n",
      "        [-5.4256e-01],\n",
      "        [-3.6000e-01],\n",
      "        [-2.5410e-01],\n",
      "        [-2.0939e-01],\n",
      "        [-4.1881e-02],\n",
      "        [-1.1344e-01],\n",
      "        [-6.9303e-01],\n",
      "        [-3.8756e-01],\n",
      "        [-3.1245e-01],\n",
      "        [-6.0220e-01],\n",
      "        [-4.1296e-01],\n",
      "        [-2.8913e-01],\n",
      "        [-3.3635e-01],\n",
      "        [-3.7744e-01],\n",
      "        [ 4.2033e-02],\n",
      "        [ 6.6204e-02],\n",
      "        [ 5.0033e-03],\n",
      "        [ 4.8554e-02],\n",
      "        [ 1.6232e-02],\n",
      "        [-1.9267e-01],\n",
      "        [-3.2302e-01],\n",
      "        [-1.0425e-01],\n",
      "        [ 1.9956e-01],\n",
      "        [ 1.5543e-01],\n",
      "        [ 1.5585e-01],\n",
      "        [ 1.7080e-01],\n",
      "        [ 2.7670e-01],\n",
      "        [ 3.8602e-01],\n",
      "        [ 3.8814e-01],\n",
      "        [ 1.5438e-01],\n",
      "        [ 1.1683e-01],\n",
      "        [ 9.3451e-02],\n",
      "        [ 1.0680e-01],\n",
      "        [ 3.7745e-02],\n",
      "        [ 8.6254e-02],\n",
      "        [-1.4971e-01],\n",
      "        [ 5.9246e-03],\n",
      "        [ 6.6437e-03],\n",
      "        [ 2.8072e-02],\n",
      "        [ 1.0589e-01],\n",
      "        [-5.1494e-02],\n",
      "        [ 1.5902e-01],\n",
      "        [-6.0568e-02],\n",
      "        [-1.1560e-01],\n",
      "        [-1.0154e-01],\n",
      "        [ 1.6302e-02],\n",
      "        [ 8.6545e-02],\n",
      "        [-2.5596e-02],\n",
      "        [-1.8777e-01],\n",
      "        [-1.7913e-01],\n",
      "        [ 2.6550e-01],\n",
      "        [ 6.6241e-02],\n",
      "        [ 1.5599e-01],\n",
      "        [ 1.6765e-01],\n",
      "        [-4.2465e-01],\n",
      "        [ 3.4451e-02],\n",
      "        [-1.1661e-01],\n",
      "        [-3.0127e-01],\n",
      "        [ 1.9357e-02],\n",
      "        [-2.5576e-01],\n",
      "        [-5.1846e-01],\n",
      "        [-1.7484e-01],\n",
      "        [-6.1662e-03],\n",
      "        [ 1.2178e-01],\n",
      "        [ 1.6695e-01],\n",
      "        [ 1.1907e-01],\n",
      "        [ 1.3048e-01],\n",
      "        [ 7.9261e-02],\n",
      "        [-4.8427e-02],\n",
      "        [-4.5098e-02],\n",
      "        [-8.0507e-02],\n",
      "        [-1.0129e-01],\n",
      "        [-2.6127e-01],\n",
      "        [-1.4652e-01],\n",
      "        [ 2.1131e-01],\n",
      "        [-7.9406e-02],\n",
      "        [-8.1306e-02],\n",
      "        [-1.7458e-02],\n",
      "        [-2.6842e-01],\n",
      "        [-3.4451e-01],\n",
      "        [-2.4236e-01],\n",
      "        [-2.8491e-01],\n",
      "        [-9.3735e-02],\n",
      "        [-1.5662e-02],\n",
      "        [-3.0428e-01],\n",
      "        [-2.9802e-01],\n",
      "        [ 2.4815e-01],\n",
      "        [ 3.1116e-02],\n",
      "        [-3.2064e-02],\n",
      "        [ 4.0725e-02],\n",
      "        [ 1.0423e-01],\n",
      "        [-7.3554e-02],\n",
      "        [ 7.4543e-02],\n",
      "        [ 8.3884e-02],\n",
      "        [ 1.8628e-01],\n",
      "        [ 8.7958e-02],\n",
      "        [-1.4251e-02],\n",
      "        [ 6.1033e-02],\n",
      "        [-1.0121e-01],\n",
      "        [-2.3872e-02],\n",
      "        [-8.4621e-02],\n",
      "        [ 3.5542e-02],\n",
      "        [ 5.2578e-02],\n",
      "        [ 3.6848e-02],\n",
      "        [-5.8156e-02],\n",
      "        [ 5.3637e-01],\n",
      "        [ 6.3496e-01],\n",
      "        [ 2.0616e-02],\n",
      "        [ 6.1600e-01],\n",
      "        [ 2.8672e-01],\n",
      "        [-3.3100e-02],\n",
      "        [-3.7941e-01],\n",
      "        [-4.4630e-01],\n",
      "        [-4.0634e-02],\n",
      "        [ 1.9368e-01],\n",
      "        [ 6.7413e-03],\n",
      "        [ 1.7843e-02],\n",
      "        [ 5.5947e-02],\n",
      "        [-3.6213e-01],\n",
      "        [-4.6131e-01],\n",
      "        [-2.7620e-01],\n",
      "        [-9.6805e-02],\n",
      "        [ 1.2176e-01],\n",
      "        [ 2.9277e-01],\n",
      "        [ 1.3510e-01],\n",
      "        [ 3.0847e-02],\n",
      "        [-1.0804e-02],\n",
      "        [ 2.1274e-01],\n",
      "        [ 2.1132e-01],\n",
      "        [ 1.5890e-01],\n",
      "        [ 8.6468e-02],\n",
      "        [-3.6455e-02],\n",
      "        [-8.4692e-02],\n",
      "        [-5.7794e-02],\n",
      "        [ 9.1884e-02],\n",
      "        [ 9.9564e-02],\n",
      "        [ 8.3796e-02],\n",
      "        [ 1.2559e-01],\n",
      "        [-5.1942e-01],\n",
      "        [-5.5409e-02],\n",
      "        [-5.0400e-02],\n",
      "        [-1.1654e-01],\n",
      "        [ 4.9267e-01],\n",
      "        [ 1.5779e-01],\n",
      "        [ 1.1937e-01],\n",
      "        [ 9.5787e-02],\n",
      "        [ 1.1416e-01],\n",
      "        [-2.0428e-02],\n",
      "        [ 9.3710e-02],\n",
      "        [ 7.1045e-02],\n",
      "        [-1.1041e-01],\n",
      "        [ 1.8662e-02],\n",
      "        [-2.1974e-02],\n",
      "        [ 3.5211e-02],\n",
      "        [-2.8727e-02],\n",
      "        [ 5.6295e-02],\n",
      "        [ 7.5913e-03],\n",
      "        [ 4.2591e-03],\n",
      "        [ 1.9243e-01],\n",
      "        [ 3.3005e-01],\n",
      "        [ 3.6272e-01],\n",
      "        [ 5.3348e-02],\n",
      "        [-1.5293e-01],\n",
      "        [-2.5114e-01],\n",
      "        [-1.6079e-01],\n",
      "        [-1.3177e-01],\n",
      "        [ 6.7181e-01],\n",
      "        [ 1.0273e-01],\n",
      "        [ 4.8962e-02],\n",
      "        [ 5.7840e-01],\n",
      "        [-3.1073e-02],\n",
      "        [-1.1818e-01],\n",
      "        [-1.4465e-01],\n",
      "        [-5.5674e-02],\n",
      "        [ 4.0408e-02],\n",
      "        [-2.2438e-01],\n",
      "        [-5.6157e-02],\n",
      "        [-4.0270e-02],\n",
      "        [-7.6566e-02],\n",
      "        [ 2.9535e-01],\n",
      "        [ 2.6357e-01],\n",
      "        [ 1.5430e-01],\n",
      "        [-1.1624e-02],\n",
      "        [-4.9795e-02],\n",
      "        [-6.3339e-02],\n",
      "        [-2.7026e-02],\n",
      "        [ 4.0713e-01],\n",
      "        [-9.0144e-02],\n",
      "        [ 1.0761e-01],\n",
      "        [ 2.8704e-01],\n",
      "        [ 5.8528e-01],\n",
      "        [-1.3063e-01],\n",
      "        [ 1.6277e-01],\n",
      "        [ 3.9571e-01],\n",
      "        [ 1.4790e-01],\n",
      "        [-4.5969e-03],\n",
      "        [-7.3983e-04],\n",
      "        [ 3.2510e-02],\n",
      "        [-2.7286e-01],\n",
      "        [-5.3624e-01],\n",
      "        [-3.7059e-01],\n",
      "        [-2.3416e-01],\n",
      "        [-1.6884e-01],\n",
      "        [-5.7593e-02],\n",
      "        [-9.1119e-02],\n",
      "        [-4.0641e-01],\n",
      "        [-4.1376e-01],\n",
      "        [-3.0492e-01],\n",
      "        [-6.3316e-01],\n",
      "        [-3.8757e-01],\n",
      "        [-7.3111e-02],\n",
      "        [-3.9300e-01],\n",
      "        [-4.0115e-01],\n",
      "        [-4.5590e-01],\n",
      "        [ 5.7938e-02],\n",
      "        [-2.7890e-03],\n",
      "        [ 3.1982e-02],\n",
      "        [ 4.6452e-02],\n",
      "        [-2.5934e-01],\n",
      "        [-3.1571e-01],\n",
      "        [-1.3088e-01],\n",
      "        [-2.7087e-02],\n",
      "        [ 9.1214e-02],\n",
      "        [ 1.9527e-01],\n",
      "        [ 1.3652e-01],\n",
      "        [ 1.4344e-01],\n",
      "        [ 6.0516e-01],\n",
      "        [ 3.5583e-01],\n",
      "        [ 1.3317e-01],\n",
      "        [ 1.4308e-01],\n",
      "        [ 6.6451e-02],\n",
      "        [ 1.0072e-01],\n",
      "        [ 3.0075e-02],\n",
      "        [ 5.7524e-02],\n",
      "        [ 7.5693e-02],\n",
      "        [-5.7848e-02],\n",
      "        [ 6.9084e-03],\n",
      "        [ 3.4925e-02],\n",
      "        [ 5.4952e-02],\n",
      "        [-4.4302e-02],\n",
      "        [ 1.4987e-01],\n",
      "        [ 6.6633e-02],\n",
      "        [-8.6903e-02],\n",
      "        [-1.1233e-01],\n",
      "        [ 2.2094e-03],\n",
      "        [ 1.9931e-02],\n",
      "        [ 1.7856e-01],\n",
      "        [-2.2291e-01],\n",
      "        [-1.9002e-01],\n",
      "        [-2.5302e-01],\n",
      "        [ 2.7542e-01],\n",
      "        [ 1.0548e-01],\n",
      "        [ 1.7696e-01],\n",
      "        [ 1.6366e-01],\n",
      "        [-1.8705e-02],\n",
      "        [-1.0857e-01],\n",
      "        [-3.3002e-01],\n",
      "        [-3.4853e-01],\n",
      "        [-2.1420e-01],\n",
      "        [-5.1512e-01],\n",
      "        [-2.0206e-01],\n",
      "        [-2.9509e-01],\n",
      "        [ 8.3710e-02],\n",
      "        [ 1.6327e-01],\n",
      "        [ 1.1915e-01],\n",
      "        [ 1.0749e-01],\n",
      "        [ 9.9250e-02],\n",
      "        [-3.0809e-02],\n",
      "        [-7.7945e-02],\n",
      "        [-6.6003e-02],\n",
      "        [-1.3361e-02],\n",
      "        [-2.6742e-01],\n",
      "        [-1.8124e-01],\n",
      "        [-6.8243e-02],\n",
      "        [ 1.0953e-01],\n",
      "        [-1.0022e-01],\n",
      "        [-1.3641e-02],\n",
      "        [-1.1000e-01],\n",
      "        [-9.3219e-02],\n",
      "        [-2.7426e-01],\n",
      "        [-3.1025e-01],\n",
      "        [-3.1621e-01],\n",
      "        [-3.0391e-02],\n",
      "        [-2.9879e-01],\n",
      "        [-3.0361e-01],\n",
      "        [-9.0132e-02],\n",
      "        [ 4.3883e-02],\n",
      "        [-1.9199e-02],\n",
      "        [ 2.6137e-03],\n",
      "        [-6.2615e-02],\n",
      "        [ 3.9223e-03],\n",
      "        [ 5.7639e-02],\n",
      "        [ 5.6557e-02],\n",
      "        [ 2.8791e-02],\n",
      "        [ 1.9319e-01],\n",
      "        [-2.0457e-02],\n",
      "        [ 5.3594e-02],\n",
      "        [-2.3955e-01],\n",
      "        [-4.0233e-02],\n",
      "        [-5.5592e-02],\n",
      "        [-1.5242e-02],\n",
      "        [ 7.3421e-02],\n",
      "        [ 2.7812e-02],\n",
      "        [-5.5184e-02],\n",
      "        [ 5.2318e-01],\n",
      "        [ 1.0865e-01],\n",
      "        [-1.6152e-02],\n",
      "        [ 6.0800e-01],\n",
      "        [ 2.7575e-01],\n",
      "        [ 6.2338e-01],\n",
      "        [-2.9482e-01],\n",
      "        [-4.3807e-01],\n",
      "        [-9.3532e-02],\n",
      "        [-3.7700e-03],\n",
      "        [ 1.1439e-01],\n",
      "        [-4.1600e-04],\n",
      "        [ 5.3716e-02],\n",
      "        [ 1.0459e-01],\n",
      "        [-6.0935e-01],\n",
      "        [-2.3403e-01],\n",
      "        [-1.1417e-01],\n",
      "        [-3.8800e-01],\n",
      "        [ 3.8990e-01],\n",
      "        [ 1.3517e-01],\n",
      "        [ 3.6491e-03],\n",
      "        [-5.9409e-02],\n",
      "        [-8.7836e-03],\n",
      "        [ 2.4916e-01],\n",
      "        [ 1.4598e-01],\n",
      "        [ 7.0462e-02],\n",
      "        [-4.5997e-02],\n",
      "        [-1.0326e-01],\n",
      "        [-6.1119e-02],\n",
      "        [-2.1094e-02],\n",
      "        [ 7.6903e-02],\n",
      "        [ 9.0102e-02],\n",
      "        [ 1.1350e-01],\n",
      "        [ 5.4453e-02],\n",
      "        [-2.5732e-01],\n",
      "        [-1.7964e-02],\n",
      "        [-1.0441e-01],\n",
      "        [-3.9692e-01],\n",
      "        [ 2.7537e-01],\n",
      "        [ 7.4838e-02],\n",
      "        [ 8.7111e-02],\n",
      "        [ 5.9427e-02],\n",
      "        [ 3.1508e-02],\n",
      "        [ 7.0764e-02],\n",
      "        [ 5.5073e-02],\n",
      "        [-1.0620e-01],\n",
      "        [-9.6299e-02],\n",
      "        [ 4.4788e-03],\n",
      "        [ 1.1598e-03],\n",
      "        [ 5.9496e-02],\n",
      "        [-2.8930e-02],\n",
      "        [ 2.8863e-02],\n",
      "        [-2.0371e-02],\n",
      "        [-3.1859e-03],\n",
      "        [ 2.9766e-01],\n",
      "        [ 3.7705e-01],\n",
      "        [ 3.1391e-02],\n",
      "        [ 6.2770e-02],\n",
      "        [-3.3615e-01],\n",
      "        [-1.6067e-01],\n",
      "        [-1.4580e-01],\n",
      "        [-7.5945e-02],\n",
      "        [ 3.5115e-01],\n",
      "        [-1.2321e-02],\n",
      "        [ 5.6700e-01],\n",
      "        [ 9.9920e-02],\n",
      "        [-5.0979e-02],\n",
      "        [-1.4408e-01],\n",
      "        [-9.8924e-02],\n",
      "        [ 6.4247e-02],\n",
      "        [-7.6969e-02],\n",
      "        [-1.0437e-01],\n",
      "        [-5.6952e-02],\n",
      "        [-1.6420e-01],\n",
      "        [ 3.4168e-01],\n",
      "        [ 2.6382e-01],\n",
      "        [ 1.2089e-01],\n",
      "        [ 7.0995e-01],\n",
      "        [-4.4452e-02],\n",
      "        [-7.3913e-02],\n",
      "        [-5.5895e-02],\n",
      "        [-1.3195e-02],\n",
      "        [ 7.3444e-02],\n",
      "        [ 5.9060e-02],\n",
      "        [ 2.8446e-01],\n",
      "        [ 2.7132e-01],\n",
      "        [ 1.0363e-01],\n",
      "        [ 1.4073e-01],\n",
      "        [ 3.5513e-01],\n",
      "        [ 5.8986e-02],\n",
      "        [ 1.3038e-01],\n",
      "        [-8.3930e-03],\n",
      "        [-9.2017e-03],\n",
      "        [ 9.0489e-03],\n",
      "        [-6.0410e-01],\n",
      "        [-3.6317e-01],\n",
      "        [-2.3167e-01],\n",
      "        [-2.8602e-01],\n",
      "        [ 9.0602e-03],\n",
      "        [-1.2656e-01],\n",
      "        [-3.9864e-01],\n",
      "        [-1.5644e-01],\n",
      "        [-3.3496e-01],\n",
      "        [-6.0983e-01],\n",
      "        [-4.0126e-01],\n",
      "        [-3.6500e-01],\n",
      "        [-1.8049e-01],\n",
      "        [-4.3905e-01],\n",
      "        [-4.9250e-01],\n",
      "        [-2.5813e-01],\n",
      "        [-1.7028e-02],\n",
      "        [ 2.3939e-02],\n",
      "        [ 4.5043e-02],\n",
      "        [ 1.6292e-01]], grad_fn=<AddmmBackward>)\n"
     ]
    },
    {
     "name": "stdout",
     "output_type": "stream",
     "text": [
      "ipdb> torch.diag(pdd[:,0,:,-1])\n",
      "tensor([-11.1998, -11.1998, -11.1998, -11.1998, -11.1998, -11.1998, -11.1998,\n",
      "        -11.1998, -11.1998, -11.1998, -11.1998, -11.1998, -11.1998, -11.1998,\n",
      "        -11.1998, -11.1998, -11.1998, -11.1998, -11.1998, -11.1998, -11.1998,\n",
      "        -11.1998, -11.1998, -11.1998, -11.1998, -11.1998, -11.1998, -11.1998,\n",
      "        -11.1998, -11.1998, -11.1998, -11.1998, -11.1642, -11.1998, -11.1998,\n",
      "        -11.1998, -11.1998, -11.1998, -11.1998, -11.1998, -11.1998, -11.1998,\n",
      "        -11.1998, -11.1998, -11.1998, -11.1998, -11.1998, -11.1998, -11.1642,\n",
      "        -11.1642, -11.1642, -11.1642, -11.1998, -11.1998, -11.1998, -11.1998,\n",
      "        -11.1998, -11.1998, -11.1998, -11.1998, -11.1998, -11.1998, -11.1998,\n",
      "        -11.1998, -11.1998, -11.1998, -11.1998, -11.1998, -11.1998, -11.1998,\n",
      "        -11.1998, -11.1998, -11.1998, -11.1998, -11.1998, -11.1998, -11.1998,\n",
      "        -11.1998, -11.1998, -11.1998, -11.1998, -11.1998, -11.1998, -11.1998,\n",
      "        -11.1998, -11.1998, -11.1998, -11.1998, -11.1998, -11.1998, -11.1998,\n",
      "        -11.1998, -11.1998, -11.1998, -11.1998, -11.1998, -11.1642, -11.1642,\n",
      "        -11.1642, -11.1642, -11.1998, -11.1998, -11.1998, -11.1998, -11.1998,\n",
      "        -11.1998, -11.1998, -11.1998, -11.1998, -11.1998, -11.1998, -11.1998,\n",
      "        -11.1998, -11.1998, -11.1998, -11.1998, -11.1998, -11.1998, -11.1998,\n",
      "        -11.1998, -11.1998, -11.1998, -11.1998, -11.1998, -11.1998, -11.1998,\n",
      "        -11.1998, -11.1998, -11.1998, -11.1998, -11.1998, -11.1998, -11.1642,\n",
      "        -11.1642, -11.1642, -11.1642, -11.1998, -11.1998, -11.1998, -11.1998,\n",
      "        -11.1998, -11.1998, -11.1998, -11.1998, -11.1998, -11.1998, -11.1998,\n",
      "        -11.1998, -11.1998, -11.1998, -11.1998, -11.1998, -11.1998, -11.1998,\n",
      "        -11.1998, -11.1998, -11.1642, -11.1642, -11.1642, -11.1642, -11.1998,\n",
      "        -11.1998, -11.1998, -11.1998, -11.1998, -11.1998, -11.1998, -11.1998,\n",
      "        -11.1998, -11.1998, -11.1998, -11.1998, -11.1998, -11.1998, -11.1998,\n",
      "        -11.1998, -11.1998, -11.1998, -11.1998, -11.1998, -11.1998, -11.1998,\n",
      "        -11.1998, -11.1998, -11.1998, -11.1998, -11.1998, -11.1998, -11.1998,\n",
      "        -11.1998, -11.1998, -11.1998, -11.1998, -11.1998, -11.1998, -11.1998,\n",
      "        -11.1998, -11.1998, -11.1998, -11.1998, -11.1998, -11.1998, -11.1998,\n",
      "        -11.1998, -11.1998, -11.1998, -11.1998, -11.1998, -11.1998, -11.1998,\n",
      "        -11.1998, -11.1998, -11.1998, -11.1998, -11.1998, -11.1998, -11.1998,\n",
      "        -11.1998, -11.1998, -11.1998, -11.1998, -11.1998, -11.1998, -11.1998,\n",
      "        -11.1998, -11.1998, -11.1998, -11.1998, -11.1998, -11.1998, -11.1998,\n",
      "        -11.1998, -11.1998, -11.1998, -11.1998, -11.1998, -11.1998, -11.1998,\n",
      "        -11.1998, -11.1998, -11.1998, -11.1998, -11.1998, -11.1998, -11.1998,\n",
      "        -11.1998, -11.1998, -11.1998, -11.1642, -11.1642, -11.1642, -11.1642,\n",
      "        -11.1998, -11.1998, -11.1998, -11.1998, -11.1998, -11.1998, -11.1998,\n",
      "        -11.1998, -11.1998, -11.1998, -11.1998, -11.1998, -11.1998, -11.1998,\n",
      "        -11.1998, -11.1998, -11.1998, -11.1998, -11.1998, -11.1998, -11.1998,\n",
      "        -11.1998, -11.1998, -11.1998, -11.1998, -11.1998, -11.1998, -11.1998,\n",
      "        -11.1998, -11.1998, -11.1998, -11.1998, -11.1998, -11.1998, -11.1998,\n",
      "        -11.1998, -11.1998, -11.1998, -11.1998, -11.1998, -11.1998, -11.1998,\n",
      "        -11.1998, -11.1998, -11.1642, -11.1642, -11.1642, -11.1642, -11.1998,\n",
      "        -11.1998, -11.1998, -11.1998, -11.1998, -11.1998, -11.1998, -11.1998,\n",
      "        -11.1998, -11.1998, -11.1998, -11.1998, -11.1998, -11.1998, -11.1998,\n",
      "        -11.1998, -11.1998, -11.1998, -11.1998, -11.1998, -11.1998, -11.1998,\n",
      "        -11.1998, -11.1998, -11.1998, -11.1998, -11.1998, -11.1998, -11.1998,\n",
      "        -11.1998, -11.1998, -11.1998, -11.1642, -11.1642, -11.1642, -11.1642,\n",
      "        -11.1998, -11.1998, -11.1998, -11.1998, -11.1998, -11.1998, -11.1998,\n",
      "        -11.1998, -11.1998, -11.1998, -11.1998, -11.1998, -11.1998, -11.1998,\n",
      "        -11.1998, -11.1998, -11.1998, -11.1998, -11.1998, -11.1998, -11.1642,\n",
      "        -11.1642, -11.1642, -11.1642, -11.1998, -11.1998, -11.1998, -11.1998,\n",
      "        -11.1998, -11.1998, -11.1998, -11.1998, -11.1998, -11.1998, -11.1998,\n",
      "        -11.1998, -11.1998, -11.1998, -11.1998, -11.1998, -11.1998, -11.1998,\n",
      "        -11.1998, -11.1998, -11.1998, -11.1998, -11.1998, -11.1998, -11.1998,\n",
      "        -11.1998, -11.1998, -11.1998, -11.1998, -11.1998, -11.1998, -11.1998,\n",
      "        -11.1998, -11.1998, -11.1998, -11.1998, -11.1998, -11.1998, -11.1998,\n",
      "        -11.1998, -11.1998, -11.1998, -11.1998, -11.1998, -11.1998, -11.1998,\n",
      "        -11.1998, -11.1998, -11.1998, -11.1998, -11.1998, -11.1998, -11.1998,\n",
      "        -11.1998, -11.1998, -11.1998, -11.1998, -11.1998, -11.1998, -11.1998,\n",
      "        -11.1998, -11.1998, -11.1998, -11.1998, -11.1998, -11.1998, -11.1998,\n",
      "        -11.1998, -11.1998, -11.1998, -11.1998, -11.1998, -11.1998, -11.1998,\n",
      "        -11.1998, -11.1998, -11.1998, -11.1998, -11.1998, -11.1998, -11.1998,\n",
      "        -11.1998, -11.1998, -11.1998, -11.1998, -11.1998, -11.1998, -11.1998,\n",
      "        -11.1642, -11.1642, -11.1642, -11.1642, -11.1998, -11.1998, -11.1998,\n",
      "        -11.1998, -11.1998, -11.1998, -11.1998, -11.1998, -11.1998, -11.1998,\n",
      "        -11.1998, -11.1998, -11.1998, -11.1998, -11.1998, -11.1998, -11.1998,\n",
      "        -11.1998, -11.1998, -11.1998, -11.1998, -11.1998, -11.1998, -11.1998,\n",
      "        -11.1998, -11.1998, -11.1998, -11.1998, -11.1998, -11.1998, -11.1998,\n",
      "        -11.1998, -11.1998, -11.1998, -11.1998, -11.1998, -11.1998, -11.1998,\n",
      "        -11.1998, -11.1998, -11.1998, -11.1998, -11.1998, -11.1998, -11.1642,\n",
      "        -11.1642, -11.1642, -11.1998, -11.1998, -11.1998, -11.1998, -11.1998,\n",
      "        -11.1998, -11.1998, -11.1998, -11.1998, -11.1998, -11.1998, -11.1998,\n",
      "        -11.1998], grad_fn=<DiagBackward>)\n",
      "ipdb> torch.diag(pdd[:,0,:,2])\n",
      "tensor([0.3732, 0.3732, 0.3732, 0.3732, 0.3732, 0.3732, 0.3732, 0.3732, 0.3732,\n",
      "        0.3732, 0.3732, 0.3732, 0.3732, 0.3732, 0.3732, 0.3732, 0.3732, 0.3732,\n",
      "        0.3732, 0.3732, 0.3732, 0.3732, 0.3732, 0.3732, 0.3732, 0.3732, 0.3732,\n",
      "        0.3732, 0.3732, 0.3732, 0.3732, 0.3732, 0.3078, 0.3732, 0.3732, 0.3732,\n",
      "        0.3732, 0.3732, 0.3732, 0.3732, 0.3732, 0.3732, 0.3732, 0.3732, 0.3732,\n",
      "        0.3732, 0.3732, 0.3732, 0.3078, 0.3078, 0.3078, 0.3078, 0.3732, 0.3732,\n",
      "        0.3732, 0.3732, 0.3732, 0.3732, 0.3732, 0.3732, 0.3732, 0.3732, 0.3732,\n",
      "        0.3732, 0.3732, 0.3732, 0.3732, 0.3732, 0.3732, 0.3732, 0.3732, 0.3732,\n",
      "        0.3732, 0.3732, 0.3732, 0.3732, 0.3732, 0.3732, 0.3732, 0.3732, 0.3732,\n",
      "        0.3732, 0.3732, 0.3732, 0.3732, 0.3732, 0.3732, 0.3732, 0.3732, 0.3732,\n",
      "        0.3732, 0.3732, 0.3732, 0.3732, 0.3732, 0.3732, 0.3078, 0.3078, 0.3078,\n",
      "        0.3078, 0.3732, 0.3732, 0.3732, 0.3732, 0.3732, 0.3732, 0.3732, 0.3732,\n",
      "        0.3732, 0.3732, 0.3732, 0.3732, 0.3732, 0.3732, 0.3732, 0.3732, 0.3732,\n",
      "        0.3732, 0.3732, 0.3732, 0.3732, 0.3732, 0.3732, 0.3732, 0.3732, 0.3732,\n",
      "        0.3732, 0.3732, 0.3732, 0.3732, 0.3732, 0.3732, 0.3078, 0.3078, 0.3078,\n",
      "        0.3078, 0.3732, 0.3732, 0.3732, 0.3732, 0.3732, 0.3732, 0.3732, 0.3732,\n",
      "        0.3732, 0.3732, 0.3732, 0.3732, 0.3732, 0.3732, 0.3732, 0.3732, 0.3732,\n",
      "        0.3732, 0.3732, 0.3732, 0.3078, 0.3078, 0.3078, 0.3078, 0.3732, 0.3732,\n",
      "        0.3732, 0.3732, 0.3732, 0.3732, 0.3732, 0.3732, 0.3732, 0.3732, 0.3732,\n",
      "        0.3732, 0.3732, 0.3732, 0.3732, 0.3732, 0.3732, 0.3732, 0.3732, 0.3732,\n",
      "        0.3732, 0.3732, 0.3732, 0.3732, 0.3732, 0.3732, 0.3732, 0.3732, 0.3732,\n",
      "        0.3732, 0.3732, 0.3732, 0.3732, 0.3732, 0.3732, 0.3732, 0.3732, 0.3732,\n",
      "        0.3732, 0.3732, 0.3732, 0.3732, 0.3732, 0.3732, 0.3732, 0.3732, 0.3732,\n",
      "        0.3732, 0.3732, 0.3732, 0.3732, 0.3732, 0.3732, 0.3732, 0.3732, 0.3732,\n",
      "        0.3732, 0.3732, 0.3732, 0.3732, 0.3732, 0.3732, 0.3732, 0.3732, 0.3732,\n",
      "        0.3732, 0.3732, 0.3732, 0.3732, 0.3732, 0.3732, 0.3732, 0.3732, 0.3732,\n",
      "        0.3732, 0.3732, 0.3732, 0.3732, 0.3732, 0.3732, 0.3732, 0.3732, 0.3732,\n",
      "        0.3732, 0.3732, 0.3732, 0.3732, 0.3732, 0.3078, 0.3078, 0.3078, 0.3078,\n",
      "        0.3732, 0.3732, 0.3732, 0.3732, 0.3732, 0.3732, 0.3732, 0.3732, 0.3732,\n",
      "        0.3732, 0.3732, 0.3732, 0.3732, 0.3732, 0.3732, 0.3732, 0.3732, 0.3732,\n",
      "        0.3732, 0.3732, 0.3732, 0.3732, 0.3732, 0.3732, 0.3732, 0.3732, 0.3732,\n",
      "        0.3732, 0.3732, 0.3732, 0.3732, 0.3732, 0.3732, 0.3732, 0.3732, 0.3732,\n",
      "        0.3732, 0.3732, 0.3732, 0.3732, 0.3732, 0.3732, 0.3732, 0.3732, 0.3078,\n",
      "        0.3078, 0.3078, 0.3078, 0.3732, 0.3732, 0.3732, 0.3732, 0.3732, 0.3732,\n",
      "        0.3732, 0.3732, 0.3732, 0.3732, 0.3732, 0.3732, 0.3732, 0.3732, 0.3732,\n",
      "        0.3732, 0.3732, 0.3732, 0.3732, 0.3732, 0.3732, 0.3732, 0.3732, 0.3732,\n",
      "        0.3732, 0.3732, 0.3732, 0.3732, 0.3732, 0.3732, 0.3732, 0.3732, 0.3078,\n",
      "        0.3078, 0.3078, 0.3078, 0.3732, 0.3732, 0.3732, 0.3732, 0.3732, 0.3732,\n",
      "        0.3732, 0.3732, 0.3732, 0.3732, 0.3732, 0.3732, 0.3732, 0.3732, 0.3732,\n",
      "        0.3732, 0.3732, 0.3732, 0.3732, 0.3732, 0.3078, 0.3078, 0.3078, 0.3078,\n",
      "        0.3732, 0.3732, 0.3732, 0.3732, 0.3732, 0.3732, 0.3732, 0.3732, 0.3732,\n",
      "        0.3732, 0.3732, 0.3732, 0.3732, 0.3732, 0.3732, 0.3732, 0.3732, 0.3732,\n",
      "        0.3732, 0.3732, 0.3732, 0.3732, 0.3732, 0.3732, 0.3732, 0.3732, 0.3732,\n",
      "        0.3732, 0.3732, 0.3732, 0.3732, 0.3732, 0.3732, 0.3732, 0.3732, 0.3732,\n",
      "        0.3732, 0.3732, 0.3732, 0.3732, 0.3732, 0.3732, 0.3732, 0.3732, 0.3732,\n",
      "        0.3732, 0.3732, 0.3732, 0.3732, 0.3732, 0.3732, 0.3732, 0.3732, 0.3732,\n",
      "        0.3732, 0.3732, 0.3732, 0.3732, 0.3732, 0.3732, 0.3732, 0.3732, 0.3732,\n",
      "        0.3732, 0.3732, 0.3732, 0.3732, 0.3732, 0.3732, 0.3732, 0.3732, 0.3732,\n",
      "        0.3732, 0.3732, 0.3732, 0.3732, 0.3732, 0.3732, 0.3732, 0.3732, 0.3732,\n",
      "        0.3732, 0.3732, 0.3732, 0.3732, 0.3732, 0.3732, 0.3732, 0.3078, 0.3078,\n",
      "        0.3078, 0.3078, 0.3732, 0.3732, 0.3732, 0.3732, 0.3732, 0.3732, 0.3732,\n",
      "        0.3732, 0.3732, 0.3732, 0.3732, 0.3732, 0.3732, 0.3732, 0.3732, 0.3732,\n",
      "        0.3732, 0.3732, 0.3732, 0.3732, 0.3732, 0.3732, 0.3732, 0.3732, 0.3732,\n",
      "        0.3732, 0.3732, 0.3732, 0.3732, 0.3732, 0.3732, 0.3732, 0.3732, 0.3732,\n",
      "        0.3732, 0.3732, 0.3732, 0.3732, 0.3732, 0.3732, 0.3732, 0.3732, 0.3732,\n",
      "        0.3732, 0.3078, 0.3078, 0.3078, 0.3732, 0.3732, 0.3732, 0.3732, 0.3732,\n",
      "        0.3732, 0.3732, 0.3732, 0.3732, 0.3732, 0.3732, 0.3732, 0.3732],\n",
      "       grad_fn=<DiagBackward>)\n"
     ]
    },
    {
     "name": "stdout",
     "output_type": "stream",
     "text": [
      "ipdb> torch.diag(pdd[:,0,:,3])\n",
      "tensor([0.2844, 0.2844, 0.2844, 0.2844, 0.2844, 0.2844, 0.2844, 0.2844, 0.2844,\n",
      "        0.2844, 0.2844, 0.2844, 0.2844, 0.2844, 0.2844, 0.2844, 0.2844, 0.2844,\n",
      "        0.2844, 0.2844, 0.2844, 0.2844, 0.2844, 0.2844, 0.2844, 0.2844, 0.2844,\n",
      "        0.2844, 0.2844, 0.2844, 0.2844, 0.2844, 0.1933, 0.2844, 0.2844, 0.2844,\n",
      "        0.2844, 0.2844, 0.2844, 0.2844, 0.2844, 0.2844, 0.2844, 0.2844, 0.2844,\n",
      "        0.2844, 0.2844, 0.2844, 0.1933, 0.1933, 0.1933, 0.1933, 0.2844, 0.2844,\n",
      "        0.2844, 0.2844, 0.2844, 0.2844, 0.2844, 0.2844, 0.2844, 0.2844, 0.2844,\n",
      "        0.2844, 0.2844, 0.2844, 0.2844, 0.2844, 0.2844, 0.2844, 0.2844, 0.2844,\n",
      "        0.2844, 0.2844, 0.2844, 0.2844, 0.2844, 0.2844, 0.2844, 0.2844, 0.2844,\n",
      "        0.2844, 0.2844, 0.2844, 0.2844, 0.2844, 0.2844, 0.2844, 0.2844, 0.2844,\n",
      "        0.2844, 0.2844, 0.2844, 0.2844, 0.2844, 0.2844, 0.1933, 0.1933, 0.1933,\n",
      "        0.1933, 0.2844, 0.2844, 0.2844, 0.2844, 0.2844, 0.2844, 0.2844, 0.2844,\n",
      "        0.2844, 0.2844, 0.2844, 0.2844, 0.2844, 0.2844, 0.2844, 0.2844, 0.2844,\n",
      "        0.2844, 0.2844, 0.2844, 0.2844, 0.2844, 0.2844, 0.2844, 0.2844, 0.2844,\n",
      "        0.2844, 0.2844, 0.2844, 0.2844, 0.2844, 0.2844, 0.1933, 0.1933, 0.1933,\n",
      "        0.1933, 0.2844, 0.2844, 0.2844, 0.2844, 0.2844, 0.2844, 0.2844, 0.2844,\n",
      "        0.2844, 0.2844, 0.2844, 0.2844, 0.2844, 0.2844, 0.2844, 0.2844, 0.2844,\n",
      "        0.2844, 0.2844, 0.2844, 0.1933, 0.1933, 0.1933, 0.1933, 0.2844, 0.2844,\n",
      "        0.2844, 0.2844, 0.2844, 0.2844, 0.2844, 0.2844, 0.2844, 0.2844, 0.2844,\n",
      "        0.2844, 0.2844, 0.2844, 0.2844, 0.2844, 0.2844, 0.2844, 0.2844, 0.2844,\n",
      "        0.2844, 0.2844, 0.2844, 0.2844, 0.2844, 0.2844, 0.2844, 0.2844, 0.2844,\n",
      "        0.2844, 0.2844, 0.2844, 0.2844, 0.2844, 0.2844, 0.2844, 0.2844, 0.2844,\n",
      "        0.2844, 0.2844, 0.2844, 0.2844, 0.2844, 0.2844, 0.2844, 0.2844, 0.2844,\n",
      "        0.2844, 0.2844, 0.2844, 0.2844, 0.2844, 0.2844, 0.2844, 0.2844, 0.2844,\n",
      "        0.2844, 0.2844, 0.2844, 0.2844, 0.2844, 0.2844, 0.2844, 0.2844, 0.2844,\n",
      "        0.2844, 0.2844, 0.2844, 0.2844, 0.2844, 0.2844, 0.2844, 0.2844, 0.2844,\n",
      "        0.2844, 0.2844, 0.2844, 0.2844, 0.2844, 0.2844, 0.2844, 0.2844, 0.2844,\n",
      "        0.2844, 0.2844, 0.2844, 0.2844, 0.2844, 0.1933, 0.1933, 0.1933, 0.1933,\n",
      "        0.2844, 0.2844, 0.2844, 0.2844, 0.2844, 0.2844, 0.2844, 0.2844, 0.2844,\n",
      "        0.2844, 0.2844, 0.2844, 0.2844, 0.2844, 0.2844, 0.2844, 0.2844, 0.2844,\n",
      "        0.2844, 0.2844, 0.2844, 0.2844, 0.2844, 0.2844, 0.2844, 0.2844, 0.2844,\n",
      "        0.2844, 0.2844, 0.2844, 0.2844, 0.2844, 0.2844, 0.2844, 0.2844, 0.2844,\n",
      "        0.2844, 0.2844, 0.2844, 0.2844, 0.2844, 0.2844, 0.2844, 0.2844, 0.1933,\n",
      "        0.1933, 0.1933, 0.1933, 0.2844, 0.2844, 0.2844, 0.2844, 0.2844, 0.2844,\n",
      "        0.2844, 0.2844, 0.2844, 0.2844, 0.2844, 0.2844, 0.2844, 0.2844, 0.2844,\n",
      "        0.2844, 0.2844, 0.2844, 0.2844, 0.2844, 0.2844, 0.2844, 0.2844, 0.2844,\n",
      "        0.2844, 0.2844, 0.2844, 0.2844, 0.2844, 0.2844, 0.2844, 0.2844, 0.1933,\n",
      "        0.1933, 0.1933, 0.1933, 0.2844, 0.2844, 0.2844, 0.2844, 0.2844, 0.2844,\n",
      "        0.2844, 0.2844, 0.2844, 0.2844, 0.2844, 0.2844, 0.2844, 0.2844, 0.2844,\n",
      "        0.2844, 0.2844, 0.2844, 0.2844, 0.2844, 0.1933, 0.1933, 0.1933, 0.1933,\n",
      "        0.2844, 0.2844, 0.2844, 0.2844, 0.2844, 0.2844, 0.2844, 0.2844, 0.2844,\n",
      "        0.2844, 0.2844, 0.2844, 0.2844, 0.2844, 0.2844, 0.2844, 0.2844, 0.2844,\n",
      "        0.2844, 0.2844, 0.2844, 0.2844, 0.2844, 0.2844, 0.2844, 0.2844, 0.2844,\n",
      "        0.2844, 0.2844, 0.2844, 0.2844, 0.2844, 0.2844, 0.2844, 0.2844, 0.2844,\n",
      "        0.2844, 0.2844, 0.2844, 0.2844, 0.2844, 0.2844, 0.2844, 0.2844, 0.2844,\n",
      "        0.2844, 0.2844, 0.2844, 0.2844, 0.2844, 0.2844, 0.2844, 0.2844, 0.2844,\n",
      "        0.2844, 0.2844, 0.2844, 0.2844, 0.2844, 0.2844, 0.2844, 0.2844, 0.2844,\n",
      "        0.2844, 0.2844, 0.2844, 0.2844, 0.2844, 0.2844, 0.2844, 0.2844, 0.2844,\n",
      "        0.2844, 0.2844, 0.2844, 0.2844, 0.2844, 0.2844, 0.2844, 0.2844, 0.2844,\n",
      "        0.2844, 0.2844, 0.2844, 0.2844, 0.2844, 0.2844, 0.2844, 0.1933, 0.1933,\n",
      "        0.1933, 0.1933, 0.2844, 0.2844, 0.2844, 0.2844, 0.2844, 0.2844, 0.2844,\n",
      "        0.2844, 0.2844, 0.2844, 0.2844, 0.2844, 0.2844, 0.2844, 0.2844, 0.2844,\n",
      "        0.2844, 0.2844, 0.2844, 0.2844, 0.2844, 0.2844, 0.2844, 0.2844, 0.2844,\n",
      "        0.2844, 0.2844, 0.2844, 0.2844, 0.2844, 0.2844, 0.2844, 0.2844, 0.2844,\n",
      "        0.2844, 0.2844, 0.2844, 0.2844, 0.2844, 0.2844, 0.2844, 0.2844, 0.2844,\n",
      "        0.2844, 0.1933, 0.1933, 0.1933, 0.2844, 0.2844, 0.2844, 0.2844, 0.2844,\n",
      "        0.2844, 0.2844, 0.2844, 0.2844, 0.2844, 0.2844, 0.2844, 0.2844],\n",
      "       grad_fn=<DiagBackward>)\n",
      "ipdb> torch.diag(pdd[:,0,:,4])\n",
      "tensor([0.7176, 0.7176, 0.7176, 0.7176, 0.7176, 0.7176, 0.7176, 0.7176, 0.7176,\n",
      "        0.7176, 0.7176, 0.7176, 0.7176, 0.7176, 0.7176, 0.7176, 0.7176, 0.7176,\n",
      "        0.7176, 0.7176, 0.7176, 0.7176, 0.7176, 0.7176, 0.7176, 0.7176, 0.7176,\n",
      "        0.7176, 0.7176, 0.7176, 0.7176, 0.7176, 0.7206, 0.7176, 0.7176, 0.7176,\n",
      "        0.7176, 0.7176, 0.7176, 0.7176, 0.7176, 0.7176, 0.7176, 0.7176, 0.7176,\n",
      "        0.7176, 0.7176, 0.7176, 0.7206, 0.7206, 0.7206, 0.7206, 0.7176, 0.7176,\n",
      "        0.7176, 0.7176, 0.7176, 0.7176, 0.7176, 0.7176, 0.7176, 0.7176, 0.7176,\n",
      "        0.7176, 0.7176, 0.7176, 0.7176, 0.7176, 0.7176, 0.7176, 0.7176, 0.7176,\n",
      "        0.7176, 0.7176, 0.7176, 0.7176, 0.7176, 0.7176, 0.7176, 0.7176, 0.7176,\n",
      "        0.7176, 0.7176, 0.7176, 0.7176, 0.7176, 0.7176, 0.7176, 0.7176, 0.7176,\n",
      "        0.7176, 0.7176, 0.7176, 0.7176, 0.7176, 0.7176, 0.7206, 0.7206, 0.7206,\n",
      "        0.7206, 0.7176, 0.7176, 0.7176, 0.7176, 0.7176, 0.7176, 0.7176, 0.7176,\n",
      "        0.7176, 0.7176, 0.7176, 0.7176, 0.7176, 0.7176, 0.7176, 0.7176, 0.7176,\n",
      "        0.7176, 0.7176, 0.7176, 0.7176, 0.7176, 0.7176, 0.7176, 0.7176, 0.7176,\n",
      "        0.7176, 0.7176, 0.7176, 0.7176, 0.7176, 0.7176, 0.7206, 0.7206, 0.7206,\n",
      "        0.7206, 0.7176, 0.7176, 0.7176, 0.7176, 0.7176, 0.7176, 0.7176, 0.7176,\n",
      "        0.7176, 0.7176, 0.7176, 0.7176, 0.7176, 0.7176, 0.7176, 0.7176, 0.7176,\n",
      "        0.7176, 0.7176, 0.7176, 0.7206, 0.7206, 0.7206, 0.7206, 0.7176, 0.7176,\n",
      "        0.7176, 0.7176, 0.7176, 0.7176, 0.7176, 0.7176, 0.7176, 0.7176, 0.7176,\n",
      "        0.7176, 0.7176, 0.7176, 0.7176, 0.7176, 0.7176, 0.7176, 0.7176, 0.7176,\n",
      "        0.7176, 0.7176, 0.7176, 0.7176, 0.7176, 0.7176, 0.7176, 0.7176, 0.7176,\n",
      "        0.7176, 0.7176, 0.7176, 0.7176, 0.7176, 0.7176, 0.7176, 0.7176, 0.7176,\n",
      "        0.7176, 0.7176, 0.7176, 0.7176, 0.7176, 0.7176, 0.7176, 0.7176, 0.7176,\n",
      "        0.7176, 0.7176, 0.7176, 0.7176, 0.7176, 0.7176, 0.7176, 0.7176, 0.7176,\n",
      "        0.7176, 0.7176, 0.7176, 0.7176, 0.7176, 0.7176, 0.7176, 0.7176, 0.7176,\n",
      "        0.7176, 0.7176, 0.7176, 0.7176, 0.7176, 0.7176, 0.7176, 0.7176, 0.7176,\n",
      "        0.7176, 0.7176, 0.7176, 0.7176, 0.7176, 0.7176, 0.7176, 0.7176, 0.7176,\n",
      "        0.7176, 0.7176, 0.7176, 0.7176, 0.7176, 0.7206, 0.7206, 0.7206, 0.7206,\n",
      "        0.7176, 0.7176, 0.7176, 0.7176, 0.7176, 0.7176, 0.7176, 0.7176, 0.7176,\n",
      "        0.7176, 0.7176, 0.7176, 0.7176, 0.7176, 0.7176, 0.7176, 0.7176, 0.7176,\n",
      "        0.7176, 0.7176, 0.7176, 0.7176, 0.7176, 0.7176, 0.7176, 0.7176, 0.7176,\n",
      "        0.7176, 0.7176, 0.7176, 0.7176, 0.7176, 0.7176, 0.7176, 0.7176, 0.7176,\n",
      "        0.7176, 0.7176, 0.7176, 0.7176, 0.7176, 0.7176, 0.7176, 0.7176, 0.7206,\n",
      "        0.7206, 0.7206, 0.7206, 0.7176, 0.7176, 0.7176, 0.7176, 0.7176, 0.7176,\n",
      "        0.7176, 0.7176, 0.7176, 0.7176, 0.7176, 0.7176, 0.7176, 0.7176, 0.7176,\n",
      "        0.7176, 0.7176, 0.7176, 0.7176, 0.7176, 0.7176, 0.7176, 0.7176, 0.7176,\n",
      "        0.7176, 0.7176, 0.7176, 0.7176, 0.7176, 0.7176, 0.7176, 0.7176, 0.7206,\n",
      "        0.7206, 0.7206, 0.7206, 0.7176, 0.7176, 0.7176, 0.7176, 0.7176, 0.7176,\n",
      "        0.7176, 0.7176, 0.7176, 0.7176, 0.7176, 0.7176, 0.7176, 0.7176, 0.7176,\n",
      "        0.7176, 0.7176, 0.7176, 0.7176, 0.7176, 0.7206, 0.7206, 0.7206, 0.7206,\n",
      "        0.7176, 0.7176, 0.7176, 0.7176, 0.7176, 0.7176, 0.7176, 0.7176, 0.7176,\n",
      "        0.7176, 0.7176, 0.7176, 0.7176, 0.7176, 0.7176, 0.7176, 0.7176, 0.7176,\n",
      "        0.7176, 0.7176, 0.7176, 0.7176, 0.7176, 0.7176, 0.7176, 0.7176, 0.7176,\n",
      "        0.7176, 0.7176, 0.7176, 0.7176, 0.7176, 0.7176, 0.7176, 0.7176, 0.7176,\n",
      "        0.7176, 0.7176, 0.7176, 0.7176, 0.7176, 0.7176, 0.7176, 0.7176, 0.7176,\n",
      "        0.7176, 0.7176, 0.7176, 0.7176, 0.7176, 0.7176, 0.7176, 0.7176, 0.7176,\n",
      "        0.7176, 0.7176, 0.7176, 0.7176, 0.7176, 0.7176, 0.7176, 0.7176, 0.7176,\n",
      "        0.7176, 0.7176, 0.7176, 0.7176, 0.7176, 0.7176, 0.7176, 0.7176, 0.7176,\n",
      "        0.7176, 0.7176, 0.7176, 0.7176, 0.7176, 0.7176, 0.7176, 0.7176, 0.7176,\n",
      "        0.7176, 0.7176, 0.7176, 0.7176, 0.7176, 0.7176, 0.7176, 0.7206, 0.7206,\n",
      "        0.7206, 0.7206, 0.7176, 0.7176, 0.7176, 0.7176, 0.7176, 0.7176, 0.7176,\n",
      "        0.7176, 0.7176, 0.7176, 0.7176, 0.7176, 0.7176, 0.7176, 0.7176, 0.7176,\n",
      "        0.7176, 0.7176, 0.7176, 0.7176, 0.7176, 0.7176, 0.7176, 0.7176, 0.7176,\n",
      "        0.7176, 0.7176, 0.7176, 0.7176, 0.7176, 0.7176, 0.7176, 0.7176, 0.7176,\n",
      "        0.7176, 0.7176, 0.7176, 0.7176, 0.7176, 0.7176, 0.7176, 0.7176, 0.7176,\n",
      "        0.7176, 0.7206, 0.7206, 0.7206, 0.7176, 0.7176, 0.7176, 0.7176, 0.7176,\n",
      "        0.7176, 0.7176, 0.7176, 0.7176, 0.7176, 0.7176, 0.7176, 0.7176],\n",
      "       grad_fn=<DiagBackward>)\n"
     ]
    },
    {
     "name": "stdout",
     "output_type": "stream",
     "text": [
      "ipdb> torch.diag(pdd[:,0,:,5])\n",
      "tensor([-0.1681, -0.1681, -0.1681, -0.1681, -0.1681, -0.1681, -0.1681, -0.1681,\n",
      "        -0.1681, -0.1681, -0.1681, -0.1681, -0.1681, -0.1681, -0.1681, -0.1681,\n",
      "        -0.1681, -0.1681, -0.1681, -0.1681, -0.1681, -0.1681, -0.1681, -0.1681,\n",
      "        -0.1681, -0.1681, -0.1681, -0.1681, -0.1681, -0.1681, -0.1681, -0.1681,\n",
      "        -0.1990, -0.1681, -0.1681, -0.1681, -0.1681, -0.1681, -0.1681, -0.1681,\n",
      "        -0.1681, -0.1681, -0.1681, -0.1681, -0.1681, -0.1681, -0.1681, -0.1681,\n",
      "        -0.1990, -0.1990, -0.1990, -0.1990, -0.1681, -0.1681, -0.1681, -0.1681,\n",
      "        -0.1681, -0.1681, -0.1681, -0.1681, -0.1681, -0.1681, -0.1681, -0.1681,\n",
      "        -0.1681, -0.1681, -0.1681, -0.1681, -0.1681, -0.1681, -0.1681, -0.1681,\n",
      "        -0.1681, -0.1681, -0.1681, -0.1681, -0.1681, -0.1681, -0.1681, -0.1681,\n",
      "        -0.1681, -0.1681, -0.1681, -0.1681, -0.1681, -0.1681, -0.1681, -0.1681,\n",
      "        -0.1681, -0.1681, -0.1681, -0.1681, -0.1681, -0.1681, -0.1681, -0.1681,\n",
      "        -0.1990, -0.1990, -0.1990, -0.1990, -0.1681, -0.1681, -0.1681, -0.1681,\n",
      "        -0.1681, -0.1681, -0.1681, -0.1681, -0.1681, -0.1681, -0.1681, -0.1681,\n",
      "        -0.1681, -0.1681, -0.1681, -0.1681, -0.1681, -0.1681, -0.1681, -0.1681,\n",
      "        -0.1681, -0.1681, -0.1681, -0.1681, -0.1681, -0.1681, -0.1681, -0.1681,\n",
      "        -0.1681, -0.1681, -0.1681, -0.1681, -0.1990, -0.1990, -0.1990, -0.1990,\n",
      "        -0.1681, -0.1681, -0.1681, -0.1681, -0.1681, -0.1681, -0.1681, -0.1681,\n",
      "        -0.1681, -0.1681, -0.1681, -0.1681, -0.1681, -0.1681, -0.1681, -0.1681,\n",
      "        -0.1681, -0.1681, -0.1681, -0.1681, -0.1990, -0.1990, -0.1990, -0.1990,\n",
      "        -0.1681, -0.1681, -0.1681, -0.1681, -0.1681, -0.1681, -0.1681, -0.1681,\n",
      "        -0.1681, -0.1681, -0.1681, -0.1681, -0.1681, -0.1681, -0.1681, -0.1681,\n",
      "        -0.1681, -0.1681, -0.1681, -0.1681, -0.1681, -0.1681, -0.1681, -0.1681,\n",
      "        -0.1681, -0.1681, -0.1681, -0.1681, -0.1681, -0.1681, -0.1681, -0.1681,\n",
      "        -0.1681, -0.1681, -0.1681, -0.1681, -0.1681, -0.1681, -0.1681, -0.1681,\n",
      "        -0.1681, -0.1681, -0.1681, -0.1681, -0.1681, -0.1681, -0.1681, -0.1681,\n",
      "        -0.1681, -0.1681, -0.1681, -0.1681, -0.1681, -0.1681, -0.1681, -0.1681,\n",
      "        -0.1681, -0.1681, -0.1681, -0.1681, -0.1681, -0.1681, -0.1681, -0.1681,\n",
      "        -0.1681, -0.1681, -0.1681, -0.1681, -0.1681, -0.1681, -0.1681, -0.1681,\n",
      "        -0.1681, -0.1681, -0.1681, -0.1681, -0.1681, -0.1681, -0.1681, -0.1681,\n",
      "        -0.1681, -0.1681, -0.1681, -0.1681, -0.1681, -0.1681, -0.1681, -0.1681,\n",
      "        -0.1990, -0.1990, -0.1990, -0.1990, -0.1681, -0.1681, -0.1681, -0.1681,\n",
      "        -0.1681, -0.1681, -0.1681, -0.1681, -0.1681, -0.1681, -0.1681, -0.1681,\n",
      "        -0.1681, -0.1681, -0.1681, -0.1681, -0.1681, -0.1681, -0.1681, -0.1681,\n",
      "        -0.1681, -0.1681, -0.1681, -0.1681, -0.1681, -0.1681, -0.1681, -0.1681,\n",
      "        -0.1681, -0.1681, -0.1681, -0.1681, -0.1681, -0.1681, -0.1681, -0.1681,\n",
      "        -0.1681, -0.1681, -0.1681, -0.1681, -0.1681, -0.1681, -0.1681, -0.1681,\n",
      "        -0.1990, -0.1990, -0.1990, -0.1990, -0.1681, -0.1681, -0.1681, -0.1681,\n",
      "        -0.1681, -0.1681, -0.1681, -0.1681, -0.1681, -0.1681, -0.1681, -0.1681,\n",
      "        -0.1681, -0.1681, -0.1681, -0.1681, -0.1681, -0.1681, -0.1681, -0.1681,\n",
      "        -0.1681, -0.1681, -0.1681, -0.1681, -0.1681, -0.1681, -0.1681, -0.1681,\n",
      "        -0.1681, -0.1681, -0.1681, -0.1681, -0.1990, -0.1990, -0.1990, -0.1990,\n",
      "        -0.1681, -0.1681, -0.1681, -0.1681, -0.1681, -0.1681, -0.1681, -0.1681,\n",
      "        -0.1681, -0.1681, -0.1681, -0.1681, -0.1681, -0.1681, -0.1681, -0.1681,\n",
      "        -0.1681, -0.1681, -0.1681, -0.1681, -0.1990, -0.1990, -0.1990, -0.1990,\n",
      "        -0.1681, -0.1681, -0.1681, -0.1681, -0.1681, -0.1681, -0.1681, -0.1681,\n",
      "        -0.1681, -0.1681, -0.1681, -0.1681, -0.1681, -0.1681, -0.1681, -0.1681,\n",
      "        -0.1681, -0.1681, -0.1681, -0.1681, -0.1681, -0.1681, -0.1681, -0.1681,\n",
      "        -0.1681, -0.1681, -0.1681, -0.1681, -0.1681, -0.1681, -0.1681, -0.1681,\n",
      "        -0.1681, -0.1681, -0.1681, -0.1681, -0.1681, -0.1681, -0.1681, -0.1681,\n",
      "        -0.1681, -0.1681, -0.1681, -0.1681, -0.1681, -0.1681, -0.1681, -0.1681,\n",
      "        -0.1681, -0.1681, -0.1681, -0.1681, -0.1681, -0.1681, -0.1681, -0.1681,\n",
      "        -0.1681, -0.1681, -0.1681, -0.1681, -0.1681, -0.1681, -0.1681, -0.1681,\n",
      "        -0.1681, -0.1681, -0.1681, -0.1681, -0.1681, -0.1681, -0.1681, -0.1681,\n",
      "        -0.1681, -0.1681, -0.1681, -0.1681, -0.1681, -0.1681, -0.1681, -0.1681,\n",
      "        -0.1681, -0.1681, -0.1681, -0.1681, -0.1681, -0.1681, -0.1681, -0.1681,\n",
      "        -0.1990, -0.1990, -0.1990, -0.1990, -0.1681, -0.1681, -0.1681, -0.1681,\n",
      "        -0.1681, -0.1681, -0.1681, -0.1681, -0.1681, -0.1681, -0.1681, -0.1681,\n",
      "        -0.1681, -0.1681, -0.1681, -0.1681, -0.1681, -0.1681, -0.1681, -0.1681,\n",
      "        -0.1681, -0.1681, -0.1681, -0.1681, -0.1681, -0.1681, -0.1681, -0.1681,\n",
      "        -0.1681, -0.1681, -0.1681, -0.1681, -0.1681, -0.1681, -0.1681, -0.1681,\n",
      "        -0.1681, -0.1681, -0.1681, -0.1681, -0.1681, -0.1681, -0.1681, -0.1681,\n",
      "        -0.1990, -0.1990, -0.1990, -0.1681, -0.1681, -0.1681, -0.1681, -0.1681,\n",
      "        -0.1681, -0.1681, -0.1681, -0.1681, -0.1681, -0.1681, -0.1681, -0.1681],\n",
      "       grad_fn=<DiagBackward>)\n",
      "ipdb> torch.diag(pdd[:,0,:,6])\n",
      "tensor([-0.8598, -0.8598, -0.8598, -0.8598, -0.8598, -0.8598, -0.8598, -0.8598,\n",
      "        -0.8598, -0.8598, -0.8598, -0.8598, -0.8598, -0.8598, -0.8598, -0.8598,\n",
      "        -0.8598, -0.8598, -0.8598, -0.8598, -0.8598, -0.8598, -0.8598, -0.8598,\n",
      "        -0.8598, -0.8598, -0.8598, -0.8598, -0.8598, -0.8598, -0.8598, -0.8598,\n",
      "        -0.4960, -0.8598, -0.8598, -0.8598, -0.8598, -0.8598, -0.8598, -0.8598,\n",
      "        -0.8598, -0.8598, -0.8598, -0.8598, -0.8598, -0.8598, -0.8598, -0.8598,\n",
      "        -0.4960, -0.4960, -0.4960, -0.4960, -0.8598, -0.8598, -0.8598, -0.8598,\n",
      "        -0.8598, -0.8598, -0.8598, -0.8598, -0.8598, -0.8598, -0.8598, -0.8598,\n",
      "        -0.8598, -0.8598, -0.8598, -0.8598, -0.8598, -0.8598, -0.8598, -0.8598,\n",
      "        -0.8598, -0.8598, -0.8598, -0.8598, -0.8598, -0.8598, -0.8598, -0.8598,\n",
      "        -0.8598, -0.8598, -0.8598, -0.8598, -0.8598, -0.8598, -0.8598, -0.8598,\n",
      "        -0.8598, -0.8598, -0.8598, -0.8598, -0.8598, -0.8598, -0.8598, -0.8598,\n",
      "        -0.4960, -0.4960, -0.4960, -0.4960, -0.8598, -0.8598, -0.8598, -0.8598,\n",
      "        -0.8598, -0.8598, -0.8598, -0.8598, -0.8598, -0.8598, -0.8598, -0.8598,\n",
      "        -0.8598, -0.8598, -0.8598, -0.8598, -0.8598, -0.8598, -0.8598, -0.8598,\n",
      "        -0.8598, -0.8598, -0.8598, -0.8598, -0.8598, -0.8598, -0.8598, -0.8598,\n",
      "        -0.8598, -0.8598, -0.8598, -0.8598, -0.4960, -0.4960, -0.4960, -0.4960,\n",
      "        -0.8598, -0.8598, -0.8598, -0.8598, -0.8598, -0.8598, -0.8598, -0.8598,\n",
      "        -0.8598, -0.8598, -0.8598, -0.8598, -0.8598, -0.8598, -0.8598, -0.8598,\n",
      "        -0.8598, -0.8598, -0.8598, -0.8598, -0.4960, -0.4960, -0.4960, -0.4960,\n",
      "        -0.8598, -0.8598, -0.8598, -0.8598, -0.8598, -0.8598, -0.8598, -0.8598,\n",
      "        -0.8598, -0.8598, -0.8598, -0.8598, -0.8598, -0.8598, -0.8598, -0.8598,\n",
      "        -0.8598, -0.8598, -0.8598, -0.8598, -0.8598, -0.8598, -0.8598, -0.8598,\n",
      "        -0.8598, -0.8598, -0.8598, -0.8598, -0.8598, -0.8598, -0.8598, -0.8598,\n",
      "        -0.8598, -0.8598, -0.8598, -0.8598, -0.8598, -0.8598, -0.8598, -0.8598,\n",
      "        -0.8598, -0.8598, -0.8598, -0.8598, -0.8598, -0.8598, -0.8598, -0.8598,\n",
      "        -0.8598, -0.8598, -0.8598, -0.8598, -0.8598, -0.8598, -0.8598, -0.8598,\n",
      "        -0.8598, -0.8598, -0.8598, -0.8598, -0.8598, -0.8598, -0.8598, -0.8598,\n",
      "        -0.8598, -0.8598, -0.8598, -0.8598, -0.8598, -0.8598, -0.8598, -0.8598,\n",
      "        -0.8598, -0.8598, -0.8598, -0.8598, -0.8598, -0.8598, -0.8598, -0.8598,\n",
      "        -0.8598, -0.8598, -0.8598, -0.8598, -0.8598, -0.8598, -0.8598, -0.8598,\n",
      "        -0.4960, -0.4960, -0.4960, -0.4960, -0.8598, -0.8598, -0.8598, -0.8598,\n",
      "        -0.8598, -0.8598, -0.8598, -0.8598, -0.8598, -0.8598, -0.8598, -0.8598,\n",
      "        -0.8598, -0.8598, -0.8598, -0.8598, -0.8598, -0.8598, -0.8598, -0.8598,\n",
      "        -0.8598, -0.8598, -0.8598, -0.8598, -0.8598, -0.8598, -0.8598, -0.8598,\n",
      "        -0.8598, -0.8598, -0.8598, -0.8598, -0.8598, -0.8598, -0.8598, -0.8598,\n",
      "        -0.8598, -0.8598, -0.8598, -0.8598, -0.8598, -0.8598, -0.8598, -0.8598,\n",
      "        -0.4960, -0.4960, -0.4960, -0.4960, -0.8598, -0.8598, -0.8598, -0.8598,\n",
      "        -0.8598, -0.8598, -0.8598, -0.8598, -0.8598, -0.8598, -0.8598, -0.8598,\n",
      "        -0.8598, -0.8598, -0.8598, -0.8598, -0.8598, -0.8598, -0.8598, -0.8598,\n",
      "        -0.8598, -0.8598, -0.8598, -0.8598, -0.8598, -0.8598, -0.8598, -0.8598,\n",
      "        -0.8598, -0.8598, -0.8598, -0.8598, -0.4960, -0.4960, -0.4960, -0.4960,\n",
      "        -0.8598, -0.8598, -0.8598, -0.8598, -0.8598, -0.8598, -0.8598, -0.8598,\n",
      "        -0.8598, -0.8598, -0.8598, -0.8598, -0.8598, -0.8598, -0.8598, -0.8598,\n",
      "        -0.8598, -0.8598, -0.8598, -0.8598, -0.4960, -0.4960, -0.4960, -0.4960,\n",
      "        -0.8598, -0.8598, -0.8598, -0.8598, -0.8598, -0.8598, -0.8598, -0.8598,\n",
      "        -0.8598, -0.8598, -0.8598, -0.8598, -0.8598, -0.8598, -0.8598, -0.8598,\n",
      "        -0.8598, -0.8598, -0.8598, -0.8598, -0.8598, -0.8598, -0.8598, -0.8598,\n",
      "        -0.8598, -0.8598, -0.8598, -0.8598, -0.8598, -0.8598, -0.8598, -0.8598,\n",
      "        -0.8598, -0.8598, -0.8598, -0.8598, -0.8598, -0.8598, -0.8598, -0.8598,\n",
      "        -0.8598, -0.8598, -0.8598, -0.8598, -0.8598, -0.8598, -0.8598, -0.8598,\n",
      "        -0.8598, -0.8598, -0.8598, -0.8598, -0.8598, -0.8598, -0.8598, -0.8598,\n",
      "        -0.8598, -0.8598, -0.8598, -0.8598, -0.8598, -0.8598, -0.8598, -0.8598,\n",
      "        -0.8598, -0.8598, -0.8598, -0.8598, -0.8598, -0.8598, -0.8598, -0.8598,\n",
      "        -0.8598, -0.8598, -0.8598, -0.8598, -0.8598, -0.8598, -0.8598, -0.8598,\n",
      "        -0.8598, -0.8598, -0.8598, -0.8598, -0.8598, -0.8598, -0.8598, -0.8598,\n",
      "        -0.4960, -0.4960, -0.4960, -0.4960, -0.8598, -0.8598, -0.8598, -0.8598,\n",
      "        -0.8598, -0.8598, -0.8598, -0.8598, -0.8598, -0.8598, -0.8598, -0.8598,\n",
      "        -0.8598, -0.8598, -0.8598, -0.8598, -0.8598, -0.8598, -0.8598, -0.8598,\n",
      "        -0.8598, -0.8598, -0.8598, -0.8598, -0.8598, -0.8598, -0.8598, -0.8598,\n",
      "        -0.8598, -0.8598, -0.8598, -0.8598, -0.8598, -0.8598, -0.8598, -0.8598,\n",
      "        -0.8598, -0.8598, -0.8598, -0.8598, -0.8598, -0.8598, -0.8598, -0.8598,\n",
      "        -0.4960, -0.4960, -0.4960, -0.8598, -0.8598, -0.8598, -0.8598, -0.8598,\n",
      "        -0.8598, -0.8598, -0.8598, -0.8598, -0.8598, -0.8598, -0.8598, -0.8598],\n",
      "       grad_fn=<DiagBackward>)\n"
     ]
    },
    {
     "name": "stdout",
     "output_type": "stream",
     "text": [
      "ipdb> torch.diag(pdd[:,0,:,7])\n",
      "tensor([0.1077, 0.1077, 0.1077, 0.1077, 0.1077, 0.1077, 0.1077, 0.1077, 0.1077,\n",
      "        0.1077, 0.1077, 0.1077, 0.1077, 0.1077, 0.1077, 0.1077, 0.1077, 0.1077,\n",
      "        0.1077, 0.1077, 0.1077, 0.1077, 0.1077, 0.1077, 0.1077, 0.1077, 0.1077,\n",
      "        0.1077, 0.1077, 0.1077, 0.1077, 0.1077, 0.1642, 0.1077, 0.1077, 0.1077,\n",
      "        0.1077, 0.1077, 0.1077, 0.1077, 0.1077, 0.1077, 0.1077, 0.1077, 0.1077,\n",
      "        0.1077, 0.1077, 0.1077, 0.1642, 0.1642, 0.1642, 0.1642, 0.1077, 0.1077,\n",
      "        0.1077, 0.1077, 0.1077, 0.1077, 0.1077, 0.1077, 0.1077, 0.1077, 0.1077,\n",
      "        0.1077, 0.1077, 0.1077, 0.1077, 0.1077, 0.1077, 0.1077, 0.1077, 0.1077,\n",
      "        0.1077, 0.1077, 0.1077, 0.1077, 0.1077, 0.1077, 0.1077, 0.1077, 0.1077,\n",
      "        0.1077, 0.1077, 0.1077, 0.1077, 0.1077, 0.1077, 0.1077, 0.1077, 0.1077,\n",
      "        0.1077, 0.1077, 0.1077, 0.1077, 0.1077, 0.1077, 0.1642, 0.1642, 0.1642,\n",
      "        0.1642, 0.1077, 0.1077, 0.1077, 0.1077, 0.1077, 0.1077, 0.1077, 0.1077,\n",
      "        0.1077, 0.1077, 0.1077, 0.1077, 0.1077, 0.1077, 0.1077, 0.1077, 0.1077,\n",
      "        0.1077, 0.1077, 0.1077, 0.1077, 0.1077, 0.1077, 0.1077, 0.1077, 0.1077,\n",
      "        0.1077, 0.1077, 0.1077, 0.1077, 0.1077, 0.1077, 0.1642, 0.1642, 0.1642,\n",
      "        0.1642, 0.1077, 0.1077, 0.1077, 0.1077, 0.1077, 0.1077, 0.1077, 0.1077,\n",
      "        0.1077, 0.1077, 0.1077, 0.1077, 0.1077, 0.1077, 0.1077, 0.1077, 0.1077,\n",
      "        0.1077, 0.1077, 0.1077, 0.1642, 0.1642, 0.1642, 0.1642, 0.1077, 0.1077,\n",
      "        0.1077, 0.1077, 0.1077, 0.1077, 0.1077, 0.1077, 0.1077, 0.1077, 0.1077,\n",
      "        0.1077, 0.1077, 0.1077, 0.1077, 0.1077, 0.1077, 0.1077, 0.1077, 0.1077,\n",
      "        0.1077, 0.1077, 0.1077, 0.1077, 0.1077, 0.1077, 0.1077, 0.1077, 0.1077,\n",
      "        0.1077, 0.1077, 0.1077, 0.1077, 0.1077, 0.1077, 0.1077, 0.1077, 0.1077,\n",
      "        0.1077, 0.1077, 0.1077, 0.1077, 0.1077, 0.1077, 0.1077, 0.1077, 0.1077,\n",
      "        0.1077, 0.1077, 0.1077, 0.1077, 0.1077, 0.1077, 0.1077, 0.1077, 0.1077,\n",
      "        0.1077, 0.1077, 0.1077, 0.1077, 0.1077, 0.1077, 0.1077, 0.1077, 0.1077,\n",
      "        0.1077, 0.1077, 0.1077, 0.1077, 0.1077, 0.1077, 0.1077, 0.1077, 0.1077,\n",
      "        0.1077, 0.1077, 0.1077, 0.1077, 0.1077, 0.1077, 0.1077, 0.1077, 0.1077,\n",
      "        0.1077, 0.1077, 0.1077, 0.1077, 0.1077, 0.1642, 0.1642, 0.1642, 0.1642,\n",
      "        0.1077, 0.1077, 0.1077, 0.1077, 0.1077, 0.1077, 0.1077, 0.1077, 0.1077,\n",
      "        0.1077, 0.1077, 0.1077, 0.1077, 0.1077, 0.1077, 0.1077, 0.1077, 0.1077,\n",
      "        0.1077, 0.1077, 0.1077, 0.1077, 0.1077, 0.1077, 0.1077, 0.1077, 0.1077,\n",
      "        0.1077, 0.1077, 0.1077, 0.1077, 0.1077, 0.1077, 0.1077, 0.1077, 0.1077,\n",
      "        0.1077, 0.1077, 0.1077, 0.1077, 0.1077, 0.1077, 0.1077, 0.1077, 0.1642,\n",
      "        0.1642, 0.1642, 0.1642, 0.1077, 0.1077, 0.1077, 0.1077, 0.1077, 0.1077,\n",
      "        0.1077, 0.1077, 0.1077, 0.1077, 0.1077, 0.1077, 0.1077, 0.1077, 0.1077,\n",
      "        0.1077, 0.1077, 0.1077, 0.1077, 0.1077, 0.1077, 0.1077, 0.1077, 0.1077,\n",
      "        0.1077, 0.1077, 0.1077, 0.1077, 0.1077, 0.1077, 0.1077, 0.1077, 0.1642,\n",
      "        0.1642, 0.1642, 0.1642, 0.1077, 0.1077, 0.1077, 0.1077, 0.1077, 0.1077,\n",
      "        0.1077, 0.1077, 0.1077, 0.1077, 0.1077, 0.1077, 0.1077, 0.1077, 0.1077,\n",
      "        0.1077, 0.1077, 0.1077, 0.1077, 0.1077, 0.1642, 0.1642, 0.1642, 0.1642,\n",
      "        0.1077, 0.1077, 0.1077, 0.1077, 0.1077, 0.1077, 0.1077, 0.1077, 0.1077,\n",
      "        0.1077, 0.1077, 0.1077, 0.1077, 0.1077, 0.1077, 0.1077, 0.1077, 0.1077,\n",
      "        0.1077, 0.1077, 0.1077, 0.1077, 0.1077, 0.1077, 0.1077, 0.1077, 0.1077,\n",
      "        0.1077, 0.1077, 0.1077, 0.1077, 0.1077, 0.1077, 0.1077, 0.1077, 0.1077,\n",
      "        0.1077, 0.1077, 0.1077, 0.1077, 0.1077, 0.1077, 0.1077, 0.1077, 0.1077,\n",
      "        0.1077, 0.1077, 0.1077, 0.1077, 0.1077, 0.1077, 0.1077, 0.1077, 0.1077,\n",
      "        0.1077, 0.1077, 0.1077, 0.1077, 0.1077, 0.1077, 0.1077, 0.1077, 0.1077,\n",
      "        0.1077, 0.1077, 0.1077, 0.1077, 0.1077, 0.1077, 0.1077, 0.1077, 0.1077,\n",
      "        0.1077, 0.1077, 0.1077, 0.1077, 0.1077, 0.1077, 0.1077, 0.1077, 0.1077,\n",
      "        0.1077, 0.1077, 0.1077, 0.1077, 0.1077, 0.1077, 0.1077, 0.1642, 0.1642,\n",
      "        0.1642, 0.1642, 0.1077, 0.1077, 0.1077, 0.1077, 0.1077, 0.1077, 0.1077,\n",
      "        0.1077, 0.1077, 0.1077, 0.1077, 0.1077, 0.1077, 0.1077, 0.1077, 0.1077,\n",
      "        0.1077, 0.1077, 0.1077, 0.1077, 0.1077, 0.1077, 0.1077, 0.1077, 0.1077,\n",
      "        0.1077, 0.1077, 0.1077, 0.1077, 0.1077, 0.1077, 0.1077, 0.1077, 0.1077,\n",
      "        0.1077, 0.1077, 0.1077, 0.1077, 0.1077, 0.1077, 0.1077, 0.1077, 0.1077,\n",
      "        0.1077, 0.1642, 0.1642, 0.1642, 0.1077, 0.1077, 0.1077, 0.1077, 0.1077,\n",
      "        0.1077, 0.1077, 0.1077, 0.1077, 0.1077, 0.1077, 0.1077, 0.1077],\n",
      "       grad_fn=<DiagBackward>)\n",
      "ipdb> torch.diag(pdd[:,0,:,8])\n",
      "tensor([1.0948, 1.0948, 1.0948, 1.0948, 1.0948, 1.0948, 1.0948, 1.0948, 1.0948,\n",
      "        1.0948, 1.0948, 1.0948, 1.0948, 1.0948, 1.0948, 1.0948, 1.0948, 1.0948,\n",
      "        1.0948, 1.0948, 1.0948, 1.0948, 1.0948, 1.0948, 1.0948, 1.0948, 1.0948,\n",
      "        1.0948, 1.0948, 1.0948, 1.0948, 1.0948, 1.0561, 1.0948, 1.0948, 1.0948,\n",
      "        1.0948, 1.0948, 1.0948, 1.0948, 1.0948, 1.0948, 1.0948, 1.0948, 1.0948,\n",
      "        1.0948, 1.0948, 1.0948, 1.0561, 1.0561, 1.0561, 1.0561, 1.0948, 1.0948,\n",
      "        1.0948, 1.0948, 1.0948, 1.0948, 1.0948, 1.0948, 1.0948, 1.0948, 1.0948,\n",
      "        1.0948, 1.0948, 1.0948, 1.0948, 1.0948, 1.0948, 1.0948, 1.0948, 1.0948,\n",
      "        1.0948, 1.0948, 1.0948, 1.0948, 1.0948, 1.0948, 1.0948, 1.0948, 1.0948,\n",
      "        1.0948, 1.0948, 1.0948, 1.0948, 1.0948, 1.0948, 1.0948, 1.0948, 1.0948,\n",
      "        1.0948, 1.0948, 1.0948, 1.0948, 1.0948, 1.0948, 1.0561, 1.0561, 1.0561,\n",
      "        1.0561, 1.0948, 1.0948, 1.0948, 1.0948, 1.0948, 1.0948, 1.0948, 1.0948,\n",
      "        1.0948, 1.0948, 1.0948, 1.0948, 1.0948, 1.0948, 1.0948, 1.0948, 1.0948,\n",
      "        1.0948, 1.0948, 1.0948, 1.0948, 1.0948, 1.0948, 1.0948, 1.0948, 1.0948,\n",
      "        1.0948, 1.0948, 1.0948, 1.0948, 1.0948, 1.0948, 1.0561, 1.0561, 1.0561,\n",
      "        1.0561, 1.0948, 1.0948, 1.0948, 1.0948, 1.0948, 1.0948, 1.0948, 1.0948,\n",
      "        1.0948, 1.0948, 1.0948, 1.0948, 1.0948, 1.0948, 1.0948, 1.0948, 1.0948,\n",
      "        1.0948, 1.0948, 1.0948, 1.0561, 1.0561, 1.0561, 1.0561, 1.0948, 1.0948,\n",
      "        1.0948, 1.0948, 1.0948, 1.0948, 1.0948, 1.0948, 1.0948, 1.0948, 1.0948,\n",
      "        1.0948, 1.0948, 1.0948, 1.0948, 1.0948, 1.0948, 1.0948, 1.0948, 1.0948,\n",
      "        1.0948, 1.0948, 1.0948, 1.0948, 1.0948, 1.0948, 1.0948, 1.0948, 1.0948,\n",
      "        1.0948, 1.0948, 1.0948, 1.0948, 1.0948, 1.0948, 1.0948, 1.0948, 1.0948,\n",
      "        1.0948, 1.0948, 1.0948, 1.0948, 1.0948, 1.0948, 1.0948, 1.0948, 1.0948,\n",
      "        1.0948, 1.0948, 1.0948, 1.0948, 1.0948, 1.0948, 1.0948, 1.0948, 1.0948,\n",
      "        1.0948, 1.0948, 1.0948, 1.0948, 1.0948, 1.0948, 1.0948, 1.0948, 1.0948,\n",
      "        1.0948, 1.0948, 1.0948, 1.0948, 1.0948, 1.0948, 1.0948, 1.0948, 1.0948,\n",
      "        1.0948, 1.0948, 1.0948, 1.0948, 1.0948, 1.0948, 1.0948, 1.0948, 1.0948,\n",
      "        1.0948, 1.0948, 1.0948, 1.0948, 1.0948, 1.0561, 1.0561, 1.0561, 1.0561,\n",
      "        1.0948, 1.0948, 1.0948, 1.0948, 1.0948, 1.0948, 1.0948, 1.0948, 1.0948,\n",
      "        1.0948, 1.0948, 1.0948, 1.0948, 1.0948, 1.0948, 1.0948, 1.0948, 1.0948,\n",
      "        1.0948, 1.0948, 1.0948, 1.0948, 1.0948, 1.0948, 1.0948, 1.0948, 1.0948,\n",
      "        1.0948, 1.0948, 1.0948, 1.0948, 1.0948, 1.0948, 1.0948, 1.0948, 1.0948,\n",
      "        1.0948, 1.0948, 1.0948, 1.0948, 1.0948, 1.0948, 1.0948, 1.0948, 1.0561,\n",
      "        1.0561, 1.0561, 1.0561, 1.0948, 1.0948, 1.0948, 1.0948, 1.0948, 1.0948,\n",
      "        1.0948, 1.0948, 1.0948, 1.0948, 1.0948, 1.0948, 1.0948, 1.0948, 1.0948,\n",
      "        1.0948, 1.0948, 1.0948, 1.0948, 1.0948, 1.0948, 1.0948, 1.0948, 1.0948,\n",
      "        1.0948, 1.0948, 1.0948, 1.0948, 1.0948, 1.0948, 1.0948, 1.0948, 1.0561,\n",
      "        1.0561, 1.0561, 1.0561, 1.0948, 1.0948, 1.0948, 1.0948, 1.0948, 1.0948,\n",
      "        1.0948, 1.0948, 1.0948, 1.0948, 1.0948, 1.0948, 1.0948, 1.0948, 1.0948,\n",
      "        1.0948, 1.0948, 1.0948, 1.0948, 1.0948, 1.0561, 1.0561, 1.0561, 1.0561,\n",
      "        1.0948, 1.0948, 1.0948, 1.0948, 1.0948, 1.0948, 1.0948, 1.0948, 1.0948,\n",
      "        1.0948, 1.0948, 1.0948, 1.0948, 1.0948, 1.0948, 1.0948, 1.0948, 1.0948,\n",
      "        1.0948, 1.0948, 1.0948, 1.0948, 1.0948, 1.0948, 1.0948, 1.0948, 1.0948,\n",
      "        1.0948, 1.0948, 1.0948, 1.0948, 1.0948, 1.0948, 1.0948, 1.0948, 1.0948,\n",
      "        1.0948, 1.0948, 1.0948, 1.0948, 1.0948, 1.0948, 1.0948, 1.0948, 1.0948,\n",
      "        1.0948, 1.0948, 1.0948, 1.0948, 1.0948, 1.0948, 1.0948, 1.0948, 1.0948,\n",
      "        1.0948, 1.0948, 1.0948, 1.0948, 1.0948, 1.0948, 1.0948, 1.0948, 1.0948,\n",
      "        1.0948, 1.0948, 1.0948, 1.0948, 1.0948, 1.0948, 1.0948, 1.0948, 1.0948,\n",
      "        1.0948, 1.0948, 1.0948, 1.0948, 1.0948, 1.0948, 1.0948, 1.0948, 1.0948,\n",
      "        1.0948, 1.0948, 1.0948, 1.0948, 1.0948, 1.0948, 1.0948, 1.0561, 1.0561,\n",
      "        1.0561, 1.0561, 1.0948, 1.0948, 1.0948, 1.0948, 1.0948, 1.0948, 1.0948,\n",
      "        1.0948, 1.0948, 1.0948, 1.0948, 1.0948, 1.0948, 1.0948, 1.0948, 1.0948,\n",
      "        1.0948, 1.0948, 1.0948, 1.0948, 1.0948, 1.0948, 1.0948, 1.0948, 1.0948,\n",
      "        1.0948, 1.0948, 1.0948, 1.0948, 1.0948, 1.0948, 1.0948, 1.0948, 1.0948,\n",
      "        1.0948, 1.0948, 1.0948, 1.0948, 1.0948, 1.0948, 1.0948, 1.0948, 1.0948,\n",
      "        1.0948, 1.0561, 1.0561, 1.0561, 1.0948, 1.0948, 1.0948, 1.0948, 1.0948,\n",
      "        1.0948, 1.0948, 1.0948, 1.0948, 1.0948, 1.0948, 1.0948, 1.0948],\n",
      "       grad_fn=<DiagBackward>)\n"
     ]
    },
    {
     "name": "stdout",
     "output_type": "stream",
     "text": [
      "ipdb> torch.diag(pdd[:,0,:,9])\n",
      "tensor([-0.0076, -0.0076, -0.0076, -0.0076, -0.0076, -0.0076, -0.0076, -0.0076,\n",
      "        -0.0076, -0.0076, -0.0076, -0.0076, -0.0076, -0.0076, -0.0076, -0.0076,\n",
      "        -0.0076, -0.0076, -0.0076, -0.0076, -0.0076, -0.0076, -0.0076, -0.0076,\n",
      "        -0.0076, -0.0076, -0.0076, -0.0076, -0.0076, -0.0076, -0.0076, -0.0076,\n",
      "        -0.0195, -0.0076, -0.0076, -0.0076, -0.0076, -0.0076, -0.0076, -0.0076,\n",
      "        -0.0076, -0.0076, -0.0076, -0.0076, -0.0076, -0.0076, -0.0076, -0.0076,\n",
      "        -0.0195, -0.0195, -0.0195, -0.0195, -0.0076, -0.0076, -0.0076, -0.0076,\n",
      "        -0.0076, -0.0076, -0.0076, -0.0076, -0.0076, -0.0076, -0.0076, -0.0076,\n",
      "        -0.0076, -0.0076, -0.0076, -0.0076, -0.0076, -0.0076, -0.0076, -0.0076,\n",
      "        -0.0076, -0.0076, -0.0076, -0.0076, -0.0076, -0.0076, -0.0076, -0.0076,\n",
      "        -0.0076, -0.0076, -0.0076, -0.0076, -0.0076, -0.0076, -0.0076, -0.0076,\n",
      "        -0.0076, -0.0076, -0.0076, -0.0076, -0.0076, -0.0076, -0.0076, -0.0076,\n",
      "        -0.0195, -0.0195, -0.0195, -0.0195, -0.0076, -0.0076, -0.0076, -0.0076,\n",
      "        -0.0076, -0.0076, -0.0076, -0.0076, -0.0076, -0.0076, -0.0076, -0.0076,\n",
      "        -0.0076, -0.0076, -0.0076, -0.0076, -0.0076, -0.0076, -0.0076, -0.0076,\n",
      "        -0.0076, -0.0076, -0.0076, -0.0076, -0.0076, -0.0076, -0.0076, -0.0076,\n",
      "        -0.0076, -0.0076, -0.0076, -0.0076, -0.0195, -0.0195, -0.0195, -0.0195,\n",
      "        -0.0076, -0.0076, -0.0076, -0.0076, -0.0076, -0.0076, -0.0076, -0.0076,\n",
      "        -0.0076, -0.0076, -0.0076, -0.0076, -0.0076, -0.0076, -0.0076, -0.0076,\n",
      "        -0.0076, -0.0076, -0.0076, -0.0076, -0.0195, -0.0195, -0.0195, -0.0195,\n",
      "        -0.0076, -0.0076, -0.0076, -0.0076, -0.0076, -0.0076, -0.0076, -0.0076,\n",
      "        -0.0076, -0.0076, -0.0076, -0.0076, -0.0076, -0.0076, -0.0076, -0.0076,\n",
      "        -0.0076, -0.0076, -0.0076, -0.0076, -0.0076, -0.0076, -0.0076, -0.0076,\n",
      "        -0.0076, -0.0076, -0.0076, -0.0076, -0.0076, -0.0076, -0.0076, -0.0076,\n",
      "        -0.0076, -0.0076, -0.0076, -0.0076, -0.0076, -0.0076, -0.0076, -0.0076,\n",
      "        -0.0076, -0.0076, -0.0076, -0.0076, -0.0076, -0.0076, -0.0076, -0.0076,\n",
      "        -0.0076, -0.0076, -0.0076, -0.0076, -0.0076, -0.0076, -0.0076, -0.0076,\n",
      "        -0.0076, -0.0076, -0.0076, -0.0076, -0.0076, -0.0076, -0.0076, -0.0076,\n",
      "        -0.0076, -0.0076, -0.0076, -0.0076, -0.0076, -0.0076, -0.0076, -0.0076,\n",
      "        -0.0076, -0.0076, -0.0076, -0.0076, -0.0076, -0.0076, -0.0076, -0.0076,\n",
      "        -0.0076, -0.0076, -0.0076, -0.0076, -0.0076, -0.0076, -0.0076, -0.0076,\n",
      "        -0.0195, -0.0195, -0.0195, -0.0195, -0.0076, -0.0076, -0.0076, -0.0076,\n",
      "        -0.0076, -0.0076, -0.0076, -0.0076, -0.0076, -0.0076, -0.0076, -0.0076,\n",
      "        -0.0076, -0.0076, -0.0076, -0.0076, -0.0076, -0.0076, -0.0076, -0.0076,\n",
      "        -0.0076, -0.0076, -0.0076, -0.0076, -0.0076, -0.0076, -0.0076, -0.0076,\n",
      "        -0.0076, -0.0076, -0.0076, -0.0076, -0.0076, -0.0076, -0.0076, -0.0076,\n",
      "        -0.0076, -0.0076, -0.0076, -0.0076, -0.0076, -0.0076, -0.0076, -0.0076,\n",
      "        -0.0195, -0.0195, -0.0195, -0.0195, -0.0076, -0.0076, -0.0076, -0.0076,\n",
      "        -0.0076, -0.0076, -0.0076, -0.0076, -0.0076, -0.0076, -0.0076, -0.0076,\n",
      "        -0.0076, -0.0076, -0.0076, -0.0076, -0.0076, -0.0076, -0.0076, -0.0076,\n",
      "        -0.0076, -0.0076, -0.0076, -0.0076, -0.0076, -0.0076, -0.0076, -0.0076,\n",
      "        -0.0076, -0.0076, -0.0076, -0.0076, -0.0195, -0.0195, -0.0195, -0.0195,\n",
      "        -0.0076, -0.0076, -0.0076, -0.0076, -0.0076, -0.0076, -0.0076, -0.0076,\n",
      "        -0.0076, -0.0076, -0.0076, -0.0076, -0.0076, -0.0076, -0.0076, -0.0076,\n",
      "        -0.0076, -0.0076, -0.0076, -0.0076, -0.0195, -0.0195, -0.0195, -0.0195,\n",
      "        -0.0076, -0.0076, -0.0076, -0.0076, -0.0076, -0.0076, -0.0076, -0.0076,\n",
      "        -0.0076, -0.0076, -0.0076, -0.0076, -0.0076, -0.0076, -0.0076, -0.0076,\n",
      "        -0.0076, -0.0076, -0.0076, -0.0076, -0.0076, -0.0076, -0.0076, -0.0076,\n",
      "        -0.0076, -0.0076, -0.0076, -0.0076, -0.0076, -0.0076, -0.0076, -0.0076,\n",
      "        -0.0076, -0.0076, -0.0076, -0.0076, -0.0076, -0.0076, -0.0076, -0.0076,\n",
      "        -0.0076, -0.0076, -0.0076, -0.0076, -0.0076, -0.0076, -0.0076, -0.0076,\n",
      "        -0.0076, -0.0076, -0.0076, -0.0076, -0.0076, -0.0076, -0.0076, -0.0076,\n",
      "        -0.0076, -0.0076, -0.0076, -0.0076, -0.0076, -0.0076, -0.0076, -0.0076,\n",
      "        -0.0076, -0.0076, -0.0076, -0.0076, -0.0076, -0.0076, -0.0076, -0.0076,\n",
      "        -0.0076, -0.0076, -0.0076, -0.0076, -0.0076, -0.0076, -0.0076, -0.0076,\n",
      "        -0.0076, -0.0076, -0.0076, -0.0076, -0.0076, -0.0076, -0.0076, -0.0076,\n",
      "        -0.0195, -0.0195, -0.0195, -0.0195, -0.0076, -0.0076, -0.0076, -0.0076,\n",
      "        -0.0076, -0.0076, -0.0076, -0.0076, -0.0076, -0.0076, -0.0076, -0.0076,\n",
      "        -0.0076, -0.0076, -0.0076, -0.0076, -0.0076, -0.0076, -0.0076, -0.0076,\n",
      "        -0.0076, -0.0076, -0.0076, -0.0076, -0.0076, -0.0076, -0.0076, -0.0076,\n",
      "        -0.0076, -0.0076, -0.0076, -0.0076, -0.0076, -0.0076, -0.0076, -0.0076,\n",
      "        -0.0076, -0.0076, -0.0076, -0.0076, -0.0076, -0.0076, -0.0076, -0.0076,\n",
      "        -0.0195, -0.0195, -0.0195, -0.0076, -0.0076, -0.0076, -0.0076, -0.0076,\n",
      "        -0.0076, -0.0076, -0.0076, -0.0076, -0.0076, -0.0076, -0.0076, -0.0076],\n",
      "       grad_fn=<DiagBackward>)\n",
      "ipdb> torch.diag(pdd[:,0,:,10])\n",
      "tensor([14.2337, 14.2337, 14.2337, 14.2337, 14.2337, 14.2337, 14.2337, 14.2337,\n",
      "        14.2337, 14.2337, 14.2337, 14.2337, 14.2337, 14.2337, 14.2337, 14.2337,\n",
      "        14.2337, 14.2337, 14.2337, 14.2337, 14.2337, 14.2337, 14.2337, 14.2337,\n",
      "        14.2337, 14.2337, 14.2337, 14.2337, 14.2337, 14.2337, 14.2337, 14.2337,\n",
      "        13.9191, 14.2337, 14.2337, 14.2337, 14.2337, 14.2337, 14.2337, 14.2337,\n",
      "        14.2337, 14.2337, 14.2337, 14.2337, 14.2337, 14.2337, 14.2337, 14.2337,\n",
      "        13.9191, 13.9191, 13.9191, 13.9191, 14.2337, 14.2337, 14.2337, 14.2337,\n",
      "        14.2337, 14.2337, 14.2337, 14.2337, 14.2337, 14.2337, 14.2337, 14.2337,\n",
      "        14.2337, 14.2337, 14.2337, 14.2337, 14.2337, 14.2337, 14.2337, 14.2337,\n",
      "        14.2337, 14.2337, 14.2337, 14.2337, 14.2337, 14.2337, 14.2337, 14.2337,\n",
      "        14.2337, 14.2337, 14.2337, 14.2337, 14.2337, 14.2337, 14.2337, 14.2337,\n",
      "        14.2337, 14.2337, 14.2337, 14.2337, 14.2337, 14.2337, 14.2337, 14.2337,\n",
      "        13.9191, 13.9191, 13.9191, 13.9191, 14.2337, 14.2337, 14.2337, 14.2337,\n",
      "        14.2337, 14.2337, 14.2337, 14.2337, 14.2337, 14.2337, 14.2337, 14.2337,\n",
      "        14.2337, 14.2337, 14.2337, 14.2337, 14.2337, 14.2337, 14.2337, 14.2337,\n",
      "        14.2337, 14.2337, 14.2337, 14.2337, 14.2337, 14.2337, 14.2337, 14.2337,\n",
      "        14.2337, 14.2337, 14.2337, 14.2337, 13.9191, 13.9191, 13.9191, 13.9191,\n",
      "        14.2337, 14.2337, 14.2337, 14.2337, 14.2337, 14.2337, 14.2337, 14.2337,\n",
      "        14.2337, 14.2337, 14.2337, 14.2337, 14.2337, 14.2337, 14.2337, 14.2337,\n",
      "        14.2337, 14.2337, 14.2337, 14.2337, 13.9191, 13.9191, 13.9191, 13.9191,\n",
      "        14.2337, 14.2337, 14.2337, 14.2337, 14.2337, 14.2337, 14.2337, 14.2337,\n",
      "        14.2337, 14.2337, 14.2337, 14.2337, 14.2337, 14.2337, 14.2337, 14.2337,\n",
      "        14.2337, 14.2337, 14.2337, 14.2337, 14.2337, 14.2337, 14.2337, 14.2337,\n",
      "        14.2337, 14.2337, 14.2337, 14.2337, 14.2337, 14.2337, 14.2337, 14.2337,\n",
      "        14.2337, 14.2337, 14.2337, 14.2337, 14.2337, 14.2337, 14.2337, 14.2337,\n",
      "        14.2337, 14.2337, 14.2337, 14.2337, 14.2337, 14.2337, 14.2337, 14.2337,\n",
      "        14.2337, 14.2337, 14.2337, 14.2337, 14.2337, 14.2337, 14.2337, 14.2337,\n",
      "        14.2337, 14.2337, 14.2337, 14.2337, 14.2337, 14.2337, 14.2337, 14.2337,\n",
      "        14.2337, 14.2337, 14.2337, 14.2337, 14.2337, 14.2337, 14.2337, 14.2337,\n",
      "        14.2337, 14.2337, 14.2337, 14.2337, 14.2337, 14.2337, 14.2337, 14.2337,\n",
      "        14.2337, 14.2337, 14.2337, 14.2337, 14.2337, 14.2337, 14.2337, 14.2337,\n",
      "        13.9191, 13.9191, 13.9191, 13.9191, 14.2337, 14.2337, 14.2337, 14.2337,\n",
      "        14.2337, 14.2337, 14.2337, 14.2337, 14.2337, 14.2337, 14.2337, 14.2337,\n",
      "        14.2337, 14.2337, 14.2337, 14.2337, 14.2337, 14.2337, 14.2337, 14.2337,\n",
      "        14.2337, 14.2337, 14.2337, 14.2337, 14.2337, 14.2337, 14.2337, 14.2337,\n",
      "        14.2337, 14.2337, 14.2337, 14.2337, 14.2337, 14.2337, 14.2337, 14.2337,\n",
      "        14.2337, 14.2337, 14.2337, 14.2337, 14.2337, 14.2337, 14.2337, 14.2337,\n",
      "        13.9191, 13.9191, 13.9191, 13.9191, 14.2337, 14.2337, 14.2337, 14.2337,\n",
      "        14.2337, 14.2337, 14.2337, 14.2337, 14.2337, 14.2337, 14.2337, 14.2337,\n",
      "        14.2337, 14.2337, 14.2337, 14.2337, 14.2337, 14.2337, 14.2337, 14.2337,\n",
      "        14.2337, 14.2337, 14.2337, 14.2337, 14.2337, 14.2337, 14.2337, 14.2337,\n",
      "        14.2337, 14.2337, 14.2337, 14.2337, 13.9191, 13.9191, 13.9191, 13.9191,\n",
      "        14.2337, 14.2337, 14.2337, 14.2337, 14.2337, 14.2337, 14.2337, 14.2337,\n",
      "        14.2337, 14.2337, 14.2337, 14.2337, 14.2337, 14.2337, 14.2337, 14.2337,\n",
      "        14.2337, 14.2337, 14.2337, 14.2337, 13.9191, 13.9191, 13.9191, 13.9191,\n",
      "        14.2337, 14.2337, 14.2337, 14.2337, 14.2337, 14.2337, 14.2337, 14.2337,\n",
      "        14.2337, 14.2337, 14.2337, 14.2337, 14.2337, 14.2337, 14.2337, 14.2337,\n",
      "        14.2337, 14.2337, 14.2337, 14.2337, 14.2337, 14.2337, 14.2337, 14.2337,\n",
      "        14.2337, 14.2337, 14.2337, 14.2337, 14.2337, 14.2337, 14.2337, 14.2337,\n",
      "        14.2337, 14.2337, 14.2337, 14.2337, 14.2337, 14.2337, 14.2337, 14.2337,\n",
      "        14.2337, 14.2337, 14.2337, 14.2337, 14.2337, 14.2337, 14.2337, 14.2337,\n",
      "        14.2337, 14.2337, 14.2337, 14.2337, 14.2337, 14.2337, 14.2337, 14.2337,\n",
      "        14.2337, 14.2337, 14.2337, 14.2337, 14.2337, 14.2337, 14.2337, 14.2337,\n",
      "        14.2337, 14.2337, 14.2337, 14.2337, 14.2337, 14.2337, 14.2337, 14.2337,\n",
      "        14.2337, 14.2337, 14.2337, 14.2337, 14.2337, 14.2337, 14.2337, 14.2337,\n",
      "        14.2337, 14.2337, 14.2337, 14.2337, 14.2337, 14.2337, 14.2337, 14.2337,\n",
      "        13.9191, 13.9191, 13.9191, 13.9191, 14.2337, 14.2337, 14.2337, 14.2337,\n",
      "        14.2337, 14.2337, 14.2337, 14.2337, 14.2337, 14.2337, 14.2337, 14.2337,\n",
      "        14.2337, 14.2337, 14.2337, 14.2337, 14.2337, 14.2337, 14.2337, 14.2337,\n",
      "        14.2337, 14.2337, 14.2337, 14.2337, 14.2337, 14.2337, 14.2337, 14.2337,\n",
      "        14.2337, 14.2337, 14.2337, 14.2337, 14.2337, 14.2337, 14.2337, 14.2337,\n",
      "        14.2337, 14.2337, 14.2337, 14.2337, 14.2337, 14.2337, 14.2337, 14.2337,\n",
      "        13.9191, 13.9191, 13.9191, 14.2337, 14.2337, 14.2337, 14.2337, 14.2337,\n",
      "        14.2337, 14.2337, 14.2337, 14.2337, 14.2337, 14.2337, 14.2337, 14.2337],\n",
      "       grad_fn=<DiagBackward>)\n"
     ]
    },
    {
     "name": "stdout",
     "output_type": "stream",
     "text": [
      "ipdb> torch.diag(pdd[:,0,:,11])\n",
      "tensor([-0.1731, -0.1731, -0.1731, -0.1731, -0.1731, -0.1731, -0.1731, -0.1731,\n",
      "        -0.1731, -0.1731, -0.1731, -0.1731, -0.1731, -0.1731, -0.1731, -0.1731,\n",
      "        -0.1731, -0.1731, -0.1731, -0.1731, -0.1731, -0.1731, -0.1731, -0.1731,\n",
      "        -0.1731, -0.1731, -0.1731, -0.1731, -0.1731, -0.1731, -0.1731, -0.1731,\n",
      "        -0.2804, -0.1731, -0.1731, -0.1731, -0.1731, -0.1731, -0.1731, -0.1731,\n",
      "        -0.1731, -0.1731, -0.1731, -0.1731, -0.1731, -0.1731, -0.1731, -0.1731,\n",
      "        -0.2804, -0.2804, -0.2804, -0.2804, -0.1731, -0.1731, -0.1731, -0.1731,\n",
      "        -0.1731, -0.1731, -0.1731, -0.1731, -0.1731, -0.1731, -0.1731, -0.1731,\n",
      "        -0.1731, -0.1731, -0.1731, -0.1731, -0.1731, -0.1731, -0.1731, -0.1731,\n",
      "        -0.1731, -0.1731, -0.1731, -0.1731, -0.1731, -0.1731, -0.1731, -0.1731,\n",
      "        -0.1731, -0.1731, -0.1731, -0.1731, -0.1731, -0.1731, -0.1731, -0.1731,\n",
      "        -0.1731, -0.1731, -0.1731, -0.1731, -0.1731, -0.1731, -0.1731, -0.1731,\n",
      "        -0.2804, -0.2804, -0.2804, -0.2804, -0.1731, -0.1731, -0.1731, -0.1731,\n",
      "        -0.1731, -0.1731, -0.1731, -0.1731, -0.1731, -0.1731, -0.1731, -0.1731,\n",
      "        -0.1731, -0.1731, -0.1731, -0.1731, -0.1731, -0.1731, -0.1731, -0.1731,\n",
      "        -0.1731, -0.1731, -0.1731, -0.1731, -0.1731, -0.1731, -0.1731, -0.1731,\n",
      "        -0.1731, -0.1731, -0.1731, -0.1731, -0.2804, -0.2804, -0.2804, -0.2804,\n",
      "        -0.1731, -0.1731, -0.1731, -0.1731, -0.1731, -0.1731, -0.1731, -0.1731,\n",
      "        -0.1731, -0.1731, -0.1731, -0.1731, -0.1731, -0.1731, -0.1731, -0.1731,\n",
      "        -0.1731, -0.1731, -0.1731, -0.1731, -0.2804, -0.2804, -0.2804, -0.2804,\n",
      "        -0.1731, -0.1731, -0.1731, -0.1731, -0.1731, -0.1731, -0.1731, -0.1731,\n",
      "        -0.1731, -0.1731, -0.1731, -0.1731, -0.1731, -0.1731, -0.1731, -0.1731,\n",
      "        -0.1731, -0.1731, -0.1731, -0.1731, -0.1731, -0.1731, -0.1731, -0.1731,\n",
      "        -0.1731, -0.1731, -0.1731, -0.1731, -0.1731, -0.1731, -0.1731, -0.1731,\n",
      "        -0.1731, -0.1731, -0.1731, -0.1731, -0.1731, -0.1731, -0.1731, -0.1731,\n",
      "        -0.1731, -0.1731, -0.1731, -0.1731, -0.1731, -0.1731, -0.1731, -0.1731,\n",
      "        -0.1731, -0.1731, -0.1731, -0.1731, -0.1731, -0.1731, -0.1731, -0.1731,\n",
      "        -0.1731, -0.1731, -0.1731, -0.1731, -0.1731, -0.1731, -0.1731, -0.1731,\n",
      "        -0.1731, -0.1731, -0.1731, -0.1731, -0.1731, -0.1731, -0.1731, -0.1731,\n",
      "        -0.1731, -0.1731, -0.1731, -0.1731, -0.1731, -0.1731, -0.1731, -0.1731,\n",
      "        -0.1731, -0.1731, -0.1731, -0.1731, -0.1731, -0.1731, -0.1731, -0.1731,\n",
      "        -0.2804, -0.2804, -0.2804, -0.2804, -0.1731, -0.1731, -0.1731, -0.1731,\n",
      "        -0.1731, -0.1731, -0.1731, -0.1731, -0.1731, -0.1731, -0.1731, -0.1731,\n",
      "        -0.1731, -0.1731, -0.1731, -0.1731, -0.1731, -0.1731, -0.1731, -0.1731,\n",
      "        -0.1731, -0.1731, -0.1731, -0.1731, -0.1731, -0.1731, -0.1731, -0.1731,\n",
      "        -0.1731, -0.1731, -0.1731, -0.1731, -0.1731, -0.1731, -0.1731, -0.1731,\n",
      "        -0.1731, -0.1731, -0.1731, -0.1731, -0.1731, -0.1731, -0.1731, -0.1731,\n",
      "        -0.2804, -0.2804, -0.2804, -0.2804, -0.1731, -0.1731, -0.1731, -0.1731,\n",
      "        -0.1731, -0.1731, -0.1731, -0.1731, -0.1731, -0.1731, -0.1731, -0.1731,\n",
      "        -0.1731, -0.1731, -0.1731, -0.1731, -0.1731, -0.1731, -0.1731, -0.1731,\n",
      "        -0.1731, -0.1731, -0.1731, -0.1731, -0.1731, -0.1731, -0.1731, -0.1731,\n",
      "        -0.1731, -0.1731, -0.1731, -0.1731, -0.2804, -0.2804, -0.2804, -0.2804,\n",
      "        -0.1731, -0.1731, -0.1731, -0.1731, -0.1731, -0.1731, -0.1731, -0.1731,\n",
      "        -0.1731, -0.1731, -0.1731, -0.1731, -0.1731, -0.1731, -0.1731, -0.1731,\n",
      "        -0.1731, -0.1731, -0.1731, -0.1731, -0.2804, -0.2804, -0.2804, -0.2804,\n",
      "        -0.1731, -0.1731, -0.1731, -0.1731, -0.1731, -0.1731, -0.1731, -0.1731,\n",
      "        -0.1731, -0.1731, -0.1731, -0.1731, -0.1731, -0.1731, -0.1731, -0.1731,\n",
      "        -0.1731, -0.1731, -0.1731, -0.1731, -0.1731, -0.1731, -0.1731, -0.1731,\n",
      "        -0.1731, -0.1731, -0.1731, -0.1731, -0.1731, -0.1731, -0.1731, -0.1731,\n",
      "        -0.1731, -0.1731, -0.1731, -0.1731, -0.1731, -0.1731, -0.1731, -0.1731,\n",
      "        -0.1731, -0.1731, -0.1731, -0.1731, -0.1731, -0.1731, -0.1731, -0.1731,\n",
      "        -0.1731, -0.1731, -0.1731, -0.1731, -0.1731, -0.1731, -0.1731, -0.1731,\n",
      "        -0.1731, -0.1731, -0.1731, -0.1731, -0.1731, -0.1731, -0.1731, -0.1731,\n",
      "        -0.1731, -0.1731, -0.1731, -0.1731, -0.1731, -0.1731, -0.1731, -0.1731,\n",
      "        -0.1731, -0.1731, -0.1731, -0.1731, -0.1731, -0.1731, -0.1731, -0.1731,\n",
      "        -0.1731, -0.1731, -0.1731, -0.1731, -0.1731, -0.1731, -0.1731, -0.1731,\n",
      "        -0.2804, -0.2804, -0.2804, -0.2804, -0.1731, -0.1731, -0.1731, -0.1731,\n",
      "        -0.1731, -0.1731, -0.1731, -0.1731, -0.1731, -0.1731, -0.1731, -0.1731,\n",
      "        -0.1731, -0.1731, -0.1731, -0.1731, -0.1731, -0.1731, -0.1731, -0.1731,\n",
      "        -0.1731, -0.1731, -0.1731, -0.1731, -0.1731, -0.1731, -0.1731, -0.1731,\n",
      "        -0.1731, -0.1731, -0.1731, -0.1731, -0.1731, -0.1731, -0.1731, -0.1731,\n",
      "        -0.1731, -0.1731, -0.1731, -0.1731, -0.1731, -0.1731, -0.1731, -0.1731,\n",
      "        -0.2804, -0.2804, -0.2804, -0.1731, -0.1731, -0.1731, -0.1731, -0.1731,\n",
      "        -0.1731, -0.1731, -0.1731, -0.1731, -0.1731, -0.1731, -0.1731, -0.1731],\n",
      "       grad_fn=<DiagBackward>)\n",
      "ipdb> torch.diag(pdd[:,0,:,13])\n",
      "tensor([0.2241, 0.2241, 0.2241, 0.2241, 0.2241, 0.2241, 0.2241, 0.2241, 0.2241,\n",
      "        0.2241, 0.2241, 0.2241, 0.2241, 0.2241, 0.2241, 0.2241, 0.2241, 0.2241,\n",
      "        0.2241, 0.2241, 0.2241, 0.2241, 0.2241, 0.2241, 0.2241, 0.2241, 0.2241,\n",
      "        0.2241, 0.2241, 0.2241, 0.2241, 0.2241, 0.2422, 0.2241, 0.2241, 0.2241,\n",
      "        0.2241, 0.2241, 0.2241, 0.2241, 0.2241, 0.2241, 0.2241, 0.2241, 0.2241,\n",
      "        0.2241, 0.2241, 0.2241, 0.2422, 0.2422, 0.2422, 0.2422, 0.2241, 0.2241,\n",
      "        0.2241, 0.2241, 0.2241, 0.2241, 0.2241, 0.2241, 0.2241, 0.2241, 0.2241,\n",
      "        0.2241, 0.2241, 0.2241, 0.2241, 0.2241, 0.2241, 0.2241, 0.2241, 0.2241,\n",
      "        0.2241, 0.2241, 0.2241, 0.2241, 0.2241, 0.2241, 0.2241, 0.2241, 0.2241,\n",
      "        0.2241, 0.2241, 0.2241, 0.2241, 0.2241, 0.2241, 0.2241, 0.2241, 0.2241,\n",
      "        0.2241, 0.2241, 0.2241, 0.2241, 0.2241, 0.2241, 0.2422, 0.2422, 0.2422,\n",
      "        0.2422, 0.2241, 0.2241, 0.2241, 0.2241, 0.2241, 0.2241, 0.2241, 0.2241,\n",
      "        0.2241, 0.2241, 0.2241, 0.2241, 0.2241, 0.2241, 0.2241, 0.2241, 0.2241,\n",
      "        0.2241, 0.2241, 0.2241, 0.2241, 0.2241, 0.2241, 0.2241, 0.2241, 0.2241,\n",
      "        0.2241, 0.2241, 0.2241, 0.2241, 0.2241, 0.2241, 0.2422, 0.2422, 0.2422,\n",
      "        0.2422, 0.2241, 0.2241, 0.2241, 0.2241, 0.2241, 0.2241, 0.2241, 0.2241,\n",
      "        0.2241, 0.2241, 0.2241, 0.2241, 0.2241, 0.2241, 0.2241, 0.2241, 0.2241,\n",
      "        0.2241, 0.2241, 0.2241, 0.2422, 0.2422, 0.2422, 0.2422, 0.2241, 0.2241,\n",
      "        0.2241, 0.2241, 0.2241, 0.2241, 0.2241, 0.2241, 0.2241, 0.2241, 0.2241,\n",
      "        0.2241, 0.2241, 0.2241, 0.2241, 0.2241, 0.2241, 0.2241, 0.2241, 0.2241,\n",
      "        0.2241, 0.2241, 0.2241, 0.2241, 0.2241, 0.2241, 0.2241, 0.2241, 0.2241,\n",
      "        0.2241, 0.2241, 0.2241, 0.2241, 0.2241, 0.2241, 0.2241, 0.2241, 0.2241,\n",
      "        0.2241, 0.2241, 0.2241, 0.2241, 0.2241, 0.2241, 0.2241, 0.2241, 0.2241,\n",
      "        0.2241, 0.2241, 0.2241, 0.2241, 0.2241, 0.2241, 0.2241, 0.2241, 0.2241,\n",
      "        0.2241, 0.2241, 0.2241, 0.2241, 0.2241, 0.2241, 0.2241, 0.2241, 0.2241,\n",
      "        0.2241, 0.2241, 0.2241, 0.2241, 0.2241, 0.2241, 0.2241, 0.2241, 0.2241,\n",
      "        0.2241, 0.2241, 0.2241, 0.2241, 0.2241, 0.2241, 0.2241, 0.2241, 0.2241,\n",
      "        0.2241, 0.2241, 0.2241, 0.2241, 0.2241, 0.2422, 0.2422, 0.2422, 0.2422,\n",
      "        0.2241, 0.2241, 0.2241, 0.2241, 0.2241, 0.2241, 0.2241, 0.2241, 0.2241,\n",
      "        0.2241, 0.2241, 0.2241, 0.2241, 0.2241, 0.2241, 0.2241, 0.2241, 0.2241,\n",
      "        0.2241, 0.2241, 0.2241, 0.2241, 0.2241, 0.2241, 0.2241, 0.2241, 0.2241,\n",
      "        0.2241, 0.2241, 0.2241, 0.2241, 0.2241, 0.2241, 0.2241, 0.2241, 0.2241,\n",
      "        0.2241, 0.2241, 0.2241, 0.2241, 0.2241, 0.2241, 0.2241, 0.2241, 0.2422,\n",
      "        0.2422, 0.2422, 0.2422, 0.2241, 0.2241, 0.2241, 0.2241, 0.2241, 0.2241,\n",
      "        0.2241, 0.2241, 0.2241, 0.2241, 0.2241, 0.2241, 0.2241, 0.2241, 0.2241,\n",
      "        0.2241, 0.2241, 0.2241, 0.2241, 0.2241, 0.2241, 0.2241, 0.2241, 0.2241,\n",
      "        0.2241, 0.2241, 0.2241, 0.2241, 0.2241, 0.2241, 0.2241, 0.2241, 0.2422,\n",
      "        0.2422, 0.2422, 0.2422, 0.2241, 0.2241, 0.2241, 0.2241, 0.2241, 0.2241,\n",
      "        0.2241, 0.2241, 0.2241, 0.2241, 0.2241, 0.2241, 0.2241, 0.2241, 0.2241,\n",
      "        0.2241, 0.2241, 0.2241, 0.2241, 0.2241, 0.2422, 0.2422, 0.2422, 0.2422,\n",
      "        0.2241, 0.2241, 0.2241, 0.2241, 0.2241, 0.2241, 0.2241, 0.2241, 0.2241,\n",
      "        0.2241, 0.2241, 0.2241, 0.2241, 0.2241, 0.2241, 0.2241, 0.2241, 0.2241,\n",
      "        0.2241, 0.2241, 0.2241, 0.2241, 0.2241, 0.2241, 0.2241, 0.2241, 0.2241,\n",
      "        0.2241, 0.2241, 0.2241, 0.2241, 0.2241, 0.2241, 0.2241, 0.2241, 0.2241,\n",
      "        0.2241, 0.2241, 0.2241, 0.2241, 0.2241, 0.2241, 0.2241, 0.2241, 0.2241,\n",
      "        0.2241, 0.2241, 0.2241, 0.2241, 0.2241, 0.2241, 0.2241, 0.2241, 0.2241,\n",
      "        0.2241, 0.2241, 0.2241, 0.2241, 0.2241, 0.2241, 0.2241, 0.2241, 0.2241,\n",
      "        0.2241, 0.2241, 0.2241, 0.2241, 0.2241, 0.2241, 0.2241, 0.2241, 0.2241,\n",
      "        0.2241, 0.2241, 0.2241, 0.2241, 0.2241, 0.2241, 0.2241, 0.2241, 0.2241,\n",
      "        0.2241, 0.2241, 0.2241, 0.2241, 0.2241, 0.2241, 0.2241, 0.2422, 0.2422,\n",
      "        0.2422, 0.2422, 0.2241, 0.2241, 0.2241, 0.2241, 0.2241, 0.2241, 0.2241,\n",
      "        0.2241, 0.2241, 0.2241, 0.2241, 0.2241, 0.2241, 0.2241, 0.2241, 0.2241,\n",
      "        0.2241, 0.2241, 0.2241, 0.2241, 0.2241, 0.2241, 0.2241, 0.2241, 0.2241,\n",
      "        0.2241, 0.2241, 0.2241, 0.2241, 0.2241, 0.2241, 0.2241, 0.2241, 0.2241,\n",
      "        0.2241, 0.2241, 0.2241, 0.2241, 0.2241, 0.2241, 0.2241, 0.2241, 0.2241,\n",
      "        0.2241, 0.2422, 0.2422, 0.2422, 0.2241, 0.2241, 0.2241, 0.2241, 0.2241,\n",
      "        0.2241, 0.2241, 0.2241, 0.2241, 0.2241, 0.2241, 0.2241, 0.2241],\n",
      "       grad_fn=<DiagBackward>)\n"
     ]
    },
    {
     "name": "stdout",
     "output_type": "stream",
     "text": [
      "ipdb> q\n"
     ]
    },
    {
     "ename": "BdbQuit",
     "evalue": "",
     "output_type": "error",
     "traceback": [
      "\u001b[0;31m---------------------------------------------------------------------------\u001b[0m",
      "\u001b[0;31mBdbQuit\u001b[0m                                   Traceback (most recent call last)",
      "\u001b[0;32m/tmp/ipykernel_30513/3098502489.py\u001b[0m in \u001b[0;36m<module>\u001b[0;34m\u001b[0m\n\u001b[0;32m----> 1\u001b[0;31m \u001b[0mmodel\u001b[0m\u001b[0;34m.\u001b[0m\u001b[0mtransition_prior\u001b[0m\u001b[0;34m(\u001b[0m\u001b[0mmus\u001b[0m\u001b[0;34m,\u001b[0m \u001b[0mtorch\u001b[0m\u001b[0;34m.\u001b[0m\u001b[0msigmoid\u001b[0m\u001b[0;34m(\u001b[0m\u001b[0mmodel\u001b[0m\u001b[0;34m.\u001b[0m\u001b[0mlogits\u001b[0m\u001b[0;34m)\u001b[0m\u001b[0;34m.\u001b[0m\u001b[0mdetach\u001b[0m\u001b[0;34m(\u001b[0m\u001b[0;34m)\u001b[0m\u001b[0;34m)\u001b[0m\u001b[0;34m\u001b[0m\u001b[0;34m\u001b[0m\u001b[0m\n\u001b[0m",
      "\u001b[0;32m~/anaconda3/envs/ltcl/lib/python3.8/site-packages/torch/nn/modules/module.py\u001b[0m in \u001b[0;36m_call_impl\u001b[0;34m(self, *input, **kwargs)\u001b[0m\n\u001b[1;32m    887\u001b[0m             \u001b[0mresult\u001b[0m \u001b[0;34m=\u001b[0m \u001b[0mself\u001b[0m\u001b[0;34m.\u001b[0m\u001b[0m_slow_forward\u001b[0m\u001b[0;34m(\u001b[0m\u001b[0;34m*\u001b[0m\u001b[0minput\u001b[0m\u001b[0;34m,\u001b[0m \u001b[0;34m**\u001b[0m\u001b[0mkwargs\u001b[0m\u001b[0;34m)\u001b[0m\u001b[0;34m\u001b[0m\u001b[0;34m\u001b[0m\u001b[0m\n\u001b[1;32m    888\u001b[0m         \u001b[0;32melse\u001b[0m\u001b[0;34m:\u001b[0m\u001b[0;34m\u001b[0m\u001b[0;34m\u001b[0m\u001b[0m\n\u001b[0;32m--> 889\u001b[0;31m             \u001b[0mresult\u001b[0m \u001b[0;34m=\u001b[0m \u001b[0mself\u001b[0m\u001b[0;34m.\u001b[0m\u001b[0mforward\u001b[0m\u001b[0;34m(\u001b[0m\u001b[0;34m*\u001b[0m\u001b[0minput\u001b[0m\u001b[0;34m,\u001b[0m \u001b[0;34m**\u001b[0m\u001b[0mkwargs\u001b[0m\u001b[0;34m)\u001b[0m\u001b[0;34m\u001b[0m\u001b[0;34m\u001b[0m\u001b[0m\n\u001b[0m\u001b[1;32m    890\u001b[0m         for hook in itertools.chain(\n\u001b[1;32m    891\u001b[0m                 \u001b[0m_global_forward_hooks\u001b[0m\u001b[0;34m.\u001b[0m\u001b[0mvalues\u001b[0m\u001b[0;34m(\u001b[0m\u001b[0;34m)\u001b[0m\u001b[0;34m,\u001b[0m\u001b[0;34m\u001b[0m\u001b[0;34m\u001b[0m\u001b[0m\n",
      "\u001b[0;32m~/project/ltcl/ltcl/modules/components/transition.py\u001b[0m in \u001b[0;36mforward\u001b[0;34m(self, x, masks)\u001b[0m\n\u001b[1;32m    155\u001b[0m             \u001b[0;31m# Determinant of low-triangular mat is product of diagonal entries\u001b[0m\u001b[0;34m\u001b[0m\u001b[0;34m\u001b[0m\u001b[0;34m\u001b[0m\u001b[0m\n\u001b[1;32m    156\u001b[0m             \u001b[0mpdb\u001b[0m\u001b[0;34m.\u001b[0m\u001b[0mset_trace\u001b[0m\u001b[0;34m(\u001b[0m\u001b[0;34m)\u001b[0m\u001b[0;34m\u001b[0m\u001b[0;34m\u001b[0m\u001b[0m\n\u001b[0;32m--> 157\u001b[0;31m             \u001b[0mlogabsdet\u001b[0m \u001b[0;34m=\u001b[0m \u001b[0mtorch\u001b[0m\u001b[0;34m.\u001b[0m\u001b[0mlog\u001b[0m\u001b[0;34m(\u001b[0m\u001b[0mtorch\u001b[0m\u001b[0;34m.\u001b[0m\u001b[0mabs\u001b[0m\u001b[0;34m(\u001b[0m\u001b[0mtorch\u001b[0m\u001b[0;34m.\u001b[0m\u001b[0mdiag\u001b[0m\u001b[0;34m(\u001b[0m\u001b[0mpdd\u001b[0m\u001b[0;34m[\u001b[0m\u001b[0;34m:\u001b[0m\u001b[0;34m,\u001b[0m\u001b[0;36m0\u001b[0m\u001b[0;34m,\u001b[0m\u001b[0;34m:\u001b[0m\u001b[0;34m,\u001b[0m\u001b[0;34m-\u001b[0m\u001b[0;36m1\u001b[0m\u001b[0;34m]\u001b[0m\u001b[0;34m)\u001b[0m\u001b[0;34m)\u001b[0m\u001b[0;34m)\u001b[0m\u001b[0;34m\u001b[0m\u001b[0;34m\u001b[0m\u001b[0m\n\u001b[0m\u001b[1;32m    158\u001b[0m             \u001b[0msum_log_abs_det_jacobian\u001b[0m \u001b[0;34m+=\u001b[0m \u001b[0mlogabsdet\u001b[0m\u001b[0;34m\u001b[0m\u001b[0;34m\u001b[0m\u001b[0m\n\u001b[1;32m    159\u001b[0m             \u001b[0mresiduals\u001b[0m\u001b[0;34m.\u001b[0m\u001b[0mappend\u001b[0m\u001b[0;34m(\u001b[0m\u001b[0mresidual\u001b[0m\u001b[0;34m)\u001b[0m\u001b[0;34m\u001b[0m\u001b[0;34m\u001b[0m\u001b[0m\n",
      "\u001b[0;32m~/project/ltcl/ltcl/modules/components/transition.py\u001b[0m in \u001b[0;36mforward\u001b[0;34m(self, x, masks)\u001b[0m\n\u001b[1;32m    155\u001b[0m             \u001b[0;31m# Determinant of low-triangular mat is product of diagonal entries\u001b[0m\u001b[0;34m\u001b[0m\u001b[0;34m\u001b[0m\u001b[0;34m\u001b[0m\u001b[0m\n\u001b[1;32m    156\u001b[0m             \u001b[0mpdb\u001b[0m\u001b[0;34m.\u001b[0m\u001b[0mset_trace\u001b[0m\u001b[0;34m(\u001b[0m\u001b[0;34m)\u001b[0m\u001b[0;34m\u001b[0m\u001b[0;34m\u001b[0m\u001b[0m\n\u001b[0;32m--> 157\u001b[0;31m             \u001b[0mlogabsdet\u001b[0m \u001b[0;34m=\u001b[0m \u001b[0mtorch\u001b[0m\u001b[0;34m.\u001b[0m\u001b[0mlog\u001b[0m\u001b[0;34m(\u001b[0m\u001b[0mtorch\u001b[0m\u001b[0;34m.\u001b[0m\u001b[0mabs\u001b[0m\u001b[0;34m(\u001b[0m\u001b[0mtorch\u001b[0m\u001b[0;34m.\u001b[0m\u001b[0mdiag\u001b[0m\u001b[0;34m(\u001b[0m\u001b[0mpdd\u001b[0m\u001b[0;34m[\u001b[0m\u001b[0;34m:\u001b[0m\u001b[0;34m,\u001b[0m\u001b[0;36m0\u001b[0m\u001b[0;34m,\u001b[0m\u001b[0;34m:\u001b[0m\u001b[0;34m,\u001b[0m\u001b[0;34m-\u001b[0m\u001b[0;36m1\u001b[0m\u001b[0;34m]\u001b[0m\u001b[0;34m)\u001b[0m\u001b[0;34m)\u001b[0m\u001b[0;34m)\u001b[0m\u001b[0;34m\u001b[0m\u001b[0;34m\u001b[0m\u001b[0m\n\u001b[0m\u001b[1;32m    158\u001b[0m             \u001b[0msum_log_abs_det_jacobian\u001b[0m \u001b[0;34m+=\u001b[0m \u001b[0mlogabsdet\u001b[0m\u001b[0;34m\u001b[0m\u001b[0;34m\u001b[0m\u001b[0m\n\u001b[1;32m    159\u001b[0m             \u001b[0mresiduals\u001b[0m\u001b[0;34m.\u001b[0m\u001b[0mappend\u001b[0m\u001b[0;34m(\u001b[0m\u001b[0mresidual\u001b[0m\u001b[0;34m)\u001b[0m\u001b[0;34m\u001b[0m\u001b[0;34m\u001b[0m\u001b[0m\n",
      "\u001b[0;32m~/anaconda3/envs/ltcl/lib/python3.8/bdb.py\u001b[0m in \u001b[0;36mtrace_dispatch\u001b[0;34m(self, frame, event, arg)\u001b[0m\n\u001b[1;32m     86\u001b[0m             \u001b[0;32mreturn\u001b[0m \u001b[0;31m# None\u001b[0m\u001b[0;34m\u001b[0m\u001b[0;34m\u001b[0m\u001b[0m\n\u001b[1;32m     87\u001b[0m         \u001b[0;32mif\u001b[0m \u001b[0mevent\u001b[0m \u001b[0;34m==\u001b[0m \u001b[0;34m'line'\u001b[0m\u001b[0;34m:\u001b[0m\u001b[0;34m\u001b[0m\u001b[0;34m\u001b[0m\u001b[0m\n\u001b[0;32m---> 88\u001b[0;31m             \u001b[0;32mreturn\u001b[0m \u001b[0mself\u001b[0m\u001b[0;34m.\u001b[0m\u001b[0mdispatch_line\u001b[0m\u001b[0;34m(\u001b[0m\u001b[0mframe\u001b[0m\u001b[0;34m)\u001b[0m\u001b[0;34m\u001b[0m\u001b[0;34m\u001b[0m\u001b[0m\n\u001b[0m\u001b[1;32m     89\u001b[0m         \u001b[0;32mif\u001b[0m \u001b[0mevent\u001b[0m \u001b[0;34m==\u001b[0m \u001b[0;34m'call'\u001b[0m\u001b[0;34m:\u001b[0m\u001b[0;34m\u001b[0m\u001b[0;34m\u001b[0m\u001b[0m\n\u001b[1;32m     90\u001b[0m             \u001b[0;32mreturn\u001b[0m \u001b[0mself\u001b[0m\u001b[0;34m.\u001b[0m\u001b[0mdispatch_call\u001b[0m\u001b[0;34m(\u001b[0m\u001b[0mframe\u001b[0m\u001b[0;34m,\u001b[0m \u001b[0marg\u001b[0m\u001b[0;34m)\u001b[0m\u001b[0;34m\u001b[0m\u001b[0;34m\u001b[0m\u001b[0m\n",
      "\u001b[0;32m~/anaconda3/envs/ltcl/lib/python3.8/bdb.py\u001b[0m in \u001b[0;36mdispatch_line\u001b[0;34m(self, frame)\u001b[0m\n\u001b[1;32m    111\u001b[0m         \u001b[0;32mif\u001b[0m \u001b[0mself\u001b[0m\u001b[0;34m.\u001b[0m\u001b[0mstop_here\u001b[0m\u001b[0;34m(\u001b[0m\u001b[0mframe\u001b[0m\u001b[0;34m)\u001b[0m \u001b[0;32mor\u001b[0m \u001b[0mself\u001b[0m\u001b[0;34m.\u001b[0m\u001b[0mbreak_here\u001b[0m\u001b[0;34m(\u001b[0m\u001b[0mframe\u001b[0m\u001b[0;34m)\u001b[0m\u001b[0;34m:\u001b[0m\u001b[0;34m\u001b[0m\u001b[0;34m\u001b[0m\u001b[0m\n\u001b[1;32m    112\u001b[0m             \u001b[0mself\u001b[0m\u001b[0;34m.\u001b[0m\u001b[0muser_line\u001b[0m\u001b[0;34m(\u001b[0m\u001b[0mframe\u001b[0m\u001b[0;34m)\u001b[0m\u001b[0;34m\u001b[0m\u001b[0;34m\u001b[0m\u001b[0m\n\u001b[0;32m--> 113\u001b[0;31m             \u001b[0;32mif\u001b[0m \u001b[0mself\u001b[0m\u001b[0;34m.\u001b[0m\u001b[0mquitting\u001b[0m\u001b[0;34m:\u001b[0m \u001b[0;32mraise\u001b[0m \u001b[0mBdbQuit\u001b[0m\u001b[0;34m\u001b[0m\u001b[0;34m\u001b[0m\u001b[0m\n\u001b[0m\u001b[1;32m    114\u001b[0m         \u001b[0;32mreturn\u001b[0m \u001b[0mself\u001b[0m\u001b[0;34m.\u001b[0m\u001b[0mtrace_dispatch\u001b[0m\u001b[0;34m\u001b[0m\u001b[0;34m\u001b[0m\u001b[0m\n\u001b[1;32m    115\u001b[0m \u001b[0;34m\u001b[0m\u001b[0m\n",
      "\u001b[0;31mBdbQuit\u001b[0m: "
     ]
    }
   ],
   "source": [
    "model.transition_prior(mus, torch.sigmoid(model.logits).detach())"
   ]
  },
  {
   "cell_type": "code",
   "execution_count": 288,
   "metadata": {},
   "outputs": [],
   "source": [
    "out = [ ]\n",
    "for b_idx in range(batch_size*(length-2)):\n",
    "    out.append(pdds[:, b_idx,b_idx,:])\n",
    "out = torch.stack(out,0)"
   ]
  },
  {
   "cell_type": "code",
   "execution_count": 290,
   "metadata": {},
   "outputs": [
    {
     "data": {
      "text/plain": [
       "tensor([[1.3403e-02, 2.8122e+00, 7.8797e-03, 2.0579e-02, 3.9219e-03, 2.2814e-01,\n",
       "         1.0765e-03, 1.0668e-01, 9.6951e-03, 8.7248e-01],\n",
       "        [1.2821e-02, 1.4018e+01, 1.9967e-03, 3.4346e-02, 4.6324e-03, 2.5565e-01,\n",
       "         6.9925e-03, 5.6660e-03, 3.3474e-03, 7.5457e-01]])"
      ]
     },
     "execution_count": 290,
     "metadata": {},
     "output_type": "execute_result"
    }
   ],
   "source": [
    "out.abs().mean(0)[1].reshape(2,10)"
   ]
  },
  {
   "cell_type": "code",
   "execution_count": 146,
   "metadata": {},
   "outputs": [
    {
     "ename": "AttributeError",
     "evalue": "'tuple' object has no attribute 'shape'",
     "output_type": "error",
     "traceback": [
      "\u001b[0;31m---------------------------------------------------------------------------\u001b[0m",
      "\u001b[0;31mAttributeError\u001b[0m                            Traceback (most recent call last)",
      "\u001b[0;32m/tmp/ipykernel_26311/820487034.py\u001b[0m in \u001b[0;36m<module>\u001b[0;34m\u001b[0m\n\u001b[0;32m----> 1\u001b[0;31m \u001b[0mpdds\u001b[0m\u001b[0;34m[\u001b[0m\u001b[0;36m0\u001b[0m\u001b[0;34m]\u001b[0m\u001b[0;34m.\u001b[0m\u001b[0mshape\u001b[0m\u001b[0;34m\u001b[0m\u001b[0;34m\u001b[0m\u001b[0m\n\u001b[0m",
      "\u001b[0;31mAttributeError\u001b[0m: 'tuple' object has no attribute 'shape'"
     ]
    }
   ],
   "source": [
    "pdds[0].shape"
   ]
  },
  {
   "cell_type": "code",
   "execution_count": 162,
   "metadata": {},
   "outputs": [
    {
     "data": {
      "text/plain": [
       "tensor([[False,  True, False, False, False,  True, False,  True, False,  True],\n",
       "        [False,  True, False, False, False,  True, False, False, False,  True]])"
      ]
     },
     "execution_count": 162,
     "metadata": {},
     "output_type": "execute_result"
    }
   ],
   "source": [
    "torch.stack(a,0).abs().mean(0).reshape(2,10)> 1e-01"
   ]
  },
  {
   "cell_type": "code",
   "execution_count": 139,
   "metadata": {},
   "outputs": [
    {
     "data": {
      "text/plain": [
       "tensor([[4.8566e-03, 2.4216e+00, 3.7971e-03, 5.8777e-02, 2.8741e-03, 2.4558e-01,\n",
       "         6.0292e-03, 1.0975e-01, 3.1436e-02, 7.5336e-01],\n",
       "        [1.3963e-02, 1.2103e+01, 5.8914e-03, 3.6096e-02, 6.0960e-03, 2.1966e-01,\n",
       "         8.9555e-03, 3.8163e-02, 8.6819e-03, 6.5208e-01]])"
      ]
     },
     "execution_count": 139,
     "metadata": {},
     "output_type": "execute_result"
    }
   ],
   "source": [
    "torch.stack(a,0).abs().mean(0).reshape(2,10)"
   ]
  },
  {
   "cell_type": "code",
   "execution_count": null,
   "metadata": {},
   "outputs": [],
   "source": [
    "pdd[2]"
   ]
  },
  {
   "cell_type": "code",
   "execution_count": null,
   "metadata": {},
   "outputs": [],
   "source": [
    "jacobian(model.transition.gs[0 ], inputs, create_graph=False, vectorize=True)"
   ]
  },
  {
   "cell_type": "code",
   "execution_count": 39,
   "metadata": {},
   "outputs": [
    {
     "data": {
      "text/plain": [
       "torch.Size([32, 6, 10])"
      ]
     },
     "execution_count": 39,
     "metadata": {},
     "output_type": "execute_result"
    }
   ],
   "source": [
    "zs.shape"
   ]
  },
  {
   "cell_type": "code",
   "execution_count": 34,
   "metadata": {},
   "outputs": [],
   "source": [
    "batch_idx = 0\n",
    "t_idx = 3\n",
    "obj_idx = 2"
   ]
  },
  {
   "cell_type": "code",
   "execution_count": 35,
   "metadata": {},
   "outputs": [
    {
     "name": "stderr",
     "output_type": "stream",
     "text": [
      "Clipping input data to the valid range for imshow with RGB data ([0..1] for floats or [0..255] for integers).\n"
     ]
    },
    {
     "data": {
      "text/plain": [
       "(-0.5, 63.5, 63.5, -0.5)"
      ]
     },
     "execution_count": 35,
     "metadata": {},
     "output_type": "execute_result"
    },
    {
     "data": {
      "image/png": "[encoded data removed]",
      "text/plain": [
       "<Figure size 216x216 with 1 Axes>"
      ]
     },
     "metadata": {
      "needs_background": "light"
     },
     "output_type": "display_data"
    }
   ],
   "source": [
    "fig = plt.figure(figsize=(3,3))\n",
    "plt.imshow(batch['s1']['xt'][batch_idx,t_idx].cpu().permute(1,2,0).numpy())\n",
    "plt.axis('off')"
   ]
  },
  {
   "cell_type": "code",
   "execution_count": 181,
   "metadata": {},
   "outputs": [
    {
     "name": "stderr",
     "output_type": "stream",
     "text": [
      "Clipping input data to the valid range for imshow with RGB data ([0..1] for floats or [0..255] for integers).\n"
     ]
    },
    {
     "data": {
      "image/png": "[encoded data removed]",
      "text/plain": [
       "<Figure size 1008x144 with 6 Axes>"
      ]
     },
     "metadata": {
      "needs_background": "light"
     },
     "output_type": "display_data"
    }
   ],
   "source": [
    "with PdfPages(figure_path + '/Ball_latents.pdf') as pdf:\n",
    "\n",
    "    fig, axes = plt.subplots(1,6,figsize=(14,2))\n",
    "    axes[0].imshow(batch['s1']['xt'][batch_idx,t_idx].cpu().permute(1,2,0).numpy())\n",
    "    axes[0].set_title('RGB Frame', size=10)\n",
    "    axes[0].axis('off')\n",
    "    for obj_idx in range(5):\n",
    "        axes[obj_idx+1].imshow(hmap[batch_idx,t_idx,obj_idx].detach().numpy())\n",
    "        axes[obj_idx+1].set_title('Heatmap for ball %d'%obj_idx, size=10)\n",
    "        axes[obj_idx+1].axis('off')\n",
    "    pdf.savefig(fig, bbox_inches=\"tight\")\n",
    "# axes[1].imshow(x_recon[batch_idx][t_idx].detach().cpu().permute(1,2,0).numpy())\n",
    "\n",
    "# plt.imshow(x_recon[0][0].detach().cpu().permute(1,2,0).numpy())"
   ]
  },
  {
   "cell_type": "code",
   "execution_count": 29,
   "metadata": {},
   "outputs": [
    {
     "ename": "IndexError",
     "evalue": "index 5 is out of bounds for dimension 2 with size 5",
     "output_type": "error",
     "traceback": [
      "\u001b[0;31m---------------------------------------------------------------------------\u001b[0m",
      "\u001b[0;31mIndexError\u001b[0m                                Traceback (most recent call last)",
      "\u001b[0;32m/tmp/ipykernel_11260/1449989702.py\u001b[0m in \u001b[0;36m<module>\u001b[0;34m\u001b[0m\n\u001b[0;32m----> 1\u001b[0;31m \u001b[0mplt\u001b[0m\u001b[0;34m.\u001b[0m\u001b[0mimshow\u001b[0m\u001b[0;34m(\u001b[0m\u001b[0mhmap\u001b[0m\u001b[0;34m[\u001b[0m\u001b[0mbatch_idx\u001b[0m\u001b[0;34m,\u001b[0m\u001b[0mt_idx\u001b[0m\u001b[0;34m,\u001b[0m\u001b[0mobj_idx\u001b[0m\u001b[0;34m]\u001b[0m\u001b[0;34m.\u001b[0m\u001b[0mdetach\u001b[0m\u001b[0;34m(\u001b[0m\u001b[0;34m)\u001b[0m\u001b[0;34m.\u001b[0m\u001b[0mnumpy\u001b[0m\u001b[0;34m(\u001b[0m\u001b[0;34m)\u001b[0m\u001b[0;34m)\u001b[0m\u001b[0;34m\u001b[0m\u001b[0;34m\u001b[0m\u001b[0m\n\u001b[0m",
      "\u001b[0;31mIndexError\u001b[0m: index 5 is out of bounds for dimension 2 with size 5"
     ]
    }
   ],
   "source": [
    "plt.imshow(hmap[batch_idx,t_idx,obj_idx].detach().numpy())"
   ]
  },
  {
   "cell_type": "code",
   "execution_count": 47,
   "metadata": {},
   "outputs": [
    {
     "data": {
      "text/plain": [
       "tensor([[-0.1700, -0.2793, -0.4884, -0.9389],\n",
       "        [-0.4274,  0.4724,  0.9732,  0.0186],\n",
       "        [-0.2260,  0.1595, -0.9908, -0.9801],\n",
       "        [ 0.3080,  0.2105, -0.9216,  1.0161],\n",
       "        [-0.1094,  0.2379,  0.9666, -0.9444]], grad_fn=<ViewBackward>)"
      ]
     },
     "execution_count": 47,
     "metadata": {},
     "output_type": "execute_result"
    }
   ],
   "source": [
    "zs[batch_idx, t_idx].reshape(5,4)"
   ]
  },
  {
   "cell_type": "code",
   "execution_count": 48,
   "metadata": {},
   "outputs": [
    {
     "data": {
      "text/plain": [
       "tensor([[ 0.6370, -0.0166,  0.0000,  0.0000],\n",
       "        [-0.4168, -0.2252,  0.0000,  0.0000],\n",
       "        [-0.1568,  0.2166,  0.0000,  0.0000],\n",
       "        [ 0.3660, -0.7049,  0.0000,  0.0000],\n",
       "        [ 0.4579,  0.7368,  0.0000,  0.0000]])"
      ]
     },
     "execution_count": 48,
     "metadata": {},
     "output_type": "execute_result"
    }
   ],
   "source": [
    "batch['s1']['yt'][batch_idx, t_idx]"
   ]
  },
  {
   "cell_type": "code",
   "execution_count": 22,
   "metadata": {
    "scrolled": true
   },
   "outputs": [
    {
     "name": "stderr",
     "output_type": "stream",
     "text": [
      "Clipping input data to the valid range for imshow with RGB data ([0..1] for floats or [0..255] for integers).\n"
     ]
    },
    {
     "data": {
      "text/plain": [
       "(-0.5, 63.5, 63.5, -0.5)"
      ]
     },
     "execution_count": 22,
     "metadata": {},
     "output_type": "execute_result"
    },
    {
     "data": {
      "image/png": "[encoded data removed]",
      "text/plain": [
       "<Figure size 144x144 with 1 Axes>"
      ]
     },
     "metadata": {
      "needs_background": "light"
     },
     "output_type": "display_data"
    }
   ],
   "source": [
    "fig = plt.figure(figsize=(2,2))\n",
    "plt.imshow(batch['s1']['xt'][batch_idx,t_idx].cpu().permute(1,2,0).numpy())\n",
    "plt.axis('off')"
   ]
  },
  {
   "cell_type": "code",
   "execution_count": null,
   "metadata": {},
   "outputs": [],
   "source": [
    "src_kp = zs.reshape(batch_size*length, self.n_kps, 2)\n",
    "src_feat = feat.reshape(batch_size*length,feat.shape[2],feat.shape[3],feat.shape[4])\n",
    "x_recon = self.kp.decode(src_feat, src_kp)"
   ]
  },
  {
   "cell_type": "code",
   "execution_count": 58,
   "metadata": {},
   "outputs": [],
   "source": [
    "x_recon = model.dec(zs)\n",
    "x_recon = x_recon.view(32, 6, 1, 16, 16)"
   ]
  },
  {
   "cell_type": "code",
   "execution_count": 84,
   "metadata": {},
   "outputs": [
    {
     "data": {
      "text/plain": [
       "tensor([  7.2390, -26.3971,  33.1765,   3.9791,  -7.4816, -11.1772],\n",
       "       grad_fn=<SelectBackward>)"
      ]
     },
     "execution_count": 84,
     "metadata": {},
     "output_type": "execute_result"
    }
   ],
   "source": [
    "zs[0,0]"
   ]
  },
  {
   "cell_type": "code",
   "execution_count": null,
   "metadata": {},
   "outputs": [],
   "source": []
  }
 ],
 "metadata": {
  "kernelspec": {
   "display_name": "LTCL",
   "language": "python",
   "name": "ltcl"
  },
  "language_info": {
   "codemirror_mode": {
    "name": "ipython",
    "version": 3
   },
   "file_extension": ".py",
   "mimetype": "text/x-python",
   "name": "python",
   "nbconvert_exporter": "python",
   "pygments_lexer": "ipython3",
   "version": "3.8.10"
  }
 },
 "nbformat": 4,
 "nbformat_minor": 2
}
