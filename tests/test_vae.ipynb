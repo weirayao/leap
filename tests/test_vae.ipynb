{
 "cells": [
  {
   "cell_type": "markdown",
   "metadata": {},
   "source": [
    "## Identifiability Test of Linear VAE on Synthetic Dataset"
   ]
  },
  {
   "cell_type": "code",
   "execution_count": 148,
   "metadata": {},
   "outputs": [
    {
     "name": "stdout",
     "output_type": "stream",
     "text": [
      "The autoreload extension is already loaded. To reload it, use:\n",
      "  %reload_ext autoreload\n"
     ]
    }
   ],
   "source": [
    "%load_ext autoreload\n",
    "%autoreload 2"
   ]
  },
  {
   "cell_type": "code",
   "execution_count": 149,
   "metadata": {
    "scrolled": true
   },
   "outputs": [],
   "source": [
    "import torch\n",
    "import torch.nn.functional as F\n",
    "from torch.utils.data import DataLoader, random_split\n",
    "import ltcl\n",
    "import numpy as np\n",
    "from ltcl.datasets.sim_dataset import SimulationDataset\n",
    "from ltcl.modules.lvae import AfflineVAESynthetic\n",
    "import random\n",
    "import seaborn as sns\n",
    "import matplotlib.pyplot as plt\n",
    "%matplotlib inline"
   ]
  },
  {
   "cell_type": "code",
   "execution_count": 150,
   "metadata": {},
   "outputs": [],
   "source": [
    "use_cuda = True\n",
    "device = torch.device(\"cuda:0\" if use_cuda else \"cpu\")"
   ]
  },
  {
   "cell_type": "code",
   "execution_count": 467,
   "metadata": {},
   "outputs": [],
   "source": [
    "data = SimulationDataset()\n",
    "num_validation_samples = 2500\n",
    "train_data, val_data = random_split(data, [len(data)-num_validation_samples, num_validation_samples])\n",
    "train_loader = DataLoader(train_data, batch_size=12800, shuffle=True, pin_memory=True, drop)\n",
    "val_loader   = DataLoader(val_data, batch_size=16, shuffle=False, pin_memory=True)"
   ]
  },
  {
   "cell_type": "markdown",
   "metadata": {},
   "source": [
    "### Warm start spline flow"
   ]
  },
  {
   "cell_type": "code",
   "execution_count": null,
   "metadata": {},
   "outputs": [],
   "source": [
    "batch_size = 64\n",
    "spline_optimizer = torch.optim.Adam(filter(lambda p: p.requires_grad, model.spline.parameters()), \n",
    "                                    lr=1e-3,\n",
    "                                    weight_decay=0.0)\n",
    "# Warm-start the prior to standard normal dist\n",
    "for step in range(5000):\n",
    "    latent_size = 4\n",
    "#     y_t = torch.normal(0, 1, size=(batch_size, latent_size))\n",
    "    y_t = torch.distributions.laplace.Laplace(0,1).rsample((batch_size, latent_size))\n",
    "    dataset = y_t.to(device)\n",
    "    spline_optimizer.zero_grad()\n",
    "    z, logabsdet = model.spline(dataset)\n",
    "    logp = model.spline.base_dist.log_prob(z) + logabsdet\n",
    "    loss = -torch.mean(logp)\n",
    "    loss.backward(retain_graph=True)\n",
    "    spline_optimizer.step()\n",
    "# This checkpoint will be loaded in lvae.py\n",
    "torch.save(model.spline.state_dict(), \"/home/cmu_wyao/spline.pth\")"
   ]
  },
  {
   "cell_type": "markdown",
   "metadata": {},
   "source": [
    "### Load model checkpoint"
   ]
  },
  {
   "cell_type": "code",
   "execution_count": 9,
   "metadata": {
    "scrolled": true
   },
   "outputs": [
    {
     "name": "stderr",
     "output_type": "stream",
     "text": [
      "/home/cmu_wyao/projects/ltcl/ltcl/modules/components/beta.py:166: UserWarning: nn.init.kaiming_normal is now deprecated in favor of nn.init.kaiming_normal_.\n",
      "  init.kaiming_normal(m.weight)\n"
     ]
    }
   ],
   "source": [
    "model = AfflineVAESynthetic(4,4,2).to(device)"
   ]
  },
  {
   "cell_type": "code",
   "execution_count": 592,
   "metadata": {},
   "outputs": [
    {
     "name": "stderr",
     "output_type": "stream",
     "text": [
      "/home/cmu_wyao/projects/ltcl/ltcl/modules/components/beta.py:166: UserWarning: nn.init.kaiming_normal is now deprecated in favor of nn.init.kaiming_normal_.\n",
      "  init.kaiming_normal(m.weight)\n"
     ]
    }
   ],
   "source": [
    "model = model.load_from_checkpoint(\"/home/cmu_wyao/checkpoints/linear_vae/lightning_logs/version_52/checkpoints/epoch=13-step=108536.ckpt\",\n",
    "                                   input_dim = 4, z_dim=4, lag=2)"
   ]
  },
  {
   "cell_type": "code",
   "execution_count": 711,
   "metadata": {},
   "outputs": [
    {
     "data": {
      "text/plain": [
       "AfflineVAESynthetic(\n",
       "  (net): BetaVAE_MLP(\n",
       "    (encoder): Sequential(\n",
       "      (0): Linear(in_features=4, out_features=128, bias=True)\n",
       "      (1): LeakyReLU(negative_slope=0.2)\n",
       "      (2): Linear(in_features=128, out_features=128, bias=True)\n",
       "      (3): LeakyReLU(negative_slope=0.2)\n",
       "      (4): Linear(in_features=128, out_features=128, bias=True)\n",
       "      (5): LeakyReLU(negative_slope=0.2)\n",
       "      (6): Linear(in_features=128, out_features=128, bias=True)\n",
       "      (7): LeakyReLU(negative_slope=0.2)\n",
       "      (8): Linear(in_features=128, out_features=8, bias=True)\n",
       "    )\n",
       "    (decoder): Sequential(\n",
       "      (0): Linear(in_features=4, out_features=128, bias=True)\n",
       "      (1): LeakyReLU(negative_slope=0.2)\n",
       "      (2): Linear(in_features=128, out_features=128, bias=True)\n",
       "      (3): LeakyReLU(negative_slope=0.2)\n",
       "      (4): Linear(in_features=128, out_features=128, bias=True)\n",
       "      (5): LeakyReLU(negative_slope=0.2)\n",
       "      (6): Linear(in_features=128, out_features=128, bias=True)\n",
       "      (7): LeakyReLU(negative_slope=0.2)\n",
       "      (8): Linear(in_features=128, out_features=4, bias=True)\n",
       "    )\n",
       "  )\n",
       "  (trans_func): GroupLinearLayer()\n",
       "  (spline): ComponentWiseSpline()\n",
       ")"
      ]
     },
     "execution_count": 711,
     "metadata": {},
     "output_type": "execute_result"
    }
   ],
   "source": [
    "model.eval()"
   ]
  },
  {
   "cell_type": "code",
   "execution_count": 593,
   "metadata": {},
   "outputs": [
    {
     "data": {
      "text/plain": [
       "AfflineVAESynthetic(\n",
       "  (net): BetaVAE_MLP(\n",
       "    (encoder): Sequential(\n",
       "      (0): Linear(in_features=4, out_features=128, bias=True)\n",
       "      (1): LeakyReLU(negative_slope=0.2)\n",
       "      (2): Linear(in_features=128, out_features=128, bias=True)\n",
       "      (3): LeakyReLU(negative_slope=0.2)\n",
       "      (4): Linear(in_features=128, out_features=128, bias=True)\n",
       "      (5): LeakyReLU(negative_slope=0.2)\n",
       "      (6): Linear(in_features=128, out_features=128, bias=True)\n",
       "      (7): LeakyReLU(negative_slope=0.2)\n",
       "      (8): Linear(in_features=128, out_features=8, bias=True)\n",
       "    )\n",
       "    (decoder): Sequential(\n",
       "      (0): Linear(in_features=4, out_features=128, bias=True)\n",
       "      (1): LeakyReLU(negative_slope=0.2)\n",
       "      (2): Linear(in_features=128, out_features=128, bias=True)\n",
       "      (3): LeakyReLU(negative_slope=0.2)\n",
       "      (4): Linear(in_features=128, out_features=128, bias=True)\n",
       "      (5): LeakyReLU(negative_slope=0.2)\n",
       "      (6): Linear(in_features=128, out_features=128, bias=True)\n",
       "      (7): LeakyReLU(negative_slope=0.2)\n",
       "      (8): Linear(in_features=128, out_features=4, bias=True)\n",
       "    )\n",
       "  )\n",
       "  (trans_func): GroupLinearLayer()\n",
       "  (spline): ComponentWiseSpline()\n",
       ")"
      ]
     },
     "execution_count": 593,
     "metadata": {},
     "output_type": "execute_result"
    }
   ],
   "source": [
    "model.to('cpu')"
   ]
  },
  {
   "cell_type": "markdown",
   "metadata": {},
   "source": [
    "### Compute permutation and sign flip"
   ]
  },
  {
   "cell_type": "code",
   "execution_count": 1282,
   "metadata": {},
   "outputs": [],
   "source": [
    "for batch in train_loader:\n",
    "    break\n",
    "batch_size = batch['xt'].shape[0]"
   ]
  },
  {
   "cell_type": "code",
   "execution_count": 1283,
   "metadata": {},
   "outputs": [
    {
     "name": "stdout",
     "output_type": "stream",
     "text": [
      "Permutation: [1 0 2 3]\n",
      "Sign Flip: [ 1.  1. -1.  1.]\n"
     ]
    }
   ],
   "source": [
    "x_recon, mu, logvar, z = model.forward(batch)\n",
    "mu = mu.view(batch_size, -1, 4)\n",
    "A = mu[:,0,:].detach().cpu().numpy()\n",
    "B = batch['yt'][:,0,:].detach().cpu().numpy()\n",
    "C = np.zeros((4,4))\n",
    "for i in range(4):\n",
    "    C[i] = -np.abs(np.corrcoef(B, A, rowvar=False)[i,4:])\n",
    "from scipy.optimize import linear_sum_assignment\n",
    "row_ind, col_ind = linear_sum_assignment(C)\n",
    "A = A[:, col_ind]\n",
    "mask = np.ones(4)\n",
    "for i in range(4):\n",
    "    if np.corrcoef(B, A, rowvar=False)[i,4:][i] > 0:\n",
    "        mask[i] = -1\n",
    "print(\"Permutation:\",col_ind)\n",
    "print(\"Sign Flip:\", mask)"
   ]
  },
  {
   "cell_type": "code",
   "execution_count": 1284,
   "metadata": {},
   "outputs": [],
   "source": [
    "# Permute column here\n",
    "mu = mu[:,:,col_ind]\n",
    "# Flip sign here\n",
    "mu = mu * torch.Tensor(mask, device=mu.device).view(1,1,4)\n",
    "mu = -mu"
   ]
  },
  {
   "cell_type": "code",
   "execution_count": 1294,
   "metadata": {},
   "outputs": [
    {
     "data": {
      "text/plain": [
       "Text(0.5, 1.0, 'Current latent variable $z_t$')"
      ]
     },
     "execution_count": 1294,
     "metadata": {},
     "output_type": "execute_result"
    },
    {
     "data": {
      "image/png": "[encoded data removed]",
      "text/plain": [
       "<Figure size 576x144 with 1 Axes>"
      ]
     },
     "metadata": {
      "needs_background": "light"
     },
     "output_type": "display_data"
    }
   ],
   "source": [
    "fig = plt.figure(figsize=(8,2))\n",
    "col = 0\n",
    "plt.plot(mu[:250,-1,col].detach().cpu().numpy(), color='b', label='Recovered')\n",
    "plt.plot(batch['yt_'].squeeze()[:250,col].detach().cpu().numpy(), color='r', label=\"True\")\n",
    "plt.legend()\n",
    "plt.title(\"Current latent variable $z_t$\")"
   ]
  },
  {
   "cell_type": "code",
   "execution_count": 1295,
   "metadata": {
    "scrolled": true
   },
   "outputs": [
    {
     "data": {
      "text/plain": [
       "Text(0.5, 1.0, 'Past latent variable $z_l$')"
      ]
     },
     "execution_count": 1295,
     "metadata": {},
     "output_type": "execute_result"
    },
    {
     "data": {
      "image/png": "[encoded data removed]",
      "text/plain": [
       "<Figure size 576x144 with 1 Axes>"
      ]
     },
     "metadata": {
      "needs_background": "light"
     },
     "output_type": "display_data"
    }
   ],
   "source": [
    "fig = plt.figure(figsize=(8,2))\n",
    "col = 3\n",
    "l = 1\n",
    "plt.plot(batch['yt'].squeeze()[:250,l,col].detach().cpu().numpy(), color='b', label='Recovered')\n",
    "plt.plot(mu[:,:-1,:][:250,l,col].detach().cpu().numpy(), color='r', label=\"True\")\n",
    "plt.xlabel(\"Sample index\")\n",
    "plt.ylabel(\"Latent variable value\")\n",
    "plt.legend()\n",
    "plt.title(\"Past latent variable $z_l$\")"
   ]
  },
  {
   "cell_type": "code",
   "execution_count": 1305,
   "metadata": {},
   "outputs": [
    {
     "name": "stderr",
     "output_type": "stream",
     "text": [
      "/home/cmu_wyao/anaconda3/envs/py37/lib/python3.7/site-packages/seaborn/distributions.py:2557: FutureWarning: `distplot` is a deprecated function and will be removed in a future version. Please adapt your code to use either `displot` (a figure-level function with similar flexibility) or `kdeplot` (an axes-level function for kernel density plots).\n",
      "  warnings.warn(msg, FutureWarning)\n"
     ]
    },
    {
     "data": {
      "text/plain": [
       "Text(0.5, 1.0, 'Learned noise prior by spline flow')"
      ]
     },
     "execution_count": 1305,
     "metadata": {},
     "output_type": "execute_result"
    },
    {
     "data": {
      "image/png": "[encoded data removed]",
      "text/plain": [
       "<Figure size 432x288 with 1 Axes>"
      ]
     },
     "metadata": {
      "needs_background": "light"
     },
     "output_type": "display_data"
    }
   ],
   "source": [
    "eps = model.sample(batch[\"xt\"].cpu())\n",
    "eps = eps.detach().cpu().numpy()\n",
    "component_idx = 3\n",
    "sns.distplot(eps[:,component_idx], hist=False, kde=True,\n",
    "             bins=None,\n",
    "             hist_kws={'edgecolor':'black'},\n",
    "             kde_kws={'linewidth': 2});\n",
    "plt.title(\"Learned noise prior by spline flow\")"
   ]
  },
  {
   "cell_type": "markdown",
   "metadata": {},
   "source": [
    "### System identification (causal discovery)"
   ]
  },
  {
   "cell_type": "code",
   "execution_count": 1276,
   "metadata": {},
   "outputs": [],
   "source": [
    "from ltcl.modules.components.base import GroupLinearLayer\n",
    "trans_func = GroupLinearLayer(din = 4, \n",
    "                              dout = 4,\n",
    "                              num_blocks = 2,\n",
    "                              diagonal = False)\n",
    "opt = torch.optim.Adam(trans_func.parameters(),lr=0.01)\n",
    "lossfunc = torch.nn.L1Loss()"
   ]
  },
  {
   "cell_type": "code",
   "execution_count": 1278,
   "metadata": {
    "scrolled": true
   },
   "outputs": [
    {
     "name": "stdout",
     "output_type": "stream",
     "text": [
      "1.0938305854797363\n",
      "1.0746357440948486\n",
      "1.057559609413147\n",
      "1.04140305519104\n",
      "1.0256447792053223\n",
      "0.9966999888420105\n",
      "0.9840753674507141\n",
      "0.9624587893486023\n",
      "0.9382084012031555\n",
      "0.9258038401603699\n",
      "0.9045463800430298\n",
      "0.888541579246521\n",
      "0.8723204731941223\n",
      "0.8446354866027832\n",
      "0.8338860869407654\n",
      "0.817707359790802\n",
      "0.801297664642334\n",
      "0.7806022763252258\n",
      "0.7668846249580383\n",
      "0.7447891235351562\n",
      "0.7261824607849121\n",
      "0.7123792767524719\n",
      "0.7016515135765076\n",
      "0.6779553294181824\n",
      "0.6603946089744568\n",
      "0.6465804576873779\n",
      "0.62699294090271\n",
      "0.6115681529045105\n",
      "0.5954993367195129\n",
      "0.5790026187896729\n",
      "0.5641351938247681\n",
      "0.5474576950073242\n",
      "0.5290529131889343\n",
      "0.5170286297798157\n",
      "0.4999503791332245\n",
      "0.48265570402145386\n",
      "0.46985068917274475\n",
      "0.4551510512828827\n",
      "0.43808531761169434\n",
      "0.4244050085544586\n",
      "0.41062355041503906\n",
      "0.39353999495506287\n",
      "0.3821968138217926\n",
      "0.3675312101840973\n",
      "0.3536105453968048\n",
      "0.3395749032497406\n",
      "0.3257830739021301\n",
      "0.3129243850708008\n",
      "0.300412654876709\n",
      "0.28841954469680786\n",
      "0.2744472026824951\n",
      "0.2615981996059418\n",
      "0.24944354593753815\n",
      "0.23665103316307068\n",
      "0.22721336781978607\n",
      "0.214162677526474\n",
      "0.20491176843643188\n",
      "0.1940833479166031\n",
      "0.18593820929527283\n",
      "0.1769246608018875\n",
      "0.1695927232503891\n",
      "0.16007933020591736\n",
      "0.15429522097110748\n",
      "0.1479053497314453\n",
      "0.14034228026866913\n",
      "0.1359730064868927\n",
      "0.13051320612430573\n",
      "0.12613457441329956\n",
      "0.12105455994606018\n",
      "0.11813183128833771\n",
      "0.11421680450439453\n",
      "0.1113511398434639\n",
      "0.10863718390464783\n",
      "0.10555799305438995\n",
      "0.10248402506113052\n",
      "0.09972501546144485\n",
      "0.09628108143806458\n",
      "0.0943707525730133\n",
      "0.09179303795099258\n",
      "0.08897566795349121\n",
      "0.08535695821046829\n",
      "0.08393993973731995\n",
      "0.0800844132900238\n",
      "0.07772191613912582\n",
      "0.07466394454240799\n",
      "0.07198996841907501\n",
      "0.06905241310596466\n",
      "0.06725199520587921\n",
      "0.06423566490411758\n",
      "0.061088256537914276\n",
      "0.058978818356990814\n",
      "0.05637199059128761\n",
      "0.05430936813354492\n",
      "0.05279754102230072\n",
      "0.050705213099718094\n",
      "0.04910317808389664\n",
      "0.04800368845462799\n",
      "0.04690570756793022\n",
      "0.046404119580984116\n",
      "0.04604792594909668\n",
      "0.045929569751024246\n",
      "0.045802418142557144\n",
      "0.046181801706552505\n",
      "0.046424370259046555\n",
      "0.04674939066171646\n",
      "0.047098226845264435\n",
      "0.04701593518257141\n",
      "0.04697750136256218\n",
      "0.04665959253907204\n",
      "0.04718092083930969\n",
      "0.046510208398103714\n",
      "0.04665587842464447\n",
      "0.04634629189968109\n",
      "0.0460188090801239\n",
      "0.0459379144012928\n",
      "0.04578471556305885\n",
      "0.045578427612781525\n",
      "0.04540293291211128\n",
      "0.04490211606025696\n",
      "0.0449783131480217\n",
      "0.044879570603370667\n",
      "0.045026909559965134\n",
      "0.04486579820513725\n",
      "0.04461700841784477\n",
      "0.04470464214682579\n",
      "0.044989701360464096\n",
      "0.04459246248006821\n",
      "0.04467661306262016\n",
      "0.04471234232187271\n",
      "0.04503132775425911\n",
      "0.04492034763097763\n",
      "0.0446198545396328\n",
      "0.045044779777526855\n",
      "0.04482900723814964\n",
      "0.04446914792060852\n",
      "0.04456185922026634\n",
      "0.044563598930835724\n",
      "0.044836435467004776\n",
      "0.04450041800737381\n",
      "0.04461998865008354\n",
      "0.04452909529209137\n",
      "0.04442378878593445\n",
      "0.04464257135987282\n",
      "0.04450603574514389\n",
      "0.04457288607954979\n",
      "0.04455002769827843\n",
      "0.04476933926343918\n",
      "0.04484125226736069\n",
      "0.04465734586119652\n",
      "0.04483070969581604\n",
      "0.044668082147836685\n",
      "0.044581953436136246\n",
      "0.044655442237854004\n",
      "0.04470027983188629\n",
      "0.04478636756539345\n",
      "0.04485950618982315\n"
     ]
    }
   ],
   "source": [
    "max_iters = 2\n",
    "for step in range(max_iters):\n",
    "    for batch in train_loader:\n",
    "        batch_size = batch['yt'].shape[0]\n",
    "        x_recon, mu, logvar, z = model.forward(batch)\n",
    "        mu = mu.view(batch_size, -1, 4)\n",
    "        # Fix permutation before training\n",
    "        mu = mu[:,:,col_ind]\n",
    "        # Fix sign flip before training\n",
    "        mu = mu * torch.Tensor(mask, device=mu.device).view(1,1,4)\n",
    "        mu = -mu\n",
    "        pred = trans_func(mu[:,:-1,:]).sum(dim=1)\n",
    "        true = mu[:,-1,:]\n",
    "        loss = lossfunc(pred, true) #+ torch.mean(adaptive.lossfun((pred - true)))\n",
    "\n",
    "        opt.zero_grad()\n",
    "        loss.backward()\n",
    "        opt.step()\n",
    "        print(loss.item())"
   ]
  },
  {
   "cell_type": "code",
   "execution_count": 1307,
   "metadata": {},
   "outputs": [],
   "source": [
    "B2 = trans_func.w[0].detach().cpu().numpy()\n",
    "B1 = trans_func.w[1].detach().cpu().numpy()\n",
    "BB2 = np.load(\"/home/cmu_wyao/projects/data/linear_nongaussian/W2.npy\")\n",
    "BB1 = np.load(\"/home/cmu_wyao/projects/data/linear_nongaussian/W1.npy\")"
   ]
  },
  {
   "cell_type": "code",
   "execution_count": 1308,
   "metadata": {},
   "outputs": [],
   "source": [
    "b = np.concatenate((B1,B2), axis=0)\n",
    "bb = np.concatenate((BB1,BB2), axis=0)\n",
    "b = b / np.linalg.norm(b, axis=0).reshape(1, -1)\n",
    "bb = bb / np.linalg.norm(bb, axis=0).reshape(1, -1)\n",
    "pred = (b / np.linalg.norm(b, axis=0).reshape(1, -1)).reshape(-1)\n",
    "true = (bb / np.linalg.norm(bb, axis=0).reshape(1, -1)).reshape(-1)"
   ]
  },
  {
   "cell_type": "code",
   "execution_count": 1309,
   "metadata": {
    "scrolled": true
   },
   "outputs": [
    {
     "data": {
      "text/plain": [
       "Text(0, 0.5, 'Ground truth weight')"
      ]
     },
     "execution_count": 1309,
     "metadata": {},
     "output_type": "execute_result"
    },
    {
     "data": {
      "image/png": "[encoded data removed]",
      "text/plain": [
       "<Figure size 432x288 with 1 Axes>"
      ]
     },
     "metadata": {
      "needs_background": "light"
     },
     "output_type": "display_data"
    }
   ],
   "source": [
    "fig, ax = plt.subplots()\n",
    "ax.scatter(pred, true, s=25, cmap=plt.cm.coolwarm, zorder=10)\n",
    "lims = [-1,1\n",
    "]\n",
    "\n",
    "# now plot both limits against eachother\n",
    "ax.plot(lims, lims, '-.', alpha=0.75, zorder=0)\n",
    "ax.set_aspect('equal')\n",
    "# ax.set_xlim(lims)\n",
    "# ax.set_ylim(lims)\n",
    "ax.set_xlabel(\"Estimated weight\")\n",
    "ax.set_ylabel(\"Ground truth weight\")"
   ]
  },
  {
   "cell_type": "code",
   "execution_count": 1310,
   "metadata": {},
   "outputs": [],
   "source": [
    "def amari_distance(r):\n",
    "    p = r.shape[0]\n",
    "    abs_r = np.abs(r)\n",
    "    l = np.sum(np.sum(abs_r, axis=1, keepdims=True) / np.max(abs_r, axis=1, keepdims=True) - 1, axis=0)\n",
    "    r = np.sum(np.sum(abs_r, axis=0, keepdims=True) / np.max(abs_r, axis=0, keepdims=True) - 1, axis=1)\n",
    "    return 1/(2*p*(p-1)) * (l+r)"
   ]
  },
  {
   "cell_type": "code",
   "execution_count": 1311,
   "metadata": {},
   "outputs": [
    {
     "name": "stdout",
     "output_type": "stream",
     "text": [
      "Amari index: (0.32262991381399375, 0.28428614209277603)\n"
     ]
    }
   ],
   "source": [
    "am2 = amari_distance(np.linalg.inv(B2) @ BB2)\n",
    "am1 = amari_distance(np.linalg.inv(B1) @ BB1)\n",
    "print(f\"Amari index: {am2[0], am1[0]}\")"
   ]
  },
  {
   "cell_type": "code",
   "execution_count": 354,
   "metadata": {},
   "outputs": [
    {
     "data": {
      "text/plain": [
       "0.0204760846757035"
      ]
     },
     "execution_count": 354,
     "metadata": {},
     "output_type": "execute_result"
    }
   ],
   "source": [
    "from sklearn.metrics import r2_score\n",
    "r2_score(pred,true)"
   ]
  }
 ],
 "metadata": {
  "kernelspec": {
   "display_name": "py37",
   "language": "python",
   "name": "py37"
  },
  "language_info": {
   "codemirror_mode": {
    "name": "ipython",
    "version": 3
   },
   "file_extension": ".py",
   "mimetype": "text/x-python",
   "name": "python",
   "nbconvert_exporter": "python",
   "pygments_lexer": "ipython3",
   "version": "3.7.10"
  }
 },
 "nbformat": 4,
 "nbformat_minor": 4
}
