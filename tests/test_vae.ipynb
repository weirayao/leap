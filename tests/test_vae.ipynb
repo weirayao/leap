{
 "cells": [
  {
   "cell_type": "code",
   "execution_count": 1,
   "metadata": {},
   "outputs": [],
   "source": [
    "%load_ext autoreload\n",
    "%autoreload 2"
   ]
  },
  {
   "cell_type": "code",
   "execution_count": 2,
   "metadata": {
    "scrolled": true
   },
   "outputs": [],
   "source": [
    "import torch\n",
    "import torch.nn.functional as F\n",
    "from torch.utils.data import DataLoader, random_split\n",
    "import ltcl\n",
    "import numpy as np\n",
    "from ltcl.datasets.sim_dataset import SimulationDataset\n",
    "from ltcl.modules.lvae import AfflineVAESynthetic\n",
    "import random\n",
    "import seaborn as sns\n",
    "import matplotlib.pyplot as plt\n",
    "%matplotlib inline"
   ]
  },
  {
   "cell_type": "code",
   "execution_count": 3,
   "metadata": {},
   "outputs": [],
   "source": [
    "use_cuda = True\n",
    "device = torch.device(\"cuda:0\" if use_cuda else \"cpu\")"
   ]
  },
  {
   "cell_type": "code",
   "execution_count": 4,
   "metadata": {},
   "outputs": [],
   "source": [
    "data = SimulationDataset()\n",
    "num_validation_samples = 2500\n",
    "train_data, val_data = random_split(data, [len(data)-num_validation_samples, num_validation_samples])\n",
    "train_loader = DataLoader(train_data, batch_size=1280, shuffle=True, pin_memory=True)\n",
    "val_loader   = DataLoader(val_data, batch_size=16, shuffle=False, pin_memory=True)"
   ]
  },
  {
   "cell_type": "code",
   "execution_count": 5,
   "metadata": {},
   "outputs": [],
   "source": [
    "for batch in train_loader:\n",
    "    break"
   ]
  },
  {
   "cell_type": "code",
   "execution_count": 6,
   "metadata": {},
   "outputs": [],
   "source": [
    "for key in batch:\n",
    "    batch[key] = batch[key].to(device)"
   ]
  },
  {
   "cell_type": "code",
   "execution_count": 7,
   "metadata": {},
   "outputs": [
    {
     "data": {
      "text/plain": [
       "tensor(0.0301, device='cuda:0')"
      ]
     },
     "execution_count": 7,
     "metadata": {},
     "output_type": "execute_result"
    }
   ],
   "source": [
    "batch['xt_'].min()"
   ]
  },
  {
   "cell_type": "code",
   "execution_count": 8,
   "metadata": {},
   "outputs": [
    {
     "data": {
      "text/plain": [
       "(array([1.000e+00, 1.000e+00, 3.000e+00, 2.600e+01, 1.730e+02, 1.101e+03,\n",
       "        1.060e+03, 1.620e+02, 2.700e+01, 6.000e+00]),\n",
       " array([-11.689354  ,  -9.746808  ,  -7.8042626 ,  -5.861717  ,\n",
       "         -3.9191716 ,  -1.9766259 ,  -0.03408032,   1.9084653 ,\n",
       "          3.8510108 ,   5.7935567 ,   7.736102  ], dtype=float32),\n",
       " <BarContainer object of 10 artists>)"
      ]
     },
     "execution_count": 8,
     "metadata": {},
     "output_type": "execute_result"
    },
    {
     "data": {
      "image/png": "[encoded data removed]",
      "text/plain": [
       "<Figure size 432x288 with 1 Axes>"
      ]
     },
     "metadata": {
      "needs_background": "light"
     },
     "output_type": "display_data"
    }
   ],
   "source": [
    "plt.hist(batch['yt'].cpu().numpy().reshape(-1,4)[:,3])"
   ]
  },
  {
   "cell_type": "code",
   "execution_count": 11,
   "metadata": {
    "scrolled": true
   },
   "outputs": [],
   "source": [
    "model = AfflineVAESynthetic(4,4,2).to(device)"
   ]
  },
  {
   "cell_type": "code",
   "execution_count": 12,
   "metadata": {},
   "outputs": [
    {
     "data": {
      "text/plain": [
       "AfflineVAESynthetic(\n",
       "  (net): BetaVAE_MLP(\n",
       "    (encoder): Sequential(\n",
       "      (0): Linear(in_features=4, out_features=128, bias=True)\n",
       "      (1): LeakyReLU(negative_slope=0.2)\n",
       "      (2): Linear(in_features=128, out_features=128, bias=True)\n",
       "      (3): LeakyReLU(negative_slope=0.2)\n",
       "      (4): Linear(in_features=128, out_features=128, bias=True)\n",
       "      (5): LeakyReLU(negative_slope=0.2)\n",
       "      (6): Linear(in_features=128, out_features=128, bias=True)\n",
       "      (7): LeakyReLU(negative_slope=0.2)\n",
       "      (8): Linear(in_features=128, out_features=8, bias=True)\n",
       "    )\n",
       "    (decoder): Sequential(\n",
       "      (0): Linear(in_features=4, out_features=128, bias=True)\n",
       "      (1): LeakyReLU(negative_slope=0.2)\n",
       "      (2): Linear(in_features=128, out_features=128, bias=True)\n",
       "      (3): LeakyReLU(negative_slope=0.2)\n",
       "      (4): Linear(in_features=128, out_features=128, bias=True)\n",
       "      (5): LeakyReLU(negative_slope=0.2)\n",
       "      (6): Linear(in_features=128, out_features=128, bias=True)\n",
       "      (7): LeakyReLU(negative_slope=0.2)\n",
       "      (8): Linear(in_features=128, out_features=4, bias=True)\n",
       "    )\n",
       "  )\n",
       "  (trans_func): GroupLinearLayer()\n",
       "  (spline): ComponentWiseSpline()\n",
       ")"
      ]
     },
     "execution_count": 12,
     "metadata": {},
     "output_type": "execute_result"
    }
   ],
   "source": [
    "model"
   ]
  },
  {
   "cell_type": "code",
   "execution_count": 433,
   "metadata": {},
   "outputs": [
    {
     "name": "stderr",
     "output_type": "stream",
     "text": [
      "/home/cmu_wyao/projects/ltcl/ltcl/modules/components/beta.py:166: UserWarning: nn.init.kaiming_normal is now deprecated in favor of nn.init.kaiming_normal_.\n",
      "  init.kaiming_normal(m.weight)\n"
     ]
    }
   ],
   "source": [
    "model = model.load_from_checkpoint(\"/home/cmu_wyao/checkpoints/linear_vae/lightning_logs/version_24/checkpoints/epoch=9-step=78089.ckpt\",\n",
    "                                   input_dim = 4, z_dim=4, lag=2)"
   ]
  },
  {
   "cell_type": "code",
   "execution_count": 420,
   "metadata": {},
   "outputs": [
    {
     "data": {
      "text/plain": [
       "AfflineVAESynthetic(\n",
       "  (net): BetaVAE_MLP(\n",
       "    (encoder): Sequential(\n",
       "      (0): Linear(in_features=4, out_features=128, bias=True)\n",
       "      (1): LeakyReLU(negative_slope=0.2)\n",
       "      (2): Linear(in_features=128, out_features=128, bias=True)\n",
       "      (3): LeakyReLU(negative_slope=0.2)\n",
       "      (4): Linear(in_features=128, out_features=128, bias=True)\n",
       "      (5): LeakyReLU(negative_slope=0.2)\n",
       "      (6): Linear(in_features=128, out_features=128, bias=True)\n",
       "      (7): LeakyReLU(negative_slope=0.2)\n",
       "      (8): Linear(in_features=128, out_features=8, bias=True)\n",
       "    )\n",
       "    (decoder): Sequential(\n",
       "      (0): Linear(in_features=4, out_features=128, bias=True)\n",
       "      (1): LeakyReLU(negative_slope=0.2)\n",
       "      (2): Linear(in_features=128, out_features=128, bias=True)\n",
       "      (3): LeakyReLU(negative_slope=0.2)\n",
       "      (4): Linear(in_features=128, out_features=128, bias=True)\n",
       "      (5): LeakyReLU(negative_slope=0.2)\n",
       "      (6): Linear(in_features=128, out_features=128, bias=True)\n",
       "      (7): LeakyReLU(negative_slope=0.2)\n",
       "      (8): Linear(in_features=128, out_features=4, bias=True)\n",
       "    )\n",
       "  )\n",
       "  (trans_func): GroupLinearLayer()\n",
       "  (spline): ComponentWiseSpline()\n",
       ")"
      ]
     },
     "execution_count": 420,
     "metadata": {},
     "output_type": "execute_result"
    }
   ],
   "source": [
    "model.to('cpu')"
   ]
  },
  {
   "cell_type": "code",
   "execution_count": 421,
   "metadata": {},
   "outputs": [
    {
     "ename": "ValueError",
     "evalue": "optimizer got an empty parameter list",
     "output_type": "error",
     "traceback": [
      "\u001b[0;31m---------------------------------------------------------------------------\u001b[0m",
      "\u001b[0;31mValueError\u001b[0m                                Traceback (most recent call last)",
      "\u001b[0;32m<ipython-input-421-b263f1b5e42b>\u001b[0m in \u001b[0;36m<module>\u001b[0;34m\u001b[0m\n\u001b[1;32m      2\u001b[0m spline_optimizer = torch.optim.Adam(filter(lambda p: p.requires_grad, model.spline.parameters()), \n\u001b[1;32m      3\u001b[0m                                     \u001b[0mlr\u001b[0m\u001b[0;34m=\u001b[0m\u001b[0;36m1e-3\u001b[0m\u001b[0;34m,\u001b[0m\u001b[0;34m\u001b[0m\u001b[0;34m\u001b[0m\u001b[0m\n\u001b[0;32m----> 4\u001b[0;31m                                     weight_decay=0.0)\n\u001b[0m\u001b[1;32m      5\u001b[0m \u001b[0;31m# Warm-start the prior to standard normal dist\u001b[0m\u001b[0;34m\u001b[0m\u001b[0;34m\u001b[0m\u001b[0;34m\u001b[0m\u001b[0m\n\u001b[1;32m      6\u001b[0m \u001b[0;32mfor\u001b[0m \u001b[0mstep\u001b[0m \u001b[0;32min\u001b[0m \u001b[0mrange\u001b[0m\u001b[0;34m(\u001b[0m\u001b[0;36m5000\u001b[0m\u001b[0;34m)\u001b[0m\u001b[0;34m:\u001b[0m\u001b[0;34m\u001b[0m\u001b[0;34m\u001b[0m\u001b[0m\n",
      "\u001b[0;32m~/anaconda3/envs/py37/lib/python3.7/site-packages/torch/optim/adam.py\u001b[0m in \u001b[0;36m__init__\u001b[0;34m(self, params, lr, betas, eps, weight_decay, amsgrad)\u001b[0m\n\u001b[1;32m     46\u001b[0m         defaults = dict(lr=lr, betas=betas, eps=eps,\n\u001b[1;32m     47\u001b[0m                         weight_decay=weight_decay, amsgrad=amsgrad)\n\u001b[0;32m---> 48\u001b[0;31m         \u001b[0msuper\u001b[0m\u001b[0;34m(\u001b[0m\u001b[0mAdam\u001b[0m\u001b[0;34m,\u001b[0m \u001b[0mself\u001b[0m\u001b[0;34m)\u001b[0m\u001b[0;34m.\u001b[0m\u001b[0m__init__\u001b[0m\u001b[0;34m(\u001b[0m\u001b[0mparams\u001b[0m\u001b[0;34m,\u001b[0m \u001b[0mdefaults\u001b[0m\u001b[0;34m)\u001b[0m\u001b[0;34m\u001b[0m\u001b[0;34m\u001b[0m\u001b[0m\n\u001b[0m\u001b[1;32m     49\u001b[0m \u001b[0;34m\u001b[0m\u001b[0m\n\u001b[1;32m     50\u001b[0m     \u001b[0;32mdef\u001b[0m \u001b[0m__setstate__\u001b[0m\u001b[0;34m(\u001b[0m\u001b[0mself\u001b[0m\u001b[0;34m,\u001b[0m \u001b[0mstate\u001b[0m\u001b[0;34m)\u001b[0m\u001b[0;34m:\u001b[0m\u001b[0;34m\u001b[0m\u001b[0;34m\u001b[0m\u001b[0m\n",
      "\u001b[0;32m~/anaconda3/envs/py37/lib/python3.7/site-packages/torch/optim/optimizer.py\u001b[0m in \u001b[0;36m__init__\u001b[0;34m(self, params, defaults)\u001b[0m\n\u001b[1;32m     48\u001b[0m         \u001b[0mparam_groups\u001b[0m \u001b[0;34m=\u001b[0m \u001b[0mlist\u001b[0m\u001b[0;34m(\u001b[0m\u001b[0mparams\u001b[0m\u001b[0;34m)\u001b[0m\u001b[0;34m\u001b[0m\u001b[0;34m\u001b[0m\u001b[0m\n\u001b[1;32m     49\u001b[0m         \u001b[0;32mif\u001b[0m \u001b[0mlen\u001b[0m\u001b[0;34m(\u001b[0m\u001b[0mparam_groups\u001b[0m\u001b[0;34m)\u001b[0m \u001b[0;34m==\u001b[0m \u001b[0;36m0\u001b[0m\u001b[0;34m:\u001b[0m\u001b[0;34m\u001b[0m\u001b[0;34m\u001b[0m\u001b[0m\n\u001b[0;32m---> 50\u001b[0;31m             \u001b[0;32mraise\u001b[0m \u001b[0mValueError\u001b[0m\u001b[0;34m(\u001b[0m\u001b[0;34m\"optimizer got an empty parameter list\"\u001b[0m\u001b[0;34m)\u001b[0m\u001b[0;34m\u001b[0m\u001b[0;34m\u001b[0m\u001b[0m\n\u001b[0m\u001b[1;32m     51\u001b[0m         \u001b[0;32mif\u001b[0m \u001b[0;32mnot\u001b[0m \u001b[0misinstance\u001b[0m\u001b[0;34m(\u001b[0m\u001b[0mparam_groups\u001b[0m\u001b[0;34m[\u001b[0m\u001b[0;36m0\u001b[0m\u001b[0;34m]\u001b[0m\u001b[0;34m,\u001b[0m \u001b[0mdict\u001b[0m\u001b[0;34m)\u001b[0m\u001b[0;34m:\u001b[0m\u001b[0;34m\u001b[0m\u001b[0;34m\u001b[0m\u001b[0m\n\u001b[1;32m     52\u001b[0m             \u001b[0mparam_groups\u001b[0m \u001b[0;34m=\u001b[0m \u001b[0;34m[\u001b[0m\u001b[0;34m{\u001b[0m\u001b[0;34m'params'\u001b[0m\u001b[0;34m:\u001b[0m \u001b[0mparam_groups\u001b[0m\u001b[0;34m}\u001b[0m\u001b[0;34m]\u001b[0m\u001b[0;34m\u001b[0m\u001b[0;34m\u001b[0m\u001b[0m\n",
      "\u001b[0;31mValueError\u001b[0m: optimizer got an empty parameter list"
     ]
    }
   ],
   "source": [
    "batch_size = 64\n",
    "spline_optimizer = torch.optim.Adam(filter(lambda p: p.requires_grad, model.spline.parameters()), \n",
    "                                    lr=1e-3,\n",
    "                                    weight_decay=0.0)\n",
    "# Warm-start the prior to standard normal dist\n",
    "for step in range(5000):\n",
    "    latent_size = 4\n",
    "#     y_1 = torch.exp(torch.normal(0, 1, size=(batch_size, latent_size//2)))\n",
    "# #     y_1 = torch.normal(0, 1, size=(batch_size, latent_size//2))\n",
    "#                 # y_2 = torch.rand(batch_size, latent_size//2) - 0.5\n",
    "#     y_2 = torch.distributions.laplace.Laplace(0,1).rsample((batch_size, latent_size//2))\n",
    "# #     y_2 = torch.normal(0, 1, size=(batch_size, latent_size//2))\n",
    "    y_t = torch.distributions.laplace.Laplace(0,1).rsample((batch_size, latent_size))\n",
    "    dataset = y_t.to(device)\n",
    "    spline_optimizer.zero_grad()\n",
    "    z, logabsdet = model.spline(dataset)\n",
    "    logp = model.spline.base_dist.log_prob(z) + logabsdet\n",
    "    loss = -torch.mean(logp)\n",
    "    loss.backward(retain_graph=True)\n",
    "    spline_optimizer.step()\n",
    "torch.save(model.spline.state_dict(), \"/home/cmu_wyao/spline.pth\")"
   ]
  },
  {
   "cell_type": "code",
   "execution_count": 160,
   "metadata": {},
   "outputs": [],
   "source": [
    "eps = model.sample(batch[\"xt\"].cpu())\n",
    "eps = eps.detach().cpu().numpy()"
   ]
  },
  {
   "cell_type": "code",
   "execution_count": 161,
   "metadata": {},
   "outputs": [
    {
     "name": "stderr",
     "output_type": "stream",
     "text": [
      "/home/cmu_wyao/anaconda3/envs/py37/lib/python3.7/site-packages/seaborn/distributions.py:2557: FutureWarning: `distplot` is a deprecated function and will be removed in a future version. Please adapt your code to use either `displot` (a figure-level function with similar flexibility) or `kdeplot` (an axes-level function for kernel density plots).\n",
      "  warnings.warn(msg, FutureWarning)\n"
     ]
    },
    {
     "data": {
      "image/png": "[encoded data removed]",
      "text/plain": [
       "<Figure size 432x288 with 1 Axes>"
      ]
     },
     "metadata": {
      "needs_background": "light"
     },
     "output_type": "display_data"
    }
   ],
   "source": [
    "sns.distplot(eps[:,3], hist=False, kde=True,\n",
    "             bins=None,\n",
    "             hist_kws={'edgecolor':'black'},\n",
    "             kde_kws={'linewidth': 2}, label=\"prior\");"
   ]
  },
  {
   "cell_type": "code",
   "execution_count": 106,
   "metadata": {},
   "outputs": [
    {
     "ename": "SyntaxError",
     "evalue": "EOL while scanning string literal (<ipython-input-106-b8e943d6a0d4>, line 4)",
     "output_type": "error",
     "traceback": [
      "\u001b[0;36m  File \u001b[0;32m\"<ipython-input-106-b8e943d6a0d4>\"\u001b[0;36m, line \u001b[0;32m4\u001b[0m\n\u001b[0;31m    kde_kws={'linewidth': 2}, label=\"posterior)\u001b[0m\n\u001b[0m                                               ^\u001b[0m\n\u001b[0;31mSyntaxError\u001b[0m\u001b[0;31m:\u001b[0m EOL while scanning string literal\n"
     ]
    }
   ],
   "source": [
    "sns.distplot(eps_res[:,0], hist=False, kde=True,\n",
    "             bins=None,\n",
    "             hist_kws={'edgecolor':'black'},\n",
    "             kde_kws={'linewidth': 2}, label=\"posterior"
   ]
  },
  {
   "cell_type": "code",
   "execution_count": 192,
   "metadata": {},
   "outputs": [
    {
     "name": "stderr",
     "output_type": "stream",
     "text": [
      "/home/cmu_wyao/anaconda3/envs/py37/lib/python3.7/site-packages/seaborn/distributions.py:2557: FutureWarning: `distplot` is a deprecated function and will be removed in a future version. Please adapt your code to use either `displot` (a figure-level function with similar flexibility) or `kdeplot` (an axes-level function for kernel density plots).\n",
      "  warnings.warn(msg, FutureWarning)\n"
     ]
    },
    {
     "data": {
      "image/png": "[encoded data removed]",
      "text/plain": [
       "<Figure size 432x288 with 1 Axes>"
      ]
     },
     "metadata": {
      "needs_background": "light"
     },
     "output_type": "display_data"
    }
   ],
   "source": [
    "sns.distplot(eps_res[:,3], hist=False, kde=True,\n",
    "             bins=None,\n",
    "             hist_kws={'edgecolor':'black'},\n",
    "             kde_kws={'linewidth': 2}, label=\"posterior\");"
   ]
  },
  {
   "cell_type": "code",
   "execution_count": 434,
   "metadata": {},
   "outputs": [],
   "source": [
    "W2 = model.trans_func.w[0].detach().cpu().numpy()\n",
    "W1 = model.trans_func.w[1].detach().cpu().numpy()\n",
    "B2 = -W2\n",
    "B1 = -W1"
   ]
  },
  {
   "cell_type": "code",
   "execution_count": 435,
   "metadata": {},
   "outputs": [],
   "source": [
    "BB2 = np.load(\"/home/cmu_wyao/projects/data/linear_nongaussian/W2.npy\")\n",
    "BB1 = np.load(\"/home/cmu_wyao/projects/data/linear_nongaussian/W1.npy\")"
   ]
  },
  {
   "cell_type": "code",
   "execution_count": 436,
   "metadata": {},
   "outputs": [],
   "source": [
    "b = np.concatenate((B1,B2), axis=0)\n",
    "bb = np.concatenate((BB1,BB2), axis=0)\n",
    "# b = B2\n",
    "# bb = BB2\n",
    "C = np.zeros((4,4))\n",
    "for i in range(4):\n",
    "    C[i] = -np.abs(np.corrcoef(np.concatenate((b[:,i:i+1], bb),axis=1), rowvar=False)[0,1:])\n",
    "from scipy.optimize import linear_sum_assignment\n",
    "row_ind, col_ind = linear_sum_assignment(C)\n",
    "bb = bb[:, col_ind]\n",
    "for col in range(4):\n",
    "    if np.corrcoef(np.concatenate((b[:,col:col+1], bb),axis=1), rowvar=False)[0,1:][col] < 0:\n",
    "        bb[:, col] = -bb[:, col]\n",
    "b = b / np.linalg.norm(b, axis=0).reshape(1, -1)\n",
    "bb = bb / np.linalg.norm(bb, axis=0).reshape(1, -1)\n",
    "pred = (b / np.linalg.norm(b, axis=0).reshape(1, -1)).reshape(-1)\n",
    "true = (bb / np.linalg.norm(bb, axis=0).reshape(1, -1)).reshape(-1)"
   ]
  },
  {
   "cell_type": "code",
   "execution_count": 437,
   "metadata": {},
   "outputs": [
    {
     "data": {
      "text/plain": [
       "array([-0.22177556, -0.09218327, -0.22692744, -0.88170456])"
      ]
     },
     "execution_count": 437,
     "metadata": {},
     "output_type": "execute_result"
    }
   ],
   "source": [
    "C[row_ind, col_ind]"
   ]
  },
  {
   "cell_type": "code",
   "execution_count": 401,
   "metadata": {},
   "outputs": [
    {
     "data": {
      "text/plain": [
       "array([-0.39813407, -0.92957814, -0.24436747, -0.03064014])"
      ]
     },
     "execution_count": 401,
     "metadata": {},
     "output_type": "execute_result"
    }
   ],
   "source": [
    "C[row_ind, col_ind]"
   ]
  },
  {
   "cell_type": "code",
   "execution_count": 438,
   "metadata": {},
   "outputs": [
    {
     "data": {
      "text/plain": [
       "array([[-0.54263914,  0.42458233,  0.03306229, -0.43974927],\n",
       "       [ 0.02495718, -0.2185202 ,  0.02526775, -0.14324664],\n",
       "       [ 0.25488845,  0.45940793, -0.54192406,  0.522279  ],\n",
       "       [-0.11941154,  0.19643417,  0.09615511, -0.18473135],\n",
       "       [-0.68516964, -0.4855517 ,  0.3690104 , -0.4695175 ],\n",
       "       [ 0.05124643,  0.41261044, -0.02932839,  0.01010843],\n",
       "       [ 0.35874793, -0.2554461 , -0.7312091 ,  0.48239398],\n",
       "       [-0.15782566, -0.22600074,  0.15377052, -0.16108064]],\n",
       "      dtype=float32)"
      ]
     },
     "execution_count": 438,
     "metadata": {},
     "output_type": "execute_result"
    }
   ],
   "source": [
    "b"
   ]
  },
  {
   "cell_type": "code",
   "execution_count": 439,
   "metadata": {},
   "outputs": [
    {
     "data": {
      "text/plain": [
       "array([[-0.5980089 ,  0.21683341, -0.39182225, -0.44806504],\n",
       "       [-0.12079846,  0.545546  , -0.6663635 , -0.07386426],\n",
       "       [-0.1893496 ,  0.25210577, -0.11058507,  0.3984242 ],\n",
       "       [ 0.61947435,  0.6778025 ,  0.14027089, -0.03291513],\n",
       "       [-0.26748887,  0.14655821, -0.13618793, -0.50111276],\n",
       "       [ 0.18450661, -0.09920824, -0.42694244,  0.24429446],\n",
       "       [-0.30625188,  0.14378825, -0.39227146,  0.3013707 ],\n",
       "       [ 0.09385146, -0.28353617,  0.12580204, -0.48201498]],\n",
       "      dtype=float32)"
      ]
     },
     "execution_count": 439,
     "metadata": {},
     "output_type": "execute_result"
    }
   ],
   "source": [
    "bb"
   ]
  },
  {
   "cell_type": "code",
   "execution_count": 440,
   "metadata": {},
   "outputs": [
    {
     "data": {
      "text/plain": [
       "array([[-0.0419628 , -0.22177556, -0.88261251, -0.17652143],\n",
       "       [-0.09218327, -0.09527681, -0.41296819, -0.0144553 ],\n",
       "       [-0.02140064, -0.23888922, -0.80620712, -0.22692744],\n",
       "       [-0.05522188, -0.00366254, -0.88170456, -0.07344289]])"
      ]
     },
     "execution_count": 440,
     "metadata": {},
     "output_type": "execute_result"
    }
   ],
   "source": [
    "C"
   ]
  },
  {
   "cell_type": "code",
   "execution_count": 441,
   "metadata": {
    "scrolled": true
   },
   "outputs": [
    {
     "data": {
      "text/plain": [
       "Text(0, 0.5, 'Ground truth weight')"
      ]
     },
     "execution_count": 441,
     "metadata": {},
     "output_type": "execute_result"
    },
    {
     "data": {
      "image/png": "[encoded data removed]",
      "text/plain": [
       "<Figure size 432x288 with 1 Axes>"
      ]
     },
     "metadata": {
      "needs_background": "light"
     },
     "output_type": "display_data"
    }
   ],
   "source": [
    "fig, ax = plt.subplots()\n",
    "ax.scatter(pred, true, s=25, cmap=plt.cm.coolwarm, zorder=10)\n",
    "lims = [-1,1\n",
    "]\n",
    "\n",
    "# now plot both limits against eachother\n",
    "ax.plot(lims, lims, '-.', alpha=0.75, zorder=0)\n",
    "ax.set_aspect('equal')\n",
    "# ax.set_xlim(lims)\n",
    "# ax.set_ylim(lims)\n",
    "ax.set_xlabel(\"Estimated weight\")\n",
    "ax.set_ylabel(\"Ground truth weight\")"
   ]
  },
  {
   "cell_type": "code",
   "execution_count": 430,
   "metadata": {},
   "outputs": [],
   "source": [
    "def amari_distance(r):\n",
    "    p = r.shape[0]\n",
    "    abs_r = np.abs(r)\n",
    "    l = np.sum(np.sum(abs_r, axis=1, keepdims=True) / np.max(abs_r, axis=1, keepdims=True) - 1, axis=0)\n",
    "    r = np.sum(np.sum(abs_r, axis=0, keepdims=True) / np.max(abs_r, axis=0, keepdims=True) - 1, axis=1)\n",
    "    return 1/(2*p*(p-1)) * (l+r)"
   ]
  },
  {
   "cell_type": "code",
   "execution_count": 431,
   "metadata": {},
   "outputs": [
    {
     "name": "stdout",
     "output_type": "stream",
     "text": [
      "Amari index: (0.35062075, 0.22854581)\n"
     ]
    }
   ],
   "source": [
    "am2 = amari_distance(np.linalg.inv(B2) @ BB2)\n",
    "am1 = amari_distance(np.linalg.inv(B1) @ BB1)\n",
    "print(f\"Amari index: {am2[0], am1[0]}\")"
   ]
  },
  {
   "cell_type": "code",
   "execution_count": 432,
   "metadata": {},
   "outputs": [
    {
     "data": {
      "text/plain": [
       "-0.14168433878591458"
      ]
     },
     "execution_count": 432,
     "metadata": {},
     "output_type": "execute_result"
    }
   ],
   "source": [
    "from sklearn.metrics import r2_score\n",
    "r2_score(pred,true)"
   ]
  },
  {
   "cell_type": "code",
   "execution_count": 61,
   "metadata": {},
   "outputs": [
    {
     "data": {
      "text/plain": [
       "(array([ 91., 626., 161.,  96.,  66.,  59.,  75.,  51.,  35.,  20.]),\n",
       " array([-0.16992928,  0.34165633,  0.8532419 ,  1.3648275 ,  1.8764131 ,\n",
       "         2.3879986 ,  2.8995843 ,  3.4111698 ,  3.9227555 ,  4.434341  ,\n",
       "         4.9459267 ], dtype=float32),\n",
       " <BarContainer object of 10 artists>)"
      ]
     },
     "execution_count": 61,
     "metadata": {},
     "output_type": "execute_result"
    },
    {
     "data": {
      "image/png": "[encoded data removed]",
      "text/plain": [
       "<Figure size 432x288 with 1 Axes>"
      ]
     },
     "metadata": {
      "needs_background": "light"
     },
     "output_type": "display_data"
    }
   ],
   "source": [
    "plt.hist(eps[:,1])"
   ]
  },
  {
   "cell_type": "code",
   "execution_count": null,
   "metadata": {},
   "outputs": [],
   "source": []
  }
 ],
 "metadata": {
  "kernelspec": {
   "display_name": "py37",
   "language": "python",
   "name": "py37"
  },
  "language_info": {
   "codemirror_mode": {
    "name": "ipython",
    "version": 3
   },
   "file_extension": ".py",
   "mimetype": "text/x-python",
   "name": "python",
   "nbconvert_exporter": "python",
   "pygments_lexer": "ipython3",
   "version": "3.7.10"
  }
 },
 "nbformat": 4,
 "nbformat_minor": 4
}
