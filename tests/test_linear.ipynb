{
 "cells": [
  {
   "cell_type": "code",
   "execution_count": 1,
   "metadata": {},
   "outputs": [],
   "source": [
    "%load_ext autoreload\n",
    "%autoreload 2"
   ]
  },
  {
   "cell_type": "code",
   "execution_count": 6,
   "metadata": {},
   "outputs": [],
   "source": [
    "import ltcl\n",
    "from ltcl.modules.components.linear import LULinear\n",
    "import torch\n",
    "from ltcl.modules.components.transforms import AffineMBDStep, AffineMBD"
   ]
  },
  {
   "cell_type": "code",
   "execution_count": 8,
   "metadata": {},
   "outputs": [],
   "source": [
    "x = torch.rand(16, 40, 5)"
   ]
  },
  {
   "cell_type": "code",
   "execution_count": 9,
   "metadata": {
    "scrolled": true
   },
   "outputs": [],
   "source": [
    "af = AffineMBD(5,3)"
   ]
  },
  {
   "cell_type": "code",
   "execution_count": 13,
   "metadata": {
    "scrolled": false
   },
   "outputs": [
    {
     "data": {
      "text/plain": [
       "tensor([-1.1027e-05, -1.1027e-05, -1.1027e-05, -1.1027e-05, -1.1027e-05,\n",
       "        -1.1027e-05, -1.1027e-05, -1.1027e-05, -1.1027e-05, -1.1027e-05,\n",
       "        -1.1027e-05, -1.1027e-05, -1.1027e-05, -1.1027e-05, -1.1027e-05,\n",
       "        -1.1027e-05], grad_fn=<SumBackward1>)"
      ]
     },
     "execution_count": 13,
     "metadata": {},
     "output_type": "execute_result"
    }
   ],
   "source": [
    "af(x)[1]"
   ]
  },
  {
   "cell_type": "code",
   "execution_count": 155,
   "metadata": {},
   "outputs": [
    {
     "data": {
      "text/plain": [
       "(tensor([[ 0.3235,  0.9491,  0.0532,  0.6576,  0.4148],\n",
       "         [ 0.7166,  0.1095,  0.7463,  0.3987,  0.9793],\n",
       "         [ 0.3305,  0.2733,  0.8520,  0.6037,  0.2515],\n",
       "         [ 0.4924,  0.8091,  0.8056,  0.4024,  0.7732],\n",
       "         [ 0.6022,  0.8862,  0.7043,  0.1697,  0.6696],\n",
       "         [ 0.0496,  0.1971,  0.6523,  0.4424,  0.8915],\n",
       "         [-0.0115,  0.1774,  0.8889,  0.8541,  0.2516],\n",
       "         [ 0.3977,  0.2453,  0.2623,  0.4421,  0.2898],\n",
       "         [ 0.2855,  0.2246,  0.0081,  0.8036,  0.2670],\n",
       "         [ 0.2552,  0.5046,  0.4937,  0.6082,  0.1018],\n",
       "         [ 0.4508,  0.2224,  0.1069,  0.4133,  0.1139],\n",
       "         [ 0.3427,  0.0823,  0.7638,  0.0330,  0.2589],\n",
       "         [ 0.0620,  0.3701,  0.0370,  0.6001,  0.2942],\n",
       "         [ 0.5898,  0.3147,  0.2667,  0.5897,  0.6487],\n",
       "         [ 0.7326,  0.3662,  0.7883,  0.0882,  0.0971],\n",
       "         [ 0.4932,  0.1823,  0.6074,  0.7244,  0.4798]], grad_fn=<AddBackward0>),\n",
       " tensor([-2.9802e-07, -2.9802e-07, -2.9802e-07, -2.9802e-07, -2.9802e-07,\n",
       "         -2.9802e-07, -2.9802e-07, -2.9802e-07, -2.9802e-07, -2.9802e-07,\n",
       "         -2.9802e-07, -2.9802e-07, -2.9802e-07, -2.9802e-07, -2.9802e-07,\n",
       "         -2.9802e-07], grad_fn=<MulBackward0>))"
      ]
     },
     "execution_count": 155,
     "metadata": {},
     "output_type": "execute_result"
    }
   ],
   "source": [
    "af.forward(x[:,-1:], x[:,:-1])"
   ]
  },
  {
   "cell_type": "code",
   "execution_count": 130,
   "metadata": {},
   "outputs": [],
   "source": [
    "import torch.nn as nn\n"
   ]
  },
  {
   "cell_type": "code",
   "execution_count": 159,
   "metadata": {},
   "outputs": [],
   "source": [
    "ln = LULinear(5, identity_init=True, using_cache=True)"
   ]
  },
  {
   "cell_type": "code",
   "execution_count": 161,
   "metadata": {
    "scrolled": true
   },
   "outputs": [
    {
     "data": {
      "text/plain": [
       "(tensor([[[0.6811, 0.2196, 0.6923, 0.0070, 0.1423],\n",
       "          [0.3651, 0.8115, 0.6041, 0.6515, 0.1930],\n",
       "          [0.4109, 0.1580, 0.2014, 0.5807, 0.5902],\n",
       "          [0.7189, 0.1865, 0.3327, 0.3842, 0.4437]],\n",
       " \n",
       "         [[0.2624, 0.8754, 0.7083, 0.1112, 0.1616],\n",
       "          [0.8255, 0.9445, 0.4103, 0.4734, 0.3880],\n",
       "          [0.2599, 0.5638, 0.8067, 0.4844, 0.7200],\n",
       "          [0.0570, 0.6648, 0.8182, 0.3115, 0.1224]],\n",
       " \n",
       "         [[0.5220, 0.6687, 0.3717, 0.3121, 0.3521],\n",
       "          [0.8660, 0.4434, 0.6512, 0.5571, 0.3081],\n",
       "          [0.3622, 0.2016, 0.5992, 0.3166, 0.5618],\n",
       "          [0.9987, 0.2816, 0.7351, 0.0109, 0.2369]],\n",
       " \n",
       "         [[0.9746, 0.6250, 0.5189, 0.8918, 0.1959],\n",
       "          [0.1166, 0.8354, 0.4912, 0.6776, 0.6419],\n",
       "          [0.9720, 0.6904, 0.8148, 0.4545, 0.2886],\n",
       "          [0.0864, 0.3552, 0.7186, 0.3549, 0.0320]],\n",
       " \n",
       "         [[0.6138, 0.9523, 0.2188, 0.4109, 0.8311],\n",
       "          [0.5320, 0.9480, 0.9256, 0.7548, 0.1742],\n",
       "          [0.6744, 0.2479, 0.4922, 0.8514, 0.0541],\n",
       "          [0.3767, 0.6723, 0.0533, 0.5569, 0.7573]],\n",
       " \n",
       "         [[0.1891, 0.8909, 0.6466, 0.7076, 0.3614],\n",
       "          [0.6716, 0.4673, 0.1496, 0.2692, 0.8310],\n",
       "          [0.4238, 0.5158, 0.2801, 0.2099, 0.8967],\n",
       "          [0.1316, 0.0178, 0.6533, 0.2121, 0.8707]],\n",
       " \n",
       "         [[0.3045, 0.6855, 0.6159, 0.1505, 0.3816],\n",
       "          [0.3727, 0.3463, 0.3130, 0.5906, 0.4099],\n",
       "          [0.9232, 0.2900, 0.6703, 0.6359, 0.9156],\n",
       "          [0.4110, 0.8067, 0.8964, 0.8829, 0.2209]],\n",
       " \n",
       "         [[0.2392, 0.3470, 0.7133, 0.3053, 0.7398],\n",
       "          [0.8733, 0.5703, 0.1736, 0.1550, 0.1296],\n",
       "          [0.7366, 0.3474, 0.2939, 0.6502, 0.7329],\n",
       "          [0.9402, 0.2397, 0.9135, 0.2201, 0.2049]],\n",
       " \n",
       "         [[0.9227, 0.0344, 0.0803, 0.3100, 0.7647],\n",
       "          [0.4326, 0.3152, 0.0696, 0.7867, 0.5607],\n",
       "          [0.8673, 0.1660, 0.1133, 0.3293, 0.5833],\n",
       "          [0.5941, 0.8215, 0.6818, 0.5121, 0.4631]],\n",
       " \n",
       "         [[0.1932, 0.2712, 0.7115, 0.3449, 0.5165],\n",
       "          [0.7134, 0.1227, 0.6400, 0.3269, 0.6370],\n",
       "          [0.4064, 0.6467, 0.1855, 0.7932, 0.2701],\n",
       "          [0.7996, 0.0794, 0.8450, 0.3476, 0.2370]],\n",
       " \n",
       "         [[0.0949, 0.3691, 0.6836, 0.8125, 0.1123],\n",
       "          [0.9644, 0.2263, 0.5247, 0.0410, 0.2802],\n",
       "          [0.7254, 0.9757, 0.8421, 0.2996, 0.0015],\n",
       "          [0.7858, 0.0399, 0.2735, 0.9835, 0.4347]],\n",
       " \n",
       "         [[0.1353, 0.5635, 0.7019, 0.6000, 0.9391],\n",
       "          [0.9841, 0.1123, 0.8416, 0.9570, 0.0385],\n",
       "          [0.0861, 0.7561, 0.7126, 0.5795, 0.6821],\n",
       "          [0.6579, 0.9782, 0.2795, 0.4848, 0.7400]],\n",
       " \n",
       "         [[0.2514, 0.5582, 0.7030, 0.9657, 0.8934],\n",
       "          [0.2890, 0.2436, 0.3777, 0.5063, 0.9020],\n",
       "          [0.5231, 0.8218, 0.3722, 0.3984, 0.8283],\n",
       "          [0.6017, 0.8490, 0.5741, 0.1573, 0.2588]],\n",
       " \n",
       "         [[0.0085, 0.7837, 0.2989, 0.7522, 0.0604],\n",
       "          [0.3490, 0.7877, 0.5764, 0.4566, 0.4518],\n",
       "          [0.2635, 0.4498, 0.4329, 0.3260, 0.2691],\n",
       "          [0.7651, 0.4058, 0.7140, 0.1549, 0.7191]],\n",
       " \n",
       "         [[0.1354, 0.4990, 0.8678, 0.6823, 0.9925],\n",
       "          [0.4682, 0.8680, 0.0939, 0.4976, 0.1780],\n",
       "          [0.3538, 0.6191, 0.9999, 0.8741, 0.4638],\n",
       "          [0.0168, 0.5391, 0.8811, 0.1755, 0.4295]],\n",
       " \n",
       "         [[0.3966, 0.1168, 0.1160, 0.4959, 0.9017],\n",
       "          [0.6521, 0.5896, 0.9028, 0.5939, 0.9793],\n",
       "          [0.0909, 0.6995, 0.0435, 0.9402, 0.5528],\n",
       "          [0.7906, 0.7320, 0.5648, 0.5001, 0.9777]]], grad_fn=<AddBackward0>),\n",
       " tensor([-2.9802e-07, -2.9802e-07, -2.9802e-07, -2.9802e-07, -2.9802e-07,\n",
       "         -2.9802e-07, -2.9802e-07, -2.9802e-07, -2.9802e-07, -2.9802e-07,\n",
       "         -2.9802e-07, -2.9802e-07, -2.9802e-07, -2.9802e-07, -2.9802e-07,\n",
       "         -2.9802e-07], grad_fn=<MulBackward0>))"
      ]
     },
     "execution_count": 161,
     "metadata": {},
     "output_type": "execute_result"
    }
   ],
   "source": [
    "ln(x)"
   ]
  },
  {
   "cell_type": "code",
   "execution_count": 86,
   "metadata": {},
   "outputs": [
    {
     "data": {
      "text/plain": [
       "tensor([1., 1., 1., 1., 1.])"
      ]
     },
     "execution_count": 86,
     "metadata": {},
     "output_type": "execute_result"
    }
   ],
   "source": [
    "x.new_ones(5)"
   ]
  },
  {
   "cell_type": "code",
   "execution_count": 68,
   "metadata": {},
   "outputs": [],
   "source": [
    "y = x.unfold(dimension=1, size=3,step=1).swapaxes(-1, -2)"
   ]
  },
  {
   "cell_type": "code",
   "execution_count": 98,
   "metadata": {},
   "outputs": [
    {
     "data": {
      "text/plain": [
       "torch.Size([16, 2, 3, 8])"
      ]
     },
     "execution_count": 98,
     "metadata": {},
     "output_type": "execute_result"
    }
   ],
   "source": [
    "y.shape"
   ]
  },
  {
   "cell_type": "code",
   "execution_count": 109,
   "metadata": {},
   "outputs": [],
   "source": [
    "y1 = y.reshape(-1, 8)"
   ]
  },
  {
   "cell_type": "code",
   "execution_count": 115,
   "metadata": {},
   "outputs": [
    {
     "data": {
      "text/plain": [
       "tensor([0.4143, 0.9086, 0.2927, 0.6092, 0.5762, 0.6178, 0.6051, 0.1361])"
      ]
     },
     "execution_count": 115,
     "metadata": {},
     "output_type": "execute_result"
    }
   ],
   "source": [
    "y1[0] + 0"
   ]
  },
  {
   "cell_type": "code",
   "execution_count": 122,
   "metadata": {},
   "outputs": [
    {
     "data": {
      "text/plain": [
       "1.0"
      ]
     },
     "execution_count": 122,
     "metadata": {},
     "output_type": "execute_result"
    }
   ],
   "source": [
    "import numpy as np\n",
    "np.ones(12)[-12]"
   ]
  },
  {
   "cell_type": "code",
   "execution_count": 123,
   "metadata": {},
   "outputs": [],
   "source": [
    "l = [1,2,3]"
   ]
  },
  {
   "cell_type": "code",
   "execution_count": 124,
   "metadata": {},
   "outputs": [
    {
     "data": {
      "text/plain": [
       "1"
      ]
     },
     "execution_count": 124,
     "metadata": {},
     "output_type": "execute_result"
    }
   ],
   "source": [
    "l[-3]"
   ]
  },
  {
   "cell_type": "code",
   "execution_count": 114,
   "metadata": {},
   "outputs": [
    {
     "data": {
      "text/plain": [
       "tensor([0.4143, 0.9086, 0.2927, 0.6092, 0.5762, 0.6178, 0.6051, 0.1361])"
      ]
     },
     "execution_count": 114,
     "metadata": {},
     "output_type": "execute_result"
    }
   ],
   "source": [
    "y[0,0,0]"
   ]
  },
  {
   "cell_type": "code",
   "execution_count": 110,
   "metadata": {},
   "outputs": [
    {
     "data": {
      "text/plain": [
       "tensor([[[[True, True, True, True, True, True, True, True],\n",
       "          [True, True, True, True, True, True, True, True],\n",
       "          [True, True, True, True, True, True, True, True]],\n",
       "\n",
       "         [[True, True, True, True, True, True, True, True],\n",
       "          [True, True, True, True, True, True, True, True],\n",
       "          [True, True, True, True, True, True, True, True]]],\n",
       "\n",
       "\n",
       "        [[[True, True, True, True, True, True, True, True],\n",
       "          [True, True, True, True, True, True, True, True],\n",
       "          [True, True, True, True, True, True, True, True]],\n",
       "\n",
       "         [[True, True, True, True, True, True, True, True],\n",
       "          [True, True, True, True, True, True, True, True],\n",
       "          [True, True, True, True, True, True, True, True]]],\n",
       "\n",
       "\n",
       "        [[[True, True, True, True, True, True, True, True],\n",
       "          [True, True, True, True, True, True, True, True],\n",
       "          [True, True, True, True, True, True, True, True]],\n",
       "\n",
       "         [[True, True, True, True, True, True, True, True],\n",
       "          [True, True, True, True, True, True, True, True],\n",
       "          [True, True, True, True, True, True, True, True]]],\n",
       "\n",
       "\n",
       "        [[[True, True, True, True, True, True, True, True],\n",
       "          [True, True, True, True, True, True, True, True],\n",
       "          [True, True, True, True, True, True, True, True]],\n",
       "\n",
       "         [[True, True, True, True, True, True, True, True],\n",
       "          [True, True, True, True, True, True, True, True],\n",
       "          [True, True, True, True, True, True, True, True]]],\n",
       "\n",
       "\n",
       "        [[[True, True, True, True, True, True, True, True],\n",
       "          [True, True, True, True, True, True, True, True],\n",
       "          [True, True, True, True, True, True, True, True]],\n",
       "\n",
       "         [[True, True, True, True, True, True, True, True],\n",
       "          [True, True, True, True, True, True, True, True],\n",
       "          [True, True, True, True, True, True, True, True]]],\n",
       "\n",
       "\n",
       "        [[[True, True, True, True, True, True, True, True],\n",
       "          [True, True, True, True, True, True, True, True],\n",
       "          [True, True, True, True, True, True, True, True]],\n",
       "\n",
       "         [[True, True, True, True, True, True, True, True],\n",
       "          [True, True, True, True, True, True, True, True],\n",
       "          [True, True, True, True, True, True, True, True]]],\n",
       "\n",
       "\n",
       "        [[[True, True, True, True, True, True, True, True],\n",
       "          [True, True, True, True, True, True, True, True],\n",
       "          [True, True, True, True, True, True, True, True]],\n",
       "\n",
       "         [[True, True, True, True, True, True, True, True],\n",
       "          [True, True, True, True, True, True, True, True],\n",
       "          [True, True, True, True, True, True, True, True]]],\n",
       "\n",
       "\n",
       "        [[[True, True, True, True, True, True, True, True],\n",
       "          [True, True, True, True, True, True, True, True],\n",
       "          [True, True, True, True, True, True, True, True]],\n",
       "\n",
       "         [[True, True, True, True, True, True, True, True],\n",
       "          [True, True, True, True, True, True, True, True],\n",
       "          [True, True, True, True, True, True, True, True]]],\n",
       "\n",
       "\n",
       "        [[[True, True, True, True, True, True, True, True],\n",
       "          [True, True, True, True, True, True, True, True],\n",
       "          [True, True, True, True, True, True, True, True]],\n",
       "\n",
       "         [[True, True, True, True, True, True, True, True],\n",
       "          [True, True, True, True, True, True, True, True],\n",
       "          [True, True, True, True, True, True, True, True]]],\n",
       "\n",
       "\n",
       "        [[[True, True, True, True, True, True, True, True],\n",
       "          [True, True, True, True, True, True, True, True],\n",
       "          [True, True, True, True, True, True, True, True]],\n",
       "\n",
       "         [[True, True, True, True, True, True, True, True],\n",
       "          [True, True, True, True, True, True, True, True],\n",
       "          [True, True, True, True, True, True, True, True]]],\n",
       "\n",
       "\n",
       "        [[[True, True, True, True, True, True, True, True],\n",
       "          [True, True, True, True, True, True, True, True],\n",
       "          [True, True, True, True, True, True, True, True]],\n",
       "\n",
       "         [[True, True, True, True, True, True, True, True],\n",
       "          [True, True, True, True, True, True, True, True],\n",
       "          [True, True, True, True, True, True, True, True]]],\n",
       "\n",
       "\n",
       "        [[[True, True, True, True, True, True, True, True],\n",
       "          [True, True, True, True, True, True, True, True],\n",
       "          [True, True, True, True, True, True, True, True]],\n",
       "\n",
       "         [[True, True, True, True, True, True, True, True],\n",
       "          [True, True, True, True, True, True, True, True],\n",
       "          [True, True, True, True, True, True, True, True]]],\n",
       "\n",
       "\n",
       "        [[[True, True, True, True, True, True, True, True],\n",
       "          [True, True, True, True, True, True, True, True],\n",
       "          [True, True, True, True, True, True, True, True]],\n",
       "\n",
       "         [[True, True, True, True, True, True, True, True],\n",
       "          [True, True, True, True, True, True, True, True],\n",
       "          [True, True, True, True, True, True, True, True]]],\n",
       "\n",
       "\n",
       "        [[[True, True, True, True, True, True, True, True],\n",
       "          [True, True, True, True, True, True, True, True],\n",
       "          [True, True, True, True, True, True, True, True]],\n",
       "\n",
       "         [[True, True, True, True, True, True, True, True],\n",
       "          [True, True, True, True, True, True, True, True],\n",
       "          [True, True, True, True, True, True, True, True]]],\n",
       "\n",
       "\n",
       "        [[[True, True, True, True, True, True, True, True],\n",
       "          [True, True, True, True, True, True, True, True],\n",
       "          [True, True, True, True, True, True, True, True]],\n",
       "\n",
       "         [[True, True, True, True, True, True, True, True],\n",
       "          [True, True, True, True, True, True, True, True],\n",
       "          [True, True, True, True, True, True, True, True]]],\n",
       "\n",
       "\n",
       "        [[[True, True, True, True, True, True, True, True],\n",
       "          [True, True, True, True, True, True, True, True],\n",
       "          [True, True, True, True, True, True, True, True]],\n",
       "\n",
       "         [[True, True, True, True, True, True, True, True],\n",
       "          [True, True, True, True, True, True, True, True],\n",
       "          [True, True, True, True, True, True, True, True]]]])"
      ]
     },
     "execution_count": 110,
     "metadata": {},
     "output_type": "execute_result"
    }
   ],
   "source": [
    "y1.reshape(y.shape) == y"
   ]
  },
  {
   "cell_type": "code",
   "execution_count": 88,
   "metadata": {
    "scrolled": true
   },
   "outputs": [
    {
     "name": "stdout",
     "output_type": "stream",
     "text": [
      "torch.Size([])\n"
     ]
    },
    {
     "data": {
      "text/plain": [
       "tensor([-1.0830, -1.0830, -1.0830, -1.0830, -1.0830, -1.0830, -1.0830, -1.0830,\n",
       "        -1.0830, -1.0830, -1.0830, -1.0830, -1.0830, -1.0830, -1.0830, -1.0830],\n",
       "       grad_fn=<MulBackward0>)"
      ]
     },
     "execution_count": 88,
     "metadata": {},
     "output_type": "execute_result"
    }
   ],
   "source": [
    "ln.forward_no_cache(x)[1]"
   ]
  },
  {
   "cell_type": "code",
   "execution_count": 94,
   "metadata": {},
   "outputs": [],
   "source": [
    "a = 1 * torch.ones(12)/12"
   ]
  },
  {
   "cell_type": "code",
   "execution_count": 97,
   "metadata": {},
   "outputs": [
    {
     "data": {
      "text/plain": [
       "torch.Size([32, 12])"
      ]
     },
     "execution_count": 97,
     "metadata": {},
     "output_type": "execute_result"
    }
   ],
   "source": [
    "torch.stack(32 * [a]).shape"
   ]
  },
  {
   "cell_type": "code",
   "execution_count": 92,
   "metadata": {},
   "outputs": [
    {
     "data": {
      "text/plain": [
       "tensor([1., 1., 1., 1., 1., 1., 1., 1., 1., 1., 1., 1.])"
      ]
     },
     "execution_count": 92,
     "metadata": {},
     "output_type": "execute_result"
    }
   ],
   "source": [
    "1 *  torch.ones(12) * torch.ones(12).T"
   ]
  },
  {
   "cell_type": "code",
   "execution_count": 69,
   "metadata": {},
   "outputs": [
    {
     "data": {
      "text/plain": [
       "torch.Size([16, 2, 3, 8])"
      ]
     },
     "execution_count": 69,
     "metadata": {},
     "output_type": "execute_result"
    }
   ],
   "source": [
    "y.shape"
   ]
  },
  {
   "cell_type": "code",
   "execution_count": 73,
   "metadata": {},
   "outputs": [
    {
     "data": {
      "text/plain": [
       "torch.Size([3, 8])"
      ]
     },
     "execution_count": 73,
     "metadata": {},
     "output_type": "execute_result"
    }
   ],
   "source": [
    "y[0, 0, :, :].shape"
   ]
  },
  {
   "cell_type": "code",
   "execution_count": 60,
   "metadata": {},
   "outputs": [
    {
     "data": {
      "text/plain": [
       "tensor([[0.4143, 0.9086, 0.2927, 0.6092, 0.5762, 0.6178, 0.6051, 0.1361],\n",
       "        [0.0492, 0.6251, 0.9643, 0.4910, 0.0401, 0.2222, 0.8633, 0.2307],\n",
       "        [0.0836, 0.9884, 0.3025, 0.8867, 0.1311, 0.3248, 0.5133, 0.5176],\n",
       "        [0.2459, 0.0536, 0.6596, 0.8216, 0.6418, 0.8858, 0.1912, 0.9826]])"
      ]
     },
     "execution_count": 60,
     "metadata": {},
     "output_type": "execute_result"
    }
   ],
   "source": [
    "x[0]"
   ]
  },
  {
   "cell_type": "code",
   "execution_count": 49,
   "metadata": {},
   "outputs": [
    {
     "data": {
      "text/plain": [
       "torch.Size([2, 3, 3])"
      ]
     },
     "execution_count": 49,
     "metadata": {},
     "output_type": "execute_result"
    }
   ],
   "source": [
    "y.shape"
   ]
  },
  {
   "cell_type": "code",
   "execution_count": 45,
   "metadata": {},
   "outputs": [
    {
     "data": {
      "text/plain": [
       "torch.Size([2, 5])"
      ]
     },
     "execution_count": 45,
     "metadata": {},
     "output_type": "execute_result"
    }
   ],
   "source": [
    "x.shape"
   ]
  },
  {
   "cell_type": "code",
   "execution_count": null,
   "metadata": {},
   "outputs": [],
   "source": [
    "5-3+1"
   ]
  },
  {
   "cell_type": "code",
   "execution_count": null,
   "metadata": {},
   "outputs": [],
   "source": []
  }
 ],
 "metadata": {
  "kernelspec": {
   "display_name": "py37",
   "language": "python",
   "name": "py37"
  },
  "language_info": {
   "codemirror_mode": {
    "name": "ipython",
    "version": 3
   },
   "file_extension": ".py",
   "mimetype": "text/x-python",
   "name": "python",
   "nbconvert_exporter": "python",
   "pygments_lexer": "ipython3",
   "version": "3.7.10"
  }
 },
 "nbformat": 4,
 "nbformat_minor": 4
}
