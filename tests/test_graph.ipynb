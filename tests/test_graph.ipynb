{
 "cells": [
  {
   "cell_type": "code",
   "execution_count": 1,
   "metadata": {},
   "outputs": [],
   "source": [
    "%load_ext autoreload\n",
    "%autoreload 2"
   ]
  },
  {
   "cell_type": "code",
   "execution_count": 2,
   "metadata": {},
   "outputs": [],
   "source": [
    "import torch\n",
    "from ltcl.modules.components.graph import PropNet"
   ]
  },
  {
   "cell_type": "code",
   "execution_count": 3,
   "metadata": {},
   "outputs": [],
   "source": [
    "net = PropNet(node_dim_in = 8, \n",
    "              edge_dim_in = 8, \n",
    "              nf_hidden = 8, \n",
    "              node_dim_out = 8, \n",
    "              edge_dim_out = 8,\n",
    "              edge_type_num = 3, \n",
    "              pstep=2, batch_norm=1, \n",
    "              use_gpu=True)"
   ]
  },
  {
   "cell_type": "code",
   "execution_count": 4,
   "metadata": {},
   "outputs": [],
   "source": [
    "node_rep = torch.randn(32,5, 8)\n",
    "edge_rep = torch.randn(32, 5, 5, 8)\n",
    "edge_type = torch.zeros(32, 5, 5, 3)\n",
    "start_idx = 1"
   ]
  },
  {
   "cell_type": "code",
   "execution_count": null,
   "metadata": {},
   "outputs": [],
   "source": []
  }
 ],
 "metadata": {
  "kernelspec": {
   "display_name": "py37",
   "language": "python",
   "name": "py37"
  }
 },
 "nbformat": 4,
 "nbformat_minor": 4
}
