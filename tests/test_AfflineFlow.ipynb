{
 "cells": [
  {
   "cell_type": "markdown",
   "metadata": {},
   "source": [
    "## Recover temporal latent causal factors with simulated data"
   ]
  },
  {
   "cell_type": "markdown",
   "metadata": {},
   "source": [
    "### Initialize environment"
   ]
  },
  {
   "cell_type": "code",
   "execution_count": 1,
   "metadata": {},
   "outputs": [],
   "source": [
    "%load_ext autoreload\n",
    "%autoreload 2"
   ]
  },
  {
   "cell_type": "code",
   "execution_count": 3,
   "metadata": {},
   "outputs": [],
   "source": [
    "import torch\n",
    "import torch.nn.functional as F\n",
    "import ltcl\n",
    "import numpy as np\n",
    "from ltcl.modules.linear_flow import AffineFlow\n",
    "from ltcl.modules.components.tc import Discriminator, permute_dims\n",
    "from ltcl.datasets.sim_dataset import SimulationDataset\n",
    "import random\n",
    "import seaborn as sns\n",
    "import matplotlib.pyplot as plt\n",
    "%matplotlib inline"
   ]
  },
  {
   "cell_type": "code",
   "execution_count": 8,
   "metadata": {},
   "outputs": [],
   "source": [
    "from torch.utils.data import DataLoader, random_split\n"
   ]
  },
  {
   "cell_type": "code",
   "execution_count": 4,
   "metadata": {},
   "outputs": [],
   "source": [
    "def freeze_flow(flow, module_name):\n",
    "    module = getattr(flow, module_name)\n",
    "    for param in module.parameters():\n",
    "        param.requires_grad = False\n",
    "        \n",
    "def unfreeze_flow(flow, module_name):\n",
    "    module = getattr(flow, module_name)\n",
    "    for param in module.parameters():\n",
    "        param.requires_grad = True"
   ]
  },
  {
   "cell_type": "code",
   "execution_count": 5,
   "metadata": {},
   "outputs": [],
   "source": [
    "use_cuda = torch.cuda.is_available()\n",
    "device = torch.device(\"cuda:0\" if use_cuda else \"cpu\")\n",
    "torch.backends.cudnn.benchmark = True\n",
    "batch_size = 64\n",
    "max_epochs = 2"
   ]
  },
  {
   "cell_type": "code",
   "execution_count": 24,
   "metadata": {},
   "outputs": [],
   "source": [
    "num_validation_samples = 500\n",
    "data = SimulationDataset()\n",
    "train_data, val_data = random_split(data, [len(data)-num_validation_samples, num_validation_samples])\n",
    "train_loader = DataLoader(train_data, batch_size=128, shuffle=True, pin_memory=True)\n",
    "val_loader   = DataLoader(val_data, batch_size=128, shuffle=False, pin_memory=True)"
   ]
  },
  {
   "cell_type": "code",
   "execution_count": 10,
   "metadata": {},
   "outputs": [],
   "source": [
    "flow = AffineFlow(input_size = 4, \n",
    "                  lags = 2,\n",
    "                  batch_norm = True,\n",
    "                  diagonal=False)\n",
    "flow = flow.to(device)\n",
    "d = Discriminator(80 * 4).to(device)"
   ]
  },
  {
   "cell_type": "code",
   "execution_count": 7,
   "metadata": {},
   "outputs": [
    {
     "data": {
      "text/plain": [
       "<All keys matched successfully>"
      ]
     },
     "execution_count": 7,
     "metadata": {},
     "output_type": "execute_result"
    }
   ],
   "source": [
    "flow.load_state_dict(torch.load(\"../flow.pth\"))"
   ]
  },
  {
   "cell_type": "code",
   "execution_count": 7,
   "metadata": {},
   "outputs": [],
   "source": [
    "# Manual tuning\n",
    "freeze_flow(flow, \"dconv\")\n",
    "freeze_flow(flow, \"unmix\")\n",
    "unfreeze_flow(flow, \"spline\")"
   ]
  },
  {
   "cell_type": "code",
   "execution_count": 12,
   "metadata": {},
   "outputs": [],
   "source": [
    "spline_optimizer = torch.optim.Adam(filter(lambda p: p.requires_grad, flow.parameters()), \n",
    "                                    lr=1e-3,\n",
    "                                    weight_decay=0.0)"
   ]
  },
  {
   "cell_type": "code",
   "execution_count": 13,
   "metadata": {},
   "outputs": [],
   "source": [
    "# Warm-start the prior to standard normal dist\n",
    "for step in range(5000):\n",
    "    latent_size = 4\n",
    "#     y_1 = torch.exp(torch.normal(0, 1, size=(batch_size, latent_size//2)))\n",
    "    y_1 = torch.normal(0, 1, size=(batch_size, latent_size//2))\n",
    "                # y_2 = torch.rand(batch_size, latent_size//2) - 0.5\n",
    "#     y_2 = torch.distributions.laplace.Laplace(0,1).rsample((batch_size, latent_size//2))\n",
    "    y_2 = torch.normal(0, 1, size=(batch_size, latent_size//2))\n",
    "#     y_2 = torch.distributions.uniform.Uniform(-0.5, 0.5).sample((batch_size, latent_size//2))\n",
    "    dataset = torch.cat((y_1, y_2), dim=1).to(device)\n",
    "    spline_optimizer.zero_grad()\n",
    "    z, logabsdet = flow.spline(dataset)\n",
    "    logp = flow.base_dist.log_prob(z) + logabsdet\n",
    "    loss = -torch.mean(logp)\n",
    "    loss.backward(retain_graph=True)\n",
    "    spline_optimizer.step()"
   ]
  },
  {
   "cell_type": "code",
   "execution_count": 14,
   "metadata": {
    "scrolled": true
   },
   "outputs": [
    {
     "name": "stderr",
     "output_type": "stream",
     "text": [
      "/home/cmu_wyao/anaconda3/envs/py37/lib/python3.7/site-packages/seaborn/distributions.py:2557: FutureWarning: `distplot` is a deprecated function and will be removed in a future version. Please adapt your code to use either `displot` (a figure-level function with similar flexibility) or `kdeplot` (an axes-level function for kernel density plots).\n",
      "  warnings.warn(msg, FutureWarning)\n",
      "/home/cmu_wyao/anaconda3/envs/py37/lib/python3.7/site-packages/seaborn/distributions.py:2557: FutureWarning: `distplot` is a deprecated function and will be removed in a future version. Please adapt your code to use either `displot` (a figure-level function with similar flexibility) or `kdeplot` (an axes-level function for kernel density plots).\n",
      "  warnings.warn(msg, FutureWarning)\n",
      "/home/cmu_wyao/anaconda3/envs/py37/lib/python3.7/site-packages/seaborn/distributions.py:2557: FutureWarning: `distplot` is a deprecated function and will be removed in a future version. Please adapt your code to use either `displot` (a figure-level function with similar flexibility) or `kdeplot` (an axes-level function for kernel density plots).\n",
      "  warnings.warn(msg, FutureWarning)\n",
      "/home/cmu_wyao/anaconda3/envs/py37/lib/python3.7/site-packages/seaborn/distributions.py:2557: FutureWarning: `distplot` is a deprecated function and will be removed in a future version. Please adapt your code to use either `displot` (a figure-level function with similar flexibility) or `kdeplot` (an axes-level function for kernel density plots).\n",
      "  warnings.warn(msg, FutureWarning)\n"
     ]
    },
    {
     "data": {
      "image/png": "[encoded data removed]",
      "text/plain": [
       "<Figure size 576x288 with 4 Axes>"
      ]
     },
     "metadata": {
      "needs_background": "light"
     },
     "output_type": "display_data"
    }
   ],
   "source": [
    "fig, axs = plt.subplots(2, 2, figsize=(8,4))\n",
    "for idx in range(4):\n",
    "    row = idx // 2\n",
    "    col = idx % 2\n",
    "#     sns.distplot(y_t[:,idx], hist=False, kde=True,\n",
    "#                  bins=None,\n",
    "#                  hist_kws={'edgecolor':'black'},\n",
    "#                  kde_kws={'linewidth': 2},\n",
    "#                  ax = axs[row,col], label=\"prior\");\n",
    "#     axs[row,col].legend()\n",
    "    sns.distplot(flow.sample_prior(1280).detach().cpu().numpy()[:,idx], hist=False, kde=True,\n",
    "                 bins=None,\n",
    "                 hist_kws={'edgecolor':'black'},\n",
    "                 kde_kws={'linewidth': 2},\n",
    "                 ax = axs[row,col], label=\"prior\");"
   ]
  },
  {
   "cell_type": "code",
   "execution_count": 15,
   "metadata": {},
   "outputs": [],
   "source": [
    "# Manual tuning\n",
    "unfreeze_flow(flow, \"dconv\")\n",
    "unfreeze_flow(flow, \"unmix\")\n",
    "unfreeze_flow(flow, \"spline\")\n",
    "flow_optimizer = torch.optim.Adam(filter(lambda p: p.requires_grad, flow.parameters()), \n",
    "                                  lr=2e-4,\n",
    "                                  weight_decay=0.0)\n",
    "d_optimizer = torch.optim.SGD(filter(lambda p: p.requires_grad, d.parameters()), \n",
    "                               lr=1e-4)"
   ]
  },
  {
   "cell_type": "code",
   "execution_count": 16,
   "metadata": {},
   "outputs": [],
   "source": [
    "# Manual tuning\n",
    "# unfreeze_flow(flow, \"dconv\")\n",
    "# unfreeze_flow(flow, \"unmix\")\n",
    "# freeze_flow(flow, \"spline\")"
   ]
  },
  {
   "cell_type": "code",
   "execution_count": 17,
   "metadata": {},
   "outputs": [],
   "source": [
    "def amari_distance(r):\n",
    "    p = r.shape[0]\n",
    "    abs_r = np.abs(r)\n",
    "    l = np.sum(np.sum(abs_r, axis=1, keepdims=True) / np.max(abs_r, axis=1, keepdims=True) - 1, axis=0)\n",
    "    r = np.sum(np.sum(abs_r, axis=0, keepdims=True) / np.max(abs_r, axis=0, keepdims=True) - 1, axis=1)\n",
    "    return 1/(2*p*(p-1)) * (l+r)"
   ]
  },
  {
   "cell_type": "code",
   "execution_count": 19,
   "metadata": {},
   "outputs": [],
   "source": [
    "BB2 = np.load(\"/home/cmu_wyao/projects/data/linear_nongaussian/W2.npy\")\n",
    "BB1 = np.load(\"/home/cmu_wyao/projects/data/linear_nongaussian/W1.npy\")"
   ]
  },
  {
   "cell_type": "code",
   "execution_count": 36,
   "metadata": {},
   "outputs": [
    {
     "data": {
      "text/plain": [
       "array([[-0.18832454, -0.16177651,  0.10918283,  0.12515754],\n",
       "       [ 0.18413848,  0.09223408, -0.0303244 , -0.2112929 ],\n",
       "       [-0.05124766, -0.03365922,  0.20701522,  0.01349035],\n",
       "       [-0.00842598, -0.24830341,  0.23964578, -0.03503945]],\n",
       "      dtype=float32)"
      ]
     },
     "execution_count": 36,
     "metadata": {},
     "output_type": "execute_result"
    }
   ],
   "source": [
    "BB1"
   ]
  },
  {
   "cell_type": "code",
   "execution_count": 37,
   "metadata": {},
   "outputs": [
    {
     "data": {
      "text/plain": [
       "array([[ 9.30566937e-02, -7.43330121e-02,  1.02852359e-01,\n",
       "         4.86018956e-02],\n",
       "       [-1.72019303e-02, -6.80685043e-05,  1.02261424e-01,\n",
       "        -7.39500970e-02],\n",
       "       [ 1.13408372e-01, -1.06748328e-01,  9.41633880e-02,\n",
       "         1.00876182e-01],\n",
       "       [-2.25132555e-02,  8.46214592e-03, -4.72356826e-02,\n",
       "         7.19311833e-03]], dtype=float32)"
      ]
     },
     "execution_count": 37,
     "metadata": {},
     "output_type": "execute_result"
    }
   ],
   "source": [
    "BB2"
   ]
  },
  {
   "cell_type": "markdown",
   "metadata": {},
   "source": [
    "### Training"
   ]
  },
  {
   "cell_type": "code",
   "execution_count": 23,
   "metadata": {
    "scrolled": true
   },
   "outputs": [
    {
     "name": "stdout",
     "output_type": "stream",
     "text": [
      "Flow loss: -1403.8944827270507 D loss: 0.693167642802\n",
      "Validation loss: -1450.49361328125\n",
      "Amari index: (0.4283529, 0.53809404)\n",
      "Flow loss: -1478.4320434570313 D loss: 0.6931687025353312\n",
      "Validation loss: -1496.9323413085938\n",
      "Amari index: (0.34664795, 0.4692211)\n"
     ]
    }
   ],
   "source": [
    "batch_size = 64\n",
    "ones = torch.ones(batch_size, dtype=torch.long, device=device)\n",
    "zeros = torch.zeros(batch_size, dtype=torch.long, device=device)\n",
    "eye = torch.eye(320, device=device)\n",
    "gamma = 25\n",
    "# Loop over epochs\n",
    "for epoch in range(max_epochs):\n",
    "    # Training\n",
    "    flow_running_loss = 0\n",
    "    d_running_loss = 0\n",
    "    for batch_sample1, batch_sample2 in training_generator:\n",
    "        batch_x = batch_sample1[\"x\"]\n",
    "        batch_y = batch_sample1[\"y\"]\n",
    "        # Transfer to GPU\n",
    "        batch_x, batch_y = batch_x.to(device), batch_y.to(device)\n",
    "        # Model computations\n",
    "        flow_optimizer.zero_grad()\n",
    "        log_prob, e = flow.log_prob(batch_x, batch_y)\n",
    "        # Spatialtemporal decorrelation\n",
    "#         posteriors = flow(batch_x, batch_y)[0].reshape(batch_size, -1)\n",
    "#         fro_norm = torch.norm(torch.mm(posteriors.T, posteriors) - eye, \"fro\")\n",
    "#         Total correlation\n",
    "        e = e.reshape(batch_size, -1)\n",
    "        D_e = d(e)\n",
    "        tc_loss = (D_e[:, :1] - D_e[:, 1:]).mean()\n",
    "        flow_loss = -log_prob + gamma * tc_loss #+ fro_norm #+ gamma * tc_loss\n",
    "        flow_loss.backward(retain_graph=True)\n",
    "        flow_optimizer.step()\n",
    "        \n",
    "        # Discrimator traing\n",
    "        d_optimizer.zero_grad()\n",
    "        e = e.detach()\n",
    "        D_e = d(e)\n",
    "        batch_xx = batch_sample2[\"x\"]\n",
    "        batch_yy = batch_sample2[\"y\"]  \n",
    "        # Transfer to GPU\n",
    "        batch_xx, batch_yy = batch_xx.to(device), batch_yy.to(device)\n",
    "        _, e_prime = flow.log_prob(batch_xx, batch_yy)\n",
    "        e_prime = e_prime.reshape(batch_size, -1)\n",
    "        e_perm = permute_dims(e_prime).detach()\n",
    "        D_e_pperm = d(e_perm)\n",
    "        if random.random() < 0.1:\n",
    "            D_tc_loss = 0.5*(F.cross_entropy(D_e, ones) + F.cross_entropy(D_e_pperm, zeros))\n",
    "        else:\n",
    "            D_tc_loss = 0.5*(F.cross_entropy(D_e, zeros) + F.cross_entropy(D_e_pperm, ones))\n",
    "        D_tc_loss.backward()\n",
    "        d_optimizer.step()\n",
    "        flow_running_loss += flow_loss.item()\n",
    "        d_running_loss += D_tc_loss.item()\n",
    "\n",
    "    print(f\"Flow loss: {flow_running_loss/len(training_generator)} D loss: {d_running_loss/len(training_generator)}\")\n",
    "    # Validation\n",
    "    running_loss = 0\n",
    "    with torch.set_grad_enabled(False):\n",
    "        for batch_sample, _ in validation_generator:\n",
    "            # Transfer to GPU\n",
    "            batch_x = batch_sample[\"x\"]\n",
    "            batch_y = batch_sample[\"y\"]\n",
    "            # Transfer to GPU\n",
    "            batch_x, batch_y = batch_x.to(device), batch_y.to(device)\n",
    "            log_prob, _ = flow.log_prob(batch_x, batch_y)\n",
    "            flow_loss = -log_prob\n",
    "            running_loss += flow_loss.item()\n",
    "        print(f\"Validation loss: {running_loss/len(validation_generator)}\")\n",
    "    W2 = flow.dconv.step_func.wt_func.get_weight_matrix()[0].detach().cpu().numpy()\n",
    "    W1 = flow.dconv.step_func.wt_func.get_weight_matrix()[1].detach().cpu().numpy()\n",
    "    B2 = - W2\n",
    "    B1 = - W1\n",
    "    am2 = amari_distance(np.linalg.inv(B2) @ BB2)\n",
    "    am1 = amari_distance(np.linalg.inv(B1) @ BB1)\n",
    "    print(f\"Amari index: {am2[0], am1[0]}\")"
   ]
  },
  {
   "cell_type": "code",
   "execution_count": 23,
   "metadata": {},
   "outputs": [
    {
     "name": "stdout",
     "output_type": "stream",
     "text": [
      "Amari index: (0.218597, 0.37429518)\n"
     ]
    }
   ],
   "source": [
    "    W2 = flow.dconv.step_func.wt_func.get_weight_matrix()[0].detach().cpu().numpy()\n",
    "    W1 = flow.dconv.step_func.wt_func.get_weight_matrix()[1].detach().cpu().numpy()\n",
    "    B2 = - W2\n",
    "    B1 = - W1\n",
    "    am2 = amari_distance(np.linalg.inv(B2) @ BB2)\n",
    "    am1 = amari_distance(np.linalg.inv(B1) @ BB1)\n",
    "    print(f\"Amari index: {am2[0], am1[0]}\")"
   ]
  },
  {
   "cell_type": "code",
   "execution_count": 24,
   "metadata": {},
   "outputs": [],
   "source": [
    "samples = flow.sample(batch_y, batch_y.shape[0], 80)"
   ]
  },
  {
   "cell_type": "code",
   "execution_count": 25,
   "metadata": {},
   "outputs": [
    {
     "data": {
      "text/plain": [
       "[<matplotlib.lines.Line2D at 0x7f8770e47ad0>,\n",
       " <matplotlib.lines.Line2D at 0x7f8770e47c10>,\n",
       " <matplotlib.lines.Line2D at 0x7f8770e47d50>,\n",
       " <matplotlib.lines.Line2D at 0x7f8770e47e50>]"
      ]
     },
     "execution_count": 25,
     "metadata": {},
     "output_type": "execute_result"
    },
    {
     "data": {
      "image/png": "[encoded data removed]",
      "text/plain": [
       "<Figure size 432x288 with 1 Axes>"
      ]
     },
     "metadata": {
      "needs_background": "light"
     },
     "output_type": "display_data"
    }
   ],
   "source": [
    "plt.plot(samples[3].detach().cpu().numpy())\n",
    "plt.plot(batch_x[3].detach().cpu().numpy())"
   ]
  },
  {
   "cell_type": "code",
   "execution_count": 26,
   "metadata": {},
   "outputs": [
    {
     "name": "stdout",
     "output_type": "stream",
     "text": [
      "Training loss: -16.05798638787637\n"
     ]
    }
   ],
   "source": [
    "print(f\"Training loss: {running_loss/len(train_loader)}\")"
   ]
  },
  {
   "cell_type": "code",
   "execution_count": 46,
   "metadata": {},
   "outputs": [
    {
     "name": "stdout",
     "output_type": "stream",
     "text": [
      "Training loss: -16.60140047693576\n",
      "Validation loss: -16.615389823913574\n",
      "Amari index: (0.56561464, 0.32226628)\n",
      "Training loss: -16.716771783366717\n",
      "Validation loss: -16.66019344329834\n",
      "Amari index: (0.41170382, 0.40297407)\n"
     ]
    }
   ],
   "source": [
    "# Loop over epochs\n",
    "for epoch in range(max_epochs):\n",
    "    # Training\n",
    "    running_loss = 0\n",
    "    for batch_sample1 in train_loader:\n",
    "        batch_x = batch_sample1[\"xt_\"]\n",
    "        batch_y = batch_sample1[\"xt\"]\n",
    "        # Transfer to GPU\n",
    "        batch_x, batch_y = batch_x.to(device), batch_y.to(device)\n",
    "        # Model computations\n",
    "        log_prob, e = flow.log_prob(batch_x, batch_y)\n",
    "        flow_loss = -log_prob\n",
    "        flow_optimizer.zero_grad()\n",
    "        flow_loss.backward(retain_graph=True)\n",
    "        flow_optimizer.step()\n",
    "        running_loss += flow_loss.item()\n",
    "\n",
    "    print(f\"Training loss: {running_loss/len(train_loader)}\")\n",
    "    # Validation\n",
    "    running_loss = 0\n",
    "    with torch.set_grad_enabled(False):\n",
    "        for batch_sample in val_loader:\n",
    "            # Transfer to GPU\n",
    "            batch_x = batch_sample[\"xt_\"]\n",
    "            batch_y = batch_sample[\"xt\"]\n",
    "            # Transfer to GPU\n",
    "            batch_x, batch_y = batch_x.to(device), batch_y.to(device)\n",
    "            log_prob, _ = flow.log_prob(batch_x, batch_y)\n",
    "            flow_loss = -log_prob\n",
    "            running_loss += flow_loss.item()\n",
    "        print(f\"Validation loss: {running_loss/len(val_loader)}\")\n",
    "    W2 = flow.dconv.step_func.wt_func.w[0].detach().cpu().numpy()\n",
    "    W1 = flow.dconv.step_func.wt_func.w[1].detach().cpu().numpy()\n",
    "    B2 = - W2\n",
    "    B1 = - W1\n",
    "    am2 = amari_distance(np.linalg.inv(B2) @ BB2)\n",
    "    am1 = amari_distance(np.linalg.inv(B1) @ BB1)\n",
    "    print(f\"Amari index: {am2[0], am1[0]}\")"
   ]
  },
  {
   "cell_type": "code",
   "execution_count": 38,
   "metadata": {},
   "outputs": [
    {
     "name": "stdout",
     "output_type": "stream",
     "text": [
      "Amari index: (0.6441386, 0.41836214)\n"
     ]
    }
   ],
   "source": [
    "    W2 = flow.dconv.step_func.wt_func.w[0].detach().cpu().numpy()\n",
    "    W1 = flow.dconv.step_func.wt_func.w[1].detach().cpu().numpy()\n",
    "    B2 = - W2\n",
    "    B1 = - W1\n",
    "    am2 = amari_distance(np.linalg.inv(B2) @ BB2)\n",
    "    am1 = amari_distance(np.linalg.inv(B1) @ BB1)\n",
    "    print(f\"Amari index: {am2[0], am1[0]}\")"
   ]
  },
  {
   "cell_type": "code",
   "execution_count": 39,
   "metadata": {},
   "outputs": [],
   "source": [
    "    W2 = flow.dconv.step_func.wt_func.w[0].detach().cpu().numpy()\n",
    "    W1 = flow.dconv.step_func.wt_func.w[1].detach().cpu().numpy()\n",
    "    B2 = - W2\n",
    "    B1 = - W1"
   ]
  },
  {
   "cell_type": "code",
   "execution_count": 18,
   "metadata": {},
   "outputs": [],
   "source": [
    "torch.save(flow.state_dict(), \"../flow.pth\")"
   ]
  },
  {
   "cell_type": "code",
   "execution_count": 47,
   "metadata": {
    "scrolled": true
   },
   "outputs": [
    {
     "name": "stderr",
     "output_type": "stream",
     "text": [
      "/home/cmu_wyao/anaconda3/envs/py37/lib/python3.7/site-packages/seaborn/distributions.py:2557: FutureWarning: `distplot` is a deprecated function and will be removed in a future version. Please adapt your code to use either `displot` (a figure-level function with similar flexibility) or `kdeplot` (an axes-level function for kernel density plots).\n",
      "  warnings.warn(msg, FutureWarning)\n",
      "/home/cmu_wyao/anaconda3/envs/py37/lib/python3.7/site-packages/seaborn/distributions.py:2557: FutureWarning: `distplot` is a deprecated function and will be removed in a future version. Please adapt your code to use either `displot` (a figure-level function with similar flexibility) or `kdeplot` (an axes-level function for kernel density plots).\n",
      "  warnings.warn(msg, FutureWarning)\n",
      "/home/cmu_wyao/anaconda3/envs/py37/lib/python3.7/site-packages/seaborn/distributions.py:2557: FutureWarning: `distplot` is a deprecated function and will be removed in a future version. Please adapt your code to use either `displot` (a figure-level function with similar flexibility) or `kdeplot` (an axes-level function for kernel density plots).\n",
      "  warnings.warn(msg, FutureWarning)\n",
      "/home/cmu_wyao/anaconda3/envs/py37/lib/python3.7/site-packages/seaborn/distributions.py:2557: FutureWarning: `distplot` is a deprecated function and will be removed in a future version. Please adapt your code to use either `displot` (a figure-level function with similar flexibility) or `kdeplot` (an axes-level function for kernel density plots).\n",
      "  warnings.warn(msg, FutureWarning)\n",
      "/home/cmu_wyao/anaconda3/envs/py37/lib/python3.7/site-packages/seaborn/distributions.py:2557: FutureWarning: `distplot` is a deprecated function and will be removed in a future version. Please adapt your code to use either `displot` (a figure-level function with similar flexibility) or `kdeplot` (an axes-level function for kernel density plots).\n",
      "  warnings.warn(msg, FutureWarning)\n",
      "/home/cmu_wyao/anaconda3/envs/py37/lib/python3.7/site-packages/seaborn/distributions.py:2557: FutureWarning: `distplot` is a deprecated function and will be removed in a future version. Please adapt your code to use either `displot` (a figure-level function with similar flexibility) or `kdeplot` (an axes-level function for kernel density plots).\n",
      "  warnings.warn(msg, FutureWarning)\n",
      "/home/cmu_wyao/anaconda3/envs/py37/lib/python3.7/site-packages/seaborn/distributions.py:2557: FutureWarning: `distplot` is a deprecated function and will be removed in a future version. Please adapt your code to use either `displot` (a figure-level function with similar flexibility) or `kdeplot` (an axes-level function for kernel density plots).\n",
      "  warnings.warn(msg, FutureWarning)\n",
      "/home/cmu_wyao/anaconda3/envs/py37/lib/python3.7/site-packages/seaborn/distributions.py:2557: FutureWarning: `distplot` is a deprecated function and will be removed in a future version. Please adapt your code to use either `displot` (a figure-level function with similar flexibility) or `kdeplot` (an axes-level function for kernel density plots).\n",
      "  warnings.warn(msg, FutureWarning)\n"
     ]
    },
    {
     "data": {
      "image/png": "[encoded data removed]",
      "text/plain": [
       "<Figure size 576x288 with 4 Axes>"
      ]
     },
     "metadata": {
      "needs_background": "light"
     },
     "output_type": "display_data"
    }
   ],
   "source": [
    "fig, axs = plt.subplots(2, 2, figsize=(8,4))\n",
    "for idx in range(4):\n",
    "    row = idx // 2\n",
    "    col = idx % 2\n",
    "    sns.distplot(flow.sample_prior(1000).detach().cpu().numpy()[:,idx], hist=False, kde=True,\n",
    "                 bins=None,\n",
    "                 hist_kws={'edgecolor':'black'},\n",
    "                 kde_kws={'linewidth': 2},\n",
    "                 ax = axs[row,col], label=\"prior\");\n",
    "    sns.distplot(flow(batch_x, batch_y)[0][:,:,idx].reshape(-1).detach().cpu().numpy(), hist=False, kde=True,\n",
    "                 bins=None, color='firebrick',\n",
    "                 hist_kws={'edgecolor':'black'},\n",
    "                 kde_kws={'linewidth': 2},\n",
    "                 label='aggregate posterior',\n",
    "                 ax = axs[row, col]);\n",
    "    axs[row,col].legend()"
   ]
  },
  {
   "cell_type": "code",
   "execution_count": 20,
   "metadata": {
    "scrolled": true
   },
   "outputs": [],
   "source": [
    "# # Loop over epochs\n",
    "# for epoch in range(max_epochs):\n",
    "#     # Training\n",
    "#     running_loss = 0\n",
    "#     for batch_sample1, _ in training_generator:\n",
    "#         batch_x = batch_sample1[\"x\"]\n",
    "#         batch_y = batch_sample1[\"y\"]\n",
    "#         # Transfer to GPU\n",
    "#         batch_x, batch_y = batch_x.to(device), batch_y.to(device)\n",
    "#         # Model computations\n",
    "#         log_prob, e = flow.log_prob(batch_x, batch_y)\n",
    "#         # Spatialtemporal decorrelation\n",
    "# #         posteriors = flow(batch_x, batch_y)[0].reshape(batch_size, -1)\n",
    "# #         fro_norm = torch.norm(torch.mm(posteriors.T, posteriors) - eye, \"fro\")\n",
    "# #         Total correlation\n",
    "# #         e = e.reshape(batch_size, -1)\n",
    "# #         D_e = d(e)\n",
    "# #         tc_loss = (D_e[:, :1] - D_e[:, 1:]).mean()\n",
    "#         flow_loss = -log_prob #+ gamma * tc_loss #+ fro_norm #+ gamma * tc_loss\n",
    "#         flow_optimizer.zero_grad()\n",
    "#         flow_loss.backward(retain_graph=True)\n",
    "#         flow_optimizer.step()\n",
    "        \n",
    "#         # Discrimator traing\n",
    "# #         e = e.detach()\n",
    "# #         D_e = d(e)\n",
    "# #         batch_xx = batch_sample2[\"x\"]\n",
    "# #         batch_yy = batch_sample2[\"y\"]  \n",
    "# #         # Transfer to GPU\n",
    "# #         batch_xx, batch_yy = batch_xx.to(device), batch_yy.to(device)\n",
    "# #         _, e_prime = flow.log_prob(batch_xx, batch_yy)\n",
    "# #         e_prime = e_prime.reshape(batch_size, -1)\n",
    "# #         e_perm = permute_dims(e_prime).detach()\n",
    "# #         D_e_pperm = d(e_perm)\n",
    "# #         D_tc_loss = 0.5*(F.cross_entropy(D_e, zeros) + F.cross_entropy(D_e_pperm, ones))\n",
    "# #         d_optimizer.zero_grad()\n",
    "# #         D_tc_loss.backward()\n",
    "# #         d_optimizer.step()\n",
    "#         running_loss += flow_loss.item()\n",
    "\n",
    "#     print(f\"Training loss: {running_loss/len(training_generator)}\")\n",
    "#     # Validation\n",
    "#     running_loss = 0\n",
    "#     with torch.set_grad_enabled(False):\n",
    "#         for batch_sample, _ in validation_generator:\n",
    "#             # Transfer to GPU\n",
    "#             batch_x = batch_sample[\"x\"]\n",
    "#             batch_y = batch_sample[\"y\"]\n",
    "#             # Transfer to GPU\n",
    "#             batch_x, batch_y = batch_x.to(device), batch_y.to(device)\n",
    "#             log_prob, _ = flow.log_prob(batch_x, batch_y)\n",
    "#             flow_loss = -log_prob\n",
    "#             running_loss += flow_loss.item()\n",
    "#         print(f\"Validation loss: {running_loss/len(validation_generator)}\")\n",
    "#     W2 = flow.dconv.step_func.wt_func.w[0].detach().cpu().numpy()\n",
    "#     W1 = flow.dconv.step_func.wt_func.w[1].detach().cpu().numpy()\n",
    "#     B2 = - W2\n",
    "#     B1 = - W1\n",
    "#     am2 = amari_distance(np.linalg.inv(B2) @ BB2)\n",
    "#     am1 = amari_distance(np.linalg.inv(B1) @ BB1)\n",
    "#     print(f\"Amari index: {am2[0], am1[0]}\")"
   ]
  },
  {
   "cell_type": "code",
   "execution_count": 21,
   "metadata": {},
   "outputs": [],
   "source": [
    "# def align_matrices(B1, B2, BB1, BB2):\n",
    "#     b = np.concatenate((B1,B2), axis=0)\n",
    "#     bb = np.concatenate((BB1,BB2), axis=0)\n",
    "#     C = np.zeros((4,4))\n",
    "#     for i in range(4):\n",
    "#         C[i] = -np.abs(np.corrcoef(np.concatenate((b[:,i:i+1], bb),axis=1), rowvar=False)[0,1:])\n",
    "#     row_ind, col_ind = linear_sum_assignment(C)\n",
    "#     bb = bb[:, col_ind]\n",
    "#     for col in range(4):\n",
    "#         if np.corrcoef(np.concatenate((b[:,col:col+1], bb),axis=1), rowvar=False)[0,1:][col] < 0:\n",
    "#             bb[:, col] = -bb[:, col]\n",
    "#     b = b / np.linalg.norm(b, axis=0)\n",
    "#     bb = bb / np.linalg.norm(bb, axis=0)\n",
    "#     am1 = amari_distance(np.linalg.inv(bb[4:]) @ bb[4:])"
   ]
  },
  {
   "cell_type": "code",
   "execution_count": 48,
   "metadata": {},
   "outputs": [],
   "source": [
    "b = np.concatenate((B1,B2), axis=0)\n",
    "bb = np.concatenate((BB1,BB2), axis=0)\n",
    "C = np.zeros((4,4))\n",
    "for i in range(4):\n",
    "    C[i] = -np.abs(np.corrcoef(np.concatenate((b[:,i:i+1], bb),axis=1), rowvar=False)[0,1:])\n",
    "from scipy.optimize import linear_sum_assignment\n",
    "row_ind, col_ind = linear_sum_assignment(C)\n",
    "bb = bb[:, col_ind]\n",
    "for col in range(4):\n",
    "    if np.corrcoef(np.concatenate((b[:,col:col+1], bb),axis=1), rowvar=False)[0,1:][col] < 0:\n",
    "        bb[:, col] = -bb[:, col]\n",
    "b = b / np.linalg.norm(b, axis=0).reshape(1, -1)\n",
    "bb = bb / np.linalg.norm(bb, axis=0).reshape(1, -1)\n",
    "pred = (b / np.linalg.norm(b, axis=0).reshape(1, -1)).reshape(-1)\n",
    "true = (bb / np.linalg.norm(bb, axis=0).reshape(1, -1)).reshape(-1)"
   ]
  },
  {
   "cell_type": "code",
   "execution_count": 49,
   "metadata": {},
   "outputs": [
    {
     "data": {
      "text/plain": [
       "array([[-0.40310967, -0.58127203, -0.81841513, -0.37901756],\n",
       "       [-0.46683298, -0.52749539, -0.38839156, -0.09593987],\n",
       "       [-0.49703229, -0.15511769, -0.13948579, -0.28245262],\n",
       "       [-0.27328758, -0.31555604, -0.13238113, -0.24557782]])"
      ]
     },
     "execution_count": 49,
     "metadata": {},
     "output_type": "execute_result"
    }
   ],
   "source": [
    "C"
   ]
  },
  {
   "cell_type": "code",
   "execution_count": 50,
   "metadata": {},
   "outputs": [
    {
     "data": {
      "text/plain": [
       "Text(0, 0.5, 'Ground truth weight')"
      ]
     },
     "execution_count": 50,
     "metadata": {},
     "output_type": "execute_result"
    },
    {
     "data": {
      "image/png": "[encoded data removed]",
      "text/plain": [
       "<Figure size 432x288 with 1 Axes>"
      ]
     },
     "metadata": {
      "needs_background": "light"
     },
     "output_type": "display_data"
    }
   ],
   "source": [
    "fig, ax = plt.subplots()\n",
    "ax.scatter(pred, true, s=25, cmap=plt.cm.coolwarm, zorder=10)\n",
    "lims = [-1,1\n",
    "]\n",
    "\n",
    "# now plot both limits against eachother\n",
    "ax.plot(lims, lims, '-.', alpha=0.75, zorder=0)\n",
    "ax.set_aspect('equal')\n",
    "ax.set_xlim(lims)\n",
    "ax.set_ylim(lims)\n",
    "ax.set_xlabel(\"Estimated weight\")\n",
    "ax.set_ylabel(\"Ground truth weight\")"
   ]
  },
  {
   "cell_type": "code",
   "execution_count": 51,
   "metadata": {},
   "outputs": [],
   "source": [
    "from sklearn.metrics import r2_score"
   ]
  },
  {
   "cell_type": "code",
   "execution_count": 52,
   "metadata": {
    "scrolled": true
   },
   "outputs": [
    {
     "data": {
      "text/plain": [
       "-0.002733135587281277"
      ]
     },
     "execution_count": 52,
     "metadata": {},
     "output_type": "execute_result"
    }
   ],
   "source": [
    "r2_score(pred,true)"
   ]
  },
  {
   "cell_type": "code",
   "execution_count": null,
   "metadata": {},
   "outputs": [],
   "source": []
  }
 ],
 "metadata": {
  "kernelspec": {
   "display_name": "py37",
   "language": "python",
   "name": "py37"
  },
  "language_info": {
   "codemirror_mode": {
    "name": "ipython",
    "version": 3
   },
   "file_extension": ".py",
   "mimetype": "text/x-python",
   "name": "python",
   "nbconvert_exporter": "python",
   "pygments_lexer": "ipython3",
   "version": "3.7.10"
  }
 },
 "nbformat": 4,
 "nbformat_minor": 4
}
