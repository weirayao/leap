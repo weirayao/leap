{
 "cells": [
  {
   "cell_type": "markdown",
   "metadata": {},
   "source": [
    "## Recover temporal latent causal factors with simulated data"
   ]
  },
  {
   "cell_type": "markdown",
   "metadata": {},
   "source": [
    "### Initialize environment"
   ]
  },
  {
   "cell_type": "code",
   "execution_count": 1,
   "metadata": {},
   "outputs": [],
   "source": [
    "%load_ext autoreload\n",
    "%autoreload 2"
   ]
  },
  {
   "cell_type": "code",
   "execution_count": 2,
   "metadata": {},
   "outputs": [],
   "source": [
    "import torch\n",
    "import torch.nn.functional as F\n",
    "import ltcl\n",
    "import numpy as np\n",
    "from ltcl.modules.linear_flow import AffineFlow\n",
    "from ltcl.modules.components.tc import Discriminator, permute_dims\n",
    "from ltcl.datasets.flow_dataset import SimulationDataset\n",
    "import random\n",
    "import seaborn as sns\n",
    "import matplotlib.pyplot as plt\n",
    "%matplotlib inline"
   ]
  },
  {
   "cell_type": "code",
   "execution_count": 3,
   "metadata": {},
   "outputs": [],
   "source": [
    "from torch.utils.data import DataLoader, random_split\n"
   ]
  },
  {
   "cell_type": "code",
   "execution_count": 4,
   "metadata": {},
   "outputs": [],
   "source": [
    "def freeze_flow(flow, module_name):\n",
    "    module = getattr(flow, module_name)\n",
    "    for param in module.parameters():\n",
    "        param.requires_grad = False\n",
    "        \n",
    "def unfreeze_flow(flow, module_name):\n",
    "    module = getattr(flow, module_name)\n",
    "    for param in module.parameters():\n",
    "        param.requires_grad = True"
   ]
  },
  {
   "cell_type": "code",
   "execution_count": 5,
   "metadata": {},
   "outputs": [],
   "source": [
    "use_cuda = torch.cuda.is_available()\n",
    "device = torch.device(\"cuda:3\" if use_cuda else \"cpu\")\n",
    "torch.backends.cudnn.benchmark = True\n",
    "batch_size = 64\n",
    "max_epochs = 1"
   ]
  },
  {
   "cell_type": "code",
   "execution_count": 6,
   "metadata": {},
   "outputs": [],
   "source": [
    "num_validation_samples = 500\n",
    "train_data = SimulationDataset(split='train')\n",
    "val_data = SimulationDataset(split='val')\n",
    "train_loader = DataLoader(train_data, batch_size=64, shuffle=True, pin_memory=True)\n",
    "val_loader   = DataLoader(val_data, batch_size=128, shuffle=False, pin_memory=True)"
   ]
  },
  {
   "cell_type": "code",
   "execution_count": 7,
   "metadata": {},
   "outputs": [],
   "source": [
    "flow = AffineFlow(input_size = 32, \n",
    "                  lags = 2,\n",
    "                  batch_norm = True,\n",
    "                  diagonal=False)\n",
    "flow = flow.to(device)\n",
    "d = Discriminator(80 * 4).to(device)"
   ]
  },
  {
   "cell_type": "code",
   "execution_count": 8,
   "metadata": {},
   "outputs": [],
   "source": [
    "# flow.load_state_dict(torch.load(\"../flow.pth\"))"
   ]
  },
  {
   "cell_type": "code",
   "execution_count": 9,
   "metadata": {},
   "outputs": [],
   "source": [
    "# Manual tuning\n",
    "freeze_flow(flow, \"dconv\")\n",
    "freeze_flow(flow, \"unmix\")\n",
    "unfreeze_flow(flow, \"spline\")"
   ]
  },
  {
   "cell_type": "code",
   "execution_count": 10,
   "metadata": {},
   "outputs": [],
   "source": [
    "spline_optimizer = torch.optim.Adam(filter(lambda p: p.requires_grad, flow.parameters()), \n",
    "                                    lr=1e-3,\n",
    "                                    weight_decay=0.0)"
   ]
  },
  {
   "cell_type": "code",
   "execution_count": 11,
   "metadata": {},
   "outputs": [],
   "source": [
    "# Warm-start the prior to standard normal dist\n",
    "for step in range(5000):\n",
    "    latent_size = 32\n",
    "#     y_1 = torch.exp(torch.normal(0, 1, size=(batch_size, latent_size//2)))\n",
    "#     y_1 = torch.normal(0, 1, size=(batch_size, latent_size//2))\n",
    "    y_1 =  torch.distributions.laplace.Laplace(0,1).rsample((batch_size, latent_size//2))\n",
    "                # y_2 = torch.rand(batch_size, latent_size//2) - 0.5\n",
    "    y_2 = torch.distributions.laplace.Laplace(0,1).rsample((batch_size, latent_size//2))\n",
    "#     y_2 = torch.normal(0, 1, size=(batch_size, latent_size//2))\n",
    "#     y_2 = torch.distributions.uniform.Uniform(-0.5, 0.5).sample((batch_size, latent_size//2))\n",
    "    dataset = torch.cat((y_1, y_2), dim=1).to(device)\n",
    "    spline_optimizer.zero_grad()\n",
    "    z, logabsdet = flow.spline(dataset)\n",
    "    logp = flow.base_dist.log_prob(z) + logabsdet\n",
    "    loss = -torch.mean(logp)\n",
    "    loss.backward(retain_graph=True)\n",
    "    spline_optimizer.step()"
   ]
  },
  {
   "cell_type": "code",
   "execution_count": 12,
   "metadata": {
    "scrolled": true
   },
   "outputs": [
    {
     "name": "stderr",
     "output_type": "stream",
     "text": [
      "/home/cmu_wyao/anaconda3/envs/py37/lib/python3.7/site-packages/seaborn/distributions.py:2557: FutureWarning: `distplot` is a deprecated function and will be removed in a future version. Please adapt your code to use either `displot` (a figure-level function with similar flexibility) or `kdeplot` (an axes-level function for kernel density plots).\n",
      "  warnings.warn(msg, FutureWarning)\n",
      "/home/cmu_wyao/anaconda3/envs/py37/lib/python3.7/site-packages/seaborn/distributions.py:2557: FutureWarning: `distplot` is a deprecated function and will be removed in a future version. Please adapt your code to use either `displot` (a figure-level function with similar flexibility) or `kdeplot` (an axes-level function for kernel density plots).\n",
      "  warnings.warn(msg, FutureWarning)\n",
      "/home/cmu_wyao/anaconda3/envs/py37/lib/python3.7/site-packages/seaborn/distributions.py:2557: FutureWarning: `distplot` is a deprecated function and will be removed in a future version. Please adapt your code to use either `displot` (a figure-level function with similar flexibility) or `kdeplot` (an axes-level function for kernel density plots).\n",
      "  warnings.warn(msg, FutureWarning)\n",
      "/home/cmu_wyao/anaconda3/envs/py37/lib/python3.7/site-packages/seaborn/distributions.py:2557: FutureWarning: `distplot` is a deprecated function and will be removed in a future version. Please adapt your code to use either `displot` (a figure-level function with similar flexibility) or `kdeplot` (an axes-level function for kernel density plots).\n",
      "  warnings.warn(msg, FutureWarning)\n"
     ]
    },
    {
     "data": {
      "image/png": "[encoded data removed]",
      "text/plain": [
       "<Figure size 576x288 with 4 Axes>"
      ]
     },
     "metadata": {
      "needs_background": "light"
     },
     "output_type": "display_data"
    }
   ],
   "source": [
    "fig, axs = plt.subplots(2, 2, figsize=(8,4))\n",
    "for idx in range(4):\n",
    "    row = idx // 2\n",
    "    col = idx % 2\n",
    "#     sns.distplot(y_t[:,idx], hist=False, kde=True,\n",
    "#                  bins=None,\n",
    "#                  hist_kws={'edgecolor':'black'},\n",
    "#                  kde_kws={'linewidth': 2},\n",
    "#                  ax = axs[row,col], label=\"prior\");\n",
    "#     axs[row,col].legend()\n",
    "    sns.distplot(flow.sample_prior(1280).detach().cpu().numpy()[:,idx], hist=False, kde=True,\n",
    "                 bins=None,\n",
    "                 hist_kws={'edgecolor':'black'},\n",
    "                 kde_kws={'linewidth': 2},\n",
    "                 ax = axs[row,col], label=\"prior\");"
   ]
  },
  {
   "cell_type": "code",
   "execution_count": 12,
   "metadata": {},
   "outputs": [],
   "source": [
    "# Manual tuning\n",
    "unfreeze_flow(flow, \"dconv\")\n",
    "unfreeze_flow(flow, \"unmix\")\n",
    "unfreeze_flow(flow, \"spline\")\n",
    "flow_optimizer = torch.optim.Adam(filter(lambda p: p.requires_grad, flow.parameters()), \n",
    "                                  lr=1e-4,\n",
    "                                  weight_decay=0.0)\n",
    "d_optimizer = torch.optim.SGD(filter(lambda p: p.requires_grad, d.parameters()), \n",
    "                               lr=1e-4)"
   ]
  },
  {
   "cell_type": "code",
   "execution_count": 13,
   "metadata": {},
   "outputs": [],
   "source": [
    "# Manual tuning\n",
    "# unfreeze_flow(flow, \"dconv\")\n",
    "# unfreeze_flow(flow, \"unmix\")\n",
    "# freeze_flow(flow, \"spline\")"
   ]
  },
  {
   "cell_type": "code",
   "execution_count": 14,
   "metadata": {},
   "outputs": [],
   "source": [
    "def amari_distance(r):\n",
    "    p = r.shape[0]\n",
    "    abs_r = np.abs(r)\n",
    "    l = np.sum(np.sum(abs_r, axis=1, keepdims=True) / np.max(abs_r, axis=1, keepdims=True) - 1, axis=0)\n",
    "    r = np.sum(np.sum(abs_r, axis=0, keepdims=True) / np.max(abs_r, axis=0, keepdims=True) - 1, axis=1)\n",
    "    return 1/(2*p*(p-1)) * (l+r)"
   ]
  },
  {
   "cell_type": "code",
   "execution_count": 15,
   "metadata": {},
   "outputs": [],
   "source": [
    "BB2 = np.load(\"/home/cmu_wyao/projects/data/flow/W2.npy\")\n",
    "BB1 = np.load(\"/home/cmu_wyao/projects/data/flow/W1.npy\")"
   ]
  },
  {
   "cell_type": "code",
   "execution_count": 16,
   "metadata": {},
   "outputs": [
    {
     "data": {
      "text/plain": [
       "array([[-0.08519712,  0.01090741, -0.19091386, ...,  0.01555011,\n",
       "         0.17878783, -0.05717504],\n",
       "       [ 0.10259572,  0.08734378,  0.1842005 , ...,  0.09634686,\n",
       "        -0.10463971, -0.09237361],\n",
       "       [-0.09900758,  0.02318466, -0.13005498, ..., -0.24857515,\n",
       "         0.12246469,  0.06565994],\n",
       "       ...,\n",
       "       [-0.23303849, -0.05939579, -0.05113336, ...,  0.11089718,\n",
       "         0.17073363,  0.19217256],\n",
       "       [-0.13300121, -0.10344577,  0.17978886, ...,  0.06358516,\n",
       "        -0.05150634, -0.22001323],\n",
       "       [ 0.1607374 ,  0.00207543,  0.15689355, ..., -0.03184855,\n",
       "         0.22872815,  0.21846655]], dtype=float32)"
      ]
     },
     "execution_count": 16,
     "metadata": {},
     "output_type": "execute_result"
    }
   ],
   "source": [
    "BB1"
   ]
  },
  {
   "cell_type": "code",
   "execution_count": 17,
   "metadata": {},
   "outputs": [
    {
     "data": {
      "text/plain": [
       "array([[-0.07412443, -0.11986747, -0.0714162 , ..., -0.03136978,\n",
       "        -0.10618444,  0.12415701],\n",
       "       [ 0.01982673, -0.08536404,  0.05909775, ..., -0.10312749,\n",
       "         0.01880452, -0.00406672],\n",
       "       [ 0.02588797, -0.01190884,  0.10920888, ..., -0.1176348 ,\n",
       "         0.10069786,  0.10857208],\n",
       "       ...,\n",
       "       [ 0.09497286, -0.0764109 , -0.03219688, ...,  0.09164275,\n",
       "         0.04185665, -0.04132424],\n",
       "       [ 0.02561058,  0.11668284,  0.11532295, ...,  0.03294674,\n",
       "        -0.01287456,  0.07398903],\n",
       "       [-0.07364424,  0.10446088,  0.04006942, ..., -0.00437921,\n",
       "        -0.11616066, -0.09978762]], dtype=float32)"
      ]
     },
     "execution_count": 17,
     "metadata": {},
     "output_type": "execute_result"
    }
   ],
   "source": [
    "BB2"
   ]
  },
  {
   "cell_type": "markdown",
   "metadata": {},
   "source": [
    "### Training"
   ]
  },
  {
   "cell_type": "code",
   "execution_count": 20,
   "metadata": {},
   "outputs": [],
   "source": [
    "import tqdm"
   ]
  },
  {
   "cell_type": "code",
   "execution_count": 25,
   "metadata": {
    "scrolled": true
   },
   "outputs": [
    {
     "ename": "RuntimeError",
     "evalue": "mat1 dim 1 must match mat2 dim 0",
     "output_type": "error",
     "traceback": [
      "\u001b[0;31m---------------------------------------------------------------------------\u001b[0m",
      "\u001b[0;31mRuntimeError\u001b[0m                              Traceback (most recent call last)",
      "\u001b[0;32m<ipython-input-25-462bfbc5db3c>\u001b[0m in \u001b[0;36m<module>\u001b[0;34m\u001b[0m\n\u001b[1;32m     22\u001b[0m \u001b[0;31m#         Total correlation\u001b[0m\u001b[0;34m\u001b[0m\u001b[0;34m\u001b[0m\u001b[0;34m\u001b[0m\u001b[0m\n\u001b[1;32m     23\u001b[0m         \u001b[0me\u001b[0m \u001b[0;34m=\u001b[0m \u001b[0me\u001b[0m\u001b[0;34m.\u001b[0m\u001b[0mreshape\u001b[0m\u001b[0;34m(\u001b[0m\u001b[0mbatch_size\u001b[0m\u001b[0;34m,\u001b[0m \u001b[0;34m-\u001b[0m\u001b[0;36m1\u001b[0m\u001b[0;34m)\u001b[0m\u001b[0;34m\u001b[0m\u001b[0;34m\u001b[0m\u001b[0m\n\u001b[0;32m---> 24\u001b[0;31m         \u001b[0mD_e\u001b[0m \u001b[0;34m=\u001b[0m \u001b[0md\u001b[0m\u001b[0;34m(\u001b[0m\u001b[0me\u001b[0m\u001b[0;34m)\u001b[0m\u001b[0;34m\u001b[0m\u001b[0;34m\u001b[0m\u001b[0m\n\u001b[0m\u001b[1;32m     25\u001b[0m         \u001b[0mtc_loss\u001b[0m \u001b[0;34m=\u001b[0m \u001b[0;34m(\u001b[0m\u001b[0mD_e\u001b[0m\u001b[0;34m[\u001b[0m\u001b[0;34m:\u001b[0m\u001b[0;34m,\u001b[0m \u001b[0;34m:\u001b[0m\u001b[0;36m1\u001b[0m\u001b[0;34m]\u001b[0m \u001b[0;34m-\u001b[0m \u001b[0mD_e\u001b[0m\u001b[0;34m[\u001b[0m\u001b[0;34m:\u001b[0m\u001b[0;34m,\u001b[0m \u001b[0;36m1\u001b[0m\u001b[0;34m:\u001b[0m\u001b[0;34m]\u001b[0m\u001b[0;34m)\u001b[0m\u001b[0;34m.\u001b[0m\u001b[0mmean\u001b[0m\u001b[0;34m(\u001b[0m\u001b[0;34m)\u001b[0m\u001b[0;34m\u001b[0m\u001b[0;34m\u001b[0m\u001b[0m\n\u001b[1;32m     26\u001b[0m         \u001b[0mflow_loss\u001b[0m \u001b[0;34m=\u001b[0m \u001b[0;34m-\u001b[0m\u001b[0mlog_prob\u001b[0m \u001b[0;34m+\u001b[0m \u001b[0mgamma\u001b[0m \u001b[0;34m*\u001b[0m \u001b[0mtc_loss\u001b[0m \u001b[0;31m#+ fro_norm #+ gamma * tc_loss\u001b[0m\u001b[0;34m\u001b[0m\u001b[0;34m\u001b[0m\u001b[0m\n",
      "\u001b[0;32m~/anaconda3/envs/py37/lib/python3.7/site-packages/torch/nn/modules/module.py\u001b[0m in \u001b[0;36m_call_impl\u001b[0;34m(self, *input, **kwargs)\u001b[0m\n\u001b[1;32m    887\u001b[0m             \u001b[0mresult\u001b[0m \u001b[0;34m=\u001b[0m \u001b[0mself\u001b[0m\u001b[0;34m.\u001b[0m\u001b[0m_slow_forward\u001b[0m\u001b[0;34m(\u001b[0m\u001b[0;34m*\u001b[0m\u001b[0minput\u001b[0m\u001b[0;34m,\u001b[0m \u001b[0;34m**\u001b[0m\u001b[0mkwargs\u001b[0m\u001b[0;34m)\u001b[0m\u001b[0;34m\u001b[0m\u001b[0;34m\u001b[0m\u001b[0m\n\u001b[1;32m    888\u001b[0m         \u001b[0;32melse\u001b[0m\u001b[0;34m:\u001b[0m\u001b[0;34m\u001b[0m\u001b[0;34m\u001b[0m\u001b[0m\n\u001b[0;32m--> 889\u001b[0;31m             \u001b[0mresult\u001b[0m \u001b[0;34m=\u001b[0m \u001b[0mself\u001b[0m\u001b[0;34m.\u001b[0m\u001b[0mforward\u001b[0m\u001b[0;34m(\u001b[0m\u001b[0;34m*\u001b[0m\u001b[0minput\u001b[0m\u001b[0;34m,\u001b[0m \u001b[0;34m**\u001b[0m\u001b[0mkwargs\u001b[0m\u001b[0;34m)\u001b[0m\u001b[0;34m\u001b[0m\u001b[0;34m\u001b[0m\u001b[0m\n\u001b[0m\u001b[1;32m    890\u001b[0m         for hook in itertools.chain(\n\u001b[1;32m    891\u001b[0m                 \u001b[0m_global_forward_hooks\u001b[0m\u001b[0;34m.\u001b[0m\u001b[0mvalues\u001b[0m\u001b[0;34m(\u001b[0m\u001b[0;34m)\u001b[0m\u001b[0;34m,\u001b[0m\u001b[0;34m\u001b[0m\u001b[0;34m\u001b[0m\u001b[0m\n",
      "\u001b[0;32m~/projects/ltcl/ltcl/modules/components/tc.py\u001b[0m in \u001b[0;36mforward\u001b[0;34m(self, z)\u001b[0m\n\u001b[1;32m     46\u001b[0m \u001b[0;34m\u001b[0m\u001b[0m\n\u001b[1;32m     47\u001b[0m     \u001b[0;32mdef\u001b[0m \u001b[0mforward\u001b[0m\u001b[0;34m(\u001b[0m\u001b[0mself\u001b[0m\u001b[0;34m,\u001b[0m \u001b[0mz\u001b[0m\u001b[0;34m)\u001b[0m\u001b[0;34m:\u001b[0m\u001b[0;34m\u001b[0m\u001b[0;34m\u001b[0m\u001b[0m\n\u001b[0;32m---> 48\u001b[0;31m         \u001b[0;32mreturn\u001b[0m \u001b[0mself\u001b[0m\u001b[0;34m.\u001b[0m\u001b[0mnet\u001b[0m\u001b[0;34m(\u001b[0m\u001b[0mz\u001b[0m\u001b[0;34m)\u001b[0m\u001b[0;34m.\u001b[0m\u001b[0msqueeze\u001b[0m\u001b[0;34m(\u001b[0m\u001b[0;34m)\u001b[0m\u001b[0;34m\u001b[0m\u001b[0;34m\u001b[0m\u001b[0m\n\u001b[0m\u001b[1;32m     49\u001b[0m \u001b[0;34m\u001b[0m\u001b[0m\n\u001b[1;32m     50\u001b[0m \u001b[0;34m\u001b[0m\u001b[0m\n",
      "\u001b[0;32m~/anaconda3/envs/py37/lib/python3.7/site-packages/torch/nn/modules/module.py\u001b[0m in \u001b[0;36m_call_impl\u001b[0;34m(self, *input, **kwargs)\u001b[0m\n\u001b[1;32m    887\u001b[0m             \u001b[0mresult\u001b[0m \u001b[0;34m=\u001b[0m \u001b[0mself\u001b[0m\u001b[0;34m.\u001b[0m\u001b[0m_slow_forward\u001b[0m\u001b[0;34m(\u001b[0m\u001b[0;34m*\u001b[0m\u001b[0minput\u001b[0m\u001b[0;34m,\u001b[0m \u001b[0;34m**\u001b[0m\u001b[0mkwargs\u001b[0m\u001b[0;34m)\u001b[0m\u001b[0;34m\u001b[0m\u001b[0;34m\u001b[0m\u001b[0m\n\u001b[1;32m    888\u001b[0m         \u001b[0;32melse\u001b[0m\u001b[0;34m:\u001b[0m\u001b[0;34m\u001b[0m\u001b[0;34m\u001b[0m\u001b[0m\n\u001b[0;32m--> 889\u001b[0;31m             \u001b[0mresult\u001b[0m \u001b[0;34m=\u001b[0m \u001b[0mself\u001b[0m\u001b[0;34m.\u001b[0m\u001b[0mforward\u001b[0m\u001b[0;34m(\u001b[0m\u001b[0;34m*\u001b[0m\u001b[0minput\u001b[0m\u001b[0;34m,\u001b[0m \u001b[0;34m**\u001b[0m\u001b[0mkwargs\u001b[0m\u001b[0;34m)\u001b[0m\u001b[0;34m\u001b[0m\u001b[0;34m\u001b[0m\u001b[0m\n\u001b[0m\u001b[1;32m    890\u001b[0m         for hook in itertools.chain(\n\u001b[1;32m    891\u001b[0m                 \u001b[0m_global_forward_hooks\u001b[0m\u001b[0;34m.\u001b[0m\u001b[0mvalues\u001b[0m\u001b[0;34m(\u001b[0m\u001b[0;34m)\u001b[0m\u001b[0;34m,\u001b[0m\u001b[0;34m\u001b[0m\u001b[0;34m\u001b[0m\u001b[0m\n",
      "\u001b[0;32m~/anaconda3/envs/py37/lib/python3.7/site-packages/torch/nn/modules/container.py\u001b[0m in \u001b[0;36mforward\u001b[0;34m(self, input)\u001b[0m\n\u001b[1;32m    117\u001b[0m     \u001b[0;32mdef\u001b[0m \u001b[0mforward\u001b[0m\u001b[0;34m(\u001b[0m\u001b[0mself\u001b[0m\u001b[0;34m,\u001b[0m \u001b[0minput\u001b[0m\u001b[0;34m)\u001b[0m\u001b[0;34m:\u001b[0m\u001b[0;34m\u001b[0m\u001b[0;34m\u001b[0m\u001b[0m\n\u001b[1;32m    118\u001b[0m         \u001b[0;32mfor\u001b[0m \u001b[0mmodule\u001b[0m \u001b[0;32min\u001b[0m \u001b[0mself\u001b[0m\u001b[0;34m:\u001b[0m\u001b[0;34m\u001b[0m\u001b[0;34m\u001b[0m\u001b[0m\n\u001b[0;32m--> 119\u001b[0;31m             \u001b[0minput\u001b[0m \u001b[0;34m=\u001b[0m \u001b[0mmodule\u001b[0m\u001b[0;34m(\u001b[0m\u001b[0minput\u001b[0m\u001b[0;34m)\u001b[0m\u001b[0;34m\u001b[0m\u001b[0;34m\u001b[0m\u001b[0m\n\u001b[0m\u001b[1;32m    120\u001b[0m         \u001b[0;32mreturn\u001b[0m \u001b[0minput\u001b[0m\u001b[0;34m\u001b[0m\u001b[0;34m\u001b[0m\u001b[0m\n\u001b[1;32m    121\u001b[0m \u001b[0;34m\u001b[0m\u001b[0m\n",
      "\u001b[0;32m~/anaconda3/envs/py37/lib/python3.7/site-packages/torch/nn/modules/module.py\u001b[0m in \u001b[0;36m_call_impl\u001b[0;34m(self, *input, **kwargs)\u001b[0m\n\u001b[1;32m    887\u001b[0m             \u001b[0mresult\u001b[0m \u001b[0;34m=\u001b[0m \u001b[0mself\u001b[0m\u001b[0;34m.\u001b[0m\u001b[0m_slow_forward\u001b[0m\u001b[0;34m(\u001b[0m\u001b[0;34m*\u001b[0m\u001b[0minput\u001b[0m\u001b[0;34m,\u001b[0m \u001b[0;34m**\u001b[0m\u001b[0mkwargs\u001b[0m\u001b[0;34m)\u001b[0m\u001b[0;34m\u001b[0m\u001b[0;34m\u001b[0m\u001b[0m\n\u001b[1;32m    888\u001b[0m         \u001b[0;32melse\u001b[0m\u001b[0;34m:\u001b[0m\u001b[0;34m\u001b[0m\u001b[0;34m\u001b[0m\u001b[0m\n\u001b[0;32m--> 889\u001b[0;31m             \u001b[0mresult\u001b[0m \u001b[0;34m=\u001b[0m \u001b[0mself\u001b[0m\u001b[0;34m.\u001b[0m\u001b[0mforward\u001b[0m\u001b[0;34m(\u001b[0m\u001b[0;34m*\u001b[0m\u001b[0minput\u001b[0m\u001b[0;34m,\u001b[0m \u001b[0;34m**\u001b[0m\u001b[0mkwargs\u001b[0m\u001b[0;34m)\u001b[0m\u001b[0;34m\u001b[0m\u001b[0;34m\u001b[0m\u001b[0m\n\u001b[0m\u001b[1;32m    890\u001b[0m         for hook in itertools.chain(\n\u001b[1;32m    891\u001b[0m                 \u001b[0m_global_forward_hooks\u001b[0m\u001b[0;34m.\u001b[0m\u001b[0mvalues\u001b[0m\u001b[0;34m(\u001b[0m\u001b[0;34m)\u001b[0m\u001b[0;34m,\u001b[0m\u001b[0;34m\u001b[0m\u001b[0;34m\u001b[0m\u001b[0m\n",
      "\u001b[0;32m~/anaconda3/envs/py37/lib/python3.7/site-packages/torch/nn/modules/linear.py\u001b[0m in \u001b[0;36mforward\u001b[0;34m(self, input)\u001b[0m\n\u001b[1;32m     92\u001b[0m \u001b[0;34m\u001b[0m\u001b[0m\n\u001b[1;32m     93\u001b[0m     \u001b[0;32mdef\u001b[0m \u001b[0mforward\u001b[0m\u001b[0;34m(\u001b[0m\u001b[0mself\u001b[0m\u001b[0;34m,\u001b[0m \u001b[0minput\u001b[0m\u001b[0;34m:\u001b[0m \u001b[0mTensor\u001b[0m\u001b[0;34m)\u001b[0m \u001b[0;34m->\u001b[0m \u001b[0mTensor\u001b[0m\u001b[0;34m:\u001b[0m\u001b[0;34m\u001b[0m\u001b[0;34m\u001b[0m\u001b[0m\n\u001b[0;32m---> 94\u001b[0;31m         \u001b[0;32mreturn\u001b[0m \u001b[0mF\u001b[0m\u001b[0;34m.\u001b[0m\u001b[0mlinear\u001b[0m\u001b[0;34m(\u001b[0m\u001b[0minput\u001b[0m\u001b[0;34m,\u001b[0m \u001b[0mself\u001b[0m\u001b[0;34m.\u001b[0m\u001b[0mweight\u001b[0m\u001b[0;34m,\u001b[0m \u001b[0mself\u001b[0m\u001b[0;34m.\u001b[0m\u001b[0mbias\u001b[0m\u001b[0;34m)\u001b[0m\u001b[0;34m\u001b[0m\u001b[0;34m\u001b[0m\u001b[0m\n\u001b[0m\u001b[1;32m     95\u001b[0m \u001b[0;34m\u001b[0m\u001b[0m\n\u001b[1;32m     96\u001b[0m     \u001b[0;32mdef\u001b[0m \u001b[0mextra_repr\u001b[0m\u001b[0;34m(\u001b[0m\u001b[0mself\u001b[0m\u001b[0;34m)\u001b[0m \u001b[0;34m->\u001b[0m \u001b[0mstr\u001b[0m\u001b[0;34m:\u001b[0m\u001b[0;34m\u001b[0m\u001b[0;34m\u001b[0m\u001b[0m\n",
      "\u001b[0;32m~/anaconda3/envs/py37/lib/python3.7/site-packages/torch/nn/functional.py\u001b[0m in \u001b[0;36mlinear\u001b[0;34m(input, weight, bias)\u001b[0m\n\u001b[1;32m   1751\u001b[0m     \u001b[0;32mif\u001b[0m \u001b[0mhas_torch_function_variadic\u001b[0m\u001b[0;34m(\u001b[0m\u001b[0minput\u001b[0m\u001b[0;34m,\u001b[0m \u001b[0mweight\u001b[0m\u001b[0;34m)\u001b[0m\u001b[0;34m:\u001b[0m\u001b[0;34m\u001b[0m\u001b[0;34m\u001b[0m\u001b[0m\n\u001b[1;32m   1752\u001b[0m         \u001b[0;32mreturn\u001b[0m \u001b[0mhandle_torch_function\u001b[0m\u001b[0;34m(\u001b[0m\u001b[0mlinear\u001b[0m\u001b[0;34m,\u001b[0m \u001b[0;34m(\u001b[0m\u001b[0minput\u001b[0m\u001b[0;34m,\u001b[0m \u001b[0mweight\u001b[0m\u001b[0;34m)\u001b[0m\u001b[0;34m,\u001b[0m \u001b[0minput\u001b[0m\u001b[0;34m,\u001b[0m \u001b[0mweight\u001b[0m\u001b[0;34m,\u001b[0m \u001b[0mbias\u001b[0m\u001b[0;34m=\u001b[0m\u001b[0mbias\u001b[0m\u001b[0;34m)\u001b[0m\u001b[0;34m\u001b[0m\u001b[0;34m\u001b[0m\u001b[0m\n\u001b[0;32m-> 1753\u001b[0;31m     \u001b[0;32mreturn\u001b[0m \u001b[0mtorch\u001b[0m\u001b[0;34m.\u001b[0m\u001b[0m_C\u001b[0m\u001b[0;34m.\u001b[0m\u001b[0m_nn\u001b[0m\u001b[0;34m.\u001b[0m\u001b[0mlinear\u001b[0m\u001b[0;34m(\u001b[0m\u001b[0minput\u001b[0m\u001b[0;34m,\u001b[0m \u001b[0mweight\u001b[0m\u001b[0;34m,\u001b[0m \u001b[0mbias\u001b[0m\u001b[0;34m)\u001b[0m\u001b[0;34m\u001b[0m\u001b[0;34m\u001b[0m\u001b[0m\n\u001b[0m\u001b[1;32m   1754\u001b[0m \u001b[0;34m\u001b[0m\u001b[0m\n\u001b[1;32m   1755\u001b[0m \u001b[0;34m\u001b[0m\u001b[0m\n",
      "\u001b[0;31mRuntimeError\u001b[0m: mat1 dim 1 must match mat2 dim 0"
     ]
    }
   ],
   "source": [
    "batch_size = 64\n",
    "ones = torch.ones(batch_size, dtype=torch.long, device=device)\n",
    "zeros = torch.zeros(batch_size, dtype=torch.long, device=device)\n",
    "eye = torch.eye(320, device=device)\n",
    "gamma = 25\n",
    "# Loop over epochs\n",
    "for epoch in range(max_epochs):\n",
    "    # Training\n",
    "    flow_running_loss = 0\n",
    "    d_running_loss = 0\n",
    "    for batch_sample1, batch_sample2 in train_loader:\n",
    "        batch_x = batch_sample1[\"x\"]\n",
    "        batch_y = batch_sample1[\"y\"]\n",
    "        # Transfer to GPU\n",
    "        batch_x, batch_y = batch_x.to(device), batch_y.to(device)\n",
    "        # Model computations\n",
    "        flow_optimizer.zero_grad()\n",
    "        log_prob, e = flow.log_prob(batch_x, batch_y)\n",
    "        # Spatialtemporal decorrelation\n",
    "#         posteriors = flow(batch_x, batch_y)[0].reshape(batch_size, -1)\n",
    "#         fro_norm = torch.norm(torch.mm(posteriors.T, posteriors) - eye, \"fro\")\n",
    "#         Total correlation\n",
    "        e = e.reshape(batch_size, -1)\n",
    "        D_e = d(e)\n",
    "        tc_loss = (D_e[:, :1] - D_e[:, 1:]).mean()\n",
    "        flow_loss = -log_prob + gamma * tc_loss #+ fro_norm #+ gamma * tc_loss\n",
    "        flow_loss.backward(retain_graph=True)\n",
    "        flow_optimizer.step()\n",
    "        \n",
    "        # Discrimator traing\n",
    "        d_optimizer.zero_grad()\n",
    "        e = e.detach()\n",
    "        D_e = d(e)\n",
    "        batch_xx = batch_sample2[\"x\"]\n",
    "        batch_yy = batch_sample2[\"y\"]  \n",
    "        # Transfer to GPU\n",
    "        batch_xx, batch_yy = batch_xx.to(device), batch_yy.to(device)\n",
    "        _, e_prime = flow.log_prob(batch_xx, batch_yy)\n",
    "        e_prime = e_prime.reshape(batch_size, -1)\n",
    "        e_perm = permute_dims(e_prime).detach()\n",
    "        D_e_pperm = d(e_perm)\n",
    "        if random.random() < 0.1:\n",
    "            D_tc_loss = 0.5*(F.cross_entropy(D_e, ones) + F.cross_entropy(D_e_pperm, zeros))\n",
    "        else:\n",
    "            D_tc_loss = 0.5*(F.cross_entropy(D_e, zeros) + F.cross_entropy(D_e_pperm, ones))\n",
    "        D_tc_loss.backward()\n",
    "        d_optimizer.step()\n",
    "        flow_running_loss += flow_loss.item()\n",
    "        d_running_loss += D_tc_loss.item()\n",
    "\n",
    "    print(f\"Flow loss: {flow_running_loss/len(train_loader)} D loss: {d_running_loss/len(train_loader)}\")\n",
    "    # Validation\n",
    "    running_loss = 0\n",
    "    with torch.set_grad_enabled(False):\n",
    "        for batch_sample, _ in val_loader:\n",
    "            # Transfer to GPU\n",
    "            batch_x = batch_sample[\"x\"]\n",
    "            batch_y = batch_sample[\"y\"]\n",
    "            # Transfer to GPU\n",
    "            batch_x, batch_y = batch_x.to(device), batch_y.to(device)\n",
    "            log_prob, _ = flow.log_prob(batch_x, batch_y)\n",
    "            flow_loss = -log_prob\n",
    "            running_loss += flow_loss.item()\n",
    "        print(f\"Validation loss: {running_loss/len(val_loader)}\")\n",
    "    W2 = flow.dconv.step_func.wt_func.get_weight_matrix()[0].detach().cpu().numpy()\n",
    "    W1 = flow.dconv.step_func.wt_func.get_weight_matrix()[1].detach().cpu().numpy()\n",
    "    B2 = - W2\n",
    "    B1 = - W1\n",
    "    am2 = amari_distance(np.linalg.inv(B2) @ BB2)\n",
    "    am1 = amari_distance(np.linalg.inv(B1) @ BB1)\n",
    "    print(f\"Amari index: {am2[0], am1[0]}\")"
   ]
  },
  {
   "cell_type": "code",
   "execution_count": 42,
   "metadata": {},
   "outputs": [
    {
     "name": "stdout",
     "output_type": "stream",
     "text": [
      "Amari index: (0.504038, 0.35422644)\n"
     ]
    }
   ],
   "source": [
    "    W2 = flow.dconv.step_func.wt_func.get_weight_matrix()[0].detach().cpu().numpy()\n",
    "    W1 = flow.dconv.step_func.wt_func.get_weight_matrix()[1].detach().cpu().numpy()\n",
    "    B2 = - W2\n",
    "    B1 = - W1\n",
    "    am2 = amari_distance(np.linalg.inv(B2) @ BB2)\n",
    "    am1 = amari_distance(np.linalg.inv(B1) @ BB1)\n",
    "    print(f\"Amari index: {am2[0], am1[0]}\")"
   ]
  },
  {
   "cell_type": "code",
   "execution_count": 37,
   "metadata": {},
   "outputs": [],
   "source": [
    "samples = flow.sample(batch_y, batch_y.shape[0], 80)"
   ]
  },
  {
   "cell_type": "code",
   "execution_count": 38,
   "metadata": {},
   "outputs": [
    {
     "data": {
      "text/plain": [
       "[<matplotlib.lines.Line2D at 0x7f8723d30910>,\n",
       " <matplotlib.lines.Line2D at 0x7f8723d30a50>,\n",
       " <matplotlib.lines.Line2D at 0x7f8723d30b90>,\n",
       " <matplotlib.lines.Line2D at 0x7f8723d30c90>]"
      ]
     },
     "execution_count": 38,
     "metadata": {},
     "output_type": "execute_result"
    },
    {
     "data": {
      "image/png": "[encoded data removed]",
      "text/plain": [
       "<Figure size 432x288 with 1 Axes>"
      ]
     },
     "metadata": {
      "needs_background": "light"
     },
     "output_type": "display_data"
    }
   ],
   "source": [
    "plt.plot(samples[3].detach().cpu().numpy())\n",
    "plt.plot(batch_x[3].detach().cpu().numpy())"
   ]
  },
  {
   "cell_type": "code",
   "execution_count": 33,
   "metadata": {},
   "outputs": [
    {
     "ename": "NameError",
     "evalue": "name 'running_loss' is not defined",
     "output_type": "error",
     "traceback": [
      "\u001b[0;31m---------------------------------------------------------------------------\u001b[0m",
      "\u001b[0;31mNameError\u001b[0m                                 Traceback (most recent call last)",
      "\u001b[0;32m<ipython-input-33-9408f6124181>\u001b[0m in \u001b[0;36m<module>\u001b[0;34m\u001b[0m\n\u001b[0;32m----> 1\u001b[0;31m \u001b[0mprint\u001b[0m\u001b[0;34m(\u001b[0m\u001b[0;34mf\"Training loss: {running_loss/len(train_loader)}\"\u001b[0m\u001b[0;34m)\u001b[0m\u001b[0;34m\u001b[0m\u001b[0;34m\u001b[0m\u001b[0m\n\u001b[0m",
      "\u001b[0;31mNameError\u001b[0m: name 'running_loss' is not defined"
     ]
    }
   ],
   "source": [
    "print(f\"Training loss: {running_loss/len(train_loader)}\")"
   ]
  },
  {
   "cell_type": "code",
   "execution_count": 23,
   "metadata": {},
   "outputs": [
    {
     "data": {
      "text/plain": [
       "torch.Size([64, 5, 4])"
      ]
     },
     "execution_count": 23,
     "metadata": {},
     "output_type": "execute_result"
    }
   ],
   "source": [
    "batch_x.shape"
   ]
  },
  {
   "cell_type": "code",
   "execution_count": 24,
   "metadata": {},
   "outputs": [
    {
     "data": {
      "text/plain": [
       "torch.Size([64, 2, 4])"
      ]
     },
     "execution_count": 24,
     "metadata": {},
     "output_type": "execute_result"
    }
   ],
   "source": [
    "batch_y.shape"
   ]
  },
  {
   "cell_type": "code",
   "execution_count": 18,
   "metadata": {},
   "outputs": [
    {
     "name": "stdout",
     "output_type": "stream",
     "text": [
      "Training loss: -4147.706516876221\n",
      "Amari index: (0.31756735, 0.2770651)\n",
      "Training loss: -4876.265712280274\n",
      "Amari index: (0.23158853, 0.32476386)\n",
      "Training loss: -5008.772245483398\n",
      "Amari index: (0.22292303, 0.29313463)\n"
     ]
    }
   ],
   "source": [
    "# Loop over epochs\n",
    "batch_size=64\n",
    "for epoch in range(3):\n",
    "    # Training\n",
    "    running_loss = 0\n",
    "    for batch_sample1,_ in train_loader:\n",
    "        batch_x = batch_sample1[\"x\"]\n",
    "        batch_y = batch_sample1[\"y\"]\n",
    "        # Transfer to GPU\n",
    "        batch_x, batch_y = batch_x.to(device), batch_y.to(device)\n",
    "        # Model computations\n",
    "        flow_optimizer.zero_grad()\n",
    "        log_prob, e = flow.log_prob(batch_x, batch_y)\n",
    "        # Model computations\n",
    "        flow_loss = -log_prob\n",
    "        flow_optimizer.zero_grad()\n",
    "        flow_loss.backward(retain_graph=True)\n",
    "        flow_optimizer.step()\n",
    "        running_loss += flow_loss.item()\n",
    "\n",
    "    print(f\"Training loss: {running_loss/len(train_loader)}\")\n",
    "    W2 = flow.dconv.step_func.wt_func.w[0].detach().cpu().numpy()\n",
    "    W1 = flow.dconv.step_func.wt_func.w[1].detach().cpu().numpy()\n",
    "    B2 = - W2\n",
    "    B1 = - W1\n",
    "    am2 = amari_distance(np.linalg.inv(B2) @ BB2)\n",
    "    am1 = amari_distance(np.linalg.inv(B1) @ BB1)\n",
    "    print(f\"Amari index: {am2[0], am1[0]}\")"
   ]
  },
  {
   "cell_type": "code",
   "execution_count": 27,
   "metadata": {},
   "outputs": [
    {
     "ename": "TypeError",
     "evalue": "list indices must be integers or slices, not str",
     "output_type": "error",
     "traceback": [
      "\u001b[0;31m---------------------------------------------------------------------------\u001b[0m",
      "\u001b[0;31mTypeError\u001b[0m                                 Traceback (most recent call last)",
      "\u001b[0;32m<ipython-input-27-6d6e1a9635b1>\u001b[0m in \u001b[0;36m<module>\u001b[0;34m\u001b[0m\n\u001b[1;32m      4\u001b[0m     \u001b[0mrunning_loss\u001b[0m \u001b[0;34m=\u001b[0m \u001b[0;36m0\u001b[0m\u001b[0;34m\u001b[0m\u001b[0;34m\u001b[0m\u001b[0m\n\u001b[1;32m      5\u001b[0m     \u001b[0;32mfor\u001b[0m \u001b[0mbatch_sample1\u001b[0m \u001b[0;32min\u001b[0m \u001b[0mtrain_loader\u001b[0m\u001b[0;34m:\u001b[0m\u001b[0;34m\u001b[0m\u001b[0;34m\u001b[0m\u001b[0m\n\u001b[0;32m----> 6\u001b[0;31m         \u001b[0mbatch_x\u001b[0m \u001b[0;34m=\u001b[0m \u001b[0mbatch_sample1\u001b[0m\u001b[0;34m[\u001b[0m\u001b[0;34m\"xt_\"\u001b[0m\u001b[0;34m]\u001b[0m\u001b[0;34m\u001b[0m\u001b[0;34m\u001b[0m\u001b[0m\n\u001b[0m\u001b[1;32m      7\u001b[0m         \u001b[0mbatch_y\u001b[0m \u001b[0;34m=\u001b[0m \u001b[0mbatch_sample1\u001b[0m\u001b[0;34m[\u001b[0m\u001b[0;34m\"xt\"\u001b[0m\u001b[0;34m]\u001b[0m\u001b[0;34m\u001b[0m\u001b[0;34m\u001b[0m\u001b[0m\n\u001b[1;32m      8\u001b[0m         \u001b[0;31m# Transfer to GPU\u001b[0m\u001b[0;34m\u001b[0m\u001b[0;34m\u001b[0m\u001b[0;34m\u001b[0m\u001b[0m\n",
      "\u001b[0;31mTypeError\u001b[0m: list indices must be integers or slices, not str"
     ]
    }
   ],
   "source": [
    "# Loop over epochs\n",
    "for epoch in range(max_epochs):\n",
    "    # Training\n",
    "    running_loss = 0\n",
    "    for batch_sample1 in train_loader:\n",
    "        batch_x = batch_sample1[\"xt_\"]\n",
    "        batch_y = batch_sample1[\"xt\"]\n",
    "        # Transfer to GPU\n",
    "        batch_x, batch_y = batch_x.to(device), batch_y.to(device)\n",
    "        # Model computations\n",
    "        log_prob, e = flow.log_prob(batch_x, batch_y)\n",
    "        flow_loss = -log_prob\n",
    "        flow_optimizer.zero_grad()\n",
    "        flow_loss.backward(retain_graph=True)\n",
    "        flow_optimizer.step()\n",
    "        running_loss += flow_loss.item()\n",
    "\n",
    "    print(f\"Training loss: {running_loss/len(train_loader)}\")\n",
    "    # Validation\n",
    "    running_loss = 0\n",
    "    with torch.set_grad_enabled(False):\n",
    "        for batch_sample in val_loader:\n",
    "            # Transfer to GPU\n",
    "            batch_x = batch_sample[\"xt_\"]\n",
    "            batch_y = batch_sample[\"xt\"]\n",
    "            # Transfer to GPU\n",
    "            batch_x, batch_y = batch_x.to(device), batch_y.to(device)\n",
    "            log_prob, _ = flow.log_prob(batch_x, batch_y)\n",
    "            flow_loss = -log_prob\n",
    "            running_loss += flow_loss.item()\n",
    "        print(f\"Validation loss: {running_loss/len(val_loader)}\")\n",
    "    W2 = flow.dconv.step_func.wt_func.w[0].detach().cpu().numpy()\n",
    "    W1 = flow.dconv.step_func.wt_func.w[1].detach().cpu().numpy()\n",
    "    B2 = - W2\n",
    "    B1 = - W1\n",
    "    am2 = amari_distance(np.linalg.inv(B2) @ BB2)\n",
    "    am1 = amari_distance(np.linalg.inv(B1) @ BB1)\n",
    "    print(f\"Amari index: {am2[0], am1[0]}\")"
   ]
  },
  {
   "cell_type": "code",
   "execution_count": 28,
   "metadata": {},
   "outputs": [],
   "source": [
    "torch.save(flow.state_dict(), \"../flow.pth\")"
   ]
  },
  {
   "cell_type": "code",
   "execution_count": 60,
   "metadata": {},
   "outputs": [],
   "source": [
    "import torch.nn as nn"
   ]
  },
  {
   "cell_type": "code",
   "execution_count": 19,
   "metadata": {
    "scrolled": true
   },
   "outputs": [
    {
     "name": "stderr",
     "output_type": "stream",
     "text": [
      "/home/cmu_wyao/anaconda3/envs/py37/lib/python3.7/site-packages/seaborn/distributions.py:2557: FutureWarning: `distplot` is a deprecated function and will be removed in a future version. Please adapt your code to use either `displot` (a figure-level function with similar flexibility) or `kdeplot` (an axes-level function for kernel density plots).\n",
      "  warnings.warn(msg, FutureWarning)\n",
      "/home/cmu_wyao/anaconda3/envs/py37/lib/python3.7/site-packages/seaborn/distributions.py:2557: FutureWarning: `distplot` is a deprecated function and will be removed in a future version. Please adapt your code to use either `displot` (a figure-level function with similar flexibility) or `kdeplot` (an axes-level function for kernel density plots).\n",
      "  warnings.warn(msg, FutureWarning)\n",
      "/home/cmu_wyao/anaconda3/envs/py37/lib/python3.7/site-packages/seaborn/distributions.py:2557: FutureWarning: `distplot` is a deprecated function and will be removed in a future version. Please adapt your code to use either `displot` (a figure-level function with similar flexibility) or `kdeplot` (an axes-level function for kernel density plots).\n",
      "  warnings.warn(msg, FutureWarning)\n",
      "/home/cmu_wyao/anaconda3/envs/py37/lib/python3.7/site-packages/seaborn/distributions.py:2557: FutureWarning: `distplot` is a deprecated function and will be removed in a future version. Please adapt your code to use either `displot` (a figure-level function with similar flexibility) or `kdeplot` (an axes-level function for kernel density plots).\n",
      "  warnings.warn(msg, FutureWarning)\n",
      "/home/cmu_wyao/anaconda3/envs/py37/lib/python3.7/site-packages/seaborn/distributions.py:2557: FutureWarning: `distplot` is a deprecated function and will be removed in a future version. Please adapt your code to use either `displot` (a figure-level function with similar flexibility) or `kdeplot` (an axes-level function for kernel density plots).\n",
      "  warnings.warn(msg, FutureWarning)\n",
      "/home/cmu_wyao/anaconda3/envs/py37/lib/python3.7/site-packages/seaborn/distributions.py:2557: FutureWarning: `distplot` is a deprecated function and will be removed in a future version. Please adapt your code to use either `displot` (a figure-level function with similar flexibility) or `kdeplot` (an axes-level function for kernel density plots).\n",
      "  warnings.warn(msg, FutureWarning)\n",
      "/home/cmu_wyao/anaconda3/envs/py37/lib/python3.7/site-packages/seaborn/distributions.py:2557: FutureWarning: `distplot` is a deprecated function and will be removed in a future version. Please adapt your code to use either `displot` (a figure-level function with similar flexibility) or `kdeplot` (an axes-level function for kernel density plots).\n",
      "  warnings.warn(msg, FutureWarning)\n",
      "/home/cmu_wyao/anaconda3/envs/py37/lib/python3.7/site-packages/seaborn/distributions.py:2557: FutureWarning: `distplot` is a deprecated function and will be removed in a future version. Please adapt your code to use either `displot` (a figure-level function with similar flexibility) or `kdeplot` (an axes-level function for kernel density plots).\n",
      "  warnings.warn(msg, FutureWarning)\n"
     ]
    },
    {
     "data": {
      "image/png": "[encoded data removed]",
      "text/plain": [
       "<Figure size 576x288 with 4 Axes>"
      ]
     },
     "metadata": {
      "needs_background": "light"
     },
     "output_type": "display_data"
    }
   ],
   "source": [
    "fig, axs = plt.subplots(2, 2, figsize=(8,4))\n",
    "for idx in range(4):\n",
    "    row = idx // 2\n",
    "    col = idx % 2\n",
    "    sns.distplot(flow.sample_prior(1000).detach().cpu().numpy()[:,idx], hist=False, kde=True,\n",
    "                 bins=None,\n",
    "                 hist_kws={'edgecolor':'black'},\n",
    "                 kde_kws={'linewidth': 2},\n",
    "                 ax = axs[row,col], label=\"prior\");\n",
    "    sns.distplot(flow(batch_x, batch_y)[0][:,:,idx].reshape(-1).detach().cpu().numpy(), hist=False, kde=True,\n",
    "                 bins=None, color='firebrick',\n",
    "                 hist_kws={'edgecolor':'black'},\n",
    "                 kde_kws={'linewidth': 2},\n",
    "                 label='aggregate posterior',\n",
    "                 ax = axs[row, col]);\n",
    "    axs[row,col].legend()"
   ]
  },
  {
   "cell_type": "code",
   "execution_count": 20,
   "metadata": {
    "scrolled": true
   },
   "outputs": [],
   "source": [
    "# # Loop over epochs\n",
    "# for epoch in range(max_epochs):\n",
    "#     # Training\n",
    "#     running_loss = 0\n",
    "#     for batch_sample1, _ in training_generator:\n",
    "#         batch_x = batch_sample1[\"x\"]\n",
    "#         batch_y = batch_sample1[\"y\"]\n",
    "#         # Transfer to GPU\n",
    "#         batch_x, batch_y = batch_x.to(device), batch_y.to(device)\n",
    "#         # Model computations\n",
    "#         log_prob, e = flow.log_prob(batch_x, batch_y)\n",
    "#         # Spatialtemporal decorrelation\n",
    "# #         posteriors = flow(batch_x, batch_y)[0].reshape(batch_size, -1)\n",
    "# #         fro_norm = torch.norm(torch.mm(posteriors.T, posteriors) - eye, \"fro\")\n",
    "# #         Total correlation\n",
    "# #         e = e.reshape(batch_size, -1)\n",
    "# #         D_e = d(e)\n",
    "# #         tc_loss = (D_e[:, :1] - D_e[:, 1:]).mean()\n",
    "#         flow_loss = -log_prob #+ gamma * tc_loss #+ fro_norm #+ gamma * tc_loss\n",
    "#         flow_optimizer.zero_grad()\n",
    "#         flow_loss.backward(retain_graph=True)\n",
    "#         flow_optimizer.step()\n",
    "        \n",
    "#         # Discrimator traing\n",
    "# #         e = e.detach()\n",
    "# #         D_e = d(e)\n",
    "# #         batch_xx = batch_sample2[\"x\"]\n",
    "# #         batch_yy = batch_sample2[\"y\"]  \n",
    "# #         # Transfer to GPU\n",
    "# #         batch_xx, batch_yy = batch_xx.to(device), batch_yy.to(device)\n",
    "# #         _, e_prime = flow.log_prob(batch_xx, batch_yy)\n",
    "# #         e_prime = e_prime.reshape(batch_size, -1)\n",
    "# #         e_perm = permute_dims(e_prime).detach()\n",
    "# #         D_e_pperm = d(e_perm)\n",
    "# #         D_tc_loss = 0.5*(F.cross_entropy(D_e, zeros) + F.cross_entropy(D_e_pperm, ones))\n",
    "# #         d_optimizer.zero_grad()\n",
    "# #         D_tc_loss.backward()\n",
    "# #         d_optimizer.step()\n",
    "#         running_loss += flow_loss.item()\n",
    "\n",
    "#     print(f\"Training loss: {running_loss/len(training_generator)}\")\n",
    "#     # Validation\n",
    "#     running_loss = 0\n",
    "#     with torch.set_grad_enabled(False):\n",
    "#         for batch_sample, _ in validation_generator:\n",
    "#             # Transfer to GPU\n",
    "#             batch_x = batch_sample[\"x\"]\n",
    "#             batch_y = batch_sample[\"y\"]\n",
    "#             # Transfer to GPU\n",
    "#             batch_x, batch_y = batch_x.to(device), batch_y.to(device)\n",
    "#             log_prob, _ = flow.log_prob(batch_x, batch_y)\n",
    "#             flow_loss = -log_prob\n",
    "#             running_loss += flow_loss.item()\n",
    "#         print(f\"Validation loss: {running_loss/len(validation_generator)}\")\n",
    "#     W2 = flow.dconv.step_func.wt_func.w[0].detach().cpu().numpy()\n",
    "#     W1 = flow.dconv.step_func.wt_func.w[1].detach().cpu().numpy()\n",
    "#     B2 = - W2\n",
    "#     B1 = - W1\n",
    "#     am2 = amari_distance(np.linalg.inv(B2) @ BB2)\n",
    "#     am1 = amari_distance(np.linalg.inv(B1) @ BB1)\n",
    "#     print(f\"Amari index: {am2[0], am1[0]}\")"
   ]
  },
  {
   "cell_type": "code",
   "execution_count": 21,
   "metadata": {},
   "outputs": [],
   "source": [
    "# def align_matrices(B1, B2, BB1, BB2):\n",
    "#     b = np.concatenate((B1,B2), axis=0)\n",
    "#     bb = np.concatenate((BB1,BB2), axis=0)\n",
    "#     C = np.zeros((4,4))\n",
    "#     for i in range(4):\n",
    "#         C[i] = -np.abs(np.corrcoef(np.concatenate((b[:,i:i+1], bb),axis=1), rowvar=False)[0,1:])\n",
    "#     row_ind, col_ind = linear_sum_assignment(C)\n",
    "#     bb = bb[:, col_ind]\n",
    "#     for col in range(4):\n",
    "#         if np.corrcoef(np.concatenate((b[:,col:col+1], bb),axis=1), rowvar=False)[0,1:][col] < 0:\n",
    "#             bb[:, col] = -bb[:, col]\n",
    "#     b = b / np.linalg.norm(b, axis=0)\n",
    "#     bb = bb / np.linalg.norm(bb, axis=0)\n",
    "#     am1 = amari_distance(np.linalg.inv(bb[4:]) @ bb[4:])"
   ]
  },
  {
   "cell_type": "code",
   "execution_count": 30,
   "metadata": {},
   "outputs": [
    {
     "data": {
      "text/plain": [
       "(32, 32)"
      ]
     },
     "execution_count": 30,
     "metadata": {},
     "output_type": "execute_result"
    }
   ],
   "source": [
    "B1.shape"
   ]
  },
  {
   "cell_type": "code",
   "execution_count": 20,
   "metadata": {},
   "outputs": [],
   "source": [
    "b = np.concatenate((B1,B2), axis=0)\n",
    "bb = np.concatenate((BB1,BB2), axis=0)\n",
    "C = np.zeros((latent_size,latent_size))\n",
    "for i in range(latent_size):\n",
    "    C[i] = -np.abs(np.corrcoef(np.concatenate((b[:,i:i+1], bb),axis=1), rowvar=False)[0,1:])\n",
    "from scipy.optimize import linear_sum_assignment\n",
    "row_ind, col_ind = linear_sum_assignment(C)\n",
    "bb = bb[:, col_ind]\n",
    "for col in range(latent_size):\n",
    "    if np.corrcoef(np.concatenate((b[:,col:col+1], bb),axis=1), rowvar=False)[0,1:][col] < 0:\n",
    "        bb[:, col] = -bb[:, col]\n",
    "b = b / np.linalg.norm(b, axis=0).reshape(1, -1)\n",
    "bb = bb / np.linalg.norm(bb, axis=0).reshape(1, -1)\n",
    "pred = (b / np.linalg.norm(b, axis=0).reshape(1, -1)).reshape(-1)\n",
    "true = (bb / np.linalg.norm(bb, axis=0).reshape(1, -1)).reshape(-1)"
   ]
  },
  {
   "cell_type": "code",
   "execution_count": 21,
   "metadata": {},
   "outputs": [
    {
     "data": {
      "text/plain": [
       "array([-0.9814288 , -0.9604318 , -0.97392915, -0.967248  , -0.947044  ,\n",
       "       -0.97871758, -0.9744088 , -0.95030912, -0.97139694, -0.97095432,\n",
       "       -0.95942938, -0.97688656, -0.97637625, -0.94334206, -0.97930935,\n",
       "       -0.97868766, -0.98345253, -0.95022418, -0.96678235, -0.97848842,\n",
       "       -0.98781841, -0.97732848, -0.98369793, -0.9676401 , -0.97753016,\n",
       "       -0.98464499, -0.98517638, -0.97978288, -0.97793752, -0.979008  ,\n",
       "       -0.98237822, -0.97774927])"
      ]
     },
     "execution_count": 21,
     "metadata": {},
     "output_type": "execute_result"
    }
   ],
   "source": [
    "C[row_ind, col_ind]"
   ]
  },
  {
   "cell_type": "code",
   "execution_count": 22,
   "metadata": {},
   "outputs": [
    {
     "data": {
      "text/plain": [
       "Text(0, 0.5, 'Ground truth weight')"
      ]
     },
     "execution_count": 22,
     "metadata": {},
     "output_type": "execute_result"
    },
    {
     "data": {
      "image/png": "[encoded data removed]",
      "text/plain": [
       "<Figure size 432x288 with 1 Axes>"
      ]
     },
     "metadata": {
      "needs_background": "light"
     },
     "output_type": "display_data"
    }
   ],
   "source": [
    "fig, ax = plt.subplots()\n",
    "ax.scatter(pred, true, s=15, cmap=plt.cm.coolwarm, zorder=10, alpha=1, color='b')\n",
    "lims = [-1,1\n",
    "]\n",
    "\n",
    "# now plot both limits against eachother\n",
    "ax.plot(lims, lims, '-.', alpha=0.75, zorder=0)\n",
    "ax.set_aspect('equal')\n",
    "ax.set_xlim(lims)\n",
    "ax.set_ylim(lims)\n",
    "ax.set_xlabel(\"Estimated weight\")\n",
    "ax.set_ylabel(\"Ground truth weight\")"
   ]
  },
  {
   "cell_type": "code",
   "execution_count": 24,
   "metadata": {},
   "outputs": [],
   "source": [
    "from sklearn.metrics import r2_score"
   ]
  },
  {
   "cell_type": "code",
   "execution_count": 25,
   "metadata": {
    "scrolled": true
   },
   "outputs": [
    {
     "data": {
      "text/plain": [
       "0.9451037277219173"
      ]
     },
     "execution_count": 25,
     "metadata": {},
     "output_type": "execute_result"
    }
   ],
   "source": [
    "r2_score(pred,true)"
   ]
  },
  {
   "cell_type": "code",
   "execution_count": null,
   "metadata": {},
   "outputs": [],
   "source": []
  }
 ],
 "metadata": {
  "kernelspec": {
   "display_name": "py37",
   "language": "python",
   "name": "py37"
  },
  "language_info": {
   "codemirror_mode": {
    "name": "ipython",
    "version": 3
   },
   "file_extension": ".py",
   "mimetype": "text/x-python",
   "name": "python",
   "nbconvert_exporter": "python",
   "pygments_lexer": "ipython3",
   "version": "3.7.10"
  }
 },
 "nbformat": 4,
 "nbformat_minor": 4
}
